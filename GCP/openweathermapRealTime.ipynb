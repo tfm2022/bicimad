{
 "cells": [
  {
   "cell_type": "code",
   "execution_count": 10,
   "id": "26495f33",
   "metadata": {},
   "outputs": [],
   "source": [
    "import json, requests\n",
    "import pandas as pd "
   ]
  },
  {
   "cell_type": "code",
   "execution_count": 17,
   "id": "6c84d3b4",
   "metadata": {},
   "outputs": [
    {
     "data": {
      "text/plain": [
       "'https://api.openweathermap.org/data/3.0/onecall?&lat=40.41831&lon=-3.70275&exclude=hourly,daily,alerts,minutely&lang=es&units=metric&appid=d2178cdf183b1b98254c8bbade4435b3'"
      ]
     },
     "execution_count": 17,
     "metadata": {},
     "output_type": "execute_result"
    }
   ],
   "source": [
    "web = 'https://api.openweathermap.org/data/3.0/onecall?'\n",
    "lat='40.41831'\n",
    "lon='-3.70275'\n",
    "exclude='hourly,daily,alerts,minutely'\n",
    "units='metric'\n",
    "lang='es'\n",
    "\n",
    "req= f'https://api.openweathermap.org/data/3.0/onecall?&lat={lat}&lon={lon}&exclude={exclude}&lang={lang}&units={units}&appid={appid}'\n",
    "\n",
    "req"
   ]
  },
  {
   "cell_type": "code",
   "execution_count": 25,
   "id": "b3ee1864",
   "metadata": {},
   "outputs": [],
   "source": [
    "response1 = requests.get(req)\n",
    "text = response1.text\n",
    "data1 = json.loads(text)\n",
    "data1['current']"
   ]
  },
  {
   "cell_type": "code",
   "execution_count": 27,
   "id": "4cf86e61",
   "metadata": {},
   "outputs": [
    {
     "data": {
      "text/plain": [
       "{'lat': 40.4183,\n",
       " 'lon': -3.7028,\n",
       " 'timezone': 'Europe/Madrid',\n",
       " 'timezone_offset': 7200,\n",
       " 'current': {'dt': 1660069010,\n",
       "  'sunrise': 1660022380,\n",
       "  'sunset': 1660072866,\n",
       "  'temp': 36.25,\n",
       "  'feels_like': 34.07,\n",
       "  'pressure': 1016,\n",
       "  'humidity': 17,\n",
       "  'dew_point': 7.33,\n",
       "  'uvi': 0.41,\n",
       "  'clouds': 20,\n",
       "  'visibility': 10000,\n",
       "  'wind_speed': 3.13,\n",
       "  'wind_deg': 210,\n",
       "  'wind_gust': 4.92,\n",
       "  'weather': [{'id': 801,\n",
       "    'main': 'Clouds',\n",
       "    'description': 'algo de nubes',\n",
       "    'icon': '02d'}]}}"
      ]
     },
     "execution_count": 27,
     "metadata": {},
     "output_type": "execute_result"
    }
   ],
   "source": [
    "data1"
   ]
  },
  {
   "cell_type": "code",
   "execution_count": null,
   "id": "dec1c62f",
   "metadata": {},
   "outputs": [],
   "source": []
  }
 ],
 "metadata": {
  "kernelspec": {
   "display_name": "Python 3 (ipykernel)",
   "language": "python",
   "name": "python3"
  },
  "language_info": {
   "codemirror_mode": {
    "name": "ipython",
    "version": 3
   },
   "file_extension": ".py",
   "mimetype": "text/x-python",
   "name": "python",
   "nbconvert_exporter": "python",
   "pygments_lexer": "ipython3",
   "version": "3.8.12"
  },
  "toc": {
   "base_numbering": 1,
   "nav_menu": {},
   "number_sections": true,
   "sideBar": true,
   "skip_h1_title": false,
   "title_cell": "Table of Contents",
   "title_sidebar": "Contents",
   "toc_cell": false,
   "toc_position": {},
   "toc_section_display": true,
   "toc_window_display": false
  }
 },
 "nbformat": 4,
 "nbformat_minor": 5
}
