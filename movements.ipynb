{
 "cells": [
  {
   "cell_type": "markdown",
   "id": "c4be5d9d",
   "metadata": {},
   "source": [
    "### Importación de bibliotecas necesarias"
   ]
  },
  {
   "cell_type": "code",
   "execution_count": 1,
   "id": "80ff069f",
   "metadata": {},
   "outputs": [],
   "source": [
    "import json\n",
    "import pandas as pd"
   ]
  },
  {
   "cell_type": "markdown",
   "id": "acc28030",
   "metadata": {},
   "source": [
    "### Lectura del archivo"
   ]
  },
  {
   "cell_type": "code",
   "execution_count": 2,
   "id": "f403b56c",
   "metadata": {},
   "outputs": [],
   "source": [
    "julio19      =pd.read_json(\"./data/201907_movements.json\", lines=True)\n",
    "agosto19     =pd.read_json(\"./data/201908_movements.json\", lines=True)\n",
    "septiembre19 =pd.read_json(\"./data/201909_movements.json\", lines=True)\n",
    "octubre19    =pd.read_json(\"./data/201910_movements.json\", lines=True)\n",
    "noviembre19  =pd.read_json(\"./data/201911_movements.json\", lines=True)\n",
    "diciembre19  =pd.read_json(\"./data/201912_movements.json\", lines=True)\n",
    "enero20      =pd.read_json(\"./data/202001_movements.json\", lines=True)\n",
    "febrero20    =pd.read_json(\"./data/202002_movements.json\", lines=True)\n",
    "marzo20      =pd.read_json(\"./data/202003_movements.json\", lines=True)\n",
    "abril20      =pd.read_json(\"./data/202004_movements.json\", lines=True)\n",
    "mayo20       =pd.read_json(\"./data/202005_movements.json\", lines=True)\n",
    "\n",
    "situacion=pd.concat([julio19, agosto19,septiembre19,octubre19,noviembre19,diciembre19,enero20,febrero20,marzo20,abril20,mayo20])"
   ]
  },
  {
   "cell_type": "markdown",
   "id": "eeccb3df",
   "metadata": {},
   "source": [
    "### Seleción de las columnas"
   ]
  },
  {
   "cell_type": "code",
   "execution_count": 3,
   "id": "d425f219",
   "metadata": {},
   "outputs": [],
   "source": [
    "situacion=situacion[['user_type','travel_time','idunplug_station','idplug_station','unplug_hourTime']]"
   ]
  },
  {
   "cell_type": "markdown",
   "id": "3d3c622d",
   "metadata": {},
   "source": [
    "### Remover caracteres y convertir unplug_hourTime en timestamp"
   ]
  },
  {
   "cell_type": "code",
   "execution_count": 4,
   "id": "ef6692ce",
   "metadata": {},
   "outputs": [],
   "source": [
    "situacion[\"unplug_hourTime\"]=situacion[\"unplug_hourTime\"].str.replace(\"T\",\" \")\n",
    "situacion[\"unplug_hourTime\"]=situacion[\"unplug_hourTime\"].str.replace(\"Z\",\"\").astype(str)\n",
    "situacion[\"unplug_hourTime\"]=pd.to_datetime(situacion[\"unplug_hourTime\"])"
   ]
  },
  {
   "cell_type": "markdown",
   "id": "429de895",
   "metadata": {},
   "source": [
    "### Estaciones con mayor frecuencia"
   ]
  },
  {
   "cell_type": "code",
   "execution_count": 5,
   "id": "6245ee7a",
   "metadata": {},
   "outputs": [
    {
     "data": {
      "text/html": [
       "<div>\n",
       "<style scoped>\n",
       "    .dataframe tbody tr th:only-of-type {\n",
       "        vertical-align: middle;\n",
       "    }\n",
       "\n",
       "    .dataframe tbody tr th {\n",
       "        vertical-align: top;\n",
       "    }\n",
       "\n",
       "    .dataframe thead th {\n",
       "        text-align: right;\n",
       "    }\n",
       "</style>\n",
       "<table border=\"1\" class=\"dataframe\">\n",
       "  <thead>\n",
       "    <tr style=\"text-align: right;\">\n",
       "      <th></th>\n",
       "      <th>idunplug_station</th>\n",
       "      <th>counts</th>\n",
       "    </tr>\n",
       "  </thead>\n",
       "  <tbody>\n",
       "    <tr>\n",
       "      <th>0</th>\n",
       "      <td>175</td>\n",
       "      <td>40429</td>\n",
       "    </tr>\n",
       "    <tr>\n",
       "      <th>1</th>\n",
       "      <td>43</td>\n",
       "      <td>35713</td>\n",
       "    </tr>\n",
       "    <tr>\n",
       "      <th>2</th>\n",
       "      <td>57</td>\n",
       "      <td>33650</td>\n",
       "    </tr>\n",
       "    <tr>\n",
       "      <th>3</th>\n",
       "      <td>163</td>\n",
       "      <td>33402</td>\n",
       "    </tr>\n",
       "    <tr>\n",
       "      <th>4</th>\n",
       "      <td>83</td>\n",
       "      <td>30083</td>\n",
       "    </tr>\n",
       "    <tr>\n",
       "      <th>...</th>\n",
       "      <td>...</td>\n",
       "      <td>...</td>\n",
       "    </tr>\n",
       "    <tr>\n",
       "      <th>210</th>\n",
       "      <td>16</td>\n",
       "      <td>3640</td>\n",
       "    </tr>\n",
       "    <tr>\n",
       "      <th>211</th>\n",
       "      <td>28</td>\n",
       "      <td>2334</td>\n",
       "    </tr>\n",
       "    <tr>\n",
       "      <th>212</th>\n",
       "      <td>186</td>\n",
       "      <td>1841</td>\n",
       "    </tr>\n",
       "    <tr>\n",
       "      <th>213</th>\n",
       "      <td>32</td>\n",
       "      <td>547</td>\n",
       "    </tr>\n",
       "    <tr>\n",
       "      <th>214</th>\n",
       "      <td>2008</td>\n",
       "      <td>5</td>\n",
       "    </tr>\n",
       "  </tbody>\n",
       "</table>\n",
       "<p>215 rows × 2 columns</p>\n",
       "</div>"
      ],
      "text/plain": [
       "     idunplug_station  counts\n",
       "0                 175   40429\n",
       "1                  43   35713\n",
       "2                  57   33650\n",
       "3                 163   33402\n",
       "4                  83   30083\n",
       "..                ...     ...\n",
       "210                16    3640\n",
       "211                28    2334\n",
       "212               186    1841\n",
       "213                32     547\n",
       "214              2008       5\n",
       "\n",
       "[215 rows x 2 columns]"
      ]
     },
     "execution_count": 5,
     "metadata": {},
     "output_type": "execute_result"
    }
   ],
   "source": [
    "situacion_estacion = situacion.groupby(['idunplug_station'])['idunplug_station'].count().sort_values(ascending=False).reset_index(name='counts')\n",
    "situacion_estacion"
   ]
  },
  {
   "cell_type": "code",
   "execution_count": 6,
   "id": "b2d5e88b",
   "metadata": {},
   "outputs": [],
   "source": [
    "situacion_estacion.to_csv('./data/situacion_estacion.csv')"
   ]
  },
  {
   "cell_type": "markdown",
   "id": "b2d4459a",
   "metadata": {},
   "source": [
    "#### La estacion con mas salidas es la 175"
   ]
  },
  {
   "cell_type": "code",
   "execution_count": 7,
   "id": "96c6ca9f",
   "metadata": {},
   "outputs": [
    {
     "data": {
      "text/html": [
       "<div>\n",
       "<style scoped>\n",
       "    .dataframe tbody tr th:only-of-type {\n",
       "        vertical-align: middle;\n",
       "    }\n",
       "\n",
       "    .dataframe tbody tr th {\n",
       "        vertical-align: top;\n",
       "    }\n",
       "\n",
       "    .dataframe thead th {\n",
       "        text-align: right;\n",
       "    }\n",
       "</style>\n",
       "<table border=\"1\" class=\"dataframe\">\n",
       "  <thead>\n",
       "    <tr style=\"text-align: right;\">\n",
       "      <th></th>\n",
       "      <th>unplug_hourTime</th>\n",
       "      <th>counts</th>\n",
       "    </tr>\n",
       "  </thead>\n",
       "  <tbody>\n",
       "    <tr>\n",
       "      <th>0</th>\n",
       "      <td>2020-05-23 18:00:00</td>\n",
       "      <td>2798</td>\n",
       "    </tr>\n",
       "    <tr>\n",
       "      <th>1</th>\n",
       "      <td>2020-05-17 18:00:00</td>\n",
       "      <td>2792</td>\n",
       "    </tr>\n",
       "    <tr>\n",
       "      <th>2</th>\n",
       "      <td>2020-05-24 18:00:00</td>\n",
       "      <td>2783</td>\n",
       "    </tr>\n",
       "    <tr>\n",
       "      <th>3</th>\n",
       "      <td>2020-05-22 18:00:00</td>\n",
       "      <td>2600</td>\n",
       "    </tr>\n",
       "    <tr>\n",
       "      <th>4</th>\n",
       "      <td>2020-05-19 18:00:00</td>\n",
       "      <td>2580</td>\n",
       "    </tr>\n",
       "    <tr>\n",
       "      <th>...</th>\n",
       "      <td>...</td>\n",
       "      <td>...</td>\n",
       "    </tr>\n",
       "    <tr>\n",
       "      <th>6764</th>\n",
       "      <td>2019-07-31 10:00:00</td>\n",
       "      <td>1</td>\n",
       "    </tr>\n",
       "    <tr>\n",
       "      <th>6765</th>\n",
       "      <td>2019-07-16 14:00:00</td>\n",
       "      <td>1</td>\n",
       "    </tr>\n",
       "    <tr>\n",
       "      <th>6766</th>\n",
       "      <td>2019-07-26 11:00:00</td>\n",
       "      <td>1</td>\n",
       "    </tr>\n",
       "    <tr>\n",
       "      <th>6767</th>\n",
       "      <td>2019-07-28 07:00:00</td>\n",
       "      <td>1</td>\n",
       "    </tr>\n",
       "    <tr>\n",
       "      <th>6768</th>\n",
       "      <td>2020-04-22 02:00:00</td>\n",
       "      <td>1</td>\n",
       "    </tr>\n",
       "  </tbody>\n",
       "</table>\n",
       "<p>6769 rows × 2 columns</p>\n",
       "</div>"
      ],
      "text/plain": [
       "         unplug_hourTime  counts\n",
       "0    2020-05-23 18:00:00    2798\n",
       "1    2020-05-17 18:00:00    2792\n",
       "2    2020-05-24 18:00:00    2783\n",
       "3    2020-05-22 18:00:00    2600\n",
       "4    2020-05-19 18:00:00    2580\n",
       "...                  ...     ...\n",
       "6764 2019-07-31 10:00:00       1\n",
       "6765 2019-07-16 14:00:00       1\n",
       "6766 2019-07-26 11:00:00       1\n",
       "6767 2019-07-28 07:00:00       1\n",
       "6768 2020-04-22 02:00:00       1\n",
       "\n",
       "[6769 rows x 2 columns]"
      ]
     },
     "execution_count": 7,
     "metadata": {},
     "output_type": "execute_result"
    }
   ],
   "source": [
    "situacion_hora = situacion.groupby(['unplug_hourTime'])['unplug_hourTime'].count().sort_values(ascending=False).reset_index(name='counts')\n",
    "situacion_hora"
   ]
  },
  {
   "cell_type": "code",
   "execution_count": 11,
   "id": "b48bab75",
   "metadata": {},
   "outputs": [],
   "source": [
    "situacion_hora.to_csv('./data/situacion_hora.csv') "
   ]
  },
  {
   "cell_type": "code",
   "execution_count": 9,
   "id": "51e1ef56",
   "metadata": {},
   "outputs": [
    {
     "data": {
      "text/html": [
       "<div>\n",
       "<style scoped>\n",
       "    .dataframe tbody tr th:only-of-type {\n",
       "        vertical-align: middle;\n",
       "    }\n",
       "\n",
       "    .dataframe tbody tr th {\n",
       "        vertical-align: top;\n",
       "    }\n",
       "\n",
       "    .dataframe thead th {\n",
       "        text-align: right;\n",
       "    }\n",
       "</style>\n",
       "<table border=\"1\" class=\"dataframe\">\n",
       "  <thead>\n",
       "    <tr style=\"text-align: right;\">\n",
       "      <th></th>\n",
       "      <th>unplug_hourTime</th>\n",
       "      <th>counts</th>\n",
       "    </tr>\n",
       "  </thead>\n",
       "  <tbody>\n",
       "    <tr>\n",
       "      <th>0</th>\n",
       "      <td>2019-07-01 00:00:00</td>\n",
       "      <td>1</td>\n",
       "    </tr>\n",
       "    <tr>\n",
       "      <th>1</th>\n",
       "      <td>2019-07-01 01:00:00</td>\n",
       "      <td>8</td>\n",
       "    </tr>\n",
       "    <tr>\n",
       "      <th>2</th>\n",
       "      <td>2019-07-01 02:00:00</td>\n",
       "      <td>1</td>\n",
       "    </tr>\n",
       "    <tr>\n",
       "      <th>3</th>\n",
       "      <td>2019-07-01 03:00:00</td>\n",
       "      <td>2</td>\n",
       "    </tr>\n",
       "    <tr>\n",
       "      <th>4</th>\n",
       "      <td>2019-07-01 04:00:00</td>\n",
       "      <td>3</td>\n",
       "    </tr>\n",
       "    <tr>\n",
       "      <th>...</th>\n",
       "      <td>...</td>\n",
       "      <td>...</td>\n",
       "    </tr>\n",
       "    <tr>\n",
       "      <th>5714</th>\n",
       "      <td>2020-05-31 18:00:00</td>\n",
       "      <td>8</td>\n",
       "    </tr>\n",
       "    <tr>\n",
       "      <th>5715</th>\n",
       "      <td>2020-05-31 19:00:00</td>\n",
       "      <td>4</td>\n",
       "    </tr>\n",
       "    <tr>\n",
       "      <th>5716</th>\n",
       "      <td>2020-05-31 20:00:00</td>\n",
       "      <td>6</td>\n",
       "    </tr>\n",
       "    <tr>\n",
       "      <th>5717</th>\n",
       "      <td>2020-05-31 21:00:00</td>\n",
       "      <td>1</td>\n",
       "    </tr>\n",
       "    <tr>\n",
       "      <th>5718</th>\n",
       "      <td>2020-05-31 23:00:00</td>\n",
       "      <td>3</td>\n",
       "    </tr>\n",
       "  </tbody>\n",
       "</table>\n",
       "<p>5719 rows × 2 columns</p>\n",
       "</div>"
      ],
      "text/plain": [
       "         unplug_hourTime  counts\n",
       "0    2019-07-01 00:00:00       1\n",
       "1    2019-07-01 01:00:00       8\n",
       "2    2019-07-01 02:00:00       1\n",
       "3    2019-07-01 03:00:00       2\n",
       "4    2019-07-01 04:00:00       3\n",
       "...                  ...     ...\n",
       "5714 2020-05-31 18:00:00       8\n",
       "5715 2020-05-31 19:00:00       4\n",
       "5716 2020-05-31 20:00:00       6\n",
       "5717 2020-05-31 21:00:00       1\n",
       "5718 2020-05-31 23:00:00       3\n",
       "\n",
       "[5719 rows x 2 columns]"
      ]
     },
     "execution_count": 9,
     "metadata": {},
     "output_type": "execute_result"
    }
   ],
   "source": [
    "situacion_hora_estacion175 = situacion[situacion['idunplug_station']==175].groupby(['unplug_hourTime'])['unplug_hourTime'].count().reset_index(name='counts')\n",
    "situacion_hora_estacion175"
   ]
  },
  {
   "cell_type": "code",
   "execution_count": 10,
   "id": "70af88c6",
   "metadata": {},
   "outputs": [],
   "source": [
    "situacion_hora_estacion175.to_csv('./data/situacion_hora_estacion175.csv')"
   ]
  },
  {
   "cell_type": "code",
   "execution_count": null,
   "id": "d4b4ca98",
   "metadata": {},
   "outputs": [],
   "source": []
  }
 ],
 "metadata": {
  "kernelspec": {
   "display_name": "Python 3 (ipykernel)",
   "language": "python",
   "name": "python3"
  },
  "language_info": {
   "codemirror_mode": {
    "name": "ipython",
    "version": 3
   },
   "file_extension": ".py",
   "mimetype": "text/x-python",
   "name": "python",
   "nbconvert_exporter": "python",
   "pygments_lexer": "ipython3",
   "version": "3.8.12"
  },
  "toc": {
   "base_numbering": 1,
   "nav_menu": {},
   "number_sections": true,
   "sideBar": true,
   "skip_h1_title": false,
   "title_cell": "Table of Contents",
   "title_sidebar": "Contents",
   "toc_cell": false,
   "toc_position": {},
   "toc_section_display": true,
   "toc_window_display": false
  }
 },
 "nbformat": 4,
 "nbformat_minor": 5
}
