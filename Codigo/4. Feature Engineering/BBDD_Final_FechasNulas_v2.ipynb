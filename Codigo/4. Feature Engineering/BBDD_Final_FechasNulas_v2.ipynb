{
 "cells": [
  {
   "cell_type": "code",
   "execution_count": 1,
   "id": "e071d939",
   "metadata": {},
   "outputs": [],
   "source": [
    "import pandas as pd\n",
    "import numpy as np\n",
    "import time\n",
    "import datetime\n",
    "\n",
    "%run \"../1. Librerias Mongo/MongoDB_Connections.ipynb\"\n",
    "%run \"../1. Librerias Mongo/MongoDB_Funciones_Consultas.ipynb\""
   ]
  },
  {
   "cell_type": "markdown",
   "id": "488951e7",
   "metadata": {},
   "source": [
    "### Carga de datos de entrada"
   ]
  },
  {
   "cell_type": "code",
   "execution_count": 2,
   "id": "70f6efae",
   "metadata": {},
   "outputs": [],
   "source": [
    "# MOVIMIENTOS\n",
    "\n",
    "#DF = pd.read_csv('../../data/DataFrame_Final_Cierre.csv', parse_dates=['FECHA'])\n",
    "df_tracks = pd.read_csv('../../data/DataFrame_Final_Cierre_Cluster.csv', parse_dates=['FECHA'])\n",
    "\n",
    "df_clusterFull = pd.read_csv('../../data/Clusterizada_DataFull.csv')\n",
    "df_clusterGeog = pd.read_csv('../../data/Clusterizada_soloGeografico.csv')\n",
    "df_clusterDmnd = pd.read_csv('../../data/Clusterizada_soloDemandaRatio.csv')\n"
   ]
  },
  {
   "cell_type": "code",
   "execution_count": 3,
   "id": "ddcc6a78",
   "metadata": {},
   "outputs": [
    {
     "name": "stdout",
     "output_type": "stream",
     "text": [
      "<class 'pandas.core.frame.DataFrame'>\n",
      "RangeIndex: 2142248 entries, 0 to 2142247\n",
      "Data columns (total 24 columns):\n",
      " #   Column               Dtype         \n",
      "---  ------               -----         \n",
      " 0   ESTACION             int64         \n",
      " 1   ANIO                 int64         \n",
      " 2   MES                  int64         \n",
      " 3   DIA                  int64         \n",
      " 4   HORA                 int64         \n",
      " 5   FECHA                datetime64[ns]\n",
      " 6   DIA_SEMANA           int64         \n",
      " 7   AM_PM                object        \n",
      " 8   TEMPORADA            object        \n",
      " 9   TEMPORADA_NUM        int64         \n",
      " 10  Es_Festivo           int64         \n",
      " 11  Es_FinSemana         int64         \n",
      " 12  TEMPERATURA          float64       \n",
      " 13  VIENTO               float64       \n",
      " 14  PRESION              int64         \n",
      " 15  HUMEDAD              int64         \n",
      " 16  PRECIPITACION_1h     float64       \n",
      " 17  PRECIPITACION_3h     float64       \n",
      " 18  DESC_TIEMPO          object        \n",
      " 19  DESC_TIEMPO_detalle  object        \n",
      " 20  CLUSTER_FullCols     int64         \n",
      " 21  CLUSTER_soloGeo      int64         \n",
      " 22  CLUSTER_soloDemanda  int64         \n",
      " 23  DEMANDA              int64         \n",
      "dtypes: datetime64[ns](1), float64(4), int64(15), object(4)\n",
      "memory usage: 392.3+ MB\n"
     ]
    }
   ],
   "source": [
    "df_tracks.info()"
   ]
  },
  {
   "cell_type": "code",
   "execution_count": 4,
   "id": "f585e0e9",
   "metadata": {},
   "outputs": [
    {
     "data": {
      "text/plain": [
       "array([  6,   8,   9,  12,  15,  17,  19,  20,  21,  25,  26,  31,  36,\n",
       "        39,  40,  41,  43,  44,  45,  47,  48,  49,  50,  52,  53,  54,\n",
       "        55,  56,  57,  58,  59,  63,  65,  66,  67,  69,  72,  73,  74,\n",
       "        75,  76,  77,  78,  79,  80,  81,  82,  85,  87,  90,  92,  93,\n",
       "        95,  96,  98, 101, 102, 103, 104, 105, 106, 107, 110, 113, 114,\n",
       "       122, 123, 124, 125, 126, 128, 129, 130, 131, 132, 133, 134, 135,\n",
       "       136, 139, 145, 148, 149, 150, 152, 153, 154, 155, 156, 157, 158,\n",
       "       160, 161, 162, 163, 164, 166, 167, 168, 170, 172, 175,   7,  11,\n",
       "        13,  14,  16,  18,  27,  34,  51,  64,  71,  83,  91,  94, 118,\n",
       "       140, 141, 142, 143, 147,   5,  42,  46,  62,  86, 117, 121, 137,\n",
       "       165,   4, 111, 116, 146, 151,  30,  89, 108, 112, 159, 169,   3,\n",
       "        60,  88,  97, 109, 115, 120, 138, 171,  33,  84,  99, 127, 144,\n",
       "       173, 174,   1, 100,  10,  35,  38,   2,  32,  37, 119,  61,  29,\n",
       "        28, 179, 191, 178, 195, 199, 215, 192, 193, 198], dtype=int64)"
      ]
     },
     "execution_count": 4,
     "metadata": {},
     "output_type": "execute_result"
    }
   ],
   "source": [
    "# ESTACIONES: Lista de estaciones en DF\n",
    "\n",
    "df_estaciones = df_tracks.ESTACION.unique()\n",
    "df_estaciones"
   ]
  },
  {
   "cell_type": "code",
   "execution_count": 5,
   "id": "a447532a",
   "metadata": {},
   "outputs": [
    {
     "name": "stdout",
     "output_type": "stream",
     "text": [
      "Conexion OK\n",
      "Collection(Database(MongoClient(host=['ac-x1d17w2-shard-00-00.15npsxw.mongodb.net:27017', 'ac-x1d17w2-shard-00-02.15npsxw.mongodb.net:27017', 'ac-x1d17w2-shard-00-01.15npsxw.mongodb.net:27017'], document_class=dict, tz_aware=False, connect=True, authsource='admin', replicaset='atlas-xyv6ql-shard-0', tls=True, serverselectiontimeoutms=4000, tlscafile='C:\\\\ProgramData\\\\Anaconda3\\\\lib\\\\site-packages\\\\certifi\\\\cacert.pem'), 'BiciMAD'), 'Meteo_US_NivelHora')\n",
      "1.0926785469055176\n",
      "<class 'pandas.core.frame.DataFrame'>\n",
      "RangeIndex: 26304 entries, 0 to 26303\n",
      "Data columns (total 17 columns):\n",
      " #   Column               Non-Null Count  Dtype         \n",
      "---  ------               --------------  -----         \n",
      " 0   ANIO                 26304 non-null  int64         \n",
      " 1   MES                  26304 non-null  int64         \n",
      " 2   DIA                  26304 non-null  int64         \n",
      " 3   HORA                 26304 non-null  int64         \n",
      " 4   TEMPERATURA          26304 non-null  object        \n",
      " 5   TEMP_SENS_TERMC      26304 non-null  object        \n",
      " 6   VIENTO               26304 non-null  object        \n",
      " 7   PRESION              26304 non-null  object        \n",
      " 8   HUMEDAD              26304 non-null  object        \n",
      " 9   PRECIPITACION_1h     26304 non-null  object        \n",
      " 10  PRECIPITACION_3h     26304 non-null  object        \n",
      " 11  NIEVE_1h             26304 non-null  object        \n",
      " 12  NIEVE_3h             26304 non-null  int64         \n",
      " 13  ID_TIPO_TIEMPO       26304 non-null  object        \n",
      " 14  DESC_TIEMPO          26304 non-null  object        \n",
      " 15  DESC_TIEMPO_detalle  26304 non-null  object        \n",
      " 16  FECHA                26304 non-null  datetime64[ns]\n",
      "dtypes: datetime64[ns](1), int64(5), object(11)\n",
      "memory usage: 3.4+ MB\n"
     ]
    }
   ],
   "source": [
    "# Meteorologia\n",
    "\n",
    "db_Meteo = _connect_mongo('cloud', 'cluster0.15npsxw.mongodb.net', None, 'ucmtfm2022', 'UCM_2022', 'BiciMAD', 'Meteo_US_NivelHora')\n",
    "\n",
    "t_ini = time.time()\n",
    "#data_Meteo = _consulta_meteoUS_por_anio(db_Meteo, 2020)\n",
    "data_Meteo = _consulta_meteoUS_full(db_Meteo)\n",
    "t_end = time.time()\n",
    "\n",
    "print (t_end - t_ini)\n",
    "\n",
    "# Se agrega campo FECHA para join\n",
    "data_Meteo['FECHA'] =pd.to_datetime({'year': data_Meteo['ANIO'],\n",
    "                                          'month': data_Meteo[\"MES\"]\n",
    "                                          ,'day':  data_Meteo['DIA']\n",
    "                                          ,'hour':data_Meteo['HORA']},\n",
    "                                          format='%d-%m-%Y', errors='coerce')\n",
    "\n",
    "data_Meteo.info()"
   ]
  },
  {
   "cell_type": "markdown",
   "id": "ee9da792",
   "metadata": {},
   "source": [
    "### Creación de DF de fechas"
   ]
  },
  {
   "cell_type": "code",
   "execution_count": 6,
   "id": "b92be6f7",
   "metadata": {},
   "outputs": [
    {
     "name": "stdout",
     "output_type": "stream",
     "text": [
      "<class 'pandas.core.frame.DataFrame'>\n",
      "RangeIndex: 1461 entries, 0 to 1460\n",
      "Data columns (total 5 columns):\n",
      " #   Column   Non-Null Count  Dtype         \n",
      "---  ------   --------------  -----         \n",
      " 0   ANIO     1461 non-null   int64         \n",
      " 1   MES      1461 non-null   int64         \n",
      " 2   DIA      1461 non-null   int64         \n",
      " 3   FESTIVO  1461 non-null   int64         \n",
      " 4   FECHA    1461 non-null   datetime64[ns]\n",
      "dtypes: datetime64[ns](1), int64(4)\n",
      "memory usage: 57.2 KB\n",
      "<class 'pandas.core.frame.DataFrame'>\n",
      "Int64Index: 57 entries, 0 to 1454\n",
      "Data columns (total 5 columns):\n",
      " #   Column   Non-Null Count  Dtype         \n",
      "---  ------   --------------  -----         \n",
      " 0   ANIO     57 non-null     int64         \n",
      " 1   MES      57 non-null     int64         \n",
      " 2   DIA      57 non-null     int64         \n",
      " 3   FESTIVO  57 non-null     int64         \n",
      " 4   FECHA    57 non-null     datetime64[ns]\n",
      "dtypes: datetime64[ns](1), int64(4)\n",
      "memory usage: 2.7 KB\n"
     ]
    },
    {
     "data": {
      "text/html": [
       "<div>\n",
       "<style scoped>\n",
       "    .dataframe tbody tr th:only-of-type {\n",
       "        vertical-align: middle;\n",
       "    }\n",
       "\n",
       "    .dataframe tbody tr th {\n",
       "        vertical-align: top;\n",
       "    }\n",
       "\n",
       "    .dataframe thead th {\n",
       "        text-align: right;\n",
       "    }\n",
       "</style>\n",
       "<table border=\"1\" class=\"dataframe\">\n",
       "  <thead>\n",
       "    <tr style=\"text-align: right;\">\n",
       "      <th></th>\n",
       "      <th>ANIO</th>\n",
       "      <th>MES</th>\n",
       "      <th>DIA</th>\n",
       "      <th>FESTIVO</th>\n",
       "      <th>FECHA</th>\n",
       "    </tr>\n",
       "  </thead>\n",
       "  <tbody>\n",
       "    <tr>\n",
       "      <th>365</th>\n",
       "      <td>2018</td>\n",
       "      <td>1</td>\n",
       "      <td>1</td>\n",
       "      <td>1</td>\n",
       "      <td>2018-01-01</td>\n",
       "    </tr>\n",
       "    <tr>\n",
       "      <th>370</th>\n",
       "      <td>2018</td>\n",
       "      <td>1</td>\n",
       "      <td>6</td>\n",
       "      <td>1</td>\n",
       "      <td>2018-01-06</td>\n",
       "    </tr>\n",
       "    <tr>\n",
       "      <th>452</th>\n",
       "      <td>2018</td>\n",
       "      <td>3</td>\n",
       "      <td>29</td>\n",
       "      <td>1</td>\n",
       "      <td>2018-03-29</td>\n",
       "    </tr>\n",
       "    <tr>\n",
       "      <th>453</th>\n",
       "      <td>2018</td>\n",
       "      <td>3</td>\n",
       "      <td>30</td>\n",
       "      <td>1</td>\n",
       "      <td>2018-03-30</td>\n",
       "    </tr>\n",
       "    <tr>\n",
       "      <th>485</th>\n",
       "      <td>2018</td>\n",
       "      <td>5</td>\n",
       "      <td>1</td>\n",
       "      <td>1</td>\n",
       "      <td>2018-05-01</td>\n",
       "    </tr>\n",
       "  </tbody>\n",
       "</table>\n",
       "</div>"
      ],
      "text/plain": [
       "     ANIO  MES  DIA  FESTIVO      FECHA\n",
       "365  2018    1    1        1 2018-01-01\n",
       "370  2018    1    6        1 2018-01-06\n",
       "452  2018    3   29        1 2018-03-29\n",
       "453  2018    3   30        1 2018-03-30\n",
       "485  2018    5    1        1 2018-05-01"
      ]
     },
     "execution_count": 6,
     "metadata": {},
     "output_type": "execute_result"
    }
   ],
   "source": [
    "# FECHAS DE FESTIVOS\n",
    "\n",
    "df_festivos_in = pd.read_csv('../../data/Festivos_Madrid.csv', sep=';')\n",
    "# Se agrega campo FECHA para join\n",
    "df_festivos_in['FECHA'] =pd.to_datetime({'year': df_festivos_in['ANIO'],\n",
    "                                          'month': df_festivos_in[\"MES\"]\n",
    "                                          ,'day':  df_festivos_in['DIA']},\n",
    "                                          format='%d-%m-%Y', errors='coerce')\n",
    "df_festivos_in.info()\n",
    "df_festivos = df_festivos_in[df_festivos_in['FESTIVO']==1]\n",
    "\n",
    "df_festivos.info()\n",
    "df_festivos[df_festivos['ANIO']==2018].head()"
   ]
  },
  {
   "cell_type": "markdown",
   "id": "e9224a89",
   "metadata": {},
   "source": [
    "### Creación de rango total de fechas"
   ]
  },
  {
   "cell_type": "code",
   "execution_count": 7,
   "id": "a93cf73b",
   "metadata": {},
   "outputs": [
    {
     "name": "stdout",
     "output_type": "stream",
     "text": [
      "(18960,)\n"
     ]
    },
    {
     "data": {
      "text/plain": [
       "DatetimeIndex(['2018-01-01 00:00:00', '2018-01-01 01:00:00',\n",
       "               '2018-01-01 02:00:00', '2018-01-01 03:00:00',\n",
       "               '2018-01-01 04:00:00', '2018-01-01 05:00:00',\n",
       "               '2018-01-01 06:00:00', '2018-01-01 07:00:00',\n",
       "               '2018-01-01 08:00:00', '2018-01-01 09:00:00',\n",
       "               ...\n",
       "               '2020-02-29 14:00:00', '2020-02-29 15:00:00',\n",
       "               '2020-02-29 16:00:00', '2020-02-29 17:00:00',\n",
       "               '2020-02-29 18:00:00', '2020-02-29 19:00:00',\n",
       "               '2020-02-29 20:00:00', '2020-02-29 21:00:00',\n",
       "               '2020-02-29 22:00:00', '2020-02-29 23:00:00'],\n",
       "              dtype='datetime64[ns]', length=18960, freq='H')"
      ]
     },
     "execution_count": 7,
     "metadata": {},
     "output_type": "execute_result"
    }
   ],
   "source": [
    "# Creación de rangos de fecha válidos\n",
    "# sdate = datetime.strptime('01/01/2018 00', '%d/%m/%Y %H')\n",
    "# edate = datetime.strptime('31/01/2018 23', '%d/%m/%Y %H')\n",
    "\n",
    "sdate = np.datetime64('2018-01-01T00:00:00')\n",
    "edate = np.datetime64('2020-02-29T23:00:00')\n",
    "\n",
    "df_dates=pd.date_range(start=sdate, end=edate, freq='H')\n",
    "\n",
    "print(df_dates.shape)\n",
    "df_dates"
   ]
  },
  {
   "cell_type": "markdown",
   "id": "77d27711",
   "metadata": {},
   "source": [
    "### DEFINICION DE FUNCIONES"
   ]
  },
  {
   "cell_type": "code",
   "execution_count": 8,
   "id": "9b65b3ef",
   "metadata": {},
   "outputs": [],
   "source": [
    "def _estacionDataFechaNueva(idEstacion, fecha, \n",
    "                       df_clusterFull_in, df_clusterGeog_in, df_clusterDmnd_in, data_Meteo_in, df_festivos_in):\n",
    "    # Variable dia semana\n",
    "    if fecha.isoweekday()==7:\n",
    "        dia_semana=1\n",
    "    else:\n",
    "        dia_semana=fecha.isoweekday()+1\n",
    "\n",
    "    # Variable Es_FinSemana\n",
    "    if ((dia_semana==1) or (dia_semana==7)):\n",
    "        es_finsemana = 1\n",
    "    else:\n",
    "        es_finsemana = 0\n",
    "\n",
    "    # Variable Es_Festivo\n",
    "    fec_festivo = np.datetime64(fecha.date())        \n",
    "    if fec_festivo in df_festivos_in['FECHA'].values:\n",
    "        es_festivo = 1\n",
    "    else:\n",
    "        es_festivo = 0\n",
    "\n",
    "    # Variable AM_PM\n",
    "    if fecha.hour<=12:\n",
    "        ampm='AM'\n",
    "    else:\n",
    "        ampm='PM'\n",
    "\n",
    "    # Variable TEMPORADA\n",
    "    if fecha.month<=3:\n",
    "        temporada='INVIERNO'\n",
    "        temporada_num=1\n",
    "    elif fecha.month<=6:\n",
    "        temporada='PRIMAVERA'\n",
    "        temporada_num=2\n",
    "    elif fecha.month<=9:\n",
    "        temporada='VERANO'\n",
    "        temporada_num=3\n",
    "    else:\n",
    "        temporada='OTONO'\n",
    "        temporada_num=4\n",
    "\n",
    "    clusterFull = df_clusterFull_in.loc[df_clusterFull_in['ESTACION'] == estacion, ['CLUSTER']].iloc[0]['CLUSTER']        \n",
    "    clusterGeog = df_clusterGeog_in.loc[df_clusterGeog_in['ESTACION'] == estacion, ['CLUSTER']].iloc[0]['CLUSTER']\n",
    "    clusterDmnd = df_clusterDmnd_in.loc[df_clusterDmnd_in['ESTACION'] == estacion, ['CLUSTER']].iloc[0]['CLUSTER']\n",
    "    \n",
    "    meteo = data_Meteo_in[data_Meteo_in['FECHA']==fecha]\n",
    "    \n",
    "    new_row_dict = {\n",
    "        'FECHA': fecha,\n",
    "        'ESTACION': idEstacion,\n",
    "        'ANIO': fecha.year,\n",
    "        'MES': fecha.month,\n",
    "        'DIA': fecha.day,\n",
    "        'HORA': fecha.hour,\n",
    "        'DIA_SEMANA': dia_semana,\n",
    "        'AM_PM': ampm,\n",
    "        'TEMPORADA': temporada,\n",
    "        'TEMPORADA_NUM': temporada_num,\n",
    "        'Es_Festivo': es_festivo,\n",
    "        'Es_FinSemana': es_finsemana,\n",
    "        'TEMPERATURA': float(meteo.TEMPERATURA.iloc[0]),\n",
    "        'VIENTO': float(meteo.VIENTO.iloc[0]),\n",
    "        'PRESION': float(meteo.PRESION.iloc[0]),\n",
    "        'HUMEDAD': float(meteo.HUMEDAD.iloc[0]),\n",
    "        'PRECIPITACION_1h': float(meteo.PRECIPITACION_1h.iloc[0]),\n",
    "        'PRECIPITACION_3h': float(meteo.PRECIPITACION_3h.iloc[0]),\n",
    "        'DESC_TIEMPO': meteo.DESC_TIEMPO.iloc[0],\n",
    "        'DESC_TIEMPO_detalle': meteo.DESC_TIEMPO_detalle.iloc[0],\n",
    "        'CLUSTER_FullCols': clusterFull,\n",
    "        'CLUSTER_soloGeo': clusterGeog,\n",
    "        'CLUSTER_soloDemanda': clusterDmnd,\n",
    "        'DEMANDA': 0\n",
    "    }\n",
    "\n",
    "    return pd.DataFrame(new_row_dict, index=[0])\n",
    "    "
   ]
  },
  {
   "cell_type": "markdown",
   "id": "ff7e0645",
   "metadata": {},
   "source": [
    "### EJECUCION DE PROCESO v1"
   ]
  },
  {
   "cell_type": "code",
   "execution_count": null,
   "id": "68435678",
   "metadata": {},
   "outputs": [],
   "source": [
    "df_estaciones = [175]\n",
    "type(df_estaciones)"
   ]
  },
  {
   "cell_type": "code",
   "execution_count": null,
   "id": "03a73045",
   "metadata": {},
   "outputs": [],
   "source": [
    "i=0\n",
    "df_final = pd.DataFrame(columns = ['ESTACION', 'ANIO', 'MES', 'DIA', 'HORA', 'FECHA', 'DIA_SEMANA', 'AM_PM', 'TEMPORADA', \n",
    "                            'TEMPORADA_NUM', 'Es_Festivo', 'Es_FinSemana', 'TEMPERATURA', 'VIENTO', 'PRESION', 'HUMEDAD', \n",
    "                            'PRECIPITACION_1h', 'PRECIPITACION_3h', 'DESC_TIEMPO', 'DESC_TIEMPO_detalle', 'CLUSTER_FullCols', \n",
    "                            'CLUSTER_soloGeo', 'CLUSTER_soloDemanda', 'DEMANDA'])\n",
    "\n",
    "t_ini = time.time()\n",
    "\n",
    "for estacion in df_estaciones:\n",
    "    print('Estacion: '+str(estacion))\n",
    "    \n",
    "    df_data = df_tracks[df_tracks['ESTACION']==estacion]\n",
    "    \n",
    "    df_final_estacion = pd.DataFrame(columns = ['ESTACION', 'ANIO', 'MES', 'DIA', 'HORA', 'FECHA', 'DIA_SEMANA', 'AM_PM', 'TEMPORADA', \n",
    "                            'TEMPORADA_NUM', 'Es_Festivo', 'Es_FinSemana', 'TEMPERATURA', 'VIENTO', 'PRESION', 'HUMEDAD', \n",
    "                            'PRECIPITACION_1h', 'PRECIPITACION_3h', 'DESC_TIEMPO', 'DESC_TIEMPO_detalle', 'CLUSTER_FullCols', \n",
    "                            'CLUSTER_soloGeo', 'CLUSTER_soloDemanda', 'DEMANDA'])    \n",
    "    \n",
    "    t_ini_estacion = time.time()\n",
    "    for fecha in df_dates:\n",
    "        \n",
    "        if fecha not in df_data[df_data['ESTACION']==estacion]['FECHA'].values:\n",
    "        # fecha NO existe en BD de movimientos para estacion\n",
    "            i=i+1\n",
    "                      \n",
    "            new_row = _estacionDataFechaNueva(estacion, fecha, df_clusterFull, df_clusterGeog, df_clusterDmnd, \n",
    "                                              data_Meteo, df_festivos)\n",
    "            \n",
    "            df_final_estacion = pd.concat([df_final_estacion, new_row])\n",
    "            \n",
    "        else:\n",
    "        # fecha SI existe en BD de movimientos para estacion\n",
    "            old_row = df_data[(df_data['ESTACION']==estacion) & (df_data['FECHA']==fecha)]\n",
    "            df_final_estacion = pd.concat([df_final_estacion, old_row])\n",
    "            \n",
    "            \n",
    "    df_final = pd.concat([df_final, df_final_estacion])\n",
    "    \n",
    "    t_end_estacion = time.time()\n",
    "    print('Fechas vacías:' + str(i))\n",
    "    print('Tiempo: '+str(t_end_estacion-t_ini_estacion))\n",
    "    i=0\n",
    "    \n",
    "\n",
    "t_end = time.time()\n",
    "print (t_end - t_ini)"
   ]
  },
  {
   "cell_type": "markdown",
   "id": "2912999b",
   "metadata": {},
   "source": [
    "### Ejecución Proceso v2"
   ]
  },
  {
   "cell_type": "code",
   "execution_count": 10,
   "id": "4dfe82e5",
   "metadata": {},
   "outputs": [
    {
     "name": "stdout",
     "output_type": "stream",
     "text": [
      "<class 'pandas.core.frame.DataFrame'>\n",
      "RangeIndex: 18960 entries, 0 to 18959\n",
      "Data columns (total 1 columns):\n",
      " #   Column  Non-Null Count  Dtype         \n",
      "---  ------  --------------  -----         \n",
      " 0   FECHA   18960 non-null  datetime64[ns]\n",
      "dtypes: datetime64[ns](1)\n",
      "memory usage: 148.2 KB\n"
     ]
    }
   ],
   "source": [
    "df_dates_DF = pd.DataFrame(df_dates)\n",
    "df_dates_DF = df_dates_DF.rename(columns={0: 'FECHA'})\n",
    "df_dates_DF.info()"
   ]
  },
  {
   "cell_type": "code",
   "execution_count": 9,
   "id": "72be63c1",
   "metadata": {},
   "outputs": [
    {
     "data": {
      "text/plain": [
       "[175]"
      ]
     },
     "execution_count": 9,
     "metadata": {},
     "output_type": "execute_result"
    }
   ],
   "source": [
    "df_estaciones = [175]\n",
    "df_estaciones"
   ]
  },
  {
   "cell_type": "code",
   "execution_count": null,
   "id": "d061c297",
   "metadata": {},
   "outputs": [],
   "source": [
    "i=0\n",
    "df_final = pd.DataFrame(columns = ['ESTACION', 'ANIO', 'MES', 'DIA', 'HORA', 'FECHA', 'DIA_SEMANA', 'AM_PM', 'TEMPORADA', \n",
    "                            'TEMPORADA_NUM', 'Es_Festivo', 'Es_FinSemana', 'TEMPERATURA', 'VIENTO', 'PRESION', 'HUMEDAD', \n",
    "                            'PRECIPITACION_1h', 'PRECIPITACION_3h', 'DESC_TIEMPO', 'DESC_TIEMPO_detalle', 'CLUSTER_FullCols', \n",
    "                            'CLUSTER_soloGeo', 'CLUSTER_soloDemanda', 'DEMANDA'])\n",
    "\n",
    "t_ini = time.time()\n",
    "\n",
    "for estacion in df_estaciones:\n",
    "    # Data de estacion\n",
    "    df_tracks_estacion = df_tracks[df_tracks['ESTACION']==estacion]\n",
    "    \n",
    "    # Merge entre fechas y data de estacion\n",
    "    df_tracks_estacion = pd.merge(df_dates_DF, df_tracks_estacion, how='left', left_on='FECHA', right_on='FECHA')\n",
    "    \n",
    "    # Búsqueda de registros con valores nulos\n",
    "    #df_tracks_estacion[df_tracks_estacion['ANIO'].isna()]\n",
    "\n",
    "#     df_tracks_estacion['ESTACION'].fillna(estacion, inplace=True)    \n",
    "#     df_tracks_estacion['DEMANDA'].fillna(0, inplace=True)\n",
    "\n",
    "    df_tracks_local = df_tracks_estacion.copy()\n",
    "    \n",
    "    for index, row in df_tracks_estacion.iterrows():\n",
    "        print(df_tracks_local.loc[index]['FECHA'])\n",
    "        \n",
    "        if pd.isnull(row.loc['ANIO']):\n",
    "            new_row = _estacionDataFechaNueva(estacion, row.loc['FECHA'], df_clusterFull, df_clusterGeog, df_clusterDmnd, \n",
    "                                              data_Meteo, df_festivos)\n",
    "\n",
    "            #print('indice: ' + str(index) + '; FECHA: ' + str(new_row['FECHA'])+ '; DEMANDA: ' + str(new_row['DEMANDA']))\n",
    "            #df_tracks_local[index:] = new_row\n",
    "            print(df_tracks_local.loc[index].T)\n",
    "#             df_final = pd.concat([df_final, new_row])\n",
    "#         else:\n",
    "#             df_final = pd.concat([df_final, row.T])\n",
    "\n",
    "    df_final = pd.concat([df_final, df_tracks_local])"
   ]
  },
  {
   "cell_type": "code",
   "execution_count": 30,
   "id": "05c3bbde",
   "metadata": {},
   "outputs": [
    {
     "data": {
      "text/html": [
       "<div>\n",
       "<style scoped>\n",
       "    .dataframe tbody tr th:only-of-type {\n",
       "        vertical-align: middle;\n",
       "    }\n",
       "\n",
       "    .dataframe tbody tr th {\n",
       "        vertical-align: top;\n",
       "    }\n",
       "\n",
       "    .dataframe thead th {\n",
       "        text-align: right;\n",
       "    }\n",
       "</style>\n",
       "<table border=\"1\" class=\"dataframe\">\n",
       "  <thead>\n",
       "    <tr style=\"text-align: right;\">\n",
       "      <th></th>\n",
       "      <th>ESTACION</th>\n",
       "      <th>FECHA</th>\n",
       "      <th>DEMANDA</th>\n",
       "    </tr>\n",
       "  </thead>\n",
       "  <tbody>\n",
       "    <tr>\n",
       "      <th>0</th>\n",
       "      <td>175.0</td>\n",
       "      <td>2018-01-01 00:00:00</td>\n",
       "      <td>5.0</td>\n",
       "    </tr>\n",
       "    <tr>\n",
       "      <th>1</th>\n",
       "      <td>175.0</td>\n",
       "      <td>2018-01-01 01:00:00</td>\n",
       "      <td>0.0</td>\n",
       "    </tr>\n",
       "    <tr>\n",
       "      <th>2</th>\n",
       "      <td>175.0</td>\n",
       "      <td>2018-01-01 01:00:00</td>\n",
       "      <td>0.0</td>\n",
       "    </tr>\n",
       "    <tr>\n",
       "      <th>3</th>\n",
       "      <td>175.0</td>\n",
       "      <td>2018-01-01 01:00:00</td>\n",
       "      <td>0.0</td>\n",
       "    </tr>\n",
       "    <tr>\n",
       "      <th>4</th>\n",
       "      <td>175.0</td>\n",
       "      <td>2018-01-01 04:00:00</td>\n",
       "      <td>0.0</td>\n",
       "    </tr>\n",
       "    <tr>\n",
       "      <th>...</th>\n",
       "      <td>...</td>\n",
       "      <td>...</td>\n",
       "      <td>...</td>\n",
       "    </tr>\n",
       "    <tr>\n",
       "      <th>18955</th>\n",
       "      <td>175.0</td>\n",
       "      <td>2020-02-29 05:00:00</td>\n",
       "      <td>0.0</td>\n",
       "    </tr>\n",
       "    <tr>\n",
       "      <th>18956</th>\n",
       "      <td>175.0</td>\n",
       "      <td>2020-02-29 05:00:00</td>\n",
       "      <td>0.0</td>\n",
       "    </tr>\n",
       "    <tr>\n",
       "      <th>18957</th>\n",
       "      <td>175.0</td>\n",
       "      <td>2020-02-29 05:00:00</td>\n",
       "      <td>0.0</td>\n",
       "    </tr>\n",
       "    <tr>\n",
       "      <th>18958</th>\n",
       "      <td>175.0</td>\n",
       "      <td>2020-02-29 05:00:00</td>\n",
       "      <td>0.0</td>\n",
       "    </tr>\n",
       "    <tr>\n",
       "      <th>18959</th>\n",
       "      <td>175.0</td>\n",
       "      <td>2020-02-29 05:00:00</td>\n",
       "      <td>0.0</td>\n",
       "    </tr>\n",
       "  </tbody>\n",
       "</table>\n",
       "<p>18960 rows × 3 columns</p>\n",
       "</div>"
      ],
      "text/plain": [
       "       ESTACION               FECHA  DEMANDA\n",
       "0         175.0 2018-01-01 00:00:00      5.0\n",
       "1         175.0 2018-01-01 01:00:00      0.0\n",
       "2         175.0 2018-01-01 01:00:00      0.0\n",
       "3         175.0 2018-01-01 01:00:00      0.0\n",
       "4         175.0 2018-01-01 04:00:00      0.0\n",
       "...         ...                 ...      ...\n",
       "18955     175.0 2020-02-29 05:00:00      0.0\n",
       "18956     175.0 2020-02-29 05:00:00      0.0\n",
       "18957     175.0 2020-02-29 05:00:00      0.0\n",
       "18958     175.0 2020-02-29 05:00:00      0.0\n",
       "18959     175.0 2020-02-29 05:00:00      0.0\n",
       "\n",
       "[18960 rows x 3 columns]"
      ]
     },
     "execution_count": 30,
     "metadata": {},
     "output_type": "execute_result"
    }
   ],
   "source": [
    "df_final[['ESTACION', 'FECHA', 'DEMANDA']][df_final['ESTACION']==175]"
   ]
  },
  {
   "cell_type": "code",
   "execution_count": 27,
   "id": "8c6c30b7",
   "metadata": {},
   "outputs": [
    {
     "data": {
      "text/html": [
       "<div>\n",
       "<style scoped>\n",
       "    .dataframe tbody tr th:only-of-type {\n",
       "        vertical-align: middle;\n",
       "    }\n",
       "\n",
       "    .dataframe tbody tr th {\n",
       "        vertical-align: top;\n",
       "    }\n",
       "\n",
       "    .dataframe thead th {\n",
       "        text-align: right;\n",
       "    }\n",
       "</style>\n",
       "<table border=\"1\" class=\"dataframe\">\n",
       "  <thead>\n",
       "    <tr style=\"text-align: right;\">\n",
       "      <th></th>\n",
       "      <th>ESTACION</th>\n",
       "      <th>FECHA</th>\n",
       "      <th>DEMANDA</th>\n",
       "    </tr>\n",
       "  </thead>\n",
       "  <tbody>\n",
       "    <tr>\n",
       "      <th>101</th>\n",
       "      <td>175</td>\n",
       "      <td>2018-01-01 00:00:00</td>\n",
       "      <td>5</td>\n",
       "    </tr>\n",
       "    <tr>\n",
       "      <th>244</th>\n",
       "      <td>175</td>\n",
       "      <td>2018-01-01 02:00:00</td>\n",
       "      <td>1</td>\n",
       "    </tr>\n",
       "    <tr>\n",
       "      <th>302</th>\n",
       "      <td>175</td>\n",
       "      <td>2018-01-01 03:00:00</td>\n",
       "      <td>1</td>\n",
       "    </tr>\n",
       "    <tr>\n",
       "      <th>466</th>\n",
       "      <td>175</td>\n",
       "      <td>2018-01-01 05:00:00</td>\n",
       "      <td>6</td>\n",
       "    </tr>\n",
       "    <tr>\n",
       "      <th>540</th>\n",
       "      <td>175</td>\n",
       "      <td>2018-01-01 06:00:00</td>\n",
       "      <td>1</td>\n",
       "    </tr>\n",
       "    <tr>\n",
       "      <th>...</th>\n",
       "      <td>...</td>\n",
       "      <td>...</td>\n",
       "      <td>...</td>\n",
       "    </tr>\n",
       "    <tr>\n",
       "      <th>2141766</th>\n",
       "      <td>175</td>\n",
       "      <td>2020-02-29 19:00:00</td>\n",
       "      <td>8</td>\n",
       "    </tr>\n",
       "    <tr>\n",
       "      <th>2141900</th>\n",
       "      <td>175</td>\n",
       "      <td>2020-02-29 20:00:00</td>\n",
       "      <td>3</td>\n",
       "    </tr>\n",
       "    <tr>\n",
       "      <th>2142019</th>\n",
       "      <td>175</td>\n",
       "      <td>2020-02-29 21:00:00</td>\n",
       "      <td>1</td>\n",
       "    </tr>\n",
       "    <tr>\n",
       "      <th>2142118</th>\n",
       "      <td>175</td>\n",
       "      <td>2020-02-29 22:00:00</td>\n",
       "      <td>2</td>\n",
       "    </tr>\n",
       "    <tr>\n",
       "      <th>2142243</th>\n",
       "      <td>175</td>\n",
       "      <td>2020-02-29 23:00:00</td>\n",
       "      <td>6</td>\n",
       "    </tr>\n",
       "  </tbody>\n",
       "</table>\n",
       "<p>15923 rows × 3 columns</p>\n",
       "</div>"
      ],
      "text/plain": [
       "         ESTACION               FECHA  DEMANDA\n",
       "101           175 2018-01-01 00:00:00        5\n",
       "244           175 2018-01-01 02:00:00        1\n",
       "302           175 2018-01-01 03:00:00        1\n",
       "466           175 2018-01-01 05:00:00        6\n",
       "540           175 2018-01-01 06:00:00        1\n",
       "...           ...                 ...      ...\n",
       "2141766       175 2020-02-29 19:00:00        8\n",
       "2141900       175 2020-02-29 20:00:00        3\n",
       "2142019       175 2020-02-29 21:00:00        1\n",
       "2142118       175 2020-02-29 22:00:00        2\n",
       "2142243       175 2020-02-29 23:00:00        6\n",
       "\n",
       "[15923 rows x 3 columns]"
      ]
     },
     "execution_count": 27,
     "metadata": {},
     "output_type": "execute_result"
    }
   ],
   "source": [
    "df_tracks[['ESTACION', 'FECHA', 'DEMANDA']][df_tracks['ESTACION']==175]"
   ]
  },
  {
   "cell_type": "code",
   "execution_count": 28,
   "id": "46eddd78",
   "metadata": {},
   "outputs": [
    {
     "name": "stderr",
     "output_type": "stream",
     "text": [
      "C:\\Users\\gonza\\AppData\\Local\\Temp\\ipykernel_2204\\1180602783.py:1: UserWarning: Boolean Series key will be reindexed to match DataFrame index.\n",
      "  df_tracks_local[['ESTACION', 'FECHA', 'DEMANDA']][df_tracks['ESTACION']==175]\n"
     ]
    },
    {
     "data": {
      "text/html": [
       "<div>\n",
       "<style scoped>\n",
       "    .dataframe tbody tr th:only-of-type {\n",
       "        vertical-align: middle;\n",
       "    }\n",
       "\n",
       "    .dataframe tbody tr th {\n",
       "        vertical-align: top;\n",
       "    }\n",
       "\n",
       "    .dataframe thead th {\n",
       "        text-align: right;\n",
       "    }\n",
       "</style>\n",
       "<table border=\"1\" class=\"dataframe\">\n",
       "  <thead>\n",
       "    <tr style=\"text-align: right;\">\n",
       "      <th></th>\n",
       "      <th>ESTACION</th>\n",
       "      <th>FECHA</th>\n",
       "      <th>DEMANDA</th>\n",
       "    </tr>\n",
       "  </thead>\n",
       "  <tbody>\n",
       "    <tr>\n",
       "      <th>101</th>\n",
       "      <td>175.0</td>\n",
       "      <td>2020-02-29 05:00:00</td>\n",
       "      <td>0.0</td>\n",
       "    </tr>\n",
       "    <tr>\n",
       "      <th>244</th>\n",
       "      <td>175.0</td>\n",
       "      <td>2020-02-29 05:00:00</td>\n",
       "      <td>0.0</td>\n",
       "    </tr>\n",
       "    <tr>\n",
       "      <th>302</th>\n",
       "      <td>175.0</td>\n",
       "      <td>2020-02-29 05:00:00</td>\n",
       "      <td>0.0</td>\n",
       "    </tr>\n",
       "    <tr>\n",
       "      <th>466</th>\n",
       "      <td>175.0</td>\n",
       "      <td>2020-02-29 05:00:00</td>\n",
       "      <td>0.0</td>\n",
       "    </tr>\n",
       "    <tr>\n",
       "      <th>540</th>\n",
       "      <td>175.0</td>\n",
       "      <td>2020-02-29 05:00:00</td>\n",
       "      <td>0.0</td>\n",
       "    </tr>\n",
       "    <tr>\n",
       "      <th>...</th>\n",
       "      <td>...</td>\n",
       "      <td>...</td>\n",
       "      <td>...</td>\n",
       "    </tr>\n",
       "    <tr>\n",
       "      <th>18424</th>\n",
       "      <td>175.0</td>\n",
       "      <td>2020-02-29 05:00:00</td>\n",
       "      <td>0.0</td>\n",
       "    </tr>\n",
       "    <tr>\n",
       "      <th>18574</th>\n",
       "      <td>175.0</td>\n",
       "      <td>2020-02-29 05:00:00</td>\n",
       "      <td>0.0</td>\n",
       "    </tr>\n",
       "    <tr>\n",
       "      <th>18704</th>\n",
       "      <td>175.0</td>\n",
       "      <td>2020-02-29 05:00:00</td>\n",
       "      <td>0.0</td>\n",
       "    </tr>\n",
       "    <tr>\n",
       "      <th>18827</th>\n",
       "      <td>175.0</td>\n",
       "      <td>2020-02-29 05:00:00</td>\n",
       "      <td>0.0</td>\n",
       "    </tr>\n",
       "    <tr>\n",
       "      <th>18939</th>\n",
       "      <td>175.0</td>\n",
       "      <td>2020-02-29 05:00:00</td>\n",
       "      <td>0.0</td>\n",
       "    </tr>\n",
       "  </tbody>\n",
       "</table>\n",
       "<p>161 rows × 3 columns</p>\n",
       "</div>"
      ],
      "text/plain": [
       "       ESTACION               FECHA  DEMANDA\n",
       "101       175.0 2020-02-29 05:00:00      0.0\n",
       "244       175.0 2020-02-29 05:00:00      0.0\n",
       "302       175.0 2020-02-29 05:00:00      0.0\n",
       "466       175.0 2020-02-29 05:00:00      0.0\n",
       "540       175.0 2020-02-29 05:00:00      0.0\n",
       "...         ...                 ...      ...\n",
       "18424     175.0 2020-02-29 05:00:00      0.0\n",
       "18574     175.0 2020-02-29 05:00:00      0.0\n",
       "18704     175.0 2020-02-29 05:00:00      0.0\n",
       "18827     175.0 2020-02-29 05:00:00      0.0\n",
       "18939     175.0 2020-02-29 05:00:00      0.0\n",
       "\n",
       "[161 rows x 3 columns]"
      ]
     },
     "execution_count": 28,
     "metadata": {},
     "output_type": "execute_result"
    }
   ],
   "source": [
    "df_tracks_local[['ESTACION', 'FECHA', 'DEMANDA']][df_tracks['ESTACION']==175]"
   ]
  },
  {
   "cell_type": "code",
   "execution_count": null,
   "id": "c2a229e8",
   "metadata": {},
   "outputs": [],
   "source": [
    "df_final.groupby('ESTACION').agg(DEMANDA=('DEMANDA','sum'))"
   ]
  },
  {
   "cell_type": "code",
   "execution_count": null,
   "id": "18a56272",
   "metadata": {},
   "outputs": [],
   "source": [
    "df_tracks[df_tracks['ESTACION']==175].groupby('ESTACION').agg(DEMANDA=('DEMANDA','sum'))"
   ]
  },
  {
   "cell_type": "code",
   "execution_count": null,
   "id": "35ab82ce",
   "metadata": {},
   "outputs": [],
   "source": [
    "df_tracks[df_tracks['ESTACION']==175]"
   ]
  },
  {
   "cell_type": "code",
   "execution_count": null,
   "id": "a794efbe",
   "metadata": {},
   "outputs": [],
   "source": [
    "df_tracks_estacion = df_tracks[df_tracks['ESTACION']==175]\n",
    "\n",
    "df_tracks_estacion = pd.merge(df_dates_DF, df_tracks_estacion, how='left', left_on='FECHA', right_on='FECHA')\n",
    "\n",
    "df_tracks_estacion"
   ]
  },
  {
   "cell_type": "code",
   "execution_count": null,
   "id": "5f9655b2",
   "metadata": {},
   "outputs": [],
   "source": []
  },
  {
   "cell_type": "code",
   "execution_count": null,
   "id": "156bf97f",
   "metadata": {},
   "outputs": [],
   "source": []
  },
  {
   "cell_type": "code",
   "execution_count": null,
   "id": "c14a1d43",
   "metadata": {},
   "outputs": [],
   "source": []
  },
  {
   "cell_type": "code",
   "execution_count": null,
   "id": "5d58a3fb",
   "metadata": {},
   "outputs": [],
   "source": []
  },
  {
   "cell_type": "code",
   "execution_count": null,
   "id": "2f1fd0a3",
   "metadata": {},
   "outputs": [],
   "source": []
  },
  {
   "cell_type": "code",
   "execution_count": null,
   "id": "7ca18f27",
   "metadata": {},
   "outputs": [],
   "source": []
  },
  {
   "cell_type": "code",
   "execution_count": null,
   "id": "76e34f07",
   "metadata": {},
   "outputs": [],
   "source": []
  },
  {
   "cell_type": "code",
   "execution_count": null,
   "id": "49f599fc",
   "metadata": {},
   "outputs": [],
   "source": [
    "df_final.info()"
   ]
  },
  {
   "cell_type": "code",
   "execution_count": null,
   "id": "ce519112",
   "metadata": {},
   "outputs": [],
   "source": [
    "df_final['CLUSTER_FullCols'] = df_final['CLUSTER_FullCols'].astype(np.int64)\n",
    "df_final['CLUSTER_soloGeo'] = df_final['CLUSTER_soloGeo'].astype(np.int64)\n",
    "df_final['CLUSTER_soloDemanda'] = df_final['CLUSTER_soloDemanda'].astype(np.int64)\n",
    "df_final['TEMPORADA_NUM'] = df_final['TEMPORADA_NUM'].astype(np.int64)\n",
    "df_final['DEMANDA'] = df_final['DEMANDA'].astype(np.int64)\n",
    "\n",
    "df_final.info()"
   ]
  },
  {
   "cell_type": "code",
   "execution_count": null,
   "id": "ac522297",
   "metadata": {},
   "outputs": [],
   "source": [
    "df_final"
   ]
  },
  {
   "cell_type": "code",
   "execution_count": null,
   "id": "f231041b",
   "metadata": {},
   "outputs": [],
   "source": [
    "df_final[df_final['DEMANDA']==0]"
   ]
  },
  {
   "cell_type": "code",
   "execution_count": null,
   "id": "5b220b5e",
   "metadata": {},
   "outputs": [],
   "source": [
    "df_final.groupby('CLUSTER_soloGeo').count()"
   ]
  },
  {
   "cell_type": "markdown",
   "id": "25d17063",
   "metadata": {},
   "source": [
    "### Validación de resultados en base a suma de DEMANDA"
   ]
  },
  {
   "cell_type": "code",
   "execution_count": null,
   "id": "bf6afb3e",
   "metadata": {},
   "outputs": [],
   "source": [
    "pd.set_option('display.max_rows', None)"
   ]
  },
  {
   "cell_type": "code",
   "execution_count": null,
   "id": "5bc25002",
   "metadata": {},
   "outputs": [],
   "source": [
    "# DF Original\n",
    "df_tracks.groupby('ESTACION').agg(DEMANDA=('DEMANDA', 'sum'), CUENTA=('DEMANDA', 'count'))\n",
    "#df_tracks.groupby('ESTACION').agg(DEMANDA=('DEMANDA', 'sum'), CUENTA=('DEMANDA', 'count')).to_clipboard()"
   ]
  },
  {
   "cell_type": "code",
   "execution_count": null,
   "id": "38308f29",
   "metadata": {},
   "outputs": [],
   "source": [
    "# DF Corregido\n",
    "df_final.groupby('ESTACION').agg(DEMANDA=('DEMANDA', 'sum'), CUENTA=('DEMANDA', 'count'))\n",
    "#df_final.groupby('ESTACION').agg(DEMANDA=('DEMANDA', 'sum'), CUENTA=('DEMANDA', 'count')).to_clipboard()"
   ]
  },
  {
   "cell_type": "code",
   "execution_count": null,
   "id": "544250aa",
   "metadata": {},
   "outputs": [],
   "source": [
    "df_final.info()"
   ]
  },
  {
   "cell_type": "code",
   "execution_count": null,
   "id": "c1877815",
   "metadata": {},
   "outputs": [],
   "source": [
    "pd.set_option('display.max_rows', 10)"
   ]
  },
  {
   "cell_type": "markdown",
   "id": "6e2d7e65",
   "metadata": {},
   "source": [
    "### Export df_final a CSV"
   ]
  },
  {
   "cell_type": "code",
   "execution_count": null,
   "id": "249b12a0",
   "metadata": {},
   "outputs": [],
   "source": [
    "df_final.to_csv('../../data/DataFrame_Final_Cierre_Cluster_FullFecha.csv', index=False)\n",
    "#df_final.to_csv('../../data/test.csv', index=False)"
   ]
  },
  {
   "cell_type": "code",
   "execution_count": null,
   "id": "5cd6ca50",
   "metadata": {},
   "outputs": [],
   "source": []
  },
  {
   "cell_type": "code",
   "execution_count": null,
   "id": "fecbe11d",
   "metadata": {},
   "outputs": [],
   "source": []
  },
  {
   "cell_type": "code",
   "execution_count": null,
   "id": "de3e009b",
   "metadata": {},
   "outputs": [],
   "source": [
    "test=df_final.groupby(by='TEMPORADA').count()\n",
    "test"
   ]
  },
  {
   "cell_type": "code",
   "execution_count": null,
   "id": "f3e2252d",
   "metadata": {},
   "outputs": [],
   "source": [
    "test=df_final.groupby(by='ANIO').count()\n",
    "test"
   ]
  },
  {
   "cell_type": "code",
   "execution_count": null,
   "id": "1371ce4d",
   "metadata": {},
   "outputs": [],
   "source": [
    "df_final.groupby('ANIO').agg(DEMANDA=('DEMANDA', 'sum'))"
   ]
  },
  {
   "cell_type": "code",
   "execution_count": null,
   "id": "f0ec2a27",
   "metadata": {},
   "outputs": [],
   "source": []
  },
  {
   "cell_type": "code",
   "execution_count": null,
   "id": "bc2f9880",
   "metadata": {},
   "outputs": [],
   "source": [
    "DF2 = pd.read_csv('../../data/test.csv', parse_dates=['FECHA'])\n",
    "DF2.info()"
   ]
  },
  {
   "cell_type": "code",
   "execution_count": null,
   "id": "fc7726d9",
   "metadata": {},
   "outputs": [],
   "source": []
  }
 ],
 "metadata": {
  "kernelspec": {
   "display_name": "Python 3 (ipykernel)",
   "language": "python",
   "name": "python3"
  },
  "language_info": {
   "codemirror_mode": {
    "name": "ipython",
    "version": 3
   },
   "file_extension": ".py",
   "mimetype": "text/x-python",
   "name": "python",
   "nbconvert_exporter": "python",
   "pygments_lexer": "ipython3",
   "version": "3.9.12"
  }
 },
 "nbformat": 4,
 "nbformat_minor": 5
}
