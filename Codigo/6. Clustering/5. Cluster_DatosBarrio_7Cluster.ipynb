{
 "cells": [
  {
   "cell_type": "markdown",
   "id": "ea217189",
   "metadata": {},
   "source": [
    "## 5. Cluster_DatosBarrio_7Cluster\n",
    "\n",
    "### Objetivo\n",
    "\n",
    "Generar cluster's de estaciones en base a las variables geográficas con el objetivo de obtener una cantidad fija para k=7 \n",
    "\n",
    "### Descripción General de notebook\n",
    "\n",
    "    1. Carga de datos base proveniente de etapa de preparación\n",
    "    2. Reducción de dimensionalidad PCA\n",
    "    3. Selección de valor k óptimo utilizando Elbow y Silhouette\n",
    "    4. Clusterización final en base a k"
   ]
  },
  {
   "cell_type": "markdown",
   "id": "ae01edec",
   "metadata": {},
   "source": [
    "## 1. Carga de datos de entrada"
   ]
  },
  {
   "cell_type": "code",
   "execution_count": 4,
   "id": "ad9034cd",
   "metadata": {},
   "outputs": [],
   "source": [
    "import pandas as pd\n",
    "from sklearn.cluster import KMeans\n",
    "import sklearn.cluster as cluster\n",
    "from sklearn import preprocessing\n",
    "from sklearn.pipeline import make_pipeline\n",
    "import sklearn.cluster as cluster\n",
    "import sklearn.metrics as metrics\n",
    "from sklearn.preprocessing import OneHotEncoder\n",
    "import pandas as pd\n",
    "from sklearn.preprocessing import MinMaxScaler\n",
    "import seaborn as sns\n",
    "from matplotlib import pyplot as plt\n",
    "from sklearn.decomposition import PCA\n",
    "import numpy as np\n",
    "\n",
    "%matplotlib inline\n",
    "\n",
    "pd.set_option('display.max_rows', 5)"
   ]
  },
  {
   "cell_type": "code",
   "execution_count": 5,
   "id": "fb3ca70d",
   "metadata": {},
   "outputs": [
    {
     "name": "stdout",
     "output_type": "stream",
     "text": [
      "<class 'pandas.core.frame.DataFrame'>\n",
      "RangeIndex: 172 entries, 0 to 171\n",
      "Data columns (total 47 columns):\n",
      " #   Column               Non-Null Count  Dtype   \n",
      "---  ------               --------------  -----   \n",
      " 0   ESTACION             172 non-null    int64   \n",
      " 1   DEMANDA_RATIO        172 non-null    float64 \n",
      " 2   DMNDA_201703         172 non-null    float64 \n",
      " 3   DMNDA_201704         172 non-null    float64 \n",
      " 4   DMNDA_201705         172 non-null    int64   \n",
      " 5   DMNDA_201706         172 non-null    int64   \n",
      " 6   DMNDA_201707         172 non-null    int64   \n",
      " 7   DMNDA_201708         172 non-null    int64   \n",
      " 8   DMNDA_201709         172 non-null    int64   \n",
      " 9   DMNDA_201710         172 non-null    int64   \n",
      " 10  DMNDA_201711         172 non-null    int64   \n",
      " 11  DMNDA_201712         172 non-null    float64 \n",
      " 12  DMNDA_201801         172 non-null    float64 \n",
      " 13  DMNDA_201802         172 non-null    int64   \n",
      " 14  DMNDA_201803         172 non-null    int64   \n",
      " 15  DMNDA_201804         172 non-null    int64   \n",
      " 16  DMNDA_201805         172 non-null    float64 \n",
      " 17  DMNDA_201806         172 non-null    float64 \n",
      " 18  DMNDA_201807         172 non-null    float64 \n",
      " 19  DMNDA_201808         172 non-null    float64 \n",
      " 20  DMNDA_201809         172 non-null    float64 \n",
      " 21  DMNDA_201810         172 non-null    float64 \n",
      " 22  DMNDA_201811         172 non-null    float64 \n",
      " 23  DMNDA_201812         172 non-null    float64 \n",
      " 24  DMNDA_201901         172 non-null    float64 \n",
      " 25  DMNDA_201902         172 non-null    float64 \n",
      " 26  DMNDA_201903         172 non-null    float64 \n",
      " 27  DMNDA_201904         172 non-null    float64 \n",
      " 28  DMNDA_201905         172 non-null    float64 \n",
      " 29  DMNDA_201906         172 non-null    float64 \n",
      " 30  DMNDA_201907         172 non-null    float64 \n",
      " 31  DMNDA_201908         172 non-null    float64 \n",
      " 32  DMNDA_201909         172 non-null    float64 \n",
      " 33  DMNDA_201910         172 non-null    float64 \n",
      " 34  DMNDA_201911         172 non-null    float64 \n",
      " 35  DMNDA_201912         172 non-null    float64 \n",
      " 36  Gis_X                172 non-null    float64 \n",
      " 37  Gis_Y                172 non-null    float64 \n",
      " 38  Distrito             172 non-null    category\n",
      " 39  Barrio               172 non-null    category\n",
      " 40  Plazas               172 non-null    category\n",
      " 41  Longitud             172 non-null    float64 \n",
      " 42  Latitud              172 non-null    float64 \n",
      " 43  Tasa_Paro            172 non-null    float64 \n",
      " 44  Renta_Media_Persona  172 non-null    float64 \n",
      " 45  Renta_Media_Hogar    172 non-null    float64 \n",
      " 46  Poblacion            172 non-null    float64 \n",
      "dtypes: category(3), float64(33), int64(11)\n",
      "memory usage: 61.8 KB\n"
     ]
    }
   ],
   "source": [
    "df_FinalCluster_Original = pd.read_csv('../../data/df_FinalCluster_2017_2019.csv',\n",
    "                              dtype={'Distrito':'category','Plazas':'category','Barrio':'category'})\n",
    "\n",
    "df_FinalCluster_Original.info()"
   ]
  },
  {
   "cell_type": "markdown",
   "id": "fc9a5eed",
   "metadata": {},
   "source": [
    "### Selección de Variables Geográficas"
   ]
  },
  {
   "cell_type": "code",
   "execution_count": 6,
   "id": "1078b57d",
   "metadata": {},
   "outputs": [
    {
     "name": "stdout",
     "output_type": "stream",
     "text": [
      "<class 'pandas.core.frame.DataFrame'>\n",
      "RangeIndex: 172 entries, 0 to 171\n",
      "Data columns (total 6 columns):\n",
      " #   Column    Non-Null Count  Dtype   \n",
      "---  ------    --------------  -----   \n",
      " 0   Gis_X     172 non-null    float64 \n",
      " 1   Gis_Y     172 non-null    float64 \n",
      " 2   Distrito  172 non-null    category\n",
      " 3   Barrio    172 non-null    category\n",
      " 4   Longitud  172 non-null    float64 \n",
      " 5   Latitud   172 non-null    float64 \n",
      "dtypes: category(2), float64(4)\n",
      "memory usage: 7.5 KB\n"
     ]
    }
   ],
   "source": [
    "df_FinalCluster = df_FinalCluster_Original.copy()\n",
    "\n",
    "df_FinalCluster = df_FinalCluster.drop(columns='ESTACION')\n",
    "\n",
    "df_FinalCluster = df_FinalCluster.drop(columns=['DEMANDA_RATIO',\n",
    "    'DMNDA_201703', 'DMNDA_201704', 'DMNDA_201705', 'DMNDA_201706', \n",
    "    'DMNDA_201707', 'DMNDA_201708', 'DMNDA_201709', 'DMNDA_201710', 'DMNDA_201711', 'DMNDA_201712',\n",
    "    'DMNDA_201801', 'DMNDA_201802', 'DMNDA_201803', 'DMNDA_201804', 'DMNDA_201805', 'DMNDA_201806', \n",
    "    'DMNDA_201807', 'DMNDA_201808', 'DMNDA_201809', 'DMNDA_201810', 'DMNDA_201811', 'DMNDA_201812',\n",
    "    'DMNDA_201901', 'DMNDA_201902', 'DMNDA_201903', 'DMNDA_201904', 'DMNDA_201905', 'DMNDA_201906', \n",
    "    'DMNDA_201907', 'DMNDA_201908', 'DMNDA_201909', 'DMNDA_201910', 'DMNDA_201911', 'DMNDA_201912',\n",
    "                                                'Plazas', 'Tasa_Paro', 'Renta_Media_Persona',\n",
    "                                               'Renta_Media_Hogar', 'Poblacion'])\n",
    "\n",
    "df_FinalCluster.info()\n",
    "\n",
    "num_cols = list(df_FinalCluster._get_numeric_data().columns)\n",
    "cat_cols = list(set(df_FinalCluster.columns) - set(num_cols))"
   ]
  },
  {
   "cell_type": "code",
   "execution_count": 7,
   "id": "58251a3d",
   "metadata": {},
   "outputs": [
    {
     "name": "stdout",
     "output_type": "stream",
     "text": [
      "['Gis_X', 'Gis_Y', 'Longitud', 'Latitud']\n",
      "['Distrito', 'Barrio']\n"
     ]
    }
   ],
   "source": [
    "print(num_cols)\n",
    "print(cat_cols)"
   ]
  },
  {
   "cell_type": "markdown",
   "id": "18f296cd",
   "metadata": {},
   "source": [
    "## 2. Reducción de dimensionalidad PCA"
   ]
  },
  {
   "cell_type": "markdown",
   "id": "0add2bba",
   "metadata": {},
   "source": [
    "### Transformando categóricas: One Hot Encoder (variables dummies)"
   ]
  },
  {
   "cell_type": "code",
   "execution_count": 9,
   "id": "48129d94",
   "metadata": {},
   "outputs": [
    {
     "data": {
      "text/html": [
       "<div>\n",
       "<style scoped>\n",
       "    .dataframe tbody tr th:only-of-type {\n",
       "        vertical-align: middle;\n",
       "    }\n",
       "\n",
       "    .dataframe tbody tr th {\n",
       "        vertical-align: top;\n",
       "    }\n",
       "\n",
       "    .dataframe thead th {\n",
       "        text-align: right;\n",
       "    }\n",
       "</style>\n",
       "<table border=\"1\" class=\"dataframe\">\n",
       "  <thead>\n",
       "    <tr style=\"text-align: right;\">\n",
       "      <th></th>\n",
       "      <th>Distrito</th>\n",
       "      <th>Barrio</th>\n",
       "    </tr>\n",
       "  </thead>\n",
       "  <tbody>\n",
       "    <tr>\n",
       "      <th>0</th>\n",
       "      <td>1</td>\n",
       "      <td>01-06</td>\n",
       "    </tr>\n",
       "    <tr>\n",
       "      <th>1</th>\n",
       "      <td>1</td>\n",
       "      <td>01-06</td>\n",
       "    </tr>\n",
       "    <tr>\n",
       "      <th>...</th>\n",
       "      <td>...</td>\n",
       "      <td>...</td>\n",
       "    </tr>\n",
       "    <tr>\n",
       "      <th>170</th>\n",
       "      <td>5</td>\n",
       "      <td>05-01</td>\n",
       "    </tr>\n",
       "    <tr>\n",
       "      <th>171</th>\n",
       "      <td>2</td>\n",
       "      <td>02-01</td>\n",
       "    </tr>\n",
       "  </tbody>\n",
       "</table>\n",
       "<p>172 rows × 2 columns</p>\n",
       "</div>"
      ],
      "text/plain": [
       "    Distrito Barrio\n",
       "0          1  01-06\n",
       "1          1  01-06\n",
       "..       ...    ...\n",
       "170        5  05-01\n",
       "171        2  02-01\n",
       "\n",
       "[172 rows x 2 columns]"
      ]
     },
     "execution_count": 9,
     "metadata": {},
     "output_type": "execute_result"
    }
   ],
   "source": [
    "df_cat = df_FinalCluster[cat_cols]\n",
    "df_cat"
   ]
  },
  {
   "cell_type": "code",
   "execution_count": 10,
   "id": "44b68f19",
   "metadata": {},
   "outputs": [
    {
     "data": {
      "text/plain": [
       "(172, 40)"
      ]
     },
     "execution_count": 10,
     "metadata": {},
     "output_type": "execute_result"
    }
   ],
   "source": [
    "OneHot = OneHotEncoder(handle_unknown='ignore', drop='first')\n",
    "OneHot.fit(df_cat.values)\n",
    "\n",
    "df_cat_OneHot = OneHot.transform(df_cat.values).toarray()\n",
    "df_cat_OneHot.shape"
   ]
  },
  {
   "cell_type": "markdown",
   "id": "7473e582",
   "metadata": {},
   "source": [
    "### Concatenación de DF: Numéricos y Categóricas"
   ]
  },
  {
   "cell_type": "code",
   "execution_count": 11,
   "id": "e1974796",
   "metadata": {},
   "outputs": [
    {
     "name": "stdout",
     "output_type": "stream",
     "text": [
      "<class 'pandas.core.frame.DataFrame'>\n",
      "RangeIndex: 172 entries, 0 to 171\n",
      "Data columns (total 44 columns):\n",
      " #   Column    Non-Null Count  Dtype  \n",
      "---  ------    --------------  -----  \n",
      " 0   Gis_X     172 non-null    float64\n",
      " 1   Gis_Y     172 non-null    float64\n",
      " 2   Longitud  172 non-null    float64\n",
      " 3   Latitud   172 non-null    float64\n",
      " 4   0         172 non-null    float64\n",
      " 5   1         172 non-null    float64\n",
      " 6   2         172 non-null    float64\n",
      " 7   3         172 non-null    float64\n",
      " 8   4         172 non-null    float64\n",
      " 9   5         172 non-null    float64\n",
      " 10  6         172 non-null    float64\n",
      " 11  7         172 non-null    float64\n",
      " 12  8         172 non-null    float64\n",
      " 13  9         172 non-null    float64\n",
      " 14  10        172 non-null    float64\n",
      " 15  11        172 non-null    float64\n",
      " 16  12        172 non-null    float64\n",
      " 17  13        172 non-null    float64\n",
      " 18  14        172 non-null    float64\n",
      " 19  15        172 non-null    float64\n",
      " 20  16        172 non-null    float64\n",
      " 21  17        172 non-null    float64\n",
      " 22  18        172 non-null    float64\n",
      " 23  19        172 non-null    float64\n",
      " 24  20        172 non-null    float64\n",
      " 25  21        172 non-null    float64\n",
      " 26  22        172 non-null    float64\n",
      " 27  23        172 non-null    float64\n",
      " 28  24        172 non-null    float64\n",
      " 29  25        172 non-null    float64\n",
      " 30  26        172 non-null    float64\n",
      " 31  27        172 non-null    float64\n",
      " 32  28        172 non-null    float64\n",
      " 33  29        172 non-null    float64\n",
      " 34  30        172 non-null    float64\n",
      " 35  31        172 non-null    float64\n",
      " 36  32        172 non-null    float64\n",
      " 37  33        172 non-null    float64\n",
      " 38  34        172 non-null    float64\n",
      " 39  35        172 non-null    float64\n",
      " 40  36        172 non-null    float64\n",
      " 41  37        172 non-null    float64\n",
      " 42  38        172 non-null    float64\n",
      " 43  39        172 non-null    float64\n",
      "dtypes: float64(44)\n",
      "memory usage: 59.2 KB\n"
     ]
    },
    {
     "data": {
      "text/html": [
       "<div>\n",
       "<style scoped>\n",
       "    .dataframe tbody tr th:only-of-type {\n",
       "        vertical-align: middle;\n",
       "    }\n",
       "\n",
       "    .dataframe tbody tr th {\n",
       "        vertical-align: top;\n",
       "    }\n",
       "\n",
       "    .dataframe thead th {\n",
       "        text-align: right;\n",
       "    }\n",
       "</style>\n",
       "<table border=\"1\" class=\"dataframe\">\n",
       "  <thead>\n",
       "    <tr style=\"text-align: right;\">\n",
       "      <th></th>\n",
       "      <th>Gis_X</th>\n",
       "      <th>Gis_Y</th>\n",
       "      <th>Longitud</th>\n",
       "      <th>Latitud</th>\n",
       "      <th>0</th>\n",
       "      <th>1</th>\n",
       "      <th>2</th>\n",
       "      <th>3</th>\n",
       "      <th>4</th>\n",
       "      <th>5</th>\n",
       "      <th>...</th>\n",
       "      <th>30</th>\n",
       "      <th>31</th>\n",
       "      <th>32</th>\n",
       "      <th>33</th>\n",
       "      <th>34</th>\n",
       "      <th>35</th>\n",
       "      <th>36</th>\n",
       "      <th>37</th>\n",
       "      <th>38</th>\n",
       "      <th>39</th>\n",
       "    </tr>\n",
       "  </thead>\n",
       "  <tbody>\n",
       "    <tr>\n",
       "      <th>0</th>\n",
       "      <td>440443.61</td>\n",
       "      <td>4474290.65</td>\n",
       "      <td>-3.701998</td>\n",
       "      <td>40.417111</td>\n",
       "      <td>0.0</td>\n",
       "      <td>0.0</td>\n",
       "      <td>0.0</td>\n",
       "      <td>0.0</td>\n",
       "      <td>0.0</td>\n",
       "      <td>0.0</td>\n",
       "      <td>...</td>\n",
       "      <td>0.0</td>\n",
       "      <td>0.0</td>\n",
       "      <td>0.0</td>\n",
       "      <td>0.0</td>\n",
       "      <td>0.0</td>\n",
       "      <td>0.0</td>\n",
       "      <td>0.0</td>\n",
       "      <td>0.0</td>\n",
       "      <td>0.0</td>\n",
       "      <td>0.0</td>\n",
       "    </tr>\n",
       "    <tr>\n",
       "      <th>1</th>\n",
       "      <td>440480.56</td>\n",
       "      <td>4474301.74</td>\n",
       "      <td>-3.701564</td>\n",
       "      <td>40.417213</td>\n",
       "      <td>0.0</td>\n",
       "      <td>0.0</td>\n",
       "      <td>0.0</td>\n",
       "      <td>0.0</td>\n",
       "      <td>0.0</td>\n",
       "      <td>0.0</td>\n",
       "      <td>...</td>\n",
       "      <td>0.0</td>\n",
       "      <td>0.0</td>\n",
       "      <td>0.0</td>\n",
       "      <td>0.0</td>\n",
       "      <td>0.0</td>\n",
       "      <td>0.0</td>\n",
       "      <td>0.0</td>\n",
       "      <td>0.0</td>\n",
       "      <td>0.0</td>\n",
       "      <td>0.0</td>\n",
       "    </tr>\n",
       "    <tr>\n",
       "      <th>...</th>\n",
       "      <td>...</td>\n",
       "      <td>...</td>\n",
       "      <td>...</td>\n",
       "      <td>...</td>\n",
       "      <td>...</td>\n",
       "      <td>...</td>\n",
       "      <td>...</td>\n",
       "      <td>...</td>\n",
       "      <td>...</td>\n",
       "      <td>...</td>\n",
       "      <td>...</td>\n",
       "      <td>...</td>\n",
       "      <td>...</td>\n",
       "      <td>...</td>\n",
       "      <td>...</td>\n",
       "      <td>...</td>\n",
       "      <td>...</td>\n",
       "      <td>...</td>\n",
       "      <td>...</td>\n",
       "      <td>...</td>\n",
       "      <td>...</td>\n",
       "    </tr>\n",
       "    <tr>\n",
       "      <th>170</th>\n",
       "      <td>441672.11</td>\n",
       "      <td>4477914.69</td>\n",
       "      <td>-3.687851</td>\n",
       "      <td>40.449845</td>\n",
       "      <td>0.0</td>\n",
       "      <td>0.0</td>\n",
       "      <td>0.0</td>\n",
       "      <td>1.0</td>\n",
       "      <td>0.0</td>\n",
       "      <td>0.0</td>\n",
       "      <td>...</td>\n",
       "      <td>0.0</td>\n",
       "      <td>0.0</td>\n",
       "      <td>0.0</td>\n",
       "      <td>0.0</td>\n",
       "      <td>0.0</td>\n",
       "      <td>0.0</td>\n",
       "      <td>0.0</td>\n",
       "      <td>0.0</td>\n",
       "      <td>0.0</td>\n",
       "      <td>0.0</td>\n",
       "    </tr>\n",
       "    <tr>\n",
       "      <th>171</th>\n",
       "      <td>439113.04</td>\n",
       "      <td>4473926.40</td>\n",
       "      <td>-3.717646</td>\n",
       "      <td>40.413733</td>\n",
       "      <td>1.0</td>\n",
       "      <td>0.0</td>\n",
       "      <td>0.0</td>\n",
       "      <td>0.0</td>\n",
       "      <td>0.0</td>\n",
       "      <td>0.0</td>\n",
       "      <td>...</td>\n",
       "      <td>0.0</td>\n",
       "      <td>0.0</td>\n",
       "      <td>0.0</td>\n",
       "      <td>0.0</td>\n",
       "      <td>0.0</td>\n",
       "      <td>0.0</td>\n",
       "      <td>0.0</td>\n",
       "      <td>0.0</td>\n",
       "      <td>0.0</td>\n",
       "      <td>0.0</td>\n",
       "    </tr>\n",
       "  </tbody>\n",
       "</table>\n",
       "<p>172 rows × 44 columns</p>\n",
       "</div>"
      ],
      "text/plain": [
       "         Gis_X       Gis_Y  Longitud    Latitud    0    1    2    3    4    5  \\\n",
       "0    440443.61  4474290.65 -3.701998  40.417111  0.0  0.0  0.0  0.0  0.0  0.0   \n",
       "1    440480.56  4474301.74 -3.701564  40.417213  0.0  0.0  0.0  0.0  0.0  0.0   \n",
       "..         ...         ...       ...        ...  ...  ...  ...  ...  ...  ...   \n",
       "170  441672.11  4477914.69 -3.687851  40.449845  0.0  0.0  0.0  1.0  0.0  0.0   \n",
       "171  439113.04  4473926.40 -3.717646  40.413733  1.0  0.0  0.0  0.0  0.0  0.0   \n",
       "\n",
       "     ...   30   31   32   33   34   35   36   37   38   39  \n",
       "0    ...  0.0  0.0  0.0  0.0  0.0  0.0  0.0  0.0  0.0  0.0  \n",
       "1    ...  0.0  0.0  0.0  0.0  0.0  0.0  0.0  0.0  0.0  0.0  \n",
       "..   ...  ...  ...  ...  ...  ...  ...  ...  ...  ...  ...  \n",
       "170  ...  0.0  0.0  0.0  0.0  0.0  0.0  0.0  0.0  0.0  0.0  \n",
       "171  ...  0.0  0.0  0.0  0.0  0.0  0.0  0.0  0.0  0.0  0.0  \n",
       "\n",
       "[172 rows x 44 columns]"
      ]
     },
     "execution_count": 11,
     "metadata": {},
     "output_type": "execute_result"
    }
   ],
   "source": [
    "df_knn_final = pd.concat([df_FinalCluster[num_cols], pd.DataFrame(df_cat_OneHot)], axis=1)\n",
    "df_knn_final.columns = df_knn_final.columns.astype(str)\n",
    "df_knn_final.info()\n",
    "df_knn_final"
   ]
  },
  {
   "cell_type": "markdown",
   "id": "2ad0e6e6",
   "metadata": {},
   "source": [
    "### Reducción de dimensionalidad PCA"
   ]
  },
  {
   "cell_type": "code",
   "execution_count": 12,
   "id": "61c011f2",
   "metadata": {},
   "outputs": [],
   "source": [
    "df_pca_2 = PCA(n_components=2).fit_transform(df_knn_final)\n",
    "df_pca_3 = PCA(n_components=3).fit_transform(df_knn_final)\n",
    "df_pca_4 = PCA(n_components=4).fit_transform(df_knn_final)\n",
    "df_pca_5 = PCA(n_components=5).fit_transform(df_knn_final)\n"
   ]
  },
  {
   "cell_type": "code",
   "execution_count": 13,
   "id": "be7470f0",
   "metadata": {},
   "outputs": [
    {
     "data": {
      "text/plain": [
       "array([[-7.83903561e+02,  5.31648857e+02, -1.35290590e-02],\n",
       "       [-7.70648416e+02,  4.95419150e+02, -1.56306065e-02],\n",
       "       [-4.15257075e+02,  8.62803087e+02, -1.01232889e-02],\n",
       "       [ 6.58095566e+02,  1.04843613e+03, -1.29357431e-01],\n",
       "       [ 4.85785568e+02,  6.54139180e+02, -3.93892573e-02],\n",
       "       [ 4.63065724e+02,  6.02044787e+02, -5.53024753e-02],\n",
       "       [ 1.35274299e+01,  2.67682506e+02, -6.27968456e-02],\n",
       "       [ 1.33145710e+02,  2.16955801e+02, -6.78423707e-02],\n",
       "       [ 4.20665747e+02,  2.50287759e+01, -1.93130904e-01],\n",
       "       [-9.82054125e+02,  1.15111740e+03,  2.24841999e-02],\n",
       "       [ 3.11092459e+02,  7.25475824e+02, -3.21590281e-02],\n",
       "       [ 4.63375751e+02,  9.54209150e+02, -2.38016298e-02],\n",
       "       [ 1.51235029e+02,  1.54612034e+03,  5.17938437e-02],\n",
       "       [ 2.10829206e+02,  1.03818508e+03, -1.43143301e-02],\n",
       "       [-1.61300372e+02,  1.03055083e+03, -6.95494978e-03],\n",
       "       [-1.21959396e+02,  7.51428502e+02, -2.18393142e-02],\n",
       "       [-3.50983284e+02,  3.47401492e+02, -5.11940678e-02],\n",
       "       [-5.24705476e+02, -2.49104796e+01, -6.63406047e-02],\n",
       "       [-4.67210028e+02,  1.08238559e+03,  8.30662589e-03],\n",
       "       [-7.33005126e+02,  1.26387882e+03,  2.29837708e-02],\n",
       "       [-4.67037592e+02,  9.30289772e+02, -3.45908564e-05],\n",
       "       [-4.67210028e+02,  1.08238559e+03,  8.30662589e-03],\n",
       "       [-7.33005126e+02,  1.26387882e+03,  2.29837708e-02],\n",
       "       [-7.84904252e+02,  8.73637892e+02,  3.72544679e-03],\n",
       "       [-6.52518766e+00, -6.18494447e+01, -7.89854843e-02],\n",
       "       [-8.53048575e+02,  1.62376085e+00, -4.60431300e-02],\n",
       "       [-8.88918669e+02,  9.19348349e+02,  8.19347114e-03],\n",
       "       [-8.59551927e+02,  6.30699662e+02, -6.96338440e-03],\n",
       "       [-1.08964774e+03,  6.43949178e+02, -8.75107396e-03],\n",
       "       [-8.58178647e+02,  1.35749211e+03,  3.03060634e-02],\n",
       "       [-1.52936449e+03,  1.52362111e+03,  5.26452273e-02],\n",
       "       [-1.46948384e+03,  1.29906857e+03,  4.00833362e-02],\n",
       "       [-1.46221696e+03,  1.09213624e+03,  2.95042743e-02],\n",
       "       [-1.16435000e+03,  7.45630536e+02,  4.89903223e-03],\n",
       "       [-1.31211662e+03,  2.48995637e+02, -1.70525878e-02],\n",
       "       [-1.47028407e+03,  1.76277328e+02, -1.74255496e-02],\n",
       "       [-1.56469887e+03,  5.38068208e+02,  2.77078655e-03],\n",
       "       [-1.60086990e+03,  6.52539950e+02,  9.29202944e-03],\n",
       "       [-1.95011281e+03,  1.24846453e+03,  4.65899695e-02],\n",
       "       [-2.09884751e+03,  8.99260284e+02,  3.90521337e-02],\n",
       "       [-2.17150825e+03,  5.24839539e+02,  2.16962219e-02],\n",
       "       [-2.07731709e+03,  4.73989314e+02,  1.02093764e-02],\n",
       "       [-1.99811652e+03,  2.35294259e+02, -3.46724261e-03],\n",
       "       [-1.72133840e+03, -2.62222418e+02, -3.42981567e-02],\n",
       "       [-1.78800862e+03, -2.33914553e+02, -3.14842323e-02],\n",
       "       [-1.75731425e+03,  3.73973449e+02, -1.48999441e-03],\n",
       "       [ 2.77835132e+02,  4.45529886e+02, -5.93349671e-02],\n",
       "       [-1.19385091e+01,  5.65397712e+02, -3.35034262e-02],\n",
       "       [-1.95446557e+02,  2.17590010e+02, -6.09723421e-02],\n",
       "       [ 1.34729872e+02,  7.58697096e+02, -2.68147854e-02],\n",
       "       [-4.64460587e+02, -6.24177122e+02, -6.85705002e-01],\n",
       "       [-1.90787169e+02, -1.95033678e+03, -6.27969013e-01],\n",
       "       [-5.60608154e+02, -2.11991782e+03, -6.28818578e-01],\n",
       "       [-1.44174100e+03, -2.55089713e+02, -4.67287585e-02],\n",
       "       [-8.88087675e+02, -1.52949619e+03, -7.22510527e-01],\n",
       "       [-7.84544190e+02, -1.84515668e+03, -6.29324642e-01],\n",
       "       [-7.96848144e+02, -2.21942877e+03, -6.47929100e-01],\n",
       "       [-1.26657392e+03, -2.28819999e+03, -6.02265132e-01],\n",
       "       [-1.84239903e+03, -2.17558671e+03, -5.82305594e-01],\n",
       "       [-1.80896012e+03, -4.99387611e+02, -4.65802111e-02],\n",
       "       [-1.57557892e+03, -3.61248307e+02, -6.49332773e-01],\n",
       "       [-2.40987454e+02, -1.31516369e+03, -7.25176059e-01],\n",
       "       [ 8.58269842e+02, -9.34327662e+02,  6.81166995e-01],\n",
       "       [ 1.79914645e+02, -9.70716784e+02,  1.01188789e+00],\n",
       "       [ 2.93835163e+02, -7.31062424e+02,  1.02159396e+00],\n",
       "       [ 2.22840714e+02, -4.85800724e+02,  1.03543072e+00],\n",
       "       [-1.03060301e+02, -7.08207541e+02,  1.03100515e+00],\n",
       "       [-9.30618731e+01, -1.28872186e+03,  7.81431518e-01],\n",
       "       [ 1.16819043e+02, -1.68085928e+03,  7.57303072e-01],\n",
       "       [-2.57572065e+02, -9.63418933e+02,  1.02135983e+00],\n",
       "       [ 7.53615011e+02, -7.02910234e+02,  6.95006584e-01],\n",
       "       [ 3.40441685e+02, -4.65592619e+02,  1.03400176e+00],\n",
       "       [ 3.83155712e+02, -6.42166155e+02,  1.02421489e+00],\n",
       "       [ 1.37002819e+02, -6.19799985e+02,  1.03046447e+00],\n",
       "       [-2.27725753e+02, -5.92896263e+02,  1.03941029e+00],\n",
       "       [ 4.98042382e+02, -2.06509284e+03,  7.30007252e-01],\n",
       "       [ 7.48269098e+02, -1.12870107e+03,  6.73661170e-01],\n",
       "       [ 1.09468662e+03,  2.16803652e+03,  5.69982422e-02],\n",
       "       [ 1.01802033e+03,  1.96425741e+03, -9.52870940e-02],\n",
       "       [ 3.14139604e+02,  2.17770625e+03,  7.37288597e-02],\n",
       "       [ 3.36599752e+02,  1.89860596e+03,  6.56989977e-02],\n",
       "       [ 6.79638414e+01,  1.84644253e+03,  6.86607182e-02],\n",
       "       [-5.55059081e+01,  1.39810859e+03,  4.86374813e-02],\n",
       "       [-4.19396552e+01,  1.40618478e+03,  4.87621440e-02],\n",
       "       [ 6.71940966e+02,  2.04314469e+03,  6.60041491e-02],\n",
       "       [-2.53219864e+03, -7.35960430e+02, -4.07501401e-02],\n",
       "       [-2.31277940e+03, -1.60120771e+02, -1.62982995e-02],\n",
       "       [-2.46250550e+03,  1.57262340e+02,  2.81125711e-03],\n",
       "       [ 6.66029216e+02,  1.58022540e+03, -1.07314422e-01],\n",
       "       [-3.13613062e+02,  2.26015673e+03,  9.09474007e-02],\n",
       "       [-2.29706527e+03,  8.31282428e+02,  3.97515101e-02],\n",
       "       [-3.45053706e+03,  2.23423386e+01,  1.87672449e-02],\n",
       "       [-2.96551295e+03, -2.18613735e+02, -4.15747707e-03],\n",
       "       [ 2.76546562e+03,  1.36522075e+02, -1.74598476e-01],\n",
       "       [ 2.81354439e+03, -2.56813536e+02, -3.88811205e-01],\n",
       "       [ 2.77513532e+03, -1.18943566e+03, -4.35009062e-01],\n",
       "       [ 2.22816431e+03,  1.35193691e+02, -2.49731689e-01],\n",
       "       [ 1.94544080e+03,  6.46833571e+02, -2.18065346e-01],\n",
       "       [ 1.95770311e+03, -1.01300076e+02, -2.56020850e-01],\n",
       "       [ 1.73233693e+03, -3.20137014e+02, -3.69502095e-01],\n",
       "       [ 1.58760174e+03,  1.80416194e+03, -1.15207805e-01],\n",
       "       [ 1.59990182e+03,  3.38224944e+02, -2.26426172e-01],\n",
       "       [ 1.15239962e+03,  6.09181843e+02, -1.63881735e-01],\n",
       "       [ 1.26508551e+03,  2.80274683e+01, -2.10552333e-01],\n",
       "       [ 1.26013578e+03, -1.38176135e+03,  6.23116730e-01],\n",
       "       [ 1.05016705e+03,  1.16927740e+03, -1.31427023e-01],\n",
       "       [ 7.47222053e+02,  3.82510610e+02, -1.66872440e-01],\n",
       "       [ 1.01762324e+03, -1.62975286e+03,  6.15666552e-01],\n",
       "       [ 7.52973912e+02, -1.98839668e+03,  6.03100999e-01],\n",
       "       [-1.18462953e+03,  1.47453654e+03,  4.29977311e-02],\n",
       "       [ 1.78443315e+02, -2.61352777e+02, -9.28881859e-02],\n",
       "       [-2.24309192e+02, -5.67991571e-01, -7.13652312e-02],\n",
       "       [-7.75663043e+02,  8.71861140e+02,  3.44360042e-03],\n",
       "       [-1.18032039e+03, -3.39072220e+01, -4.10230346e-02],\n",
       "       [-6.61829252e+02,  2.29377333e+02, -3.85453704e-02],\n",
       "       [-1.05235084e+03,  8.69388590e+02,  9.07692957e-03],\n",
       "       [-1.06603343e+03,  4.14033131e+02, -2.08285359e-02],\n",
       "       [-1.87501850e+02, -1.71369863e+03, -6.16112594e-01],\n",
       "       [-1.50830688e+03, -6.21125647e+02, -6.63828585e-01],\n",
       "       [-1.26632558e+03, -1.65286401e+03, -7.20856135e-01],\n",
       "       [-1.75619434e+03, -1.79897140e+03, -6.06777022e-01],\n",
       "       [-2.02773855e+03, -1.35430772e+03, -5.37062344e-01],\n",
       "       [-1.09125163e+03, -1.81740116e+03, -6.21543331e-01],\n",
       "       [ 4.67079779e+02, -9.70088022e+02,  1.00594361e+00],\n",
       "       [ 9.74055877e+02,  1.93749135e+03, -9.57209942e-02],\n",
       "       [ 8.37106260e+02,  2.55756935e+03,  8.84901695e-02],\n",
       "       [-2.45215853e+03, -8.64172601e+02, -5.15775529e-02],\n",
       "       [ 6.17133074e+02,  1.16303894e+02, -1.92619846e-01],\n",
       "       [-2.32880982e+03,  1.19661467e+03,  5.88221241e-02],\n",
       "       [ 3.94617089e+03, -3.01388785e+02, -3.14641538e-01],\n",
       "       [ 3.93291739e+03, -1.32917613e+02, -1.86912268e-01],\n",
       "       [ 3.17649556e+03,  4.75806289e+02, -1.66054711e-01],\n",
       "       [ 3.16136331e+03, -2.25600827e+01, -1.90853731e-01],\n",
       "       [ 3.06354812e+03, -9.94723647e+02, -4.31198964e-01],\n",
       "       [ 2.45490966e+03,  8.32929699e+02, -2.19289644e-01],\n",
       "       [ 2.43546148e+03, -7.21929971e+02, -4.04381604e-01],\n",
       "       [ 2.42943430e+03, -1.88172529e+02, -2.70215387e-01],\n",
       "       [ 2.32466141e+03, -1.27982651e+03, -4.30189632e-01],\n",
       "       [ 1.30166318e+03, -4.40729939e+02, -2.34935377e-01],\n",
       "       [ 1.09657445e+03, -5.57439470e+02,  6.95200166e-01],\n",
       "       [-5.78674100e+02,  1.35299900e+03,  2.42631005e-02],\n",
       "       [-1.14519906e+03,  1.22417981e+03,  2.95610751e-02],\n",
       "       [-6.37257510e+02,  6.48703555e+02, -1.06821135e-02],\n",
       "       [-5.83564592e+02, -1.94456894e+02, -6.15321379e-02],\n",
       "       [ 3.35277272e+02, -1.79225854e+03,  7.47143227e-01],\n",
       "       [ 1.53114949e+02, -6.21219894e+02,  1.03005762e+00],\n",
       "       [ 3.89292798e+03, -6.96848331e+02, -3.57028191e-01],\n",
       "       [ 3.42351378e+03,  1.25407493e+02, -1.88852678e-01],\n",
       "       [ 1.93924634e+03,  8.43100650e+02, -2.08046050e-01],\n",
       "       [ 1.68452221e+03, -9.63369021e+02, -4.00921128e-01],\n",
       "       [ 3.14784767e+02, -1.38079036e+03,  7.68304589e-01],\n",
       "       [-4.10575749e+01, -3.89614567e+02,  1.04576956e+00],\n",
       "       [ 2.38786912e+03, -2.55618047e+02, -3.79892576e-01],\n",
       "       [ 3.77072118e+03, -1.38977544e+03, -3.89403371e-01],\n",
       "       [-1.65363601e+03, -1.51665417e+03, -7.05932175e-01],\n",
       "       [-1.78631563e+03, -4.77650810e+02, -4.59560758e-02],\n",
       "       [ 2.44878756e+01, -2.19387540e+03,  7.33372339e-01],\n",
       "       [ 3.41325768e+03, -8.03894448e+02, -3.52440480e-01],\n",
       "       [ 5.57733065e+02,  1.51944640e+03,  2.71849215e-03],\n",
       "       [-2.49803648e+03, -1.88617281e+03, -5.54162521e-01],\n",
       "       [ 2.55666120e+03,  5.35685429e+02, -1.50138377e-01],\n",
       "       [-1.21677569e+03, -4.10902139e+02, -6.59301719e-01],\n",
       "       [ 4.58371993e+02, -1.68332043e+03,  7.50071265e-01],\n",
       "       [ 3.16129054e+02,  1.30787231e+03, -2.91542799e-03],\n",
       "       [-7.76131023e+02, -5.39685787e+02, -6.74961350e-01],\n",
       "       [-2.17949589e+03, -2.03000176e+03, -5.68039313e-01],\n",
       "       [-1.49329195e+02, -1.13059186e+03,  1.01068302e+00],\n",
       "       [ 3.67480702e+03,  6.63896261e+02, -1.66946346e-01],\n",
       "       [-1.59989311e+03, -2.25578966e+03, -5.93695458e-01],\n",
       "       [ 1.89269724e+02, -1.80710671e+03,  7.49433436e-01],\n",
       "       [ 2.90642821e+03, -4.80443263e+02, -4.02013396e-01],\n",
       "       [-1.22618189e+03,  1.83835630e+03,  6.53925666e-02]])"
      ]
     },
     "execution_count": 13,
     "metadata": {},
     "output_type": "execute_result"
    }
   ],
   "source": [
    "df_pca_3"
   ]
  },
  {
   "cell_type": "markdown",
   "id": "b8653a5c",
   "metadata": {},
   "source": [
    "## 3. Selección de valor k óptimo utilizando Elbow y Silhouette"
   ]
  },
  {
   "cell_type": "markdown",
   "id": "bf7cdecc",
   "metadata": {},
   "source": [
    "### Usando df_pca_2"
   ]
  },
  {
   "cell_type": "code",
   "execution_count": 14,
   "id": "95eacebc",
   "metadata": {},
   "outputs": [
    {
     "data": {
      "text/plain": [
       "[<matplotlib.lines.Line2D at 0x17e985d1310>]"
      ]
     },
     "execution_count": 14,
     "metadata": {},
     "output_type": "execute_result"
    },
    {
     "data": {
      "image/png": "[encoded data removed]",
      "text/plain": [
       "<Figure size 432x288 with 1 Axes>"
      ]
     },
     "metadata": {
      "needs_background": "light"
     },
     "output_type": "display_data"
    }
   ],
   "source": [
    "# ELBOW\n",
    "\n",
    "K=range(2,20)\n",
    "wss = []\n",
    "\n",
    "for k in K:\n",
    "    kmeans=cluster.KMeans(\n",
    "               n_clusters=k,\n",
    "               init=\"k-means++\",\n",
    "               n_init=50,\n",
    "               max_iter=500,\n",
    "               random_state=42,)\n",
    "    kmeans=kmeans.fit(df_pca_2)\n",
    "    wss_iter = kmeans.inertia_\n",
    "    wss.append(wss_iter)\n",
    "    \n",
    "plt.xlabel('K')\n",
    "plt.ylabel('Within-Cluster-Sum of Squared Errors (WSS)')\n",
    "plt.plot(K,wss)"
   ]
  },
  {
   "cell_type": "code",
   "execution_count": 15,
   "id": "fca17d78",
   "metadata": {},
   "outputs": [
    {
     "name": "stdout",
     "output_type": "stream",
     "text": [
      "Silhouette score for k(clusters) = 2 is 0.3828919927318037\n",
      "Silhouette score for k(clusters) = 3 is 0.3946112392335897\n",
      "Silhouette score for k(clusters) = 4 is 0.41502241429586767\n",
      "Silhouette score for k(clusters) = 5 is 0.39890562226257587\n",
      "Silhouette score for k(clusters) = 6 is 0.3982510156845642\n",
      "Silhouette score for k(clusters) = 7 is 0.39380192323258695\n",
      "Silhouette score for k(clusters) = 8 is 0.3810069952805354\n",
      "Silhouette score for k(clusters) = 9 is 0.36645827712199414\n",
      "Silhouette score for k(clusters) = 10 is 0.36647452074323206\n",
      "Silhouette score for k(clusters) = 11 is 0.36735282543878867\n",
      "Silhouette score for k(clusters) = 12 is 0.37258447977285314\n",
      "Silhouette score for k(clusters) = 13 is 0.3712879385544244\n",
      "Silhouette score for k(clusters) = 14 is 0.3680497953853688\n",
      "Silhouette score for k(clusters) = 15 is 0.35087612898777415\n",
      "Silhouette score for k(clusters) = 16 is 0.35695653736584365\n",
      "Silhouette score for k(clusters) = 17 is 0.353100108173255\n",
      "Silhouette score for k(clusters) = 18 is 0.3610915434284734\n",
      "Silhouette score for k(clusters) = 19 is 0.34738142590538384\n"
     ]
    }
   ],
   "source": [
    "# SILHOUETTE\n",
    "K=range(2,20)\n",
    "for k in K:\n",
    "    labels=KMeans(\n",
    "               n_clusters=k,\n",
    "               init=\"k-means++\",\n",
    "               n_init=50,\n",
    "               max_iter=500,\n",
    "               random_state=200,).fit(df_pca_2).labels_\n",
    "    print (\"Silhouette score for k(clusters) = \"+str(k)+\" is \"+str(metrics.silhouette_score(df_pca_2,labels,metric=\"euclidean\",sample_size=1000,random_state=200)))"
   ]
  },
  {
   "cell_type": "markdown",
   "id": "22102090",
   "metadata": {},
   "source": [
    "### Usando df_pca_3"
   ]
  },
  {
   "cell_type": "code",
   "execution_count": 16,
   "id": "c0a225ac",
   "metadata": {},
   "outputs": [
    {
     "data": {
      "text/plain": [
       "[<matplotlib.lines.Line2D at 0x17e9e6390d0>]"
      ]
     },
     "execution_count": 16,
     "metadata": {},
     "output_type": "execute_result"
    },
    {
     "data": {
      "image/png": "[encoded data removed]",
      "text/plain": [
       "<Figure size 432x288 with 1 Axes>"
      ]
     },
     "metadata": {
      "needs_background": "light"
     },
     "output_type": "display_data"
    }
   ],
   "source": [
    "K=range(2,20)\n",
    "wss = []\n",
    "\n",
    "for k in K:\n",
    "    kmeans=cluster.KMeans(\n",
    "               n_clusters=k,\n",
    "               init=\"k-means++\",\n",
    "               n_init=50,\n",
    "               max_iter=500,\n",
    "               random_state=42,)\n",
    "    kmeans=kmeans.fit(df_pca_3)\n",
    "    wss_iter = kmeans.inertia_\n",
    "    wss.append(wss_iter)\n",
    "    \n",
    "plt.xlabel('K')\n",
    "plt.ylabel('Within-Cluster-Sum of Squared Errors (WSS)')\n",
    "plt.plot(K,wss)"
   ]
  },
  {
   "cell_type": "code",
   "execution_count": 17,
   "id": "277da7d1",
   "metadata": {},
   "outputs": [
    {
     "name": "stdout",
     "output_type": "stream",
     "text": [
      "Silhouette score for k(clusters) = 2 is 0.38289196983100704\n",
      "Silhouette score for k(clusters) = 3 is 0.3946112157204953\n",
      "Silhouette score for k(clusters) = 4 is 0.41502239185667755\n",
      "Silhouette score for k(clusters) = 5 is 0.3989055920799822\n",
      "Silhouette score for k(clusters) = 6 is 0.39825099408331627\n",
      "Silhouette score for k(clusters) = 7 is 0.39380187227985297\n",
      "Silhouette score for k(clusters) = 8 is 0.38100694084482234\n",
      "Silhouette score for k(clusters) = 9 is 0.366458235877665\n",
      "Silhouette score for k(clusters) = 10 is 0.3664745134980463\n",
      "Silhouette score for k(clusters) = 11 is 0.36735273816176384\n",
      "Silhouette score for k(clusters) = 12 is 0.3725843966592328\n",
      "Silhouette score for k(clusters) = 13 is 0.3712878468237963\n",
      "Silhouette score for k(clusters) = 14 is 0.3680497252200652\n",
      "Silhouette score for k(clusters) = 15 is 0.3508760257019224\n",
      "Silhouette score for k(clusters) = 16 is 0.35695647478049003\n",
      "Silhouette score for k(clusters) = 17 is 0.3531000681047677\n",
      "Silhouette score for k(clusters) = 18 is 0.3610914853979251\n",
      "Silhouette score for k(clusters) = 19 is 0.3473812814528688\n"
     ]
    }
   ],
   "source": [
    "# SILHOUETTE\n",
    "K=range(2,20)\n",
    "for k in K:\n",
    "    labels=KMeans(\n",
    "               n_clusters=k,\n",
    "               init=\"k-means++\",\n",
    "               n_init=50,\n",
    "               max_iter=500,\n",
    "               random_state=200,).fit(df_pca_3).labels_\n",
    "    print (\"Silhouette score for k(clusters) = \"+str(k)+\" is \"+str(metrics.silhouette_score(df_pca_3,labels,metric=\"euclidean\",sample_size=1000,random_state=200)))"
   ]
  },
  {
   "cell_type": "markdown",
   "id": "1aeb5861",
   "metadata": {},
   "source": [
    "### Usando df_pca_4"
   ]
  },
  {
   "cell_type": "code",
   "execution_count": 18,
   "id": "4799d00e",
   "metadata": {},
   "outputs": [
    {
     "data": {
      "text/plain": [
       "[<matplotlib.lines.Line2D at 0x17e9e6ae160>]"
      ]
     },
     "execution_count": 18,
     "metadata": {},
     "output_type": "execute_result"
    },
    {
     "data": {
      "image/png": "[encoded data removed]",
      "text/plain": [
       "<Figure size 432x288 with 1 Axes>"
      ]
     },
     "metadata": {
      "needs_background": "light"
     },
     "output_type": "display_data"
    }
   ],
   "source": [
    "K=range(2,20)\n",
    "wss = []\n",
    "\n",
    "for k in K:\n",
    "    kmeans=cluster.KMeans(\n",
    "               n_clusters=k,\n",
    "               init=\"k-means++\",\n",
    "               n_init=50,\n",
    "               max_iter=500,\n",
    "               random_state=42,)\n",
    "    kmeans=kmeans.fit(df_pca_4)\n",
    "    wss_iter = kmeans.inertia_\n",
    "    wss.append(wss_iter)\n",
    "    \n",
    "plt.xlabel('K')\n",
    "plt.ylabel('Within-Cluster-Sum of Squared Errors (WSS)')\n",
    "plt.plot(K,wss)"
   ]
  },
  {
   "cell_type": "code",
   "execution_count": 19,
   "id": "0f3bbb3e",
   "metadata": {},
   "outputs": [
    {
     "name": "stdout",
     "output_type": "stream",
     "text": [
      "Silhouette score for k(clusters) = 2 is 0.3828919619142104\n",
      "Silhouette score for k(clusters) = 3 is 0.3946111906577565\n",
      "Silhouette score for k(clusters) = 4 is 0.41502235881984256\n",
      "Silhouette score for k(clusters) = 5 is 0.39890555482076456\n",
      "Silhouette score for k(clusters) = 6 is 0.3982509517172425\n",
      "Silhouette score for k(clusters) = 7 is 0.39380182128571833\n",
      "Silhouette score for k(clusters) = 8 is 0.3810068988647026\n",
      "Silhouette score for k(clusters) = 9 is 0.36645817884623766\n",
      "Silhouette score for k(clusters) = 10 is 0.36647445522840555\n",
      "Silhouette score for k(clusters) = 11 is 0.36735268920642733\n",
      "Silhouette score for k(clusters) = 12 is 0.37258432675636094\n",
      "Silhouette score for k(clusters) = 13 is 0.37128777227767246\n",
      "Silhouette score for k(clusters) = 14 is 0.3680496627242903\n",
      "Silhouette score for k(clusters) = 15 is 0.35087596232800244\n",
      "Silhouette score for k(clusters) = 16 is 0.3569563994557062\n",
      "Silhouette score for k(clusters) = 17 is 0.3531000003168198\n",
      "Silhouette score for k(clusters) = 18 is 0.3610913772851568\n",
      "Silhouette score for k(clusters) = 19 is 0.3473811762904384\n"
     ]
    }
   ],
   "source": [
    "# SILHOUETTE\n",
    "K=range(2,20)\n",
    "for k in K:\n",
    "    labels=KMeans(\n",
    "               n_clusters=k,\n",
    "               init=\"k-means++\",\n",
    "               n_init=50,\n",
    "               max_iter=500,\n",
    "               random_state=200,).fit(df_pca_4).labels_\n",
    "    print (\"Silhouette score for k(clusters) = \"+str(k)+\" is \"+str(metrics.silhouette_score(df_pca_4,labels,metric=\"euclidean\",sample_size=1000,random_state=200)))"
   ]
  },
  {
   "cell_type": "markdown",
   "id": "61dff0da",
   "metadata": {},
   "source": [
    "### Usando df_pca_5"
   ]
  },
  {
   "cell_type": "code",
   "execution_count": 20,
   "id": "30375d28",
   "metadata": {},
   "outputs": [
    {
     "data": {
      "text/plain": [
       "[<matplotlib.lines.Line2D at 0x17e9e70eee0>]"
      ]
     },
     "execution_count": 20,
     "metadata": {},
     "output_type": "execute_result"
    },
    {
     "data": {
      "image/png": "[encoded data removed]",
      "text/plain": [
       "<Figure size 432x288 with 1 Axes>"
      ]
     },
     "metadata": {
      "needs_background": "light"
     },
     "output_type": "display_data"
    }
   ],
   "source": [
    "K=range(2,20)\n",
    "wss = []\n",
    "\n",
    "for k in K:\n",
    "    kmeans=cluster.KMeans(\n",
    "               n_clusters=k,\n",
    "               init=\"k-means++\",\n",
    "               n_init=50,\n",
    "               max_iter=500,\n",
    "               random_state=42,)\n",
    "    kmeans=kmeans.fit(df_pca_5)\n",
    "    wss_iter = kmeans.inertia_\n",
    "    wss.append(wss_iter)\n",
    "    \n",
    "plt.xlabel('K')\n",
    "plt.ylabel('Within-Cluster-Sum of Squared Errors (WSS)')\n",
    "plt.plot(K,wss)"
   ]
  },
  {
   "cell_type": "code",
   "execution_count": 21,
   "id": "f68b4ba5",
   "metadata": {},
   "outputs": [
    {
     "name": "stdout",
     "output_type": "stream",
     "text": [
      "Silhouette score for k(clusters) = 2 is 0.3828919517546103\n",
      "Silhouette score for k(clusters) = 3 is 0.3946111761329105\n",
      "Silhouette score for k(clusters) = 4 is 0.41502234022168716\n",
      "Silhouette score for k(clusters) = 5 is 0.3989055291512853\n",
      "Silhouette score for k(clusters) = 6 is 0.39825092723447425\n",
      "Silhouette score for k(clusters) = 7 is 0.3938017920384144\n",
      "Silhouette score for k(clusters) = 8 is 0.3810068676613226\n",
      "Silhouette score for k(clusters) = 9 is 0.366458148644835\n",
      "Silhouette score for k(clusters) = 10 is 0.3664744273827746\n",
      "Silhouette score for k(clusters) = 11 is 0.36735264505622556\n",
      "Silhouette score for k(clusters) = 12 is 0.37258428589820236\n",
      "Silhouette score for k(clusters) = 13 is 0.37128773057237513\n",
      "Silhouette score for k(clusters) = 14 is 0.3680496154862799\n",
      "Silhouette score for k(clusters) = 15 is 0.3508759043278222\n",
      "Silhouette score for k(clusters) = 16 is 0.3569563409479515\n",
      "Silhouette score for k(clusters) = 17 is 0.3530999581835992\n",
      "Silhouette score for k(clusters) = 18 is 0.36109132856833037\n",
      "Silhouette score for k(clusters) = 19 is 0.34738110020843393\n"
     ]
    }
   ],
   "source": [
    "# SILHOUETTE\n",
    "K=range(2,20)\n",
    "for k in K:\n",
    "    labels=KMeans(\n",
    "               n_clusters=k,\n",
    "               init=\"k-means++\",\n",
    "               n_init=50,\n",
    "               max_iter=500,\n",
    "               random_state=200,).fit(df_pca_5).labels_\n",
    "    print (\"Silhouette score for k(clusters) = \"+str(k)+\" is \"+str(metrics.silhouette_score(df_pca_5,labels,metric=\"euclidean\",sample_size=1000,random_state=200)))"
   ]
  },
  {
   "cell_type": "markdown",
   "id": "c9cdf9d1",
   "metadata": {},
   "source": [
    "#### CONCLUSIÓN: se determina que para todos los casos analizados, el mejor valor para la cantidad de cluster a trabajar es k=7"
   ]
  },
  {
   "cell_type": "markdown",
   "id": "453603e6",
   "metadata": {},
   "source": [
    "## 4. Clusterización final en base a k=7\n",
    "\n",
    "La clusterización se ejecuta para cada DataFrame según PCA siempre considerando k=5. \n",
    "La ejecución del algoritmo final considera:\n",
    "\n",
    "    - Estandarización: MinMaxScaler()\n",
    "    - Clusterización: KMeans según parámetros observados en siguiente celda"
   ]
  },
  {
   "cell_type": "markdown",
   "id": "a6dd1e77",
   "metadata": {},
   "source": [
    "#### Preparación de algoritmo"
   ]
  },
  {
   "cell_type": "code",
   "execution_count": 22,
   "id": "841ca902",
   "metadata": {},
   "outputs": [
    {
     "data": {
      "text/plain": [
       "Pipeline(steps=[('minmaxscaler', MinMaxScaler()),\n",
       "                ('kmeans',\n",
       "                 KMeans(max_iter=500, n_clusters=7, n_init=50,\n",
       "                        random_state=200))])"
      ]
     },
     "execution_count": 22,
     "metadata": {},
     "output_type": "execute_result"
    }
   ],
   "source": [
    "n_cluster = 7\n",
    "\n",
    "scaler = MinMaxScaler()\n",
    "kmeans = KMeans(\n",
    "               n_clusters=n_cluster,\n",
    "               init=\"k-means++\",\n",
    "               n_init=50,\n",
    "               max_iter=500,\n",
    "               random_state=200,)\n",
    "\n",
    "pipeline = make_pipeline(scaler, kmeans)\n",
    "pipeline"
   ]
  },
  {
   "cell_type": "markdown",
   "id": "8ffcfc00",
   "metadata": {},
   "source": [
    "#### Predicción de cluster final"
   ]
  },
  {
   "cell_type": "code",
   "execution_count": 23,
   "id": "f0bc1a2c",
   "metadata": {},
   "outputs": [],
   "source": [
    "df_pred_pca2_t = pipeline.fit_transform(df_pca_2)\n",
    "df_pred_pca2 = pipeline.fit_predict(df_pca_2)\n",
    "df_pred_pca3 = pipeline.fit_predict(df_pca_3)\n",
    "df_pred_pca4 = pipeline.fit_predict(df_pca_4)\n",
    "df_pred_pca5 = pipeline.fit_predict(df_pca_5)\n"
   ]
  },
  {
   "cell_type": "code",
   "execution_count": 24,
   "id": "cc958c7e",
   "metadata": {},
   "outputs": [
    {
     "data": {
      "text/plain": [
       "array([[0.50915179, 0.16216855, 0.5277814 , ..., 0.3661738 , 0.10361798,\n",
       "        0.1969592 ],\n",
       "       [0.50197926, 0.15953522, 0.52377456, ..., 0.3586488 , 0.11121552,\n",
       "        0.19296131],\n",
       "       [0.58479738, 0.14303639, 0.50832273, ..., 0.41351473, 0.09374736,\n",
       "        0.28094665],\n",
       "       ...,\n",
       "       [0.19901684, 0.46145655, 0.48690326, ..., 0.1532096 , 0.6031598 ,\n",
       "        0.43469857],\n",
       "       [0.63793482, 0.38639285, 0.04330205, ..., 0.36430096, 0.61885929,\n",
       "        0.63989506],\n",
       "       [0.7745148 , 0.36567943, 0.7099947 , ..., 0.63852935, 0.17514726,\n",
       "        0.41805502]])"
      ]
     },
     "execution_count": 24,
     "metadata": {},
     "output_type": "execute_result"
    }
   ],
   "source": [
    "df_pred_pca2_t"
   ]
  },
  {
   "cell_type": "code",
   "execution_count": 25,
   "id": "c73aa4c1",
   "metadata": {},
   "outputs": [
    {
     "data": {
      "text/plain": [
       "array([5, 5, 5, 1, 1, 1, 1, 1, 1, 5, 1, 1, 3, 1, 5, 1, 1, 1, 5, 5, 5, 5,\n",
       "       5, 5, 1, 6, 5, 5, 5, 5, 5, 5, 5, 5, 6, 6, 5, 5, 5, 5, 6, 6, 6, 6,\n",
       "       6, 6, 1, 1, 1, 1, 4, 0, 0, 6, 0, 0, 0, 0, 0, 6, 6, 4, 4, 4, 4, 4,\n",
       "       4, 4, 4, 4, 4, 4, 4, 4, 4, 4, 4, 3, 3, 3, 3, 3, 3, 3, 3, 6, 6, 6,\n",
       "       3, 3, 5, 6, 6, 2, 2, 2, 2, 1, 2, 2, 3, 1, 1, 1, 4, 3, 1, 4, 4, 5,\n",
       "       1, 1, 5, 6, 1, 5, 5, 4, 6, 0, 0, 0, 0, 4, 3, 3, 6, 1, 5, 2, 2, 2,\n",
       "       2, 2, 2, 2, 2, 2, 4, 4, 5, 5, 5, 6, 4, 4, 2, 2, 1, 4, 4, 4, 2, 2,\n",
       "       0, 6, 0, 2, 3, 0, 2, 6, 4, 3, 6, 0, 4, 2, 0, 4, 2, 5])"
      ]
     },
     "execution_count": 25,
     "metadata": {},
     "output_type": "execute_result"
    }
   ],
   "source": [
    "df_pred_pca2"
   ]
  },
  {
   "cell_type": "code",
   "execution_count": 26,
   "id": "068e3260",
   "metadata": {},
   "outputs": [
    {
     "data": {
      "text/plain": [
       "array([1, 1, 1, 4, 4, 4, 4, 4, 4, 1, 4, 4, 6, 4, 1, 4, 4, 4, 1, 1, 1, 1,\n",
       "       1, 1, 4, 5, 1, 1, 1, 1, 1, 1, 1, 1, 5, 5, 1, 1, 1, 1, 5, 5, 5, 5,\n",
       "       5, 5, 4, 4, 4, 4, 3, 3, 3, 5, 3, 3, 3, 3, 3, 5, 3, 3, 2, 2, 2, 2,\n",
       "       2, 2, 2, 2, 2, 2, 2, 2, 2, 2, 2, 6, 6, 6, 6, 6, 6, 6, 6, 5, 5, 5,\n",
       "       6, 6, 1, 5, 5, 0, 0, 0, 0, 0, 0, 0, 6, 0, 4, 4, 2, 6, 4, 2, 2, 1,\n",
       "       4, 4, 1, 5, 4, 1, 1, 3, 3, 3, 3, 3, 3, 2, 6, 6, 5, 4, 1, 0, 0, 0,\n",
       "       0, 0, 0, 0, 0, 0, 0, 2, 1, 1, 1, 4, 2, 2, 0, 0, 0, 0, 2, 2, 0, 0,\n",
       "       3, 5, 2, 0, 6, 3, 0, 3, 2, 6, 3, 3, 2, 0, 3, 2, 0, 1])"
      ]
     },
     "execution_count": 26,
     "metadata": {},
     "output_type": "execute_result"
    }
   ],
   "source": [
    "df_pred_pca3"
   ]
  },
  {
   "cell_type": "code",
   "execution_count": 27,
   "id": "c2332017",
   "metadata": {},
   "outputs": [
    {
     "data": {
      "text/plain": [
       "array([2, 2, 5, 4, 5, 5, 2, 2, 4, 5, 5, 5, 5, 5, 5, 5, 2, 2, 5, 5, 5, 5,\n",
       "       5, 5, 2, 2, 5, 2, 2, 5, 5, 5, 5, 2, 2, 2, 2, 2, 5, 2, 2, 2, 2, 2,\n",
       "       2, 2, 5, 5, 2, 5, 0, 0, 0, 2, 0, 0, 0, 0, 0, 2, 0, 0, 3, 3, 3, 3,\n",
       "       3, 3, 3, 3, 3, 3, 3, 3, 3, 3, 3, 5, 4, 5, 5, 5, 5, 5, 5, 2, 2, 2,\n",
       "       4, 5, 2, 2, 2, 1, 6, 6, 4, 4, 4, 6, 4, 4, 4, 4, 3, 4, 4, 3, 3, 5,\n",
       "       2, 2, 5, 2, 2, 5, 2, 0, 0, 0, 0, 0, 0, 3, 4, 5, 2, 4, 2, 6, 1, 1,\n",
       "       1, 6, 4, 6, 4, 6, 4, 3, 5, 5, 5, 2, 3, 3, 6, 1, 4, 6, 3, 3, 6, 6,\n",
       "       0, 2, 3, 6, 5, 0, 1, 0, 3, 5, 0, 0, 3, 1, 0, 3, 6, 5])"
      ]
     },
     "execution_count": 27,
     "metadata": {},
     "output_type": "execute_result"
    }
   ],
   "source": [
    "df_pred_pca4"
   ]
  },
  {
   "cell_type": "code",
   "execution_count": 28,
   "id": "da1ecb7e",
   "metadata": {},
   "outputs": [
    {
     "data": {
      "text/plain": [
       "array([3, 3, 3, 2, 3, 3, 3, 3, 2, 3, 3, 3, 4, 3, 3, 3, 3, 3, 3, 3, 3, 3,\n",
       "       3, 3, 3, 3, 3, 3, 3, 3, 3, 3, 3, 3, 3, 3, 3, 3, 3, 6, 6, 3, 3, 3,\n",
       "       3, 3, 3, 3, 3, 3, 0, 0, 0, 3, 0, 0, 0, 0, 0, 6, 0, 0, 1, 1, 1, 1,\n",
       "       1, 1, 1, 1, 1, 1, 1, 1, 1, 1, 1, 4, 2, 4, 4, 4, 4, 4, 4, 6, 6, 6,\n",
       "       2, 4, 6, 6, 6, 4, 5, 5, 2, 2, 2, 5, 2, 2, 2, 2, 1, 2, 2, 1, 1, 3,\n",
       "       3, 3, 3, 3, 3, 3, 3, 0, 0, 0, 0, 0, 0, 1, 2, 4, 6, 2, 6, 5, 4, 4,\n",
       "       4, 5, 2, 5, 2, 5, 2, 1, 3, 3, 3, 3, 1, 1, 5, 4, 2, 5, 1, 1, 5, 5,\n",
       "       0, 6, 1, 5, 3, 0, 4, 0, 1, 3, 0, 0, 1, 4, 0, 1, 5, 3])"
      ]
     },
     "execution_count": 28,
     "metadata": {},
     "output_type": "execute_result"
    }
   ],
   "source": [
    "df_pred_pca5"
   ]
  },
  {
   "cell_type": "markdown",
   "id": "fe91c92c",
   "metadata": {},
   "source": [
    "#### En base a lo observado y a las decisiones tomadas en este proyecto, el dataframe final a utilizar corresponde a PCA=3\n",
    "\n",
    "El identificador de cluster para cada una de las estaciones se concatena con los valores originales y se exporta al CSV definitivo"
   ]
  },
  {
   "cell_type": "code",
   "execution_count": 29,
   "id": "10e15360",
   "metadata": {},
   "outputs": [
    {
     "name": "stdout",
     "output_type": "stream",
     "text": [
      "<class 'pandas.core.frame.DataFrame'>\n",
      "RangeIndex: 172 entries, 0 to 171\n",
      "Data columns (total 48 columns):\n",
      " #   Column               Non-Null Count  Dtype   \n",
      "---  ------               --------------  -----   \n",
      " 0   ESTACION             172 non-null    int64   \n",
      " 1   DEMANDA_RATIO        172 non-null    float64 \n",
      " 2   DMNDA_201703         172 non-null    float64 \n",
      " 3   DMNDA_201704         172 non-null    float64 \n",
      " 4   DMNDA_201705         172 non-null    int64   \n",
      " 5   DMNDA_201706         172 non-null    int64   \n",
      " 6   DMNDA_201707         172 non-null    int64   \n",
      " 7   DMNDA_201708         172 non-null    int64   \n",
      " 8   DMNDA_201709         172 non-null    int64   \n",
      " 9   DMNDA_201710         172 non-null    int64   \n",
      " 10  DMNDA_201711         172 non-null    int64   \n",
      " 11  DMNDA_201712         172 non-null    float64 \n",
      " 12  DMNDA_201801         172 non-null    float64 \n",
      " 13  DMNDA_201802         172 non-null    int64   \n",
      " 14  DMNDA_201803         172 non-null    int64   \n",
      " 15  DMNDA_201804         172 non-null    int64   \n",
      " 16  DMNDA_201805         172 non-null    float64 \n",
      " 17  DMNDA_201806         172 non-null    float64 \n",
      " 18  DMNDA_201807         172 non-null    float64 \n",
      " 19  DMNDA_201808         172 non-null    float64 \n",
      " 20  DMNDA_201809         172 non-null    float64 \n",
      " 21  DMNDA_201810         172 non-null    float64 \n",
      " 22  DMNDA_201811         172 non-null    float64 \n",
      " 23  DMNDA_201812         172 non-null    float64 \n",
      " 24  DMNDA_201901         172 non-null    float64 \n",
      " 25  DMNDA_201902         172 non-null    float64 \n",
      " 26  DMNDA_201903         172 non-null    float64 \n",
      " 27  DMNDA_201904         172 non-null    float64 \n",
      " 28  DMNDA_201905         172 non-null    float64 \n",
      " 29  DMNDA_201906         172 non-null    float64 \n",
      " 30  DMNDA_201907         172 non-null    float64 \n",
      " 31  DMNDA_201908         172 non-null    float64 \n",
      " 32  DMNDA_201909         172 non-null    float64 \n",
      " 33  DMNDA_201910         172 non-null    float64 \n",
      " 34  DMNDA_201911         172 non-null    float64 \n",
      " 35  DMNDA_201912         172 non-null    float64 \n",
      " 36  Gis_X                172 non-null    float64 \n",
      " 37  Gis_Y                172 non-null    float64 \n",
      " 38  Distrito             172 non-null    category\n",
      " 39  Barrio               172 non-null    category\n",
      " 40  Plazas               172 non-null    category\n",
      " 41  Longitud             172 non-null    float64 \n",
      " 42  Latitud              172 non-null    float64 \n",
      " 43  Tasa_Paro            172 non-null    float64 \n",
      " 44  Renta_Media_Persona  172 non-null    float64 \n",
      " 45  Renta_Media_Hogar    172 non-null    float64 \n",
      " 46  Poblacion            172 non-null    float64 \n",
      " 47  CLUSTER              172 non-null    int32   \n",
      "dtypes: category(3), float64(33), int32(1), int64(11)\n",
      "memory usage: 62.5 KB\n"
     ]
    }
   ],
   "source": [
    "df_final_Clusterizado = pd.concat([df_FinalCluster_Original, pd.DataFrame(df_pred_pca3)], axis=1)\n",
    "\n",
    "df_final_Clusterizado.rename(columns={0: 'CLUSTER'}, inplace=True)\n",
    "df_final_Clusterizado.info()"
   ]
  },
  {
   "cell_type": "code",
   "execution_count": 30,
   "id": "092affef",
   "metadata": {},
   "outputs": [],
   "source": [
    "df_final_Clusterizado[['ESTACION', 'CLUSTER']].to_csv('../../data/Clusterizada_soloGeografico_7Cluster.csv', index=False)"
   ]
  },
  {
   "cell_type": "code",
   "execution_count": 31,
   "id": "c63329bc",
   "metadata": {},
   "outputs": [
    {
     "data": {
      "text/html": [
       "<div>\n",
       "<style scoped>\n",
       "    .dataframe tbody tr th:only-of-type {\n",
       "        vertical-align: middle;\n",
       "    }\n",
       "\n",
       "    .dataframe tbody tr th {\n",
       "        vertical-align: top;\n",
       "    }\n",
       "\n",
       "    .dataframe thead th {\n",
       "        text-align: right;\n",
       "    }\n",
       "</style>\n",
       "<table border=\"1\" class=\"dataframe\">\n",
       "  <thead>\n",
       "    <tr style=\"text-align: right;\">\n",
       "      <th></th>\n",
       "      <th>ESTACION</th>\n",
       "      <th>DEMANDA_RATIO</th>\n",
       "      <th>DMNDA_201703</th>\n",
       "      <th>DMNDA_201704</th>\n",
       "      <th>DMNDA_201705</th>\n",
       "      <th>DMNDA_201706</th>\n",
       "      <th>DMNDA_201707</th>\n",
       "      <th>DMNDA_201708</th>\n",
       "      <th>DMNDA_201709</th>\n",
       "      <th>DMNDA_201710</th>\n",
       "      <th>...</th>\n",
       "      <th>Distrito</th>\n",
       "      <th>Barrio</th>\n",
       "      <th>Plazas</th>\n",
       "      <th>Longitud</th>\n",
       "      <th>Latitud</th>\n",
       "      <th>Tasa_Paro</th>\n",
       "      <th>Renta_Media_Persona</th>\n",
       "      <th>Renta_Media_Hogar</th>\n",
       "      <th>Poblacion</th>\n",
       "      <th>CLUSTER</th>\n",
       "    </tr>\n",
       "  </thead>\n",
       "  <tbody>\n",
       "    <tr>\n",
       "      <th>0</th>\n",
       "      <td>1</td>\n",
       "      <td>2505.333333</td>\n",
       "      <td>7.0</td>\n",
       "      <td>2212.0</td>\n",
       "      <td>2942</td>\n",
       "      <td>2946</td>\n",
       "      <td>3229</td>\n",
       "      <td>2929</td>\n",
       "      <td>3685</td>\n",
       "      <td>3606</td>\n",
       "      <td>...</td>\n",
       "      <td>1</td>\n",
       "      <td>01-06</td>\n",
       "      <td>30</td>\n",
       "      <td>-3.701998</td>\n",
       "      <td>40.417111</td>\n",
       "      <td>4.309681</td>\n",
       "      <td>17550.00279</td>\n",
       "      <td>35056.88536</td>\n",
       "      <td>7665.0</td>\n",
       "      <td>1</td>\n",
       "    </tr>\n",
       "    <tr>\n",
       "      <th>1</th>\n",
       "      <td>2</td>\n",
       "      <td>1313.468750</td>\n",
       "      <td>3.0</td>\n",
       "      <td>1174.0</td>\n",
       "      <td>1579</td>\n",
       "      <td>1536</td>\n",
       "      <td>1597</td>\n",
       "      <td>1491</td>\n",
       "      <td>1924</td>\n",
       "      <td>2033</td>\n",
       "      <td>...</td>\n",
       "      <td>1</td>\n",
       "      <td>01-06</td>\n",
       "      <td>30</td>\n",
       "      <td>-3.701564</td>\n",
       "      <td>40.417213</td>\n",
       "      <td>4.309681</td>\n",
       "      <td>17550.00279</td>\n",
       "      <td>35056.88536</td>\n",
       "      <td>7665.0</td>\n",
       "      <td>1</td>\n",
       "    </tr>\n",
       "    <tr>\n",
       "      <th>...</th>\n",
       "      <td>...</td>\n",
       "      <td>...</td>\n",
       "      <td>...</td>\n",
       "      <td>...</td>\n",
       "      <td>...</td>\n",
       "      <td>...</td>\n",
       "      <td>...</td>\n",
       "      <td>...</td>\n",
       "      <td>...</td>\n",
       "      <td>...</td>\n",
       "      <td>...</td>\n",
       "      <td>...</td>\n",
       "      <td>...</td>\n",
       "      <td>...</td>\n",
       "      <td>...</td>\n",
       "      <td>...</td>\n",
       "      <td>...</td>\n",
       "      <td>...</td>\n",
       "      <td>...</td>\n",
       "      <td>...</td>\n",
       "      <td>...</td>\n",
       "    </tr>\n",
       "    <tr>\n",
       "      <th>170</th>\n",
       "      <td>146</td>\n",
       "      <td>824.400000</td>\n",
       "      <td>0.0</td>\n",
       "      <td>845.0</td>\n",
       "      <td>1046</td>\n",
       "      <td>1162</td>\n",
       "      <td>856</td>\n",
       "      <td>647</td>\n",
       "      <td>1190</td>\n",
       "      <td>1230</td>\n",
       "      <td>...</td>\n",
       "      <td>5</td>\n",
       "      <td>05-01</td>\n",
       "      <td>24</td>\n",
       "      <td>-3.687851</td>\n",
       "      <td>40.449845</td>\n",
       "      <td>2.196709</td>\n",
       "      <td>29874.34699</td>\n",
       "      <td>80370.38179</td>\n",
       "      <td>17486.0</td>\n",
       "      <td>0</td>\n",
       "    </tr>\n",
       "    <tr>\n",
       "      <th>171</th>\n",
       "      <td>175</td>\n",
       "      <td>3708.705882</td>\n",
       "      <td>0.0</td>\n",
       "      <td>0.0</td>\n",
       "      <td>924</td>\n",
       "      <td>3272</td>\n",
       "      <td>2328</td>\n",
       "      <td>2791</td>\n",
       "      <td>3878</td>\n",
       "      <td>3973</td>\n",
       "      <td>...</td>\n",
       "      <td>2</td>\n",
       "      <td>02-01</td>\n",
       "      <td>24</td>\n",
       "      <td>-3.717646</td>\n",
       "      <td>40.413733</td>\n",
       "      <td>4.942606</td>\n",
       "      <td>19840.67660</td>\n",
       "      <td>46879.39677</td>\n",
       "      <td>22982.0</td>\n",
       "      <td>1</td>\n",
       "    </tr>\n",
       "  </tbody>\n",
       "</table>\n",
       "<p>172 rows × 48 columns</p>\n",
       "</div>"
      ],
      "text/plain": [
       "     ESTACION  DEMANDA_RATIO  DMNDA_201703  DMNDA_201704  DMNDA_201705  \\\n",
       "0           1    2505.333333           7.0        2212.0          2942   \n",
       "1           2    1313.468750           3.0        1174.0          1579   \n",
       "..        ...            ...           ...           ...           ...   \n",
       "170       146     824.400000           0.0         845.0          1046   \n",
       "171       175    3708.705882           0.0           0.0           924   \n",
       "\n",
       "     DMNDA_201706  DMNDA_201707  DMNDA_201708  DMNDA_201709  DMNDA_201710  \\\n",
       "0            2946          3229          2929          3685          3606   \n",
       "1            1536          1597          1491          1924          2033   \n",
       "..            ...           ...           ...           ...           ...   \n",
       "170          1162           856           647          1190          1230   \n",
       "171          3272          2328          2791          3878          3973   \n",
       "\n",
       "     ...  Distrito  Barrio  Plazas  Longitud    Latitud  Tasa_Paro  \\\n",
       "0    ...         1   01-06      30 -3.701998  40.417111   4.309681   \n",
       "1    ...         1   01-06      30 -3.701564  40.417213   4.309681   \n",
       "..   ...       ...     ...     ...       ...        ...        ...   \n",
       "170  ...         5   05-01      24 -3.687851  40.449845   2.196709   \n",
       "171  ...         2   02-01      24 -3.717646  40.413733   4.942606   \n",
       "\n",
       "     Renta_Media_Persona  Renta_Media_Hogar  Poblacion  CLUSTER  \n",
       "0            17550.00279        35056.88536     7665.0        1  \n",
       "1            17550.00279        35056.88536     7665.0        1  \n",
       "..                   ...                ...        ...      ...  \n",
       "170          29874.34699        80370.38179    17486.0        0  \n",
       "171          19840.67660        46879.39677    22982.0        1  \n",
       "\n",
       "[172 rows x 48 columns]"
      ]
     },
     "execution_count": 31,
     "metadata": {},
     "output_type": "execute_result"
    }
   ],
   "source": [
    "df_final_Clusterizado"
   ]
  },
  {
   "cell_type": "code",
   "execution_count": null,
   "id": "dc782aec",
   "metadata": {},
   "outputs": [],
   "source": []
  }
 ],
 "metadata": {
  "kernelspec": {
   "display_name": "Python 3 (ipykernel)",
   "language": "python",
   "name": "python3"
  },
  "language_info": {
   "codemirror_mode": {
    "name": "ipython",
    "version": 3
   },
   "file_extension": ".py",
   "mimetype": "text/x-python",
   "name": "python",
   "nbconvert_exporter": "python",
   "pygments_lexer": "ipython3",
   "version": "3.8.12"
  },
  "toc": {
   "base_numbering": 1,
   "nav_menu": {},
   "number_sections": true,
   "sideBar": true,
   "skip_h1_title": false,
   "title_cell": "Table of Contents",
   "title_sidebar": "Contents",
   "toc_cell": false,
   "toc_position": {},
   "toc_section_display": true,
   "toc_window_display": false
  }
 },
 "nbformat": 4,
 "nbformat_minor": 5
}
