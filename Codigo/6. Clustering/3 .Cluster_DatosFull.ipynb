{
 "cells": [
  {
   "cell_type": "markdown",
   "id": "35c34af3",
   "metadata": {},
   "source": [
    "## 3. Cluster_DatosFull\n",
    "\n",
    "### Objetivo\n",
    "\n",
    "Generar cluster's de estaciones en base a todas las variables: demanda, geográficas y demográficas\n",
    "\n",
    "### Descripción General de notebook\n",
    "\n",
    "    1. Carga de datos base proveniente de etapa de preparación\n",
    "    2. Reducción de dimensionalidad PCA\n",
    "    3. Selección de valor k óptimo utilizando Elbow y Silhouette\n",
    "    4. Clusterización final en base a k"
   ]
  },
  {
   "cell_type": "markdown",
   "id": "9f984b7b",
   "metadata": {},
   "source": [
    "## 1. Carga de datos de entrada"
   ]
  },
  {
   "cell_type": "code",
   "execution_count": 5,
   "id": "ad9034cd",
   "metadata": {},
   "outputs": [],
   "source": [
    "import pandas as pd\n",
    "from sklearn.cluster import KMeans\n",
    "import sklearn.cluster as cluster\n",
    "from sklearn import preprocessing\n",
    "from sklearn.pipeline import make_pipeline\n",
    "import sklearn.cluster as cluster\n",
    "import sklearn.metrics as metrics\n",
    "from sklearn.preprocessing import OneHotEncoder\n",
    "import pandas as pd\n",
    "from sklearn.preprocessing import MinMaxScaler\n",
    "import seaborn as sns\n",
    "from matplotlib import pyplot as plt\n",
    "from sklearn.decomposition import PCA\n",
    "import numpy as np\n",
    "\n",
    "%matplotlib inline\n",
    "\n",
    "pd.set_option('display.max_rows', 5)"
   ]
  },
  {
   "cell_type": "code",
   "execution_count": 6,
   "id": "fb3ca70d",
   "metadata": {},
   "outputs": [
    {
     "name": "stdout",
     "output_type": "stream",
     "text": [
      "<class 'pandas.core.frame.DataFrame'>\n",
      "RangeIndex: 172 entries, 0 to 171\n",
      "Data columns (total 47 columns):\n",
      " #   Column               Non-Null Count  Dtype   \n",
      "---  ------               --------------  -----   \n",
      " 0   ESTACION             172 non-null    int64   \n",
      " 1   DEMANDA_RATIO        172 non-null    float64 \n",
      " 2   DMNDA_201703         172 non-null    float64 \n",
      " 3   DMNDA_201704         172 non-null    float64 \n",
      " 4   DMNDA_201705         172 non-null    int64   \n",
      " 5   DMNDA_201706         172 non-null    int64   \n",
      " 6   DMNDA_201707         172 non-null    int64   \n",
      " 7   DMNDA_201708         172 non-null    int64   \n",
      " 8   DMNDA_201709         172 non-null    int64   \n",
      " 9   DMNDA_201710         172 non-null    int64   \n",
      " 10  DMNDA_201711         172 non-null    int64   \n",
      " 11  DMNDA_201712         172 non-null    float64 \n",
      " 12  DMNDA_201801         172 non-null    float64 \n",
      " 13  DMNDA_201802         172 non-null    int64   \n",
      " 14  DMNDA_201803         172 non-null    int64   \n",
      " 15  DMNDA_201804         172 non-null    int64   \n",
      " 16  DMNDA_201805         172 non-null    float64 \n",
      " 17  DMNDA_201806         172 non-null    float64 \n",
      " 18  DMNDA_201807         172 non-null    float64 \n",
      " 19  DMNDA_201808         172 non-null    float64 \n",
      " 20  DMNDA_201809         172 non-null    float64 \n",
      " 21  DMNDA_201810         172 non-null    float64 \n",
      " 22  DMNDA_201811         172 non-null    float64 \n",
      " 23  DMNDA_201812         172 non-null    float64 \n",
      " 24  DMNDA_201901         172 non-null    float64 \n",
      " 25  DMNDA_201902         172 non-null    float64 \n",
      " 26  DMNDA_201903         172 non-null    float64 \n",
      " 27  DMNDA_201904         172 non-null    float64 \n",
      " 28  DMNDA_201905         172 non-null    float64 \n",
      " 29  DMNDA_201906         172 non-null    float64 \n",
      " 30  DMNDA_201907         172 non-null    float64 \n",
      " 31  DMNDA_201908         172 non-null    float64 \n",
      " 32  DMNDA_201909         172 non-null    float64 \n",
      " 33  DMNDA_201910         172 non-null    float64 \n",
      " 34  DMNDA_201911         172 non-null    float64 \n",
      " 35  DMNDA_201912         172 non-null    float64 \n",
      " 36  Gis_X                172 non-null    float64 \n",
      " 37  Gis_Y                172 non-null    float64 \n",
      " 38  Distrito             172 non-null    category\n",
      " 39  Barrio               172 non-null    category\n",
      " 40  Plazas               172 non-null    category\n",
      " 41  Longitud             172 non-null    float64 \n",
      " 42  Latitud              172 non-null    float64 \n",
      " 43  Tasa_Paro            172 non-null    float64 \n",
      " 44  Renta_Media_Persona  172 non-null    float64 \n",
      " 45  Renta_Media_Hogar    172 non-null    float64 \n",
      " 46  Poblacion            172 non-null    float64 \n",
      "dtypes: category(3), float64(33), int64(11)\n",
      "memory usage: 61.8 KB\n"
     ]
    }
   ],
   "source": [
    "df_FinalCluster_Original = pd.read_csv('../../data/df_FinalCluster_2017_2019.csv',\n",
    "                              dtype={'Distrito':'category','Plazas':'category','Barrio':'category'})\n",
    "\n",
    "df_FinalCluster_Original.info()\n"
   ]
  },
  {
   "cell_type": "code",
   "execution_count": 7,
   "id": "1078b57d",
   "metadata": {},
   "outputs": [
    {
     "name": "stdout",
     "output_type": "stream",
     "text": [
      "<class 'pandas.core.frame.DataFrame'>\n",
      "RangeIndex: 172 entries, 0 to 171\n",
      "Data columns (total 46 columns):\n",
      " #   Column               Non-Null Count  Dtype   \n",
      "---  ------               --------------  -----   \n",
      " 0   DEMANDA_RATIO        172 non-null    float64 \n",
      " 1   DMNDA_201703         172 non-null    float64 \n",
      " 2   DMNDA_201704         172 non-null    float64 \n",
      " 3   DMNDA_201705         172 non-null    int64   \n",
      " 4   DMNDA_201706         172 non-null    int64   \n",
      " 5   DMNDA_201707         172 non-null    int64   \n",
      " 6   DMNDA_201708         172 non-null    int64   \n",
      " 7   DMNDA_201709         172 non-null    int64   \n",
      " 8   DMNDA_201710         172 non-null    int64   \n",
      " 9   DMNDA_201711         172 non-null    int64   \n",
      " 10  DMNDA_201712         172 non-null    float64 \n",
      " 11  DMNDA_201801         172 non-null    float64 \n",
      " 12  DMNDA_201802         172 non-null    int64   \n",
      " 13  DMNDA_201803         172 non-null    int64   \n",
      " 14  DMNDA_201804         172 non-null    int64   \n",
      " 15  DMNDA_201805         172 non-null    float64 \n",
      " 16  DMNDA_201806         172 non-null    float64 \n",
      " 17  DMNDA_201807         172 non-null    float64 \n",
      " 18  DMNDA_201808         172 non-null    float64 \n",
      " 19  DMNDA_201809         172 non-null    float64 \n",
      " 20  DMNDA_201810         172 non-null    float64 \n",
      " 21  DMNDA_201811         172 non-null    float64 \n",
      " 22  DMNDA_201812         172 non-null    float64 \n",
      " 23  DMNDA_201901         172 non-null    float64 \n",
      " 24  DMNDA_201902         172 non-null    float64 \n",
      " 25  DMNDA_201903         172 non-null    float64 \n",
      " 26  DMNDA_201904         172 non-null    float64 \n",
      " 27  DMNDA_201905         172 non-null    float64 \n",
      " 28  DMNDA_201906         172 non-null    float64 \n",
      " 29  DMNDA_201907         172 non-null    float64 \n",
      " 30  DMNDA_201908         172 non-null    float64 \n",
      " 31  DMNDA_201909         172 non-null    float64 \n",
      " 32  DMNDA_201910         172 non-null    float64 \n",
      " 33  DMNDA_201911         172 non-null    float64 \n",
      " 34  DMNDA_201912         172 non-null    float64 \n",
      " 35  Gis_X                172 non-null    float64 \n",
      " 36  Gis_Y                172 non-null    float64 \n",
      " 37  Distrito             172 non-null    category\n",
      " 38  Barrio               172 non-null    category\n",
      " 39  Plazas               172 non-null    category\n",
      " 40  Longitud             172 non-null    float64 \n",
      " 41  Latitud              172 non-null    float64 \n",
      " 42  Tasa_Paro            172 non-null    float64 \n",
      " 43  Renta_Media_Persona  172 non-null    float64 \n",
      " 44  Renta_Media_Hogar    172 non-null    float64 \n",
      " 45  Poblacion            172 non-null    float64 \n",
      "dtypes: category(3), float64(33), int64(10)\n",
      "memory usage: 60.4 KB\n"
     ]
    }
   ],
   "source": [
    "# Creación de DF de trabajo: df_FinalCluster. Se elimina 'ESTACION' y se identifican las variables categóricas y numéricas\n",
    "\n",
    "df_FinalCluster = df_FinalCluster_Original.copy()\n",
    "\n",
    "df_FinalCluster = df_FinalCluster.drop(columns='ESTACION')\n",
    "df_FinalCluster.info()\n",
    "\n",
    "num_cols = list(df_FinalCluster._get_numeric_data().columns)\n",
    "cat_cols = list(set(df_FinalCluster.columns) - set(num_cols))"
   ]
  },
  {
   "cell_type": "code",
   "execution_count": 8,
   "id": "58251a3d",
   "metadata": {},
   "outputs": [
    {
     "name": "stdout",
     "output_type": "stream",
     "text": [
      "['DEMANDA_RATIO', 'DMNDA_201703', 'DMNDA_201704', 'DMNDA_201705', 'DMNDA_201706', 'DMNDA_201707', 'DMNDA_201708', 'DMNDA_201709', 'DMNDA_201710', 'DMNDA_201711', 'DMNDA_201712', 'DMNDA_201801', 'DMNDA_201802', 'DMNDA_201803', 'DMNDA_201804', 'DMNDA_201805', 'DMNDA_201806', 'DMNDA_201807', 'DMNDA_201808', 'DMNDA_201809', 'DMNDA_201810', 'DMNDA_201811', 'DMNDA_201812', 'DMNDA_201901', 'DMNDA_201902', 'DMNDA_201903', 'DMNDA_201904', 'DMNDA_201905', 'DMNDA_201906', 'DMNDA_201907', 'DMNDA_201908', 'DMNDA_201909', 'DMNDA_201910', 'DMNDA_201911', 'DMNDA_201912', 'Gis_X', 'Gis_Y', 'Longitud', 'Latitud', 'Tasa_Paro', 'Renta_Media_Persona', 'Renta_Media_Hogar', 'Poblacion']\n",
      "['Barrio', 'Distrito', 'Plazas']\n"
     ]
    }
   ],
   "source": [
    "print(num_cols)\n",
    "print(cat_cols)"
   ]
  },
  {
   "cell_type": "markdown",
   "id": "18f296cd",
   "metadata": {},
   "source": [
    "## 2. Reducción de dimensionalidad PCA"
   ]
  },
  {
   "cell_type": "markdown",
   "id": "0add2bba",
   "metadata": {},
   "source": [
    "### Transformando categóricas: One Hot Encoder (variables dummies)"
   ]
  },
  {
   "cell_type": "code",
   "execution_count": 14,
   "id": "48129d94",
   "metadata": {},
   "outputs": [
    {
     "data": {
      "text/html": [
       "<div>\n",
       "<style scoped>\n",
       "    .dataframe tbody tr th:only-of-type {\n",
       "        vertical-align: middle;\n",
       "    }\n",
       "\n",
       "    .dataframe tbody tr th {\n",
       "        vertical-align: top;\n",
       "    }\n",
       "\n",
       "    .dataframe thead th {\n",
       "        text-align: right;\n",
       "    }\n",
       "</style>\n",
       "<table border=\"1\" class=\"dataframe\">\n",
       "  <thead>\n",
       "    <tr style=\"text-align: right;\">\n",
       "      <th></th>\n",
       "      <th>Plazas</th>\n",
       "      <th>Barrio</th>\n",
       "      <th>Distrito</th>\n",
       "    </tr>\n",
       "  </thead>\n",
       "  <tbody>\n",
       "    <tr>\n",
       "      <th>0</th>\n",
       "      <td>30</td>\n",
       "      <td>01-06</td>\n",
       "      <td>1</td>\n",
       "    </tr>\n",
       "    <tr>\n",
       "      <th>1</th>\n",
       "      <td>30</td>\n",
       "      <td>01-06</td>\n",
       "      <td>1</td>\n",
       "    </tr>\n",
       "    <tr>\n",
       "      <th>...</th>\n",
       "      <td>...</td>\n",
       "      <td>...</td>\n",
       "      <td>...</td>\n",
       "    </tr>\n",
       "    <tr>\n",
       "      <th>170</th>\n",
       "      <td>24</td>\n",
       "      <td>05-01</td>\n",
       "      <td>5</td>\n",
       "    </tr>\n",
       "    <tr>\n",
       "      <th>171</th>\n",
       "      <td>24</td>\n",
       "      <td>02-01</td>\n",
       "      <td>2</td>\n",
       "    </tr>\n",
       "  </tbody>\n",
       "</table>\n",
       "<p>172 rows × 3 columns</p>\n",
       "</div>"
      ],
      "text/plain": [
       "    Plazas Barrio Distrito\n",
       "0       30  01-06        1\n",
       "1       30  01-06        1\n",
       "..     ...    ...      ...\n",
       "170     24  05-01        5\n",
       "171     24  02-01        2\n",
       "\n",
       "[172 rows x 3 columns]"
      ]
     },
     "execution_count": 14,
     "metadata": {},
     "output_type": "execute_result"
    }
   ],
   "source": [
    "df_cat = df_FinalCluster[cat_cols]\n",
    "df_cat"
   ]
  },
  {
   "cell_type": "code",
   "execution_count": 15,
   "id": "44b68f19",
   "metadata": {},
   "outputs": [
    {
     "data": {
      "text/plain": [
       "(172, 48)"
      ]
     },
     "execution_count": 15,
     "metadata": {},
     "output_type": "execute_result"
    }
   ],
   "source": [
    "OneHot = OneHotEncoder(handle_unknown='ignore', drop='first')\n",
    "OneHot.fit(df_cat.values)\n",
    "\n",
    "df_cat_OneHot = OneHot.transform(df_cat.values).toarray()\n",
    "df_cat_OneHot.shape"
   ]
  },
  {
   "cell_type": "markdown",
   "id": "7473e582",
   "metadata": {},
   "source": [
    "### Concatenación de DF: Numéricos y Categóricas"
   ]
  },
  {
   "cell_type": "code",
   "execution_count": 16,
   "id": "e1974796",
   "metadata": {},
   "outputs": [
    {
     "name": "stdout",
     "output_type": "stream",
     "text": [
      "<class 'pandas.core.frame.DataFrame'>\n",
      "RangeIndex: 172 entries, 0 to 171\n",
      "Data columns (total 91 columns):\n",
      " #   Column               Non-Null Count  Dtype  \n",
      "---  ------               --------------  -----  \n",
      " 0   DEMANDA_RATIO        172 non-null    float64\n",
      " 1   DMNDA_201703         172 non-null    float64\n",
      " 2   DMNDA_201704         172 non-null    float64\n",
      " 3   DMNDA_201705         172 non-null    int64  \n",
      " 4   DMNDA_201706         172 non-null    int64  \n",
      " 5   DMNDA_201707         172 non-null    int64  \n",
      " 6   DMNDA_201708         172 non-null    int64  \n",
      " 7   DMNDA_201709         172 non-null    int64  \n",
      " 8   DMNDA_201710         172 non-null    int64  \n",
      " 9   DMNDA_201711         172 non-null    int64  \n",
      " 10  DMNDA_201712         172 non-null    float64\n",
      " 11  DMNDA_201801         172 non-null    float64\n",
      " 12  DMNDA_201802         172 non-null    int64  \n",
      " 13  DMNDA_201803         172 non-null    int64  \n",
      " 14  DMNDA_201804         172 non-null    int64  \n",
      " 15  DMNDA_201805         172 non-null    float64\n",
      " 16  DMNDA_201806         172 non-null    float64\n",
      " 17  DMNDA_201807         172 non-null    float64\n",
      " 18  DMNDA_201808         172 non-null    float64\n",
      " 19  DMNDA_201809         172 non-null    float64\n",
      " 20  DMNDA_201810         172 non-null    float64\n",
      " 21  DMNDA_201811         172 non-null    float64\n",
      " 22  DMNDA_201812         172 non-null    float64\n",
      " 23  DMNDA_201901         172 non-null    float64\n",
      " 24  DMNDA_201902         172 non-null    float64\n",
      " 25  DMNDA_201903         172 non-null    float64\n",
      " 26  DMNDA_201904         172 non-null    float64\n",
      " 27  DMNDA_201905         172 non-null    float64\n",
      " 28  DMNDA_201906         172 non-null    float64\n",
      " 29  DMNDA_201907         172 non-null    float64\n",
      " 30  DMNDA_201908         172 non-null    float64\n",
      " 31  DMNDA_201909         172 non-null    float64\n",
      " 32  DMNDA_201910         172 non-null    float64\n",
      " 33  DMNDA_201911         172 non-null    float64\n",
      " 34  DMNDA_201912         172 non-null    float64\n",
      " 35  Gis_X                172 non-null    float64\n",
      " 36  Gis_Y                172 non-null    float64\n",
      " 37  Longitud             172 non-null    float64\n",
      " 38  Latitud              172 non-null    float64\n",
      " 39  Tasa_Paro            172 non-null    float64\n",
      " 40  Renta_Media_Persona  172 non-null    float64\n",
      " 41  Renta_Media_Hogar    172 non-null    float64\n",
      " 42  Poblacion            172 non-null    float64\n",
      " 43  0                    172 non-null    float64\n",
      " 44  1                    172 non-null    float64\n",
      " 45  2                    172 non-null    float64\n",
      " 46  3                    172 non-null    float64\n",
      " 47  4                    172 non-null    float64\n",
      " 48  5                    172 non-null    float64\n",
      " 49  6                    172 non-null    float64\n",
      " 50  7                    172 non-null    float64\n",
      " 51  8                    172 non-null    float64\n",
      " 52  9                    172 non-null    float64\n",
      " 53  10                   172 non-null    float64\n",
      " 54  11                   172 non-null    float64\n",
      " 55  12                   172 non-null    float64\n",
      " 56  13                   172 non-null    float64\n",
      " 57  14                   172 non-null    float64\n",
      " 58  15                   172 non-null    float64\n",
      " 59  16                   172 non-null    float64\n",
      " 60  17                   172 non-null    float64\n",
      " 61  18                   172 non-null    float64\n",
      " 62  19                   172 non-null    float64\n",
      " 63  20                   172 non-null    float64\n",
      " 64  21                   172 non-null    float64\n",
      " 65  22                   172 non-null    float64\n",
      " 66  23                   172 non-null    float64\n",
      " 67  24                   172 non-null    float64\n",
      " 68  25                   172 non-null    float64\n",
      " 69  26                   172 non-null    float64\n",
      " 70  27                   172 non-null    float64\n",
      " 71  28                   172 non-null    float64\n",
      " 72  29                   172 non-null    float64\n",
      " 73  30                   172 non-null    float64\n",
      " 74  31                   172 non-null    float64\n",
      " 75  32                   172 non-null    float64\n",
      " 76  33                   172 non-null    float64\n",
      " 77  34                   172 non-null    float64\n",
      " 78  35                   172 non-null    float64\n",
      " 79  36                   172 non-null    float64\n",
      " 80  37                   172 non-null    float64\n",
      " 81  38                   172 non-null    float64\n",
      " 82  39                   172 non-null    float64\n",
      " 83  40                   172 non-null    float64\n",
      " 84  41                   172 non-null    float64\n",
      " 85  42                   172 non-null    float64\n",
      " 86  43                   172 non-null    float64\n",
      " 87  44                   172 non-null    float64\n",
      " 88  45                   172 non-null    float64\n",
      " 89  46                   172 non-null    float64\n",
      " 90  47                   172 non-null    float64\n",
      "dtypes: float64(81), int64(10)\n",
      "memory usage: 122.4 KB\n"
     ]
    },
    {
     "data": {
      "text/html": [
       "<div>\n",
       "<style scoped>\n",
       "    .dataframe tbody tr th:only-of-type {\n",
       "        vertical-align: middle;\n",
       "    }\n",
       "\n",
       "    .dataframe tbody tr th {\n",
       "        vertical-align: top;\n",
       "    }\n",
       "\n",
       "    .dataframe thead th {\n",
       "        text-align: right;\n",
       "    }\n",
       "</style>\n",
       "<table border=\"1\" class=\"dataframe\">\n",
       "  <thead>\n",
       "    <tr style=\"text-align: right;\">\n",
       "      <th></th>\n",
       "      <th>DEMANDA_RATIO</th>\n",
       "      <th>DMNDA_201703</th>\n",
       "      <th>DMNDA_201704</th>\n",
       "      <th>DMNDA_201705</th>\n",
       "      <th>DMNDA_201706</th>\n",
       "      <th>DMNDA_201707</th>\n",
       "      <th>DMNDA_201708</th>\n",
       "      <th>DMNDA_201709</th>\n",
       "      <th>DMNDA_201710</th>\n",
       "      <th>DMNDA_201711</th>\n",
       "      <th>...</th>\n",
       "      <th>38</th>\n",
       "      <th>39</th>\n",
       "      <th>40</th>\n",
       "      <th>41</th>\n",
       "      <th>42</th>\n",
       "      <th>43</th>\n",
       "      <th>44</th>\n",
       "      <th>45</th>\n",
       "      <th>46</th>\n",
       "      <th>47</th>\n",
       "    </tr>\n",
       "  </thead>\n",
       "  <tbody>\n",
       "    <tr>\n",
       "      <th>0</th>\n",
       "      <td>2505.333333</td>\n",
       "      <td>7.0</td>\n",
       "      <td>2212.0</td>\n",
       "      <td>2942</td>\n",
       "      <td>2946</td>\n",
       "      <td>3229</td>\n",
       "      <td>2929</td>\n",
       "      <td>3685</td>\n",
       "      <td>3606</td>\n",
       "      <td>2879</td>\n",
       "      <td>...</td>\n",
       "      <td>0.0</td>\n",
       "      <td>0.0</td>\n",
       "      <td>0.0</td>\n",
       "      <td>0.0</td>\n",
       "      <td>0.0</td>\n",
       "      <td>0.0</td>\n",
       "      <td>0.0</td>\n",
       "      <td>0.0</td>\n",
       "      <td>0.0</td>\n",
       "      <td>0.0</td>\n",
       "    </tr>\n",
       "    <tr>\n",
       "      <th>1</th>\n",
       "      <td>1313.468750</td>\n",
       "      <td>3.0</td>\n",
       "      <td>1174.0</td>\n",
       "      <td>1579</td>\n",
       "      <td>1536</td>\n",
       "      <td>1597</td>\n",
       "      <td>1491</td>\n",
       "      <td>1924</td>\n",
       "      <td>2033</td>\n",
       "      <td>1543</td>\n",
       "      <td>...</td>\n",
       "      <td>0.0</td>\n",
       "      <td>0.0</td>\n",
       "      <td>0.0</td>\n",
       "      <td>0.0</td>\n",
       "      <td>0.0</td>\n",
       "      <td>0.0</td>\n",
       "      <td>0.0</td>\n",
       "      <td>0.0</td>\n",
       "      <td>0.0</td>\n",
       "      <td>0.0</td>\n",
       "    </tr>\n",
       "    <tr>\n",
       "      <th>...</th>\n",
       "      <td>...</td>\n",
       "      <td>...</td>\n",
       "      <td>...</td>\n",
       "      <td>...</td>\n",
       "      <td>...</td>\n",
       "      <td>...</td>\n",
       "      <td>...</td>\n",
       "      <td>...</td>\n",
       "      <td>...</td>\n",
       "      <td>...</td>\n",
       "      <td>...</td>\n",
       "      <td>...</td>\n",
       "      <td>...</td>\n",
       "      <td>...</td>\n",
       "      <td>...</td>\n",
       "      <td>...</td>\n",
       "      <td>...</td>\n",
       "      <td>...</td>\n",
       "      <td>...</td>\n",
       "      <td>...</td>\n",
       "      <td>...</td>\n",
       "    </tr>\n",
       "    <tr>\n",
       "      <th>170</th>\n",
       "      <td>824.400000</td>\n",
       "      <td>0.0</td>\n",
       "      <td>845.0</td>\n",
       "      <td>1046</td>\n",
       "      <td>1162</td>\n",
       "      <td>856</td>\n",
       "      <td>647</td>\n",
       "      <td>1190</td>\n",
       "      <td>1230</td>\n",
       "      <td>981</td>\n",
       "      <td>...</td>\n",
       "      <td>0.0</td>\n",
       "      <td>0.0</td>\n",
       "      <td>0.0</td>\n",
       "      <td>0.0</td>\n",
       "      <td>0.0</td>\n",
       "      <td>0.0</td>\n",
       "      <td>1.0</td>\n",
       "      <td>0.0</td>\n",
       "      <td>0.0</td>\n",
       "      <td>0.0</td>\n",
       "    </tr>\n",
       "    <tr>\n",
       "      <th>171</th>\n",
       "      <td>3708.705882</td>\n",
       "      <td>0.0</td>\n",
       "      <td>0.0</td>\n",
       "      <td>924</td>\n",
       "      <td>3272</td>\n",
       "      <td>2328</td>\n",
       "      <td>2791</td>\n",
       "      <td>3878</td>\n",
       "      <td>3973</td>\n",
       "      <td>3470</td>\n",
       "      <td>...</td>\n",
       "      <td>0.0</td>\n",
       "      <td>0.0</td>\n",
       "      <td>0.0</td>\n",
       "      <td>1.0</td>\n",
       "      <td>0.0</td>\n",
       "      <td>0.0</td>\n",
       "      <td>0.0</td>\n",
       "      <td>0.0</td>\n",
       "      <td>0.0</td>\n",
       "      <td>0.0</td>\n",
       "    </tr>\n",
       "  </tbody>\n",
       "</table>\n",
       "<p>172 rows × 91 columns</p>\n",
       "</div>"
      ],
      "text/plain": [
       "     DEMANDA_RATIO  DMNDA_201703  DMNDA_201704  DMNDA_201705  DMNDA_201706  \\\n",
       "0      2505.333333           7.0        2212.0          2942          2946   \n",
       "1      1313.468750           3.0        1174.0          1579          1536   \n",
       "..             ...           ...           ...           ...           ...   \n",
       "170     824.400000           0.0         845.0          1046          1162   \n",
       "171    3708.705882           0.0           0.0           924          3272   \n",
       "\n",
       "     DMNDA_201707  DMNDA_201708  DMNDA_201709  DMNDA_201710  DMNDA_201711  \\\n",
       "0            3229          2929          3685          3606          2879   \n",
       "1            1597          1491          1924          2033          1543   \n",
       "..            ...           ...           ...           ...           ...   \n",
       "170           856           647          1190          1230           981   \n",
       "171          2328          2791          3878          3973          3470   \n",
       "\n",
       "     ...   38   39   40   41   42   43   44   45   46   47  \n",
       "0    ...  0.0  0.0  0.0  0.0  0.0  0.0  0.0  0.0  0.0  0.0  \n",
       "1    ...  0.0  0.0  0.0  0.0  0.0  0.0  0.0  0.0  0.0  0.0  \n",
       "..   ...  ...  ...  ...  ...  ...  ...  ...  ...  ...  ...  \n",
       "170  ...  0.0  0.0  0.0  0.0  0.0  0.0  1.0  0.0  0.0  0.0  \n",
       "171  ...  0.0  0.0  0.0  1.0  0.0  0.0  0.0  0.0  0.0  0.0  \n",
       "\n",
       "[172 rows x 91 columns]"
      ]
     },
     "execution_count": 16,
     "metadata": {},
     "output_type": "execute_result"
    }
   ],
   "source": [
    "df_knn_final = pd.concat([df_FinalCluster[num_cols], pd.DataFrame(df_cat_OneHot)], axis=1)\n",
    "df_knn_final.columns = df_knn_final.columns.astype(str)\n",
    "df_knn_final.info()\n",
    "df_knn_final"
   ]
  },
  {
   "cell_type": "markdown",
   "id": "2ad0e6e6",
   "metadata": {},
   "source": [
    "### Reducción de dimensionalidad PCA"
   ]
  },
  {
   "cell_type": "code",
   "execution_count": 17,
   "id": "61c011f2",
   "metadata": {},
   "outputs": [],
   "source": [
    "df_pca_2 = PCA(n_components=2).fit_transform(df_knn_final)\n",
    "df_pca_3 = PCA(n_components=3).fit_transform(df_knn_final)\n",
    "df_pca_4 = PCA(n_components=4).fit_transform(df_knn_final)\n",
    "df_pca_5 = PCA(n_components=5).fit_transform(df_knn_final)\n"
   ]
  },
  {
   "cell_type": "markdown",
   "id": "b8653a5c",
   "metadata": {},
   "source": [
    "## 3. Selección de valor k óptimo utilizando Elbow y Silhouette"
   ]
  },
  {
   "cell_type": "markdown",
   "id": "bf7cdecc",
   "metadata": {},
   "source": [
    "### Usando df_pca_2"
   ]
  },
  {
   "cell_type": "code",
   "execution_count": 19,
   "id": "95eacebc",
   "metadata": {},
   "outputs": [
    {
     "data": {
      "text/plain": [
       "[<matplotlib.lines.Line2D at 0x2ddffebd250>]"
      ]
     },
     "execution_count": 19,
     "metadata": {},
     "output_type": "execute_result"
    },
    {
     "data": {
      "image/png": "[encoded data removed]",
      "text/plain": [
       "<Figure size 432x288 with 1 Axes>"
      ]
     },
     "metadata": {
      "needs_background": "light"
     },
     "output_type": "display_data"
    }
   ],
   "source": [
    "# ELBOW\n",
    "\n",
    "K=range(2,20)\n",
    "wss = []\n",
    "\n",
    "for k in K:\n",
    "    kmeans=cluster.KMeans(\n",
    "               n_clusters=k,\n",
    "               init=\"k-means++\",\n",
    "               n_init=50,\n",
    "               max_iter=500,\n",
    "               random_state=42,)\n",
    "    kmeans=kmeans.fit(df_pca_2)\n",
    "    wss_iter = kmeans.inertia_\n",
    "    wss.append(wss_iter)\n",
    "    \n",
    "plt.xlabel('K')\n",
    "plt.ylabel('Within-Cluster-Sum of Squared Errors (WSS)')\n",
    "plt.plot(K,wss)"
   ]
  },
  {
   "cell_type": "code",
   "execution_count": 20,
   "id": "fca17d78",
   "metadata": {},
   "outputs": [
    {
     "name": "stdout",
     "output_type": "stream",
     "text": [
      "Silhouette score for k(clusters) = 2 is 0.5819000115426455\n",
      "Silhouette score for k(clusters) = 3 is 0.5087702603216924\n",
      "Silhouette score for k(clusters) = 4 is 0.5418873611469094\n",
      "Silhouette score for k(clusters) = 5 is 0.5720700653624665\n",
      "Silhouette score for k(clusters) = 6 is 0.564216310190777\n",
      "Silhouette score for k(clusters) = 7 is 0.5759096418838109\n",
      "Silhouette score for k(clusters) = 8 is 0.6220079388153364\n",
      "Silhouette score for k(clusters) = 9 is 0.6497523634280833\n",
      "Silhouette score for k(clusters) = 10 is 0.7016660977986101\n",
      "Silhouette score for k(clusters) = 11 is 0.7141848771323434\n",
      "Silhouette score for k(clusters) = 12 is 0.7417633323253218\n",
      "Silhouette score for k(clusters) = 13 is 0.748313329172286\n",
      "Silhouette score for k(clusters) = 14 is 0.7745309929370625\n",
      "Silhouette score for k(clusters) = 15 is 0.7929906271854311\n",
      "Silhouette score for k(clusters) = 16 is 0.8088038574712738\n",
      "Silhouette score for k(clusters) = 17 is 0.8056719187009507\n",
      "Silhouette score for k(clusters) = 18 is 0.8195191020863749\n",
      "Silhouette score for k(clusters) = 19 is 0.8328989473824985\n"
     ]
    }
   ],
   "source": [
    "# SILHOUETTE\n",
    "K=range(2,20)\n",
    "for k in K:\n",
    "    labels=KMeans(\n",
    "               n_clusters=k,\n",
    "               init=\"k-means++\",\n",
    "               n_init=50,\n",
    "               max_iter=500,\n",
    "               random_state=200,).fit(df_pca_2).labels_\n",
    "    print (\"Silhouette score for k(clusters) = \"+str(k)+\" is \"+str(metrics.silhouette_score(df_pca_2,labels,metric=\"euclidean\",sample_size=1000,random_state=200)))"
   ]
  },
  {
   "cell_type": "markdown",
   "id": "22102090",
   "metadata": {},
   "source": [
    "### Usando df_pca_3"
   ]
  },
  {
   "cell_type": "code",
   "execution_count": 21,
   "id": "c0a225ac",
   "metadata": {},
   "outputs": [
    {
     "data": {
      "text/plain": [
       "[<matplotlib.lines.Line2D at 0x2dd806e1250>]"
      ]
     },
     "execution_count": 21,
     "metadata": {},
     "output_type": "execute_result"
    },
    {
     "data": {
      "image/png": "[encoded data removed]",
      "text/plain": [
       "<Figure size 432x288 with 1 Axes>"
      ]
     },
     "metadata": {
      "needs_background": "light"
     },
     "output_type": "display_data"
    }
   ],
   "source": [
    "K=range(2,20)\n",
    "wss = []\n",
    "\n",
    "for k in K:\n",
    "    kmeans=cluster.KMeans(\n",
    "               n_clusters=k,\n",
    "               init=\"k-means++\",\n",
    "               n_init=50,\n",
    "               max_iter=500,\n",
    "               random_state=42,)\n",
    "    kmeans=kmeans.fit(df_pca_3)\n",
    "    wss_iter = kmeans.inertia_\n",
    "    wss.append(wss_iter)\n",
    "    \n",
    "plt.xlabel('K')\n",
    "plt.ylabel('Within-Cluster-Sum of Squared Errors (WSS)')\n",
    "plt.plot(K,wss)"
   ]
  },
  {
   "cell_type": "code",
   "execution_count": 22,
   "id": "277da7d1",
   "metadata": {},
   "outputs": [
    {
     "name": "stdout",
     "output_type": "stream",
     "text": [
      "Silhouette score for k(clusters) = 2 is 0.544607558652762\n",
      "Silhouette score for k(clusters) = 3 is 0.4551158397548832\n",
      "Silhouette score for k(clusters) = 4 is 0.4727564093770293\n",
      "Silhouette score for k(clusters) = 5 is 0.4806809988418523\n",
      "Silhouette score for k(clusters) = 6 is 0.4509860874111724\n",
      "Silhouette score for k(clusters) = 7 is 0.4385305504527851\n",
      "Silhouette score for k(clusters) = 8 is 0.47255977718725206\n",
      "Silhouette score for k(clusters) = 9 is 0.4759614763405701\n",
      "Silhouette score for k(clusters) = 10 is 0.49497630700286643\n",
      "Silhouette score for k(clusters) = 11 is 0.49985860216249695\n",
      "Silhouette score for k(clusters) = 12 is 0.5201792693735\n",
      "Silhouette score for k(clusters) = 13 is 0.513743150121675\n",
      "Silhouette score for k(clusters) = 14 is 0.5254364306577445\n",
      "Silhouette score for k(clusters) = 15 is 0.5261720767554057\n",
      "Silhouette score for k(clusters) = 16 is 0.49838628043103267\n",
      "Silhouette score for k(clusters) = 17 is 0.5083741361730217\n",
      "Silhouette score for k(clusters) = 18 is 0.5125602436316568\n",
      "Silhouette score for k(clusters) = 19 is 0.5117781685514291\n"
     ]
    }
   ],
   "source": [
    "# SILHOUETTE\n",
    "K=range(2,20)\n",
    "for k in K:\n",
    "    labels=KMeans(\n",
    "               n_clusters=k,\n",
    "               init=\"k-means++\",\n",
    "               n_init=50,\n",
    "               max_iter=500,\n",
    "               random_state=200,).fit(df_pca_3).labels_\n",
    "    print (\"Silhouette score for k(clusters) = \"+str(k)+\" is \"+str(metrics.silhouette_score(df_pca_3,labels,metric=\"euclidean\",sample_size=1000,random_state=200)))"
   ]
  },
  {
   "cell_type": "markdown",
   "id": "1aeb5861",
   "metadata": {},
   "source": [
    "### Usando df_pca_4"
   ]
  },
  {
   "cell_type": "code",
   "execution_count": 23,
   "id": "4799d00e",
   "metadata": {},
   "outputs": [
    {
     "data": {
      "text/plain": [
       "[<matplotlib.lines.Line2D at 0x2dd87fa3640>]"
      ]
     },
     "execution_count": 23,
     "metadata": {},
     "output_type": "execute_result"
    },
    {
     "data": {
      "image/png": "[encoded data removed]",
      "text/plain": [
       "<Figure size 432x288 with 1 Axes>"
      ]
     },
     "metadata": {
      "needs_background": "light"
     },
     "output_type": "display_data"
    }
   ],
   "source": [
    "K=range(2,20)\n",
    "wss = []\n",
    "\n",
    "for k in K:\n",
    "    kmeans=cluster.KMeans(\n",
    "               n_clusters=k,\n",
    "               init=\"k-means++\",\n",
    "               n_init=50,\n",
    "               max_iter=500,\n",
    "               random_state=42,)\n",
    "    kmeans=kmeans.fit(df_pca_4)\n",
    "    wss_iter = kmeans.inertia_\n",
    "    wss.append(wss_iter)\n",
    "    \n",
    "plt.xlabel('K')\n",
    "plt.ylabel('Within-Cluster-Sum of Squared Errors (WSS)')\n",
    "plt.plot(K,wss)"
   ]
  },
  {
   "cell_type": "code",
   "execution_count": 24,
   "id": "0f3bbb3e",
   "metadata": {},
   "outputs": [
    {
     "name": "stdout",
     "output_type": "stream",
     "text": [
      "Silhouette score for k(clusters) = 2 is 0.5412581555021893\n",
      "Silhouette score for k(clusters) = 3 is 0.4506479565615669\n",
      "Silhouette score for k(clusters) = 4 is 0.4676405933704666\n",
      "Silhouette score for k(clusters) = 5 is 0.4743286983981859\n",
      "Silhouette score for k(clusters) = 6 is 0.4418631197593769\n",
      "Silhouette score for k(clusters) = 7 is 0.42966859324083784\n",
      "Silhouette score for k(clusters) = 8 is 0.4603512652512421\n",
      "Silhouette score for k(clusters) = 9 is 0.4638065643459455\n",
      "Silhouette score for k(clusters) = 10 is 0.4824649638797983\n",
      "Silhouette score for k(clusters) = 11 is 0.48625536298940836\n",
      "Silhouette score for k(clusters) = 12 is 0.5055303635951681\n",
      "Silhouette score for k(clusters) = 13 is 0.505637412350974\n",
      "Silhouette score for k(clusters) = 14 is 0.5094451137190673\n",
      "Silhouette score for k(clusters) = 15 is 0.5210755966542967\n",
      "Silhouette score for k(clusters) = 16 is 0.48038081235993096\n",
      "Silhouette score for k(clusters) = 17 is 0.49010587009335604\n",
      "Silhouette score for k(clusters) = 18 is 0.4949419254707145\n",
      "Silhouette score for k(clusters) = 19 is 0.47646594718355145\n"
     ]
    }
   ],
   "source": [
    "# SILHOUETTE\n",
    "K=range(2,20)\n",
    "for k in K:\n",
    "    labels=KMeans(\n",
    "               n_clusters=k,\n",
    "               init=\"k-means++\",\n",
    "               n_init=50,\n",
    "               max_iter=500,\n",
    "               random_state=200,).fit(df_pca_4).labels_\n",
    "    print (\"Silhouette score for k(clusters) = \"+str(k)+\" is \"+str(metrics.silhouette_score(df_pca_4,labels,metric=\"euclidean\",sample_size=1000,random_state=200)))"
   ]
  },
  {
   "cell_type": "markdown",
   "id": "61dff0da",
   "metadata": {},
   "source": [
    "### Usando df_pca_5"
   ]
  },
  {
   "cell_type": "code",
   "execution_count": 25,
   "id": "30375d28",
   "metadata": {},
   "outputs": [
    {
     "data": {
      "text/plain": [
       "[<matplotlib.lines.Line2D at 0x2dd87fede80>]"
      ]
     },
     "execution_count": 25,
     "metadata": {},
     "output_type": "execute_result"
    },
    {
     "data": {
      "image/png": "[encoded data removed]",
      "text/plain": [
       "<Figure size 432x288 with 1 Axes>"
      ]
     },
     "metadata": {
      "needs_background": "light"
     },
     "output_type": "display_data"
    }
   ],
   "source": [
    "K=range(2,20)\n",
    "wss = []\n",
    "\n",
    "for k in K:\n",
    "    kmeans=cluster.KMeans(\n",
    "               n_clusters=k,\n",
    "               init=\"k-means++\",\n",
    "               n_init=50,\n",
    "               max_iter=500,\n",
    "               random_state=42,)\n",
    "    kmeans=kmeans.fit(df_pca_5)\n",
    "    wss_iter = kmeans.inertia_\n",
    "    wss.append(wss_iter)\n",
    "    \n",
    "plt.xlabel('K')\n",
    "plt.ylabel('Within-Cluster-Sum of Squared Errors (WSS)')\n",
    "plt.plot(K,wss)"
   ]
  },
  {
   "cell_type": "code",
   "execution_count": 26,
   "id": "f68b4ba5",
   "metadata": {},
   "outputs": [
    {
     "name": "stdout",
     "output_type": "stream",
     "text": [
      "Silhouette score for k(clusters) = 2 is 0.5395598189854319\n",
      "Silhouette score for k(clusters) = 3 is 0.44873165393568354\n",
      "Silhouette score for k(clusters) = 4 is 0.4652760220119488\n",
      "Silhouette score for k(clusters) = 5 is 0.4708452727498259\n",
      "Silhouette score for k(clusters) = 6 is 0.43828929272490297\n",
      "Silhouette score for k(clusters) = 7 is 0.42401859601468633\n",
      "Silhouette score for k(clusters) = 8 is 0.45453518854096225\n",
      "Silhouette score for k(clusters) = 9 is 0.457523867113649\n",
      "Silhouette score for k(clusters) = 10 is 0.47497854144648477\n",
      "Silhouette score for k(clusters) = 11 is 0.47868135946258256\n",
      "Silhouette score for k(clusters) = 12 is 0.4966085525108153\n",
      "Silhouette score for k(clusters) = 13 is 0.49798493527103055\n",
      "Silhouette score for k(clusters) = 14 is 0.50643073097497\n",
      "Silhouette score for k(clusters) = 15 is 0.5093557514342005\n",
      "Silhouette score for k(clusters) = 16 is 0.5134143909632152\n",
      "Silhouette score for k(clusters) = 17 is 0.5032422865948785\n",
      "Silhouette score for k(clusters) = 18 is 0.48298765775363234\n",
      "Silhouette score for k(clusters) = 19 is 0.47067788745660977\n"
     ]
    }
   ],
   "source": [
    "# SILHOUETTE\n",
    "K=range(2,20)\n",
    "for k in K:\n",
    "    labels=KMeans(\n",
    "               n_clusters=k,\n",
    "               init=\"k-means++\",\n",
    "               n_init=50,\n",
    "               max_iter=500,\n",
    "               random_state=200,).fit(df_pca_5).labels_\n",
    "    print (\"Silhouette score for k(clusters) = \"+str(k)+\" is \"+str(metrics.silhouette_score(df_pca_5,labels,metric=\"euclidean\",sample_size=1000,random_state=200)))"
   ]
  },
  {
   "cell_type": "markdown",
   "id": "f32052b2",
   "metadata": {},
   "source": [
    "#### CONCLUSIÓN: se determina que para todos los casos analizados, el mejor valor para la cantidad de cluster a trabajar es k=5"
   ]
  },
  {
   "cell_type": "markdown",
   "id": "453603e6",
   "metadata": {},
   "source": [
    "## 4. Clusterización final en base a k=5\n",
    "\n",
    "La clusterización se ejecuta para cada DataFrame según PCA siempre considerando k=5. \n",
    "La ejecución del algoritmo final considera:\n",
    "\n",
    "    - Estandarización: MinMaxScaler()\n",
    "    - Clusterización: KMeans según parámetros observados en siguiente celda"
   ]
  },
  {
   "cell_type": "markdown",
   "id": "e1e1c60b",
   "metadata": {},
   "source": [
    "#### Preparación de algoritmo"
   ]
  },
  {
   "cell_type": "code",
   "execution_count": 27,
   "id": "841ca902",
   "metadata": {},
   "outputs": [
    {
     "data": {
      "text/plain": [
       "Pipeline(steps=[('minmaxscaler', MinMaxScaler()),\n",
       "                ('kmeans',\n",
       "                 KMeans(max_iter=500, n_clusters=5, n_init=50,\n",
       "                        random_state=200))])"
      ]
     },
     "execution_count": 27,
     "metadata": {},
     "output_type": "execute_result"
    }
   ],
   "source": [
    "n_cluster = 5\n",
    "\n",
    "scaler = MinMaxScaler()\n",
    "kmeans = KMeans(\n",
    "               n_clusters=n_cluster,\n",
    "               init=\"k-means++\",\n",
    "               n_init=50,\n",
    "               max_iter=500,\n",
    "               random_state=200,)\n",
    "\n",
    "pipeline = make_pipeline(scaler, kmeans)\n",
    "pipeline"
   ]
  },
  {
   "cell_type": "markdown",
   "id": "f8187089",
   "metadata": {},
   "source": [
    "#### Predicción de cluster final"
   ]
  },
  {
   "cell_type": "code",
   "execution_count": 28,
   "id": "f0bc1a2c",
   "metadata": {},
   "outputs": [],
   "source": [
    "df_pred_pca2_t = pipeline.fit_transform(df_pca_2)\n",
    "df_pred_pca2 = pipeline.fit_predict(df_pca_2)\n",
    "df_pred_pca3 = pipeline.fit_predict(df_pca_3)\n",
    "df_pred_pca4 = pipeline.fit_predict(df_pca_4)\n",
    "df_pred_pca5 = pipeline.fit_predict(df_pca_5)\n"
   ]
  },
  {
   "cell_type": "code",
   "execution_count": 29,
   "id": "cc958c7e",
   "metadata": {},
   "outputs": [
    {
     "data": {
      "text/plain": [
       "array([[0.08769896, 0.44519282, 0.72932007, 0.83334219, 0.78701994],\n",
       "       [0.08439111, 0.44687306, 0.73052639, 0.82996538, 0.79189311],\n",
       "       [0.59736317, 0.27872437, 0.31531239, 0.75198389, 0.16080128],\n",
       "       [0.46147098, 0.08161943, 0.20490619, 0.52133416, 0.39621912],\n",
       "       [0.59560953, 0.27520271, 0.31119407, 0.74758125, 0.16347559],\n",
       "       [0.33095232, 0.09992601, 0.33381419, 0.49621889, 0.53435935],\n",
       "       [0.32964832, 0.10628773, 0.33665888, 0.49206336, 0.5405355 ],\n",
       "       [0.33000066, 0.10490092, 0.33596281, 0.49289063, 0.53917935],\n",
       "       [0.66736911, 0.40783659, 0.30163653, 0.17031887, 0.6884813 ],\n",
       "       [0.37219218, 0.09972671, 0.34637072, 0.65191491, 0.39135044],\n",
       "       [0.59652873, 0.27671915, 0.31268647, 0.74928102, 0.16222272],\n",
       "       [0.60044863, 0.28205577, 0.31680834, 0.75444709, 0.15749997],\n",
       "       [0.55202533, 0.20902974, 0.13626911, 0.39097663, 0.47747397],\n",
       "       [0.59533487, 0.27548856, 0.31224263, 0.74844261, 0.16347584],\n",
       "       [0.59713728, 0.27813028, 0.31449853, 0.7511585 , 0.16120564],\n",
       "       [0.59604539, 0.27653691, 0.31314413, 0.74952567, 0.16257473],\n",
       "       [0.32982544, 0.0994552 , 0.33468188, 0.49770068, 0.53404821],\n",
       "       [0.32917465, 0.10580841, 0.33692962, 0.49290644, 0.54014367],\n",
       "       [0.370337  , 0.09610264, 0.34509365, 0.64832518, 0.39420869],\n",
       "       [0.36895187, 0.09423753, 0.34475864, 0.6464676 , 0.39611229],\n",
       "       [0.08456263, 0.44584558, 0.7296103 , 0.83020951, 0.79022416],\n",
       "       [0.37523804, 0.10255785, 0.34623852, 0.65463236, 0.3876623 ],\n",
       "       [0.37184536, 0.09873184, 0.34589914, 0.65092818, 0.39197575],\n",
       "       [0.08310114, 0.44776776, 0.73118182, 0.82845084, 0.79425043],\n",
       "       [0.33028636, 0.10290593, 0.33516929, 0.49430238, 0.5372582 ],\n",
       "       [0.07519609, 0.30873978, 0.58558049, 0.68307158, 0.69697843],\n",
       "       [0.08427627, 0.44707982, 0.73070082, 0.8298247 , 0.79229276],\n",
       "       [0.08272266, 0.44730836, 0.73072398, 0.82809528, 0.79383261],\n",
       "       [0.07538691, 0.30705965, 0.58488244, 0.68664261, 0.69300454],\n",
       "       [0.3706813 , 0.09740167, 0.34577537, 0.64961993, 0.39347981],\n",
       "       [0.3737544 , 0.10359513, 0.34808515, 0.65573757, 0.38876025],\n",
       "       [0.37338209, 0.10209796, 0.34724768, 0.65425166, 0.38953605],\n",
       "       [0.3784668 , 0.10939199, 0.34902177, 0.66129831, 0.38277635],\n",
       "       [0.91188719, 0.59226975, 0.50762974, 0.9786404 , 0.1590787 ],\n",
       "       [0.91595434, 0.59689856, 0.51233651, 0.98332419, 0.16348802],\n",
       "       [0.91473133, 0.59581397, 0.51169595, 0.98270662, 0.16232986],\n",
       "       [0.91101483, 0.59135179, 0.5068107 , 0.97783001, 0.15817387],\n",
       "       [0.91228511, 0.59287997, 0.50848787, 0.97950434, 0.15959225],\n",
       "       [0.91602528, 0.59782957, 0.51455931, 0.98559015, 0.16405688],\n",
       "       [0.75616944, 0.377016  , 0.1706421 , 0.63511353, 0.2596795 ],\n",
       "       [0.75608095, 0.37689585, 0.17025565, 0.63468877, 0.26008624],\n",
       "       [0.91374154, 0.59494794, 0.51120765, 0.98223669, 0.16140006],\n",
       "       [0.91332914, 0.59437742, 0.51047582, 0.98150209, 0.16089432],\n",
       "       [0.91172726, 0.59212219, 0.50753203, 0.97854535, 0.15892357],\n",
       "       [0.91344992, 0.59425009, 0.50994729, 0.98095961, 0.16087937],\n",
       "       [0.9214706 , 0.60406276, 0.52095349, 0.99195751, 0.17004644],\n",
       "       [0.33113678, 0.09733879, 0.33302033, 0.49828961, 0.53189146],\n",
       "       [0.60052881, 0.28259873, 0.3177709 , 0.75535391, 0.15721299],\n",
       "       [0.32995829, 0.10172496, 0.33514185, 0.49561721, 0.53618276],\n",
       "       [0.59599843, 0.27620466, 0.31255368, 0.74896793, 0.16276337],\n",
       "       [0.58311264, 0.51595285, 0.56133895, 0.23406676, 0.90847365],\n",
       "       [0.4325734 , 0.09021274, 0.2296593 , 0.46554725, 0.46771769],\n",
       "       [0.4322929 , 0.08947147, 0.2298187 , 0.46633011, 0.46716373],\n",
       "       [0.07457734, 0.30896341, 0.58603967, 0.68433575, 0.69658992],\n",
       "       [0.58598135, 0.52029812, 0.56545678, 0.23512174, 0.91285298],\n",
       "       [0.6335365 , 0.43739449, 0.39419928, 0.11838638, 0.76953281],\n",
       "       [0.63390443, 0.43800954, 0.39481133, 0.11785487, 0.77017807],\n",
       "       [0.64110973, 0.33370422, 0.19572272, 0.27664566, 0.58235001],\n",
       "       [0.65817042, 0.28296872, 0.15938088, 0.62532714, 0.2337668 ],\n",
       "       [0.16607737, 0.53508227, 0.80372553, 0.81189613, 0.92080778],\n",
       "       [0.5861111 , 0.52218431, 0.56812487, 0.23735152, 0.91522553],\n",
       "       [0.58218757, 0.51357102, 0.55857859, 0.23253084, 0.90580139],\n",
       "       [0.84673631, 0.62846693, 0.50289883, 0.10543553, 0.89481367],\n",
       "       [0.83173751, 0.62750694, 0.51688257, 0.08608344, 0.90846766],\n",
       "       [0.83405745, 0.6318351 , 0.52238274, 0.08842323, 0.91393494],\n",
       "       [0.83379692, 0.63161059, 0.52224212, 0.08816353, 0.91378894],\n",
       "       [0.83337365, 0.63118272, 0.52189864, 0.08773724, 0.91343889],\n",
       "       [0.66771063, 0.29650584, 0.01858814, 0.45565851, 0.40934153],\n",
       "       [0.66882408, 0.29712615, 0.0169277 , 0.45826913, 0.40697557],\n",
       "       [0.83351489, 0.63148897, 0.52231126, 0.0878914 , 0.9138479 ],\n",
       "       [0.8441793 , 0.6238022 , 0.49693378, 0.10462523, 0.88884474],\n",
       "       [0.83372802, 0.63130456, 0.52175515, 0.08807918, 0.9133092 ],\n",
       "       [0.83261785, 0.6291029 , 0.51888517, 0.08693953, 0.91045958],\n",
       "       [0.83400324, 0.63206222, 0.5228527 , 0.08839021, 0.91439412],\n",
       "       [0.83129095, 0.62753248, 0.51739224, 0.08561957, 0.90895439],\n",
       "       [0.6697478 , 0.29767009, 0.01584513, 0.46033643, 0.40511466],\n",
       "       [0.84587913, 0.62681764, 0.50074027, 0.10518724, 0.89265371],\n",
       "       [0.17542911, 0.22177989, 0.4892833 , 0.59544956, 0.6364146 ],\n",
       "       [0.42866666, 0.0502431 , 0.2359342 , 0.52499136, 0.41686487],\n",
       "       [0.1742044 , 0.22486044, 0.49147976, 0.59436152, 0.64013322],\n",
       "       [0.55235603, 0.20867876, 0.1351248 , 0.39222385, 0.47609672],\n",
       "       [0.55179406, 0.2084148 , 0.13587001, 0.39187366, 0.47662555],\n",
       "       [0.55211633, 0.20798647, 0.13463838, 0.39327314, 0.47509556],\n",
       "       [0.55195149, 0.20820936, 0.13527364, 0.39254742, 0.47588797],\n",
       "       [0.55269521, 0.20896588, 0.13485241, 0.39217295, 0.47604675],\n",
       "       [0.42591631, 0.14526741, 0.34074683, 0.68884075, 0.33164093],\n",
       "       [0.4303006 , 0.15195909, 0.34336379, 0.69478356, 0.32648854],\n",
       "       [0.43272078, 0.15600508, 0.34524212, 0.69847098, 0.32364488],\n",
       "       [0.42865258, 0.04997963, 0.2361449 , 0.52579507, 0.41621461],\n",
       "       [0.17364883, 0.2203395 , 0.48964031, 0.60027925, 0.63299661],\n",
       "       [0.75624443, 0.37716054, 0.17140323, 0.63598017, 0.25878038],\n",
       "       [0.28317708, 0.2155508 , 0.48447775, 0.74910792, 0.47843212],\n",
       "       [0.50792787, 0.14390193, 0.2226633 , 0.61335502, 0.29588227],\n",
       "       [0.71321929, 0.33522233, 0.15680065, 0.62774293, 0.24460659],\n",
       "       [0.83186371, 0.61182608, 0.48782575, 0.09372118, 0.87973204],\n",
       "       [0.83160411, 0.61078753, 0.48616998, 0.09419824, 0.87808003],\n",
       "       [0.60941292, 0.24315452, 0.0593692 , 0.43612625, 0.42272134],\n",
       "       [0.60976304, 0.24231619, 0.05682819, 0.44053039, 0.41831102],\n",
       "       [0.60877491, 0.2431495 , 0.06111864, 0.4339103 , 0.42495447],\n",
       "       [0.83021268, 0.61029838, 0.48675856, 0.09222101, 0.87865856],\n",
       "       [0.43155857, 0.05155589, 0.23461407, 0.53001119, 0.41054429],\n",
       "       [0.60978371, 0.24175738, 0.05578048, 0.44276013, 0.41608274],\n",
       "       [0.47071975, 0.08977486, 0.20566477, 0.54492457, 0.37064651],\n",
       "       [0.66911421, 0.41049663, 0.30426405, 0.16758392, 0.6912365 ],\n",
       "       [0.4790139 , 0.16737017, 0.21116055, 0.38967775, 0.51430662],\n",
       "       [0.46521339, 0.08426296, 0.20421075, 0.52959381, 0.38679057],\n",
       "       [0.46696519, 0.08572041, 0.20538786, 0.53676945, 0.37972129],\n",
       "       [0.47891383, 0.16624826, 0.21036231, 0.39102788, 0.51286693],\n",
       "       [0.47844827, 0.16981252, 0.21401067, 0.38647196, 0.51829322],\n",
       "       [0.36963102, 0.09695514, 0.34620247, 0.64918367, 0.39461161],\n",
       "       [0.33004026, 0.10820009, 0.33688208, 0.49012167, 0.54228715],\n",
       "       [0.32949085, 0.10659898, 0.33688368, 0.49195197, 0.54085029],\n",
       "       [0.08273729, 0.44797386, 0.73132078, 0.82800521, 0.79485732],\n",
       "       [0.07517918, 0.30764023, 0.58518189, 0.68566829, 0.69424856],\n",
       "       [0.07459453, 0.31105592, 0.58704956, 0.68071767, 0.70102633],\n",
       "       [0.08430067, 0.44740797, 0.73100041, 0.82981916, 0.79277354],\n",
       "       [0.07528566, 0.30737731, 0.58503263, 0.68604102, 0.693723  ],\n",
       "       [0.43302611, 0.08854256, 0.22881393, 0.46776213, 0.46518664],\n",
       "       [0.58692687, 0.52320009, 0.56897772, 0.23739915, 0.9161899 ],\n",
       "       [0.58674017, 0.5217578 , 0.56700493, 0.23581933, 0.91441211],\n",
       "       [0.63304131, 0.43869379, 0.39686794, 0.11789297, 0.7719048 ],\n",
       "       [0.66140115, 0.28735564, 0.16710024, 0.63336363, 0.22578642],\n",
       "       [0.635666  , 0.44307104, 0.40122569, 0.1142237 , 0.776495  ],\n",
       "       [0.83376137, 0.63084545, 0.52088316, 0.08809114, 0.91245473],\n",
       "       [0.42690646, 0.05033651, 0.23656499, 0.5206083 , 0.4218625 ],\n",
       "       [0.55218589, 0.21043867, 0.13793038, 0.38835701, 0.48011135],\n",
       "       [0.17207061, 0.53932572, 0.80699907, 0.81089269, 0.92659627],\n",
       "       [0.6691561 , 0.41315174, 0.30917614, 0.1628483 , 0.695931  ],\n",
       "       [0.75724271, 0.37837364, 0.17420286, 0.63894078, 0.256195  ],\n",
       "       [0.90976353, 0.6216296 , 0.41847063, 0.2541548 , 0.7969543 ],\n",
       "       [0.39611402, 0.07097691, 0.26547555, 0.48197236, 0.48220064],\n",
       "       [0.71292923, 0.33481047, 0.15557034, 0.62649978, 0.24583393],\n",
       "       [0.71201473, 0.33365545, 0.15291729, 0.62383618, 0.24834135],\n",
       "       [0.83311378, 0.61342736, 0.4894633 , 0.09448166, 0.88137092],\n",
       "       [0.61156175, 0.24234224, 0.05229071, 0.44733517, 0.41147039],\n",
       "       [0.83171926, 0.61183181, 0.48799192, 0.09346827, 0.8798968 ],\n",
       "       [0.60996841, 0.24363946, 0.05880291, 0.43631509, 0.42251788],\n",
       "       [0.82955181, 0.60741894, 0.48210302, 0.0937635 , 0.87401484],\n",
       "       [0.67109031, 0.4163254 , 0.31251752, 0.15940167, 0.69938929],\n",
       "       [0.84613996, 0.62724675, 0.50126167, 0.10530716, 0.89317532],\n",
       "       [0.37118328, 0.09743196, 0.34543829, 0.64964192, 0.39299657],\n",
       "       [0.37030843, 0.09744485, 0.34607184, 0.64966787, 0.39381913],\n",
       "       [0.08374304, 0.44668768, 0.7302854 , 0.82928815, 0.79209985],\n",
       "       [0.07586259, 0.3076017 , 0.5847129 , 0.68357854, 0.69531264],\n",
       "       [0.66802956, 0.29736305, 0.0212544 , 0.45297695, 0.41212574],\n",
       "       [0.83368565, 0.6314017 , 0.52197602, 0.08804502, 0.91352452],\n",
       "       [0.91035335, 0.56760455, 0.30447999, 0.40188117, 0.64168662],\n",
       "       [0.7120935 , 0.33368151, 0.1524579 , 0.62336005, 0.24888912],\n",
       "       [0.60902499, 0.24216951, 0.05851936, 0.43838612, 0.4204744 ],\n",
       "       [0.82726814, 0.60411724, 0.4784131 , 0.09298636, 0.87032474],\n",
       "       [0.66863233, 0.29716584, 0.01786887, 0.45705714, 0.40815319],\n",
       "       [0.83170698, 0.62821027, 0.51819866, 0.08602939, 0.9097583 ],\n",
       "       [0.83135047, 0.61151339, 0.4877959 , 0.0931125 , 0.87969925],\n",
       "       [0.91067515, 0.56690686, 0.30265129, 0.40562204, 0.63826061],\n",
       "       [0.58546351, 0.52052329, 0.56619415, 0.2362172 , 0.91336112],\n",
       "       [0.17192595, 0.53892583, 0.80649718, 0.81012517, 0.92640638],\n",
       "       [0.66853621, 0.29718556, 0.01834655, 0.45645581, 0.40873712],\n",
       "       [0.90966381, 0.56730628, 0.30465673, 0.40017536, 0.64261007],\n",
       "       [0.59359279, 0.27260392, 0.30940782, 0.74520676, 0.16586692],\n",
       "       [0.3508955 , 0.09460621, 0.31461552, 0.48377118, 0.52538897],\n",
       "       [0.70992873, 0.33143811, 0.15068471, 0.62167263, 0.24983538],\n",
       "       [0.58918486, 0.52635768, 0.5718529 , 0.23801556, 0.91930674],\n",
       "       [0.66858469, 0.29748865, 0.0195444 , 0.45516285, 0.41005487],\n",
       "       [0.59688496, 0.27739982, 0.31345374, 0.75011178, 0.16169501],\n",
       "       [0.58896343, 0.52528311, 0.57044488, 0.23694523, 0.91801576],\n",
       "       [0.35125216, 0.09674644, 0.31484854, 0.48174219, 0.52722554],\n",
       "       [0.8334562 , 0.63108061, 0.52162728, 0.08780865, 0.91317537],\n",
       "       [0.714551  , 0.33664764, 0.15827019, 0.62916851, 0.2436187 ],\n",
       "       [0.64073146, 0.33483522, 0.19878264, 0.27369563, 0.58525085],\n",
       "       [0.66787955, 0.29720369, 0.02114016, 0.4530146 , 0.41205131],\n",
       "       [0.83215076, 0.61209891, 0.48802496, 0.0939763 , 0.87993215],\n",
       "       [0.41709093, 0.03674044, 0.24939911, 0.53607676, 0.41705027]])"
      ]
     },
     "execution_count": 29,
     "metadata": {},
     "output_type": "execute_result"
    }
   ],
   "source": [
    "df_pred_pca2_t"
   ]
  },
  {
   "cell_type": "code",
   "execution_count": 30,
   "id": "c73aa4c1",
   "metadata": {},
   "outputs": [
    {
     "data": {
      "text/plain": [
       "array([0, 0, 4, 1, 4, 1, 1, 1, 3, 1, 4, 4, 2, 4, 4, 4, 1, 1, 1, 1, 0, 1,\n",
       "       1, 0, 1, 0, 0, 0, 0, 1, 1, 1, 1, 4, 4, 4, 4, 4, 4, 2, 2, 4, 4, 4,\n",
       "       4, 4, 1, 4, 1, 4, 3, 1, 1, 0, 3, 3, 3, 2, 2, 0, 3, 3, 3, 3, 3, 3,\n",
       "       3, 2, 2, 3, 3, 3, 3, 3, 3, 2, 3, 0, 1, 0, 2, 2, 2, 2, 2, 1, 1, 1,\n",
       "       1, 0, 2, 1, 1, 2, 3, 3, 2, 2, 2, 3, 1, 2, 1, 3, 1, 1, 1, 1, 1, 1,\n",
       "       1, 1, 0, 0, 0, 0, 0, 1, 3, 3, 3, 2, 3, 3, 1, 2, 0, 3, 2, 3, 1, 2,\n",
       "       2, 3, 2, 3, 2, 3, 3, 3, 1, 1, 0, 0, 2, 3, 2, 2, 2, 3, 2, 3, 3, 2,\n",
       "       3, 0, 2, 2, 4, 1, 2, 3, 2, 4, 3, 1, 3, 2, 2, 2, 3, 1])"
      ]
     },
     "execution_count": 30,
     "metadata": {},
     "output_type": "execute_result"
    }
   ],
   "source": [
    "df_pred_pca2"
   ]
  },
  {
   "cell_type": "code",
   "execution_count": 31,
   "id": "068e3260",
   "metadata": {},
   "outputs": [
    {
     "data": {
      "text/plain": [
       "array([4, 4, 3, 2, 3, 0, 2, 2, 0, 2, 3, 3, 2, 3, 3, 3, 0, 2, 2, 2, 4, 0,\n",
       "       2, 4, 0, 4, 4, 4, 0, 2, 0, 2, 0, 3, 3, 3, 3, 3, 3, 3, 3, 3, 3, 3,\n",
       "       3, 3, 0, 3, 0, 3, 0, 2, 2, 4, 1, 1, 1, 2, 3, 4, 1, 0, 1, 1, 1, 1,\n",
       "       1, 2, 2, 1, 1, 1, 1, 1, 1, 2, 1, 4, 2, 4, 2, 2, 2, 2, 2, 2, 0, 0,\n",
       "       2, 0, 3, 0, 2, 3, 1, 1, 2, 2, 2, 1, 0, 0, 0, 1, 0, 0, 0, 0, 2, 2,\n",
       "       2, 2, 4, 4, 4, 4, 4, 2, 1, 1, 1, 0, 1, 1, 2, 2, 4, 1, 3, 1, 2, 3,\n",
       "       3, 1, 0, 1, 2, 1, 1, 1, 2, 2, 4, 4, 2, 1, 1, 3, 2, 1, 2, 1, 1, 1,\n",
       "       1, 4, 2, 1, 3, 2, 3, 1, 2, 3, 1, 2, 1, 3, 2, 2, 1, 0])"
      ]
     },
     "execution_count": 31,
     "metadata": {},
     "output_type": "execute_result"
    }
   ],
   "source": [
    "df_pred_pca3"
   ]
  },
  {
   "cell_type": "code",
   "execution_count": 32,
   "id": "c2332017",
   "metadata": {},
   "outputs": [
    {
     "data": {
      "text/plain": [
       "array([2, 2, 1, 1, 1, 0, 1, 0, 3, 1, 1, 0, 1, 1, 1, 1, 0, 1, 1, 1, 2, 0,\n",
       "       1, 2, 0, 2, 2, 2, 0, 1, 0, 0, 0, 4, 4, 4, 4, 4, 4, 4, 4, 4, 4, 4,\n",
       "       4, 4, 0, 0, 0, 1, 3, 1, 1, 2, 3, 3, 3, 3, 4, 2, 3, 3, 3, 3, 3, 3,\n",
       "       3, 1, 1, 3, 3, 3, 3, 3, 3, 1, 3, 2, 0, 2, 1, 1, 1, 1, 1, 4, 4, 4,\n",
       "       0, 0, 4, 4, 4, 1, 3, 3, 1, 0, 1, 3, 0, 0, 0, 3, 0, 0, 0, 0, 1, 1,\n",
       "       1, 1, 2, 2, 2, 2, 0, 1, 3, 3, 3, 4, 3, 3, 1, 1, 2, 3, 4, 3, 1, 1,\n",
       "       1, 3, 0, 3, 1, 3, 3, 3, 1, 1, 2, 2, 1, 3, 1, 1, 1, 3, 1, 3, 3, 1,\n",
       "       3, 2, 1, 1, 1, 4, 1, 3, 1, 1, 3, 4, 3, 1, 3, 1, 3, 0])"
      ]
     },
     "execution_count": 32,
     "metadata": {},
     "output_type": "execute_result"
    }
   ],
   "source": [
    "df_pred_pca4"
   ]
  },
  {
   "cell_type": "code",
   "execution_count": 33,
   "id": "da1ecb7e",
   "metadata": {},
   "outputs": [
    {
     "data": {
      "text/plain": [
       "array([4, 4, 0, 0, 0, 1, 1, 1, 2, 0, 0, 1, 0, 0, 0, 0, 1, 1, 0, 0, 4, 1,\n",
       "       0, 4, 1, 4, 4, 4, 1, 0, 1, 1, 1, 3, 3, 3, 3, 3, 3, 3, 3, 3, 3, 3,\n",
       "       3, 3, 1, 1, 1, 0, 2, 0, 0, 4, 2, 2, 2, 2, 3, 4, 2, 2, 2, 2, 2, 2,\n",
       "       2, 0, 0, 2, 2, 2, 2, 2, 2, 0, 2, 4, 1, 4, 0, 0, 0, 0, 0, 3, 3, 3,\n",
       "       1, 1, 3, 3, 3, 0, 2, 2, 0, 1, 0, 2, 1, 1, 1, 2, 1, 1, 1, 1, 0, 0,\n",
       "       0, 1, 4, 1, 4, 4, 1, 0, 2, 2, 2, 3, 2, 2, 0, 0, 4, 2, 3, 2, 0, 0,\n",
       "       0, 2, 1, 2, 0, 2, 2, 2, 0, 0, 4, 4, 0, 2, 0, 0, 0, 2, 0, 2, 2, 0,\n",
       "       2, 4, 0, 0, 0, 3, 0, 2, 0, 0, 2, 3, 2, 0, 2, 0, 2, 1])"
      ]
     },
     "execution_count": 33,
     "metadata": {},
     "output_type": "execute_result"
    }
   ],
   "source": [
    "df_pred_pca5"
   ]
  },
  {
   "cell_type": "markdown",
   "id": "bc40b8ce",
   "metadata": {},
   "source": [
    "#### En base a lo observado y a las decisiones tomadas en este proyecto, el dataframe final a utilizar corresponde a PCA=3\n",
    "\n",
    "El identificador de cluster para cada una de las estaciones se concatena con los valores originales y se exporta al CSV definitivo"
   ]
  },
  {
   "cell_type": "code",
   "execution_count": 34,
   "id": "10e15360",
   "metadata": {},
   "outputs": [
    {
     "name": "stdout",
     "output_type": "stream",
     "text": [
      "<class 'pandas.core.frame.DataFrame'>\n",
      "RangeIndex: 172 entries, 0 to 171\n",
      "Data columns (total 48 columns):\n",
      " #   Column               Non-Null Count  Dtype   \n",
      "---  ------               --------------  -----   \n",
      " 0   ESTACION             172 non-null    int64   \n",
      " 1   DEMANDA_RATIO        172 non-null    float64 \n",
      " 2   DMNDA_201703         172 non-null    float64 \n",
      " 3   DMNDA_201704         172 non-null    float64 \n",
      " 4   DMNDA_201705         172 non-null    int64   \n",
      " 5   DMNDA_201706         172 non-null    int64   \n",
      " 6   DMNDA_201707         172 non-null    int64   \n",
      " 7   DMNDA_201708         172 non-null    int64   \n",
      " 8   DMNDA_201709         172 non-null    int64   \n",
      " 9   DMNDA_201710         172 non-null    int64   \n",
      " 10  DMNDA_201711         172 non-null    int64   \n",
      " 11  DMNDA_201712         172 non-null    float64 \n",
      " 12  DMNDA_201801         172 non-null    float64 \n",
      " 13  DMNDA_201802         172 non-null    int64   \n",
      " 14  DMNDA_201803         172 non-null    int64   \n",
      " 15  DMNDA_201804         172 non-null    int64   \n",
      " 16  DMNDA_201805         172 non-null    float64 \n",
      " 17  DMNDA_201806         172 non-null    float64 \n",
      " 18  DMNDA_201807         172 non-null    float64 \n",
      " 19  DMNDA_201808         172 non-null    float64 \n",
      " 20  DMNDA_201809         172 non-null    float64 \n",
      " 21  DMNDA_201810         172 non-null    float64 \n",
      " 22  DMNDA_201811         172 non-null    float64 \n",
      " 23  DMNDA_201812         172 non-null    float64 \n",
      " 24  DMNDA_201901         172 non-null    float64 \n",
      " 25  DMNDA_201902         172 non-null    float64 \n",
      " 26  DMNDA_201903         172 non-null    float64 \n",
      " 27  DMNDA_201904         172 non-null    float64 \n",
      " 28  DMNDA_201905         172 non-null    float64 \n",
      " 29  DMNDA_201906         172 non-null    float64 \n",
      " 30  DMNDA_201907         172 non-null    float64 \n",
      " 31  DMNDA_201908         172 non-null    float64 \n",
      " 32  DMNDA_201909         172 non-null    float64 \n",
      " 33  DMNDA_201910         172 non-null    float64 \n",
      " 34  DMNDA_201911         172 non-null    float64 \n",
      " 35  DMNDA_201912         172 non-null    float64 \n",
      " 36  Gis_X                172 non-null    float64 \n",
      " 37  Gis_Y                172 non-null    float64 \n",
      " 38  Distrito             172 non-null    category\n",
      " 39  Barrio               172 non-null    category\n",
      " 40  Plazas               172 non-null    category\n",
      " 41  Longitud             172 non-null    float64 \n",
      " 42  Latitud              172 non-null    float64 \n",
      " 43  Tasa_Paro            172 non-null    float64 \n",
      " 44  Renta_Media_Persona  172 non-null    float64 \n",
      " 45  Renta_Media_Hogar    172 non-null    float64 \n",
      " 46  Poblacion            172 non-null    float64 \n",
      " 47  CLUSTER              172 non-null    int32   \n",
      "dtypes: category(3), float64(33), int32(1), int64(11)\n",
      "memory usage: 62.5 KB\n"
     ]
    }
   ],
   "source": [
    "df_final_Clusterizado = pd.concat([df_FinalCluster_Original, pd.DataFrame(df_pred_pca3)], axis=1)\n",
    "\n",
    "df_final_Clusterizado.rename(columns={0: 'CLUSTER'}, inplace=True)\n",
    "df_final_Clusterizado.info()"
   ]
  },
  {
   "cell_type": "code",
   "execution_count": 35,
   "id": "092affef",
   "metadata": {},
   "outputs": [],
   "source": [
    "df_final_Clusterizado[['ESTACION', 'CLUSTER']].to_csv('../../data/Clusterizada_DataFull.csv', index=False)"
   ]
  },
  {
   "cell_type": "code",
   "execution_count": 36,
   "id": "c63329bc",
   "metadata": {},
   "outputs": [
    {
     "data": {
      "text/html": [
       "<div>\n",
       "<style scoped>\n",
       "    .dataframe tbody tr th:only-of-type {\n",
       "        vertical-align: middle;\n",
       "    }\n",
       "\n",
       "    .dataframe tbody tr th {\n",
       "        vertical-align: top;\n",
       "    }\n",
       "\n",
       "    .dataframe thead th {\n",
       "        text-align: right;\n",
       "    }\n",
       "</style>\n",
       "<table border=\"1\" class=\"dataframe\">\n",
       "  <thead>\n",
       "    <tr style=\"text-align: right;\">\n",
       "      <th></th>\n",
       "      <th>ESTACION</th>\n",
       "      <th>CLUSTER</th>\n",
       "    </tr>\n",
       "  </thead>\n",
       "  <tbody>\n",
       "    <tr>\n",
       "      <th>0</th>\n",
       "      <td>1</td>\n",
       "      <td>4</td>\n",
       "    </tr>\n",
       "    <tr>\n",
       "      <th>1</th>\n",
       "      <td>2</td>\n",
       "      <td>4</td>\n",
       "    </tr>\n",
       "    <tr>\n",
       "      <th>...</th>\n",
       "      <td>...</td>\n",
       "      <td>...</td>\n",
       "    </tr>\n",
       "    <tr>\n",
       "      <th>170</th>\n",
       "      <td>146</td>\n",
       "      <td>1</td>\n",
       "    </tr>\n",
       "    <tr>\n",
       "      <th>171</th>\n",
       "      <td>175</td>\n",
       "      <td>0</td>\n",
       "    </tr>\n",
       "  </tbody>\n",
       "</table>\n",
       "<p>172 rows × 2 columns</p>\n",
       "</div>"
      ],
      "text/plain": [
       "     ESTACION  CLUSTER\n",
       "0           1        4\n",
       "1           2        4\n",
       "..        ...      ...\n",
       "170       146        1\n",
       "171       175        0\n",
       "\n",
       "[172 rows x 2 columns]"
      ]
     },
     "execution_count": 36,
     "metadata": {},
     "output_type": "execute_result"
    }
   ],
   "source": [
    "df_final_Clusterizado[['ESTACION', 'CLUSTER']]"
   ]
  }
 ],
 "metadata": {
  "kernelspec": {
   "display_name": "Python 3 (ipykernel)",
   "language": "python",
   "name": "python3"
  },
  "language_info": {
   "codemirror_mode": {
    "name": "ipython",
    "version": 3
   },
   "file_extension": ".py",
   "mimetype": "text/x-python",
   "name": "python",
   "nbconvert_exporter": "python",
   "pygments_lexer": "ipython3",
   "version": "3.8.12"
  },
  "toc": {
   "base_numbering": 1,
   "nav_menu": {},
   "number_sections": true,
   "sideBar": true,
   "skip_h1_title": false,
   "title_cell": "Table of Contents",
   "title_sidebar": "Contents",
   "toc_cell": false,
   "toc_position": {},
   "toc_section_display": true,
   "toc_window_display": false
  }
 },
 "nbformat": 4,
 "nbformat_minor": 5
}
