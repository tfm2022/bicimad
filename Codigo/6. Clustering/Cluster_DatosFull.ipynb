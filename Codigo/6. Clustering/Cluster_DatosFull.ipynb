{
 "cells": [
  {
   "cell_type": "code",
   "execution_count": 1,
   "id": "ad9034cd",
   "metadata": {},
   "outputs": [],
   "source": [
    "import pandas as pd"
   ]
  },
  {
   "cell_type": "code",
   "execution_count": 2,
   "id": "fb3ca70d",
   "metadata": {},
   "outputs": [
    {
     "name": "stdout",
     "output_type": "stream",
     "text": [
      "<class 'pandas.core.frame.DataFrame'>\n",
      "RangeIndex: 179 entries, 0 to 178\n",
      "Data columns (total 13 columns):\n",
      " #   Column               Non-Null Count  Dtype   \n",
      "---  ------               --------------  -----   \n",
      " 0   ESTACION             179 non-null    int64   \n",
      " 1   DEMANDA_RATIO        179 non-null    float64 \n",
      " 2   Gis_X                179 non-null    float64 \n",
      " 3   Gis_Y                179 non-null    float64 \n",
      " 4   Distrito             179 non-null    category\n",
      " 5   Barrio               179 non-null    category\n",
      " 6   Plazas               179 non-null    category\n",
      " 7   Longitud             179 non-null    float64 \n",
      " 8   Latitud              179 non-null    float64 \n",
      " 9   Tasa_Paro            179 non-null    float64 \n",
      " 10  Renta_Media_Persona  179 non-null    float64 \n",
      " 11  Renta_Media_Hogar    179 non-null    float64 \n",
      " 12  Poblacion            179 non-null    float64 \n",
      "dtypes: category(3), float64(9), int64(1)\n",
      "memory usage: 16.7 KB\n"
     ]
    }
   ],
   "source": [
    "df_FinalCluster_Original = pd.read_csv('df_FinalCluster.csv',\n",
    "                              dtype={'Distrito':'category','Plazas':'category','Barrio':'category'})\n",
    "\n",
    "#                               dtype={'Distrito':'category','Gis_X':'category','Gis_Y':'category',\n",
    "#                                      'Plazas':'category','Longitud':'category','Latitud':'category'})\n",
    "\n",
    "df_FinalCluster_Original.info()\n",
    "#df_FinalCluster"
   ]
  },
  {
   "cell_type": "code",
   "execution_count": 3,
   "id": "1078b57d",
   "metadata": {},
   "outputs": [
    {
     "name": "stdout",
     "output_type": "stream",
     "text": [
      "<class 'pandas.core.frame.DataFrame'>\n",
      "RangeIndex: 179 entries, 0 to 178\n",
      "Data columns (total 12 columns):\n",
      " #   Column               Non-Null Count  Dtype   \n",
      "---  ------               --------------  -----   \n",
      " 0   DEMANDA_RATIO        179 non-null    float64 \n",
      " 1   Gis_X                179 non-null    float64 \n",
      " 2   Gis_Y                179 non-null    float64 \n",
      " 3   Distrito             179 non-null    category\n",
      " 4   Barrio               179 non-null    category\n",
      " 5   Plazas               179 non-null    category\n",
      " 6   Longitud             179 non-null    float64 \n",
      " 7   Latitud              179 non-null    float64 \n",
      " 8   Tasa_Paro            179 non-null    float64 \n",
      " 9   Renta_Media_Persona  179 non-null    float64 \n",
      " 10  Renta_Media_Hogar    179 non-null    float64 \n",
      " 11  Poblacion            179 non-null    float64 \n",
      "dtypes: category(3), float64(9)\n",
      "memory usage: 15.3 KB\n"
     ]
    }
   ],
   "source": [
    "df_FinalCluster = df_FinalCluster_Original.copy()\n",
    "\n",
    "df_FinalCluster = df_FinalCluster.drop(columns='ESTACION')\n",
    "df_FinalCluster.info()\n",
    "\n",
    "num_cols = list(df_FinalCluster._get_numeric_data().columns)\n",
    "cat_cols = list(set(df_FinalCluster.columns) - set(num_cols))"
   ]
  },
  {
   "cell_type": "code",
   "execution_count": 4,
   "id": "58251a3d",
   "metadata": {},
   "outputs": [
    {
     "name": "stdout",
     "output_type": "stream",
     "text": [
      "['DEMANDA_RATIO', 'Gis_X', 'Gis_Y', 'Longitud', 'Latitud', 'Tasa_Paro', 'Renta_Media_Persona', 'Renta_Media_Hogar', 'Poblacion']\n",
      "['Distrito', 'Plazas', 'Barrio']\n"
     ]
    }
   ],
   "source": [
    "print(num_cols)\n",
    "print(cat_cols)"
   ]
  },
  {
   "cell_type": "code",
   "execution_count": 5,
   "id": "08261cce",
   "metadata": {},
   "outputs": [],
   "source": [
    "from sklearn.cluster import KMeans\n",
    "import sklearn.cluster as cluster\n",
    "from sklearn import preprocessing\n",
    "from sklearn.pipeline import make_pipeline\n",
    "import sklearn.cluster as cluster\n",
    "import sklearn.metrics as metrics\n",
    "from sklearn.preprocessing import OneHotEncoder\n",
    "import pandas as pd\n",
    "from sklearn.preprocessing import MinMaxScaler\n",
    "import seaborn as sns\n",
    "from matplotlib import pyplot as plt\n",
    "from sklearn.decomposition import PCA\n",
    "import numpy as np\n",
    "\n",
    "%matplotlib inline\n",
    "\n",
    "pd.set_option('display.max_rows', 5)"
   ]
  },
  {
   "cell_type": "markdown",
   "id": "2de8b61d",
   "metadata": {},
   "source": [
    "### KNN con 2 variables"
   ]
  },
  {
   "cell_type": "code",
   "execution_count": 6,
   "id": "2945a6b2",
   "metadata": {},
   "outputs": [
    {
     "data": {
      "text/html": [
       "<div>\n",
       "<style scoped>\n",
       "    .dataframe tbody tr th:only-of-type {\n",
       "        vertical-align: middle;\n",
       "    }\n",
       "\n",
       "    .dataframe tbody tr th {\n",
       "        vertical-align: top;\n",
       "    }\n",
       "\n",
       "    .dataframe thead th {\n",
       "        text-align: right;\n",
       "    }\n",
       "</style>\n",
       "<table border=\"1\" class=\"dataframe\">\n",
       "  <thead>\n",
       "    <tr style=\"text-align: right;\">\n",
       "      <th></th>\n",
       "      <th>DEMANDA_RATIO</th>\n",
       "      <th>Tasa_Paro</th>\n",
       "    </tr>\n",
       "  </thead>\n",
       "  <tbody>\n",
       "    <tr>\n",
       "      <th>0</th>\n",
       "      <td>2450.230769</td>\n",
       "      <td>4.309681</td>\n",
       "    </tr>\n",
       "    <tr>\n",
       "      <th>1</th>\n",
       "      <td>1273.636364</td>\n",
       "      <td>4.309681</td>\n",
       "    </tr>\n",
       "    <tr>\n",
       "      <th>...</th>\n",
       "      <td>...</td>\n",
       "      <td>...</td>\n",
       "    </tr>\n",
       "    <tr>\n",
       "      <th>177</th>\n",
       "      <td>868.285714</td>\n",
       "      <td>3.819713</td>\n",
       "    </tr>\n",
       "    <tr>\n",
       "      <th>178</th>\n",
       "      <td>693.857143</td>\n",
       "      <td>5.899887</td>\n",
       "    </tr>\n",
       "  </tbody>\n",
       "</table>\n",
       "<p>179 rows × 2 columns</p>\n",
       "</div>"
      ],
      "text/plain": [
       "     DEMANDA_RATIO  Tasa_Paro\n",
       "0      2450.230769   4.309681\n",
       "1      1273.636364   4.309681\n",
       "..             ...        ...\n",
       "177     868.285714   3.819713\n",
       "178     693.857143   5.899887\n",
       "\n",
       "[179 rows x 2 columns]"
      ]
     },
     "execution_count": 6,
     "metadata": {},
     "output_type": "execute_result"
    }
   ],
   "source": [
    "# Usando 2 variables\n",
    "df_knn = df_FinalCluster[['DEMANDA_RATIO', 'Tasa_Paro']]\n",
    "df_knn"
   ]
  },
  {
   "cell_type": "code",
   "execution_count": 7,
   "id": "42441724",
   "metadata": {},
   "outputs": [
    {
     "data": {
      "text/html": [
       "<div>\n",
       "<style scoped>\n",
       "    .dataframe tbody tr th:only-of-type {\n",
       "        vertical-align: middle;\n",
       "    }\n",
       "\n",
       "    .dataframe tbody tr th {\n",
       "        vertical-align: top;\n",
       "    }\n",
       "\n",
       "    .dataframe thead th {\n",
       "        text-align: right;\n",
       "    }\n",
       "</style>\n",
       "<table border=\"1\" class=\"dataframe\">\n",
       "  <thead>\n",
       "    <tr style=\"text-align: right;\">\n",
       "      <th></th>\n",
       "      <th>DEMANDA_RATIO</th>\n",
       "      <th>Tasa_Paro</th>\n",
       "    </tr>\n",
       "  </thead>\n",
       "  <tbody>\n",
       "    <tr>\n",
       "      <th>0</th>\n",
       "      <td>0.562517</td>\n",
       "      <td>0.596006</td>\n",
       "    </tr>\n",
       "    <tr>\n",
       "      <th>1</th>\n",
       "      <td>0.248968</td>\n",
       "      <td>0.596006</td>\n",
       "    </tr>\n",
       "    <tr>\n",
       "      <th>...</th>\n",
       "      <td>...</td>\n",
       "      <td>...</td>\n",
       "    </tr>\n",
       "    <tr>\n",
       "      <th>177</th>\n",
       "      <td>0.140946</td>\n",
       "      <td>0.471529</td>\n",
       "    </tr>\n",
       "    <tr>\n",
       "      <th>178</th>\n",
       "      <td>0.094463</td>\n",
       "      <td>1.000000</td>\n",
       "    </tr>\n",
       "  </tbody>\n",
       "</table>\n",
       "<p>179 rows × 2 columns</p>\n",
       "</div>"
      ],
      "text/plain": [
       "     DEMANDA_RATIO  Tasa_Paro\n",
       "0         0.562517   0.596006\n",
       "1         0.248968   0.596006\n",
       "..             ...        ...\n",
       "177       0.140946   0.471529\n",
       "178       0.094463   1.000000\n",
       "\n",
       "[179 rows x 2 columns]"
      ]
     },
     "execution_count": 7,
     "metadata": {},
     "output_type": "execute_result"
    }
   ],
   "source": [
    "# Escalando variables\n",
    "scaler = MinMaxScaler()\n",
    "scale = scaler.fit_transform(df_knn)\n",
    "df_scale = pd.DataFrame(scale, columns = ['DEMANDA_RATIO', 'Tasa_Paro']);\n",
    "df_scale"
   ]
  },
  {
   "cell_type": "code",
   "execution_count": 8,
   "id": "0ca35d19",
   "metadata": {},
   "outputs": [
    {
     "data": {
      "text/plain": [
       "array([2, 3, 1, 3, 3, 2, 3, 3, 2, 3, 0, 3, 2, 3, 0, 3, 1, 3, 2, 3, 3, 3,\n",
       "       1, 3, 0, 0, 1, 2, 0, 3, 0, 0, 0, 0, 2, 0, 0, 1, 1, 4, 3, 2, 2, 3,\n",
       "       1, 2, 3, 3, 1, 1, 3, 1, 2, 4, 2, 2, 0, 0, 1, 3, 2, 1, 3, 3, 3, 1,\n",
       "       0, 3, 1, 1, 1, 3, 1, 1, 3, 3, 3, 2, 2, 0, 1, 0, 0, 3, 4, 1, 3, 3,\n",
       "       3, 1, 3, 0, 0, 3, 0, 0, 3, 1, 0, 0, 3, 0, 1, 0, 3, 0, 0, 1, 1, 3,\n",
       "       3, 0, 1, 0, 0, 3, 0, 3, 3, 3, 3, 0, 2, 2, 3, 1, 1, 1, 3, 2, 1, 0,\n",
       "       0, 1, 0, 0, 3, 0, 0, 1, 0, 0, 0, 4, 0, 0, 0, 3, 3, 1, 1, 2, 0, 0,\n",
       "       2, 2, 2, 4, 2, 0, 1, 3, 2, 2, 2, 3, 3, 0, 0, 4, 3, 0, 0, 0, 0, 0,\n",
       "       0, 0, 0])"
      ]
     },
     "execution_count": 8,
     "metadata": {},
     "output_type": "execute_result"
    }
   ],
   "source": [
    "# Kmeans con 5 clusters\n",
    "km=KMeans(n_clusters=5)\n",
    "y_predicted = km.fit_predict(df_knn)\n",
    "y_predicted"
   ]
  },
  {
   "cell_type": "code",
   "execution_count": 9,
   "id": "17eba3c9",
   "metadata": {},
   "outputs": [
    {
     "data": {
      "text/plain": [
       "array([[9.08532304e+02, 3.51610299e+00],\n",
       "       [2.01948352e+03, 3.92908479e+00],\n",
       "       [2.68455918e+03, 4.11270107e+00],\n",
       "       [1.49028833e+03, 3.85596979e+00],\n",
       "       [3.75266667e+03, 4.39477292e+00]])"
      ]
     },
     "execution_count": 9,
     "metadata": {},
     "output_type": "execute_result"
    }
   ],
   "source": [
    "km.cluster_centers_"
   ]
  },
  {
   "cell_type": "code",
   "execution_count": 10,
   "id": "e5b89843",
   "metadata": {},
   "outputs": [
    {
     "name": "stderr",
     "output_type": "stream",
     "text": [
      "C:\\Users\\gonza\\AppData\\Local\\Temp\\ipykernel_2188\\1530545832.py:1: SettingWithCopyWarning: \n",
      "A value is trying to be set on a copy of a slice from a DataFrame.\n",
      "Try using .loc[row_indexer,col_indexer] = value instead\n",
      "\n",
      "See the caveats in the documentation: https://pandas.pydata.org/pandas-docs/stable/user_guide/indexing.html#returning-a-view-versus-a-copy\n",
      "  df_knn['Clusters'] = km.labels_\n"
     ]
    },
    {
     "data": {
      "text/plain": [
       "<AxesSubplot:xlabel='Tasa_Paro', ylabel='DEMANDA_RATIO'>"
      ]
     },
     "execution_count": 10,
     "metadata": {},
     "output_type": "execute_result"
    },
    {
     "data": {
      "image/png": "[encoded data removed]",
      "text/plain": [
       "<Figure size 432x288 with 1 Axes>"
      ]
     },
     "metadata": {
      "needs_background": "light"
     },
     "output_type": "display_data"
    }
   ],
   "source": [
    "df_knn['Clusters'] = km.labels_\n",
    "sns.scatterplot(x=\"Tasa_Paro\", y=\"DEMANDA_RATIO\",hue = 'Clusters',  data=df_knn,palette='viridis')"
   ]
  },
  {
   "cell_type": "markdown",
   "id": "77ed7b7f",
   "metadata": {},
   "source": [
    "## Número óptimo de clusters"
   ]
  },
  {
   "cell_type": "markdown",
   "id": "e9820611",
   "metadata": {},
   "source": [
    "### Método Elbow"
   ]
  },
  {
   "cell_type": "code",
   "execution_count": 11,
   "id": "21ba4026",
   "metadata": {},
   "outputs": [],
   "source": [
    "K=range(2,20)\n",
    "wss = []\n",
    "\n",
    "for k in K:\n",
    "    kmeans=cluster.KMeans(n_clusters=k)\n",
    "    kmeans=kmeans.fit(df_scale)\n",
    "    wss_iter = kmeans.inertia_\n",
    "    wss.append(wss_iter)"
   ]
  },
  {
   "cell_type": "code",
   "execution_count": 12,
   "id": "41c5a6f9",
   "metadata": {},
   "outputs": [
    {
     "data": {
      "text/plain": [
       "[<matplotlib.lines.Line2D at 0x26fb1df40a0>]"
      ]
     },
     "execution_count": 12,
     "metadata": {},
     "output_type": "execute_result"
    },
    {
     "data": {
      "image/png": "[encoded data removed]",
      "text/plain": [
       "<Figure size 432x288 with 1 Axes>"
      ]
     },
     "metadata": {
      "needs_background": "light"
     },
     "output_type": "display_data"
    }
   ],
   "source": [
    "plt.xlabel('K')\n",
    "plt.ylabel('Within-Cluster-Sum of Squared Errors (WSS)')\n",
    "plt.plot(K,wss)"
   ]
  },
  {
   "cell_type": "markdown",
   "id": "018b25b0",
   "metadata": {},
   "source": [
    "### Silhouette"
   ]
  },
  {
   "cell_type": "code",
   "execution_count": 13,
   "id": "1aee9505",
   "metadata": {},
   "outputs": [
    {
     "name": "stdout",
     "output_type": "stream",
     "text": [
      "Silhouette score for k(clusters) = 2 is 0.39868829403287465\n",
      "Silhouette score for k(clusters) = 3 is 0.39181094377938946\n",
      "Silhouette score for k(clusters) = 4 is 0.4068540509039899\n",
      "Silhouette score for k(clusters) = 5 is 0.4278666722124845\n",
      "Silhouette score for k(clusters) = 6 is 0.4335604972548596\n",
      "Silhouette score for k(clusters) = 7 is 0.45053647395005586\n",
      "Silhouette score for k(clusters) = 8 is 0.43963789838706213\n",
      "Silhouette score for k(clusters) = 9 is 0.4476857144791276\n",
      "Silhouette score for k(clusters) = 10 is 0.43499765246292166\n",
      "Silhouette score for k(clusters) = 11 is 0.452237317456789\n",
      "Silhouette score for k(clusters) = 12 is 0.4371252901717545\n",
      "Silhouette score for k(clusters) = 13 is 0.4549225464890112\n",
      "Silhouette score for k(clusters) = 14 is 0.4593184077764681\n",
      "Silhouette score for k(clusters) = 15 is 0.45103597583421723\n",
      "Silhouette score for k(clusters) = 16 is 0.4139813358754656\n",
      "Silhouette score for k(clusters) = 17 is 0.436528373764645\n",
      "Silhouette score for k(clusters) = 18 is 0.43147859963543395\n",
      "Silhouette score for k(clusters) = 19 is 0.4319534880404617\n"
     ]
    }
   ],
   "source": [
    "for i in range(2,20):\n",
    "    labels=cluster.KMeans(n_clusters=i,random_state=200).fit(df_scale).labels_\n",
    "    print (\"Silhouette score for k(clusters) = \"+str(i)+\" is \"+str(metrics.silhouette_score(df_scale,labels,metric=\"euclidean\",sample_size=1000,random_state=200)))"
   ]
  },
  {
   "cell_type": "markdown",
   "id": "18f296cd",
   "metadata": {},
   "source": [
    "## Creación de DF final para KNN"
   ]
  },
  {
   "cell_type": "markdown",
   "id": "0add2bba",
   "metadata": {},
   "source": [
    "### Transformando categóricas: One Hot Encoder (variables dummies)"
   ]
  },
  {
   "cell_type": "code",
   "execution_count": 14,
   "id": "48129d94",
   "metadata": {},
   "outputs": [
    {
     "data": {
      "text/html": [
       "<div>\n",
       "<style scoped>\n",
       "    .dataframe tbody tr th:only-of-type {\n",
       "        vertical-align: middle;\n",
       "    }\n",
       "\n",
       "    .dataframe tbody tr th {\n",
       "        vertical-align: top;\n",
       "    }\n",
       "\n",
       "    .dataframe thead th {\n",
       "        text-align: right;\n",
       "    }\n",
       "</style>\n",
       "<table border=\"1\" class=\"dataframe\">\n",
       "  <thead>\n",
       "    <tr style=\"text-align: right;\">\n",
       "      <th></th>\n",
       "      <th>Distrito</th>\n",
       "      <th>Plazas</th>\n",
       "      <th>Barrio</th>\n",
       "    </tr>\n",
       "  </thead>\n",
       "  <tbody>\n",
       "    <tr>\n",
       "      <th>0</th>\n",
       "      <td>1</td>\n",
       "      <td>30</td>\n",
       "      <td>01-06</td>\n",
       "    </tr>\n",
       "    <tr>\n",
       "      <th>1</th>\n",
       "      <td>1</td>\n",
       "      <td>30</td>\n",
       "      <td>01-06</td>\n",
       "    </tr>\n",
       "    <tr>\n",
       "      <th>...</th>\n",
       "      <td>...</td>\n",
       "      <td>...</td>\n",
       "      <td>...</td>\n",
       "    </tr>\n",
       "    <tr>\n",
       "      <th>177</th>\n",
       "      <td>4</td>\n",
       "      <td>18</td>\n",
       "      <td>04-04</td>\n",
       "    </tr>\n",
       "    <tr>\n",
       "      <th>178</th>\n",
       "      <td>6</td>\n",
       "      <td>18</td>\n",
       "      <td>06-05</td>\n",
       "    </tr>\n",
       "  </tbody>\n",
       "</table>\n",
       "<p>179 rows × 3 columns</p>\n",
       "</div>"
      ],
      "text/plain": [
       "    Distrito Plazas Barrio\n",
       "0          1     30  01-06\n",
       "1          1     30  01-06\n",
       "..       ...    ...    ...\n",
       "177        4     18  04-04\n",
       "178        6     18  06-05\n",
       "\n",
       "[179 rows x 3 columns]"
      ]
     },
     "execution_count": 14,
     "metadata": {},
     "output_type": "execute_result"
    }
   ],
   "source": [
    "df_cat = df_FinalCluster[cat_cols]\n",
    "df_cat"
   ]
  },
  {
   "cell_type": "code",
   "execution_count": 15,
   "id": "44b68f19",
   "metadata": {},
   "outputs": [
    {
     "data": {
      "text/plain": [
       "(179, 51)"
      ]
     },
     "execution_count": 15,
     "metadata": {},
     "output_type": "execute_result"
    }
   ],
   "source": [
    "OneHot = OneHotEncoder(handle_unknown='ignore', drop='first')\n",
    "OneHot.fit(df_cat.values)\n",
    "\n",
    "df_cat_OneHot = OneHot.transform(df_cat.values).toarray()\n",
    "df_cat_OneHot.shape"
   ]
  },
  {
   "cell_type": "markdown",
   "id": "7473e582",
   "metadata": {},
   "source": [
    "### Concatenación de DF: Numéricos y Categóricas"
   ]
  },
  {
   "cell_type": "code",
   "execution_count": 16,
   "id": "e1974796",
   "metadata": {},
   "outputs": [
    {
     "name": "stdout",
     "output_type": "stream",
     "text": [
      "<class 'pandas.core.frame.DataFrame'>\n",
      "RangeIndex: 179 entries, 0 to 178\n",
      "Data columns (total 60 columns):\n",
      " #   Column               Non-Null Count  Dtype  \n",
      "---  ------               --------------  -----  \n",
      " 0   DEMANDA_RATIO        179 non-null    float64\n",
      " 1   Gis_X                179 non-null    float64\n",
      " 2   Gis_Y                179 non-null    float64\n",
      " 3   Longitud             179 non-null    float64\n",
      " 4   Latitud              179 non-null    float64\n",
      " 5   Tasa_Paro            179 non-null    float64\n",
      " 6   Renta_Media_Persona  179 non-null    float64\n",
      " 7   Renta_Media_Hogar    179 non-null    float64\n",
      " 8   Poblacion            179 non-null    float64\n",
      " 9   0                    179 non-null    float64\n",
      " 10  1                    179 non-null    float64\n",
      " 11  2                    179 non-null    float64\n",
      " 12  3                    179 non-null    float64\n",
      " 13  4                    179 non-null    float64\n",
      " 14  5                    179 non-null    float64\n",
      " 15  6                    179 non-null    float64\n",
      " 16  7                    179 non-null    float64\n",
      " 17  8                    179 non-null    float64\n",
      " 18  9                    179 non-null    float64\n",
      " 19  10                   179 non-null    float64\n",
      " 20  11                   179 non-null    float64\n",
      " 21  12                   179 non-null    float64\n",
      " 22  13                   179 non-null    float64\n",
      " 23  14                   179 non-null    float64\n",
      " 24  15                   179 non-null    float64\n",
      " 25  16                   179 non-null    float64\n",
      " 26  17                   179 non-null    float64\n",
      " 27  18                   179 non-null    float64\n",
      " 28  19                   179 non-null    float64\n",
      " 29  20                   179 non-null    float64\n",
      " 30  21                   179 non-null    float64\n",
      " 31  22                   179 non-null    float64\n",
      " 32  23                   179 non-null    float64\n",
      " 33  24                   179 non-null    float64\n",
      " 34  25                   179 non-null    float64\n",
      " 35  26                   179 non-null    float64\n",
      " 36  27                   179 non-null    float64\n",
      " 37  28                   179 non-null    float64\n",
      " 38  29                   179 non-null    float64\n",
      " 39  30                   179 non-null    float64\n",
      " 40  31                   179 non-null    float64\n",
      " 41  32                   179 non-null    float64\n",
      " 42  33                   179 non-null    float64\n",
      " 43  34                   179 non-null    float64\n",
      " 44  35                   179 non-null    float64\n",
      " 45  36                   179 non-null    float64\n",
      " 46  37                   179 non-null    float64\n",
      " 47  38                   179 non-null    float64\n",
      " 48  39                   179 non-null    float64\n",
      " 49  40                   179 non-null    float64\n",
      " 50  41                   179 non-null    float64\n",
      " 51  42                   179 non-null    float64\n",
      " 52  43                   179 non-null    float64\n",
      " 53  44                   179 non-null    float64\n",
      " 54  45                   179 non-null    float64\n",
      " 55  46                   179 non-null    float64\n",
      " 56  47                   179 non-null    float64\n",
      " 57  48                   179 non-null    float64\n",
      " 58  49                   179 non-null    float64\n",
      " 59  50                   179 non-null    float64\n",
      "dtypes: float64(60)\n",
      "memory usage: 84.0 KB\n"
     ]
    },
    {
     "data": {
      "text/html": [
       "<div>\n",
       "<style scoped>\n",
       "    .dataframe tbody tr th:only-of-type {\n",
       "        vertical-align: middle;\n",
       "    }\n",
       "\n",
       "    .dataframe tbody tr th {\n",
       "        vertical-align: top;\n",
       "    }\n",
       "\n",
       "    .dataframe thead th {\n",
       "        text-align: right;\n",
       "    }\n",
       "</style>\n",
       "<table border=\"1\" class=\"dataframe\">\n",
       "  <thead>\n",
       "    <tr style=\"text-align: right;\">\n",
       "      <th></th>\n",
       "      <th>DEMANDA_RATIO</th>\n",
       "      <th>Gis_X</th>\n",
       "      <th>Gis_Y</th>\n",
       "      <th>Longitud</th>\n",
       "      <th>Latitud</th>\n",
       "      <th>Tasa_Paro</th>\n",
       "      <th>Renta_Media_Persona</th>\n",
       "      <th>Renta_Media_Hogar</th>\n",
       "      <th>Poblacion</th>\n",
       "      <th>0</th>\n",
       "      <th>...</th>\n",
       "      <th>41</th>\n",
       "      <th>42</th>\n",
       "      <th>43</th>\n",
       "      <th>44</th>\n",
       "      <th>45</th>\n",
       "      <th>46</th>\n",
       "      <th>47</th>\n",
       "      <th>48</th>\n",
       "      <th>49</th>\n",
       "      <th>50</th>\n",
       "    </tr>\n",
       "  </thead>\n",
       "  <tbody>\n",
       "    <tr>\n",
       "      <th>0</th>\n",
       "      <td>2450.230769</td>\n",
       "      <td>440443.61</td>\n",
       "      <td>4474290.65</td>\n",
       "      <td>-3.701998</td>\n",
       "      <td>40.417111</td>\n",
       "      <td>4.309681</td>\n",
       "      <td>17550.00279</td>\n",
       "      <td>35056.88536</td>\n",
       "      <td>7665.0</td>\n",
       "      <td>0.0</td>\n",
       "      <td>...</td>\n",
       "      <td>0.0</td>\n",
       "      <td>0.0</td>\n",
       "      <td>0.0</td>\n",
       "      <td>0.0</td>\n",
       "      <td>0.0</td>\n",
       "      <td>0.0</td>\n",
       "      <td>0.0</td>\n",
       "      <td>0.0</td>\n",
       "      <td>0.0</td>\n",
       "      <td>0.0</td>\n",
       "    </tr>\n",
       "    <tr>\n",
       "      <th>1</th>\n",
       "      <td>1273.636364</td>\n",
       "      <td>440480.56</td>\n",
       "      <td>4474301.74</td>\n",
       "      <td>-3.701564</td>\n",
       "      <td>40.417213</td>\n",
       "      <td>4.309681</td>\n",
       "      <td>17550.00279</td>\n",
       "      <td>35056.88536</td>\n",
       "      <td>7665.0</td>\n",
       "      <td>0.0</td>\n",
       "      <td>...</td>\n",
       "      <td>0.0</td>\n",
       "      <td>0.0</td>\n",
       "      <td>0.0</td>\n",
       "      <td>0.0</td>\n",
       "      <td>0.0</td>\n",
       "      <td>0.0</td>\n",
       "      <td>0.0</td>\n",
       "      <td>0.0</td>\n",
       "      <td>0.0</td>\n",
       "      <td>0.0</td>\n",
       "    </tr>\n",
       "    <tr>\n",
       "      <th>...</th>\n",
       "      <td>...</td>\n",
       "      <td>...</td>\n",
       "      <td>...</td>\n",
       "      <td>...</td>\n",
       "      <td>...</td>\n",
       "      <td>...</td>\n",
       "      <td>...</td>\n",
       "      <td>...</td>\n",
       "      <td>...</td>\n",
       "      <td>...</td>\n",
       "      <td>...</td>\n",
       "      <td>...</td>\n",
       "      <td>...</td>\n",
       "      <td>...</td>\n",
       "      <td>...</td>\n",
       "      <td>...</td>\n",
       "      <td>...</td>\n",
       "      <td>...</td>\n",
       "      <td>...</td>\n",
       "      <td>...</td>\n",
       "      <td>...</td>\n",
       "    </tr>\n",
       "    <tr>\n",
       "      <th>177</th>\n",
       "      <td>868.285714</td>\n",
       "      <td>442830.66</td>\n",
       "      <td>4476215.36</td>\n",
       "      <td>-3.674037</td>\n",
       "      <td>40.434617</td>\n",
       "      <td>3.819713</td>\n",
       "      <td>21251.03416</td>\n",
       "      <td>50063.95065</td>\n",
       "      <td>42445.0</td>\n",
       "      <td>0.0</td>\n",
       "      <td>...</td>\n",
       "      <td>0.0</td>\n",
       "      <td>0.0</td>\n",
       "      <td>0.0</td>\n",
       "      <td>0.0</td>\n",
       "      <td>0.0</td>\n",
       "      <td>0.0</td>\n",
       "      <td>0.0</td>\n",
       "      <td>0.0</td>\n",
       "      <td>0.0</td>\n",
       "      <td>0.0</td>\n",
       "    </tr>\n",
       "    <tr>\n",
       "      <th>178</th>\n",
       "      <td>693.857143</td>\n",
       "      <td>440874.02</td>\n",
       "      <td>4479384.51</td>\n",
       "      <td>-3.697399</td>\n",
       "      <td>40.463029</td>\n",
       "      <td>5.899887</td>\n",
       "      <td>12254.49279</td>\n",
       "      <td>30163.55029</td>\n",
       "      <td>26607.0</td>\n",
       "      <td>0.0</td>\n",
       "      <td>...</td>\n",
       "      <td>0.0</td>\n",
       "      <td>0.0</td>\n",
       "      <td>1.0</td>\n",
       "      <td>0.0</td>\n",
       "      <td>0.0</td>\n",
       "      <td>0.0</td>\n",
       "      <td>0.0</td>\n",
       "      <td>0.0</td>\n",
       "      <td>0.0</td>\n",
       "      <td>0.0</td>\n",
       "    </tr>\n",
       "  </tbody>\n",
       "</table>\n",
       "<p>179 rows × 60 columns</p>\n",
       "</div>"
      ],
      "text/plain": [
       "     DEMANDA_RATIO      Gis_X       Gis_Y  Longitud    Latitud  Tasa_Paro  \\\n",
       "0      2450.230769  440443.61  4474290.65 -3.701998  40.417111   4.309681   \n",
       "1      1273.636364  440480.56  4474301.74 -3.701564  40.417213   4.309681   \n",
       "..             ...        ...         ...       ...        ...        ...   \n",
       "177     868.285714  442830.66  4476215.36 -3.674037  40.434617   3.819713   \n",
       "178     693.857143  440874.02  4479384.51 -3.697399  40.463029   5.899887   \n",
       "\n",
       "     Renta_Media_Persona  Renta_Media_Hogar  Poblacion    0  ...   41   42  \\\n",
       "0            17550.00279        35056.88536     7665.0  0.0  ...  0.0  0.0   \n",
       "1            17550.00279        35056.88536     7665.0  0.0  ...  0.0  0.0   \n",
       "..                   ...                ...        ...  ...  ...  ...  ...   \n",
       "177          21251.03416        50063.95065    42445.0  0.0  ...  0.0  0.0   \n",
       "178          12254.49279        30163.55029    26607.0  0.0  ...  0.0  0.0   \n",
       "\n",
       "      43   44   45   46   47   48   49   50  \n",
       "0    0.0  0.0  0.0  0.0  0.0  0.0  0.0  0.0  \n",
       "1    0.0  0.0  0.0  0.0  0.0  0.0  0.0  0.0  \n",
       "..   ...  ...  ...  ...  ...  ...  ...  ...  \n",
       "177  0.0  0.0  0.0  0.0  0.0  0.0  0.0  0.0  \n",
       "178  1.0  0.0  0.0  0.0  0.0  0.0  0.0  0.0  \n",
       "\n",
       "[179 rows x 60 columns]"
      ]
     },
     "execution_count": 16,
     "metadata": {},
     "output_type": "execute_result"
    }
   ],
   "source": [
    "df_knn_final = pd.concat([df_FinalCluster[num_cols], pd.DataFrame(df_cat_OneHot)], axis=1)\n",
    "df_knn_final.columns = df_knn_final.columns.astype(str)\n",
    "df_knn_final.info()\n",
    "df_knn_final"
   ]
  },
  {
   "cell_type": "markdown",
   "id": "2ad0e6e6",
   "metadata": {},
   "source": [
    "## Reducción de dimensionalidad PCA"
   ]
  },
  {
   "cell_type": "code",
   "execution_count": 17,
   "id": "61c011f2",
   "metadata": {},
   "outputs": [],
   "source": [
    "df_pca_2 = PCA(n_components=2).fit_transform(df_knn_final)\n",
    "df_pca_3 = PCA(n_components=3).fit_transform(df_knn_final)\n",
    "df_pca_4 = PCA(n_components=4).fit_transform(df_knn_final)\n",
    "df_pca_5 = PCA(n_components=5).fit_transform(df_knn_final)\n"
   ]
  },
  {
   "cell_type": "code",
   "execution_count": 18,
   "id": "be7470f0",
   "metadata": {},
   "outputs": [
    {
     "data": {
      "text/plain": [
       "array([[ 1.21732786e+04,  2.06772861e+04,  3.41362240e+02],\n",
       "       [ 1.21615735e+04,  2.06757636e+04,  4.20744197e+02],\n",
       "       [ 2.05960884e+04, -3.66494633e+03,  2.84240868e+02],\n",
       "       [ 6.28655584e+03,  3.44441584e+02,  1.25028717e+03],\n",
       "       [ 2.05573530e+04, -3.71295175e+03,  1.03254332e+03],\n",
       "       [ 2.20297056e+03,  6.01636900e+03,  1.86390673e+03],\n",
       "       [ 2.19729245e+03,  6.03299303e+03,  1.46111060e+03],\n",
       "       [ 2.19425259e+03,  6.02633222e+03,  1.53281935e+03],\n",
       "       [-1.66427556e+04, -2.75721818e+03, -1.54463394e+02],\n",
       "       [ 1.36237672e+04,  4.18485669e+03,  2.69244322e+02],\n",
       "       [ 2.17349541e+03,  6.01632532e+03,  1.47891819e+03],\n",
       "       [ 2.05668408e+04, -3.70312238e+03,  8.87882243e+02],\n",
       "       [ 2.05783043e+04, -3.70674068e+03,  1.00951746e+03],\n",
       "       [ 2.05852301e+04, -3.69405625e+03,  1.04332980e+03],\n",
       "       [-1.80646909e+03, -2.32175929e+03,  7.51125722e+02],\n",
       "       [ 2.05784246e+04, -3.69320550e+03,  8.94594846e+02],\n",
       "       [ 2.05921656e+04, -3.67485907e+03,  5.55621436e+02],\n",
       "       [ 2.05808107e+04, -3.68130400e+03,  5.26360286e+02],\n",
       "       [ 2.22262409e+03,  6.05261655e+03,  1.08224194e+03],\n",
       "       [ 2.19600453e+03,  6.04045840e+03,  1.18897415e+03],\n",
       "       [ 2.20571430e+03,  6.05495473e+03,  9.16761867e+02],\n",
       "       [ 1.21673558e+04,  2.06677460e+04,  7.83003618e+02],\n",
       "       [ 1.36131557e+04,  4.15851591e+03,  6.34207119e+02],\n",
       "       [ 1.36189154e+04,  4.17432612e+03,  5.17041837e+02],\n",
       "       [ 1.21645302e+04,  2.06817719e+04,  5.84302085e+02],\n",
       "       [ 1.21663250e+04,  2.06822984e+04,  5.65771271e+02],\n",
       "       [ 2.19352344e+03,  6.02888691e+03,  1.31183254e+03],\n",
       "       [ 7.00742287e+03,  1.55648133e+04,  3.64476869e+02],\n",
       "       [ 6.98654408e+03,  1.55430147e+04,  9.77017929e+02],\n",
       "       [ 6.99251674e+03,  1.55490333e+04,  6.98624718e+02],\n",
       "       [ 1.36142729e+04,  4.16804454e+03,  6.92765490e+02],\n",
       "       [ 1.21752174e+04,  2.06882918e+04,  4.56495600e+02],\n",
       "       [ 1.21781174e+04,  2.06955569e+04,  3.08136317e+02],\n",
       "       [ 1.21647916e+04,  2.06822138e+04,  4.09179816e+02],\n",
       "       [ 7.02681420e+03,  1.55711897e+04,  6.13232444e+02],\n",
       "       [ 1.36263433e+04,  4.19395521e+03,  1.85381645e+02],\n",
       "       [ 1.36221659e+04,  4.18190990e+03,  4.61847266e+02],\n",
       "       [ 1.36573371e+04,  4.21800972e+03, -1.38431844e+02],\n",
       "       [ 1.36460023e+04,  4.21139140e+03, -1.27708482e+02],\n",
       "       [ 1.36532237e+04,  4.20812053e+03, -2.82392565e+02],\n",
       "       [ 3.15099617e+04, -1.42975577e+04, -1.32319135e+03],\n",
       "       [ 3.15082394e+04, -1.42979253e+04, -1.65110658e+03],\n",
       "       [ 3.15094869e+04, -1.42913062e+04, -1.79502912e+03],\n",
       "       [ 3.15144686e+04, -1.42811200e+04, -1.70960271e+03],\n",
       "       [ 3.15214446e+04, -1.42774380e+04, -1.72770924e+03],\n",
       "       [ 3.15580416e+04, -1.42504462e+04, -1.92366874e+03],\n",
       "       [ 1.01670112e+04, -1.12144492e+04, -2.09682185e+03],\n",
       "       [ 1.01579986e+04, -1.12168267e+04, -2.26116091e+03],\n",
       "       [ 3.15343451e+04, -1.42566287e+04, -2.21071295e+03],\n",
       "       [ 3.15236499e+04, -1.42643805e+04, -2.20003291e+03],\n",
       "       [ 3.14970195e+04, -1.42860854e+04, -2.07554589e+03],\n",
       "       [ 3.15031735e+04, -1.42822459e+04, -2.14955614e+03],\n",
       "       [ 7.01803945e+03,  1.55663243e+04,  5.79274180e+02],\n",
       "       [ 3.15365591e+04, -1.42736156e+04, -2.07995483e+03],\n",
       "       [ 2.20858282e+03,  6.02316162e+03,  1.62778291e+03],\n",
       "       [ 2.05812563e+04, -3.68944175e+03,  4.97493564e+02],\n",
       "       [ 1.21611384e+04,  2.06715866e+04,  5.83637766e+02],\n",
       "       [ 2.05762898e+04, -3.70285005e+03,  1.36742058e+03],\n",
       "       [ 2.20814470e+03,  6.04269340e+03,  1.22377981e+03],\n",
       "       [ 2.05723678e+04, -3.69389949e+03,  7.53277434e+02],\n",
       "       [-2.48543380e+04,  7.95714117e+03, -1.27457313e+03],\n",
       "       [ 2.42267560e+03,  1.84455857e+03, -6.95161883e+02],\n",
       "       [ 2.41195488e+03,  1.84084283e+03, -7.34276945e+02],\n",
       "       [ 2.41899629e+03,  1.85644312e+03, -1.10206758e+03],\n",
       "       [-2.48568768e+04,  7.97347994e+03, -1.40550141e+03],\n",
       "       [ 7.00387869e+03,  1.55740703e+04,  1.18645248e+02],\n",
       "       [-2.48422192e+04,  7.99723839e+03, -1.72527783e+03],\n",
       "       [-2.48350551e+04,  8.00842682e+03, -2.06600854e+03],\n",
       "       [-2.48742461e+04,  7.96348678e+03, -1.83968765e+03],\n",
       "       [-1.99247356e+04,  7.64241646e+02, -2.09121406e+03],\n",
       "       [-1.99356102e+04,  7.58882466e+02, -2.20392277e+03],\n",
       "       [-9.77659689e+03, -4.07790634e+03, -2.82094882e+03],\n",
       "       [-2.48686437e+04,  7.98015242e+03, -2.17846339e+03],\n",
       "       [-2.48520615e+04,  8.00148745e+03, -2.47621390e+03],\n",
       "       [-1.98991003e+04,  8.12852369e+02, -2.86482235e+03],\n",
       "       [ 1.17041194e+04, -7.31628182e+03, -2.46861075e+03],\n",
       "       [ 2.12869068e+03,  5.17869674e+03, -2.90154394e+03],\n",
       "       [ 1.17459471e+04, -7.29370047e+03, -2.48984368e+03],\n",
       "       [ 3.72643482e+03,  2.43697524e+04, -2.79155140e+03],\n",
       "       [ 3.71418436e+03,  2.43686332e+04, -2.67305591e+03],\n",
       "       [-2.48242117e+04,  8.01592323e+03, -2.05979301e+03],\n",
       "       [-9.77048194e+03, -4.06105669e+03, -3.05754153e+03],\n",
       "       [-1.99256474e+04,  7.79529347e+02, -2.26001974e+03],\n",
       "       [ 2.11213980e+03,  5.16058729e+03, -2.65040171e+03],\n",
       "       [-2.48754944e+04,  7.93526062e+03, -1.32212565e+03],\n",
       "       [ 6.98178992e+03,  1.55326829e+04,  8.48673879e+02],\n",
       "       [-3.07027464e+04, -3.52397963e+03, -4.19023634e+02],\n",
       "       [-2.98785818e+04, -4.81218506e+03, -1.50028637e+02],\n",
       "       [ 4.85185517e+02, -7.35446757e+03,  1.97453965e+02],\n",
       "       [-3.06882516e+04, -3.50963224e+03, -7.07675732e+02],\n",
       "       [ 5.00659319e+02, -7.34249000e+03,  1.42540634e+02],\n",
       "       [-3.06936800e+04, -3.51170193e+03, -4.75271128e+02],\n",
       "       [-3.06845978e+04, -3.50429527e+03, -4.65255482e+02],\n",
       "       [-3.06679191e+04, -3.48955479e+03, -7.07523364e+02],\n",
       "       [-3.06810350e+04, -3.49172376e+03, -8.05866860e+02],\n",
       "       [-3.06911007e+04, -3.49613661e+03, -9.69949264e+02],\n",
       "       [ 5.13016583e+02, -7.32094365e+03, -1.57836859e+02],\n",
       "       [ 4.99785142e+02, -7.33742933e+03, -1.24087909e+02],\n",
       "       [ 4.82086064e+02, -7.35022162e+03,  9.02175521e+01],\n",
       "       [ 4.85875778e+02, -7.34324758e+03, -3.65070557e+01],\n",
       "       [ 4.85186463e+02, -7.34110158e+03, -3.27605534e+02],\n",
       "       [-3.06844422e+04, -3.48816826e+03, -1.00372014e+03],\n",
       "       [-2.98596243e+04, -4.80307252e+03, -2.43214584e+02],\n",
       "       [-3.06863668e+04, -3.50975157e+03, -3.68840530e+02],\n",
       "       [-3.06885300e+04, -3.51455197e+03, -4.14663049e+02],\n",
       "       [-3.06867784e+04, -3.50221077e+03, -5.69061482e+02],\n",
       "       [-3.06857349e+04, -3.50298505e+03, -5.67778229e+02],\n",
       "       [-3.06671285e+04, -3.48353491e+03, -9.31222126e+02],\n",
       "       [ 4.79607883e+02, -7.36231370e+03,  7.26704184e+01],\n",
       "       [-2.98773139e+04, -4.80974042e+03, -3.25469532e+02],\n",
       "       [ 4.50595795e+03,  1.19257430e+04,  1.82903709e+03],\n",
       "       [ 6.11841447e+03,  1.68244303e+03,  1.78818762e+03],\n",
       "       [ 6.12583480e+03,  1.68092241e+03,  1.77216717e+03],\n",
       "       [-1.80106330e+03, -2.33965013e+03,  1.64257043e+03],\n",
       "       [ 4.52313368e+03,  1.19642820e+04,  1.21989257e+03],\n",
       "       [-1.79877644e+03, -2.32522355e+03,  9.84235046e+02],\n",
       "       [-1.79419680e+03, -2.31283501e+03,  7.56863627e+02],\n",
       "       [-1.80084404e+03, -2.31379337e+03,  5.05873004e+02],\n",
       "       [-1.80262077e+03, -2.31438072e+03,  5.31894265e+02],\n",
       "       [-1.80462696e+03, -2.33949353e+03,  1.30901310e+03],\n",
       "       [ 1.65802713e+04,  2.47309485e+03, -2.44281611e+03],\n",
       "       [ 3.72314418e+03,  2.43953898e+04, -3.34766902e+03],\n",
       "       [ 1.65998696e+04,  2.47168522e+03, -2.16728645e+03],\n",
       "       [ 1.66195252e+04,  2.48430369e+03, -2.25046804e+03],\n",
       "       [-1.66561845e+04, -2.76576280e+03,  1.15512511e+02],\n",
       "       [ 6.12640150e+03,  1.69223684e+03,  1.35704839e+03],\n",
       "       [ 4.55734696e+03,  1.19969826e+04,  6.11729494e+02],\n",
       "       [ 1.01874161e+04, -1.11982152e+04, -2.24542664e+03],\n",
       "       [ 1.01717049e+04, -1.12057158e+04, -2.28945531e+03],\n",
       "       [ 1.72571342e+04,  9.09418805e+03, -3.46739758e+03],\n",
       "       [ 1.19915657e+04, -1.33402103e+03, -3.21549726e+03],\n",
       "       [-2.39680086e+04, -1.10636998e+04,  2.32264502e+03],\n",
       "       [-1.31127971e+04, -1.46846131e+04,  2.36332182e+03],\n",
       "       [ 1.06657560e+04, -9.50131964e+03,  2.86116636e+03],\n",
       "       [ 3.10703932e+03,  3.20806350e+03,  3.74118577e+03],\n",
       "       [ 1.06490382e+04, -9.49771672e+03,  2.56269708e+03],\n",
       "       [ 1.06708965e+04, -9.47981269e+03,  2.41910745e+03],\n",
       "       [ 1.06533708e+04, -9.48709593e+03,  2.29306212e+03],\n",
       "       [-2.87600917e+04, -4.66727600e+03,  1.49926683e+03],\n",
       "       [ 1.06752891e+04, -9.46484732e+03,  1.96074430e+03],\n",
       "       [-2.87388726e+04, -4.65128270e+03,  1.49855299e+03],\n",
       "       [-2.87293203e+04, -4.64312614e+03,  1.48056394e+03],\n",
       "       [-2.87521813e+04, -4.65598376e+03,  1.16256305e+03],\n",
       "       [ 3.37867455e+02, -4.95282393e+03,  2.45522125e+03],\n",
       "       [ 1.06833815e+04, -9.44845369e+03,  1.97044130e+03],\n",
       "       [-2.87173585e+04, -4.62209658e+03,  1.12649544e+03],\n",
       "       [-2.87318209e+04, -4.63185529e+03,  1.03196932e+03],\n",
       "       [ 3.06797446e+02, -4.95322351e+03,  2.20149439e+03],\n",
       "       [ 2.92048313e+02, -4.96829623e+03,  2.27607990e+03],\n",
       "       [-2.87354845e+04, -4.63499770e+03,  7.10950373e+02],\n",
       "       [ 3.38138130e+02, -4.92762048e+03,  2.13928930e+03],\n",
       "       [ 3.38050352e+02, -4.93088568e+03,  2.04512594e+03],\n",
       "       [ 3.04198505e+02, -4.94373173e+03,  1.93515424e+03],\n",
       "       [-2.86986908e+04, -4.59070589e+03,  5.45992428e+02],\n",
       "       [ 6.11450534e+03,  1.65052426e+03,  2.13054260e+03],\n",
       "       [ 3.40383490e+02, -4.91869626e+03,  1.65842358e+03],\n",
       "       [-2.87025872e+04, -4.59820149e+03,  2.22813789e+02],\n",
       "       [ 6.93331116e+03,  1.87151386e+02,  1.61327430e+03],\n",
       "       [-1.66709562e+04, -2.79898072e+03,  5.84760294e+02],\n",
       "       [-1.66980566e+04, -2.80859996e+03,  5.78712389e+02],\n",
       "       [-2.45197492e+03,  8.61796981e+02,  9.50354733e+02],\n",
       "       [-2.98722562e+04, -4.81789078e+03,  1.38536206e+02],\n",
       "       [ 6.29346474e+03,  3.27420955e+02,  1.50079640e+03],\n",
       "       [ 6.92519174e+03,  2.03177048e+02,  1.31070121e+03],\n",
       "       [-2.44990420e+03,  8.69890444e+02,  6.59859217e+02],\n",
       "       [-2.46021345e+03,  8.77037857e+02,  3.94594236e+02],\n",
       "       [-1.31222558e+04, -1.46894037e+04,  2.01162484e+03],\n",
       "       [-1.31042732e+04, -1.46626923e+04,  1.94769494e+03],\n",
       "       [ 1.36333970e+04,  4.19984836e+03,  2.32976509e+02],\n",
       "       [ 6.18528947e+03,  2.25548907e+03, -9.19500443e+02],\n",
       "       [ 1.01712346e+04, -1.11953504e+04, -2.54785153e+03],\n",
       "       [ 1.19864846e+04, -1.34217461e+03, -2.83100097e+03],\n",
       "       [ 4.68020178e+02, -7.35486443e+03, -1.58727328e+01],\n",
       "       [ 7.91565658e+03,  4.59059573e+03, -3.38836257e+02],\n",
       "       [ 7.90617190e+03,  4.58964311e+03, -4.83749616e+02],\n",
       "       [ 7.89807689e+03,  4.56601464e+03,  3.21623933e+01],\n",
       "       [-2.98907991e+04, -4.82972731e+03,  1.58624338e+02],\n",
       "       [ 9.36723737e+03, -1.73710189e+04,  6.87405311e+01],\n",
       "       [ 2.42498191e+04,  4.66137350e+03,  2.71306751e+03]])"
      ]
     },
     "execution_count": 18,
     "metadata": {},
     "output_type": "execute_result"
    }
   ],
   "source": [
    "df_pca_3"
   ]
  },
  {
   "cell_type": "markdown",
   "id": "b8653a5c",
   "metadata": {},
   "source": [
    "## Clustering KNN: Métricas Elbow y Silhouette para elegir mejor valor de k"
   ]
  },
  {
   "cell_type": "markdown",
   "id": "bf7cdecc",
   "metadata": {},
   "source": [
    "### Usando df_pca_2"
   ]
  },
  {
   "cell_type": "code",
   "execution_count": 19,
   "id": "95eacebc",
   "metadata": {},
   "outputs": [
    {
     "data": {
      "text/plain": [
       "[<matplotlib.lines.Line2D at 0x26fb1e69850>]"
      ]
     },
     "execution_count": 19,
     "metadata": {},
     "output_type": "execute_result"
    },
    {
     "data": {
      "image/png": "[encoded data removed]",
      "text/plain": [
       "<Figure size 432x288 with 1 Axes>"
      ]
     },
     "metadata": {
      "needs_background": "light"
     },
     "output_type": "display_data"
    }
   ],
   "source": [
    "# ELBOW\n",
    "\n",
    "K=range(2,20)\n",
    "wss = []\n",
    "\n",
    "for k in K:\n",
    "    kmeans=cluster.KMeans(\n",
    "               n_clusters=k,\n",
    "               init=\"k-means++\",\n",
    "               n_init=50,\n",
    "               max_iter=500,\n",
    "               random_state=42,)\n",
    "    kmeans=kmeans.fit(df_pca_2)\n",
    "    wss_iter = kmeans.inertia_\n",
    "    wss.append(wss_iter)\n",
    "    \n",
    "plt.xlabel('K')\n",
    "plt.ylabel('Within-Cluster-Sum of Squared Errors (WSS)')\n",
    "plt.plot(K,wss)"
   ]
  },
  {
   "cell_type": "code",
   "execution_count": 20,
   "id": "fca17d78",
   "metadata": {},
   "outputs": [
    {
     "name": "stdout",
     "output_type": "stream",
     "text": [
      "Silhouette score for k(clusters) = 2 is 0.31083623677770605\n",
      "Silhouette score for k(clusters) = 3 is 0.0692284266610742\n",
      "Silhouette score for k(clusters) = 4 is 0.04307090469661024\n",
      "Silhouette score for k(clusters) = 5 is 0.05088918454583311\n",
      "Silhouette score for k(clusters) = 6 is 0.04747420622356616\n",
      "Silhouette score for k(clusters) = 7 is 0.016970605158093385\n",
      "Silhouette score for k(clusters) = 8 is 0.03515932628033811\n",
      "Silhouette score for k(clusters) = 9 is 0.00871533503502329\n",
      "Silhouette score for k(clusters) = 10 is 0.011302225869602266\n",
      "Silhouette score for k(clusters) = 11 is -0.02709462651563044\n",
      "Silhouette score for k(clusters) = 12 is -0.02661350569936161\n",
      "Silhouette score for k(clusters) = 13 is -0.029596414046865454\n",
      "Silhouette score for k(clusters) = 14 is -0.03743583243834492\n",
      "Silhouette score for k(clusters) = 15 is -0.04764591759742556\n",
      "Silhouette score for k(clusters) = 16 is -0.07206178054623244\n",
      "Silhouette score for k(clusters) = 17 is -0.12073032954973785\n",
      "Silhouette score for k(clusters) = 18 is -0.12397813462237356\n",
      "Silhouette score for k(clusters) = 19 is -0.13337693776723972\n"
     ]
    }
   ],
   "source": [
    "# SILHOUETTE\n",
    "K=range(2,20)\n",
    "for k in K:\n",
    "    labels=KMeans(\n",
    "               n_clusters=k,\n",
    "               init=\"k-means++\",\n",
    "               n_init=50,\n",
    "               max_iter=500,\n",
    "               random_state=200,).fit(df_pca_2).labels_\n",
    "    print (\"Silhouette score for k(clusters) = \"+str(k)+\" is \"+str(metrics.silhouette_score(df_scale,labels,metric=\"euclidean\",sample_size=1000,random_state=200)))"
   ]
  },
  {
   "cell_type": "markdown",
   "id": "22102090",
   "metadata": {},
   "source": [
    "### Usando df_pca_3"
   ]
  },
  {
   "cell_type": "code",
   "execution_count": 21,
   "id": "c0a225ac",
   "metadata": {},
   "outputs": [
    {
     "data": {
      "text/plain": [
       "[<matplotlib.lines.Line2D at 0x26fb257a7c0>]"
      ]
     },
     "execution_count": 21,
     "metadata": {},
     "output_type": "execute_result"
    },
    {
     "data": {
      "image/png": "[encoded data removed]",
      "text/plain": [
       "<Figure size 432x288 with 1 Axes>"
      ]
     },
     "metadata": {
      "needs_background": "light"
     },
     "output_type": "display_data"
    }
   ],
   "source": [
    "K=range(2,20)\n",
    "wss = []\n",
    "\n",
    "for k in K:\n",
    "    kmeans=cluster.KMeans(\n",
    "               n_clusters=k,\n",
    "               init=\"k-means++\",\n",
    "               n_init=50,\n",
    "               max_iter=500,\n",
    "               random_state=42,)\n",
    "    kmeans=kmeans.fit(df_pca_3)\n",
    "    wss_iter = kmeans.inertia_\n",
    "    wss.append(wss_iter)\n",
    "    \n",
    "plt.xlabel('K')\n",
    "plt.ylabel('Within-Cluster-Sum of Squared Errors (WSS)')\n",
    "plt.plot(K,wss)"
   ]
  },
  {
   "cell_type": "code",
   "execution_count": 22,
   "id": "277da7d1",
   "metadata": {},
   "outputs": [
    {
     "name": "stdout",
     "output_type": "stream",
     "text": [
      "Silhouette score for k(clusters) = 2 is 0.31083623677770605\n",
      "Silhouette score for k(clusters) = 3 is 0.0692284266610742\n",
      "Silhouette score for k(clusters) = 4 is 0.04307090469661024\n",
      "Silhouette score for k(clusters) = 5 is 0.05088918454583311\n",
      "Silhouette score for k(clusters) = 6 is 0.04035702541482131\n",
      "Silhouette score for k(clusters) = 7 is 0.016970605158093385\n",
      "Silhouette score for k(clusters) = 8 is 0.03515932628033811\n",
      "Silhouette score for k(clusters) = 9 is 0.0054074909773447885\n",
      "Silhouette score for k(clusters) = 10 is 0.011302225869602266\n",
      "Silhouette score for k(clusters) = 11 is -0.02709462651563044\n",
      "Silhouette score for k(clusters) = 12 is -0.02661350569936161\n",
      "Silhouette score for k(clusters) = 13 is -0.039534498753771366\n",
      "Silhouette score for k(clusters) = 14 is -0.04244047794574996\n",
      "Silhouette score for k(clusters) = 15 is -0.050290113694284225\n",
      "Silhouette score for k(clusters) = 16 is -0.07206178054623244\n",
      "Silhouette score for k(clusters) = 17 is -0.09125817610807034\n",
      "Silhouette score for k(clusters) = 18 is -0.11827851985285592\n",
      "Silhouette score for k(clusters) = 19 is -0.12451072761814504\n"
     ]
    }
   ],
   "source": [
    "# SILHOUETTE\n",
    "K=range(2,20)\n",
    "for k in K:\n",
    "    labels=KMeans(\n",
    "               n_clusters=k,\n",
    "               init=\"k-means++\",\n",
    "               n_init=50,\n",
    "               max_iter=500,\n",
    "               random_state=200,).fit(df_pca_3).labels_\n",
    "    print (\"Silhouette score for k(clusters) = \"+str(k)+\" is \"+str(metrics.silhouette_score(df_scale,labels,metric=\"euclidean\",sample_size=1000,random_state=200)))"
   ]
  },
  {
   "cell_type": "markdown",
   "id": "1aeb5861",
   "metadata": {},
   "source": [
    "### Usando df_pca_4"
   ]
  },
  {
   "cell_type": "code",
   "execution_count": 23,
   "id": "4799d00e",
   "metadata": {},
   "outputs": [
    {
     "data": {
      "text/plain": [
       "[<matplotlib.lines.Line2D at 0x26fb25ea1c0>]"
      ]
     },
     "execution_count": 23,
     "metadata": {},
     "output_type": "execute_result"
    },
    {
     "data": {
      "image/png": "[encoded data removed]",
      "text/plain": [
       "<Figure size 432x288 with 1 Axes>"
      ]
     },
     "metadata": {
      "needs_background": "light"
     },
     "output_type": "display_data"
    }
   ],
   "source": [
    "K=range(2,20)\n",
    "wss = []\n",
    "\n",
    "for k in K:\n",
    "    kmeans=cluster.KMeans(\n",
    "               n_clusters=k,\n",
    "               init=\"k-means++\",\n",
    "               n_init=50,\n",
    "               max_iter=500,\n",
    "               random_state=42,)\n",
    "    kmeans=kmeans.fit(df_pca_4)\n",
    "    wss_iter = kmeans.inertia_\n",
    "    wss.append(wss_iter)\n",
    "    \n",
    "plt.xlabel('K')\n",
    "plt.ylabel('Within-Cluster-Sum of Squared Errors (WSS)')\n",
    "plt.plot(K,wss)"
   ]
  },
  {
   "cell_type": "code",
   "execution_count": 24,
   "id": "0f3bbb3e",
   "metadata": {},
   "outputs": [
    {
     "name": "stdout",
     "output_type": "stream",
     "text": [
      "Silhouette score for k(clusters) = 2 is 0.31083623677770605\n",
      "Silhouette score for k(clusters) = 3 is 0.0692284266610742\n",
      "Silhouette score for k(clusters) = 4 is 0.04307090469661024\n",
      "Silhouette score for k(clusters) = 5 is 0.05088918454583311\n",
      "Silhouette score for k(clusters) = 6 is 0.04747420622356616\n",
      "Silhouette score for k(clusters) = 7 is 0.016970605158093385\n",
      "Silhouette score for k(clusters) = 8 is 0.03515932628033811\n",
      "Silhouette score for k(clusters) = 9 is 0.00871533503502329\n",
      "Silhouette score for k(clusters) = 10 is 0.011302225869602266\n",
      "Silhouette score for k(clusters) = 11 is -0.02709462651563044\n",
      "Silhouette score for k(clusters) = 12 is -0.02661350569936161\n",
      "Silhouette score for k(clusters) = 13 is -0.039534498753771366\n",
      "Silhouette score for k(clusters) = 14 is -0.04244047794574996\n",
      "Silhouette score for k(clusters) = 15 is -0.053606731323188196\n",
      "Silhouette score for k(clusters) = 16 is -0.0748187880599096\n",
      "Silhouette score for k(clusters) = 17 is -0.09394494828654695\n",
      "Silhouette score for k(clusters) = 18 is -0.08548132551799767\n",
      "Silhouette score for k(clusters) = 19 is -0.13938196127770014\n"
     ]
    }
   ],
   "source": [
    "# SILHOUETTE\n",
    "K=range(2,20)\n",
    "for k in K:\n",
    "    labels=KMeans(\n",
    "               n_clusters=k,\n",
    "               init=\"k-means++\",\n",
    "               n_init=50,\n",
    "               max_iter=500,\n",
    "               random_state=200,).fit(df_pca_4).labels_\n",
    "    print (\"Silhouette score for k(clusters) = \"+str(k)+\" is \"+str(metrics.silhouette_score(df_scale,labels,metric=\"euclidean\",sample_size=1000,random_state=200)))"
   ]
  },
  {
   "cell_type": "markdown",
   "id": "61dff0da",
   "metadata": {},
   "source": [
    "### Usando df_pca_5"
   ]
  },
  {
   "cell_type": "code",
   "execution_count": 25,
   "id": "30375d28",
   "metadata": {},
   "outputs": [
    {
     "data": {
      "text/plain": [
       "[<matplotlib.lines.Line2D at 0x26fb26349a0>]"
      ]
     },
     "execution_count": 25,
     "metadata": {},
     "output_type": "execute_result"
    },
    {
     "data": {
      "image/png": "[encoded data removed]",
      "text/plain": [
       "<Figure size 432x288 with 1 Axes>"
      ]
     },
     "metadata": {
      "needs_background": "light"
     },
     "output_type": "display_data"
    }
   ],
   "source": [
    "K=range(2,20)\n",
    "wss = []\n",
    "\n",
    "for k in K:\n",
    "    kmeans=cluster.KMeans(\n",
    "               n_clusters=k,\n",
    "               init=\"k-means++\",\n",
    "               n_init=50,\n",
    "               max_iter=500,\n",
    "               random_state=42,)\n",
    "    kmeans=kmeans.fit(df_pca_5)\n",
    "    wss_iter = kmeans.inertia_\n",
    "    wss.append(wss_iter)\n",
    "    \n",
    "plt.xlabel('K')\n",
    "plt.ylabel('Within-Cluster-Sum of Squared Errors (WSS)')\n",
    "plt.plot(K,wss)"
   ]
  },
  {
   "cell_type": "code",
   "execution_count": 26,
   "id": "f68b4ba5",
   "metadata": {},
   "outputs": [
    {
     "name": "stdout",
     "output_type": "stream",
     "text": [
      "Silhouette score for k(clusters) = 2 is 0.31083623677770605\n",
      "Silhouette score for k(clusters) = 3 is 0.0692284266610742\n",
      "Silhouette score for k(clusters) = 4 is 0.04307090469661024\n",
      "Silhouette score for k(clusters) = 5 is 0.05088918454583311\n",
      "Silhouette score for k(clusters) = 6 is 0.04747420622356616\n",
      "Silhouette score for k(clusters) = 7 is 0.016970605158093385\n",
      "Silhouette score for k(clusters) = 8 is 0.03515932628033811\n",
      "Silhouette score for k(clusters) = 9 is 0.0054074909773447885\n",
      "Silhouette score for k(clusters) = 10 is 0.011302225869602266\n",
      "Silhouette score for k(clusters) = 11 is 0.007995869100464816\n",
      "Silhouette score for k(clusters) = 12 is -0.02661350569936161\n",
      "Silhouette score for k(clusters) = 13 is -0.039534498753771366\n",
      "Silhouette score for k(clusters) = 14 is -0.03706958625375512\n",
      "Silhouette score for k(clusters) = 15 is -0.05118393204056472\n",
      "Silhouette score for k(clusters) = 16 is -0.07206178054623244\n",
      "Silhouette score for k(clusters) = 17 is -0.07275648369660011\n",
      "Silhouette score for k(clusters) = 18 is -0.137182210888765\n",
      "Silhouette score for k(clusters) = 19 is -0.0954066298021182\n"
     ]
    }
   ],
   "source": [
    "# SILHOUETTE\n",
    "K=range(2,20)\n",
    "for k in K:\n",
    "    labels=KMeans(\n",
    "               n_clusters=k,\n",
    "               init=\"k-means++\",\n",
    "               n_init=50,\n",
    "               max_iter=500,\n",
    "               random_state=200,).fit(df_pca_5).labels_\n",
    "    print (\"Silhouette score for k(clusters) = \"+str(k)+\" is \"+str(metrics.silhouette_score(df_scale,labels,metric=\"euclidean\",sample_size=1000,random_state=200)))"
   ]
  },
  {
   "cell_type": "markdown",
   "id": "453603e6",
   "metadata": {},
   "source": [
    "## Clustering con 5 cluster"
   ]
  },
  {
   "cell_type": "code",
   "execution_count": 27,
   "id": "841ca902",
   "metadata": {},
   "outputs": [
    {
     "data": {
      "text/plain": [
       "Pipeline(steps=[('minmaxscaler', MinMaxScaler()),\n",
       "                ('kmeans',\n",
       "                 KMeans(max_iter=500, n_clusters=5, n_init=50,\n",
       "                        random_state=200))])"
      ]
     },
     "execution_count": 27,
     "metadata": {},
     "output_type": "execute_result"
    }
   ],
   "source": [
    "n_cluster = 5\n",
    "\n",
    "scaler = MinMaxScaler()\n",
    "kmeans = KMeans(\n",
    "               n_clusters=n_cluster,\n",
    "               init=\"k-means++\",\n",
    "               n_init=50,\n",
    "               max_iter=500,\n",
    "               random_state=200,)\n",
    "\n",
    "pipeline = make_pipeline(scaler, kmeans)\n",
    "pipeline"
   ]
  },
  {
   "cell_type": "code",
   "execution_count": 28,
   "id": "f0bc1a2c",
   "metadata": {},
   "outputs": [],
   "source": [
    "df_pred_pca2_t = pipeline.fit_transform(df_pca_2)\n",
    "df_pred_pca2 = pipeline.fit_predict(df_pca_2)\n",
    "df_pred_pca3 = pipeline.fit_predict(df_pca_3)\n",
    "df_pred_pca4 = pipeline.fit_predict(df_pca_4)\n",
    "df_pred_pca5 = pipeline.fit_predict(df_pca_5)\n"
   ]
  },
  {
   "cell_type": "code",
   "execution_count": 29,
   "id": "cc958c7e",
   "metadata": {},
   "outputs": [
    {
     "data": {
      "text/plain": [
       "array([[0.4188426 , 0.69371664, 0.81636207, 0.74434929, 0.08289707],\n",
       "       [0.41877333, 0.69363684, 0.81619484, 0.74437082, 0.08273283],\n",
       "       [0.27043159, 0.31274207, 0.7615219 , 0.15458803, 0.56305806],\n",
       "       [0.07730425, 0.19967695, 0.53104662, 0.38813817, 0.43272382],\n",
       "       [0.27067732, 0.31181292, 0.76098783, 0.15399781, 0.56391798],\n",
       "       [0.10522173, 0.32308988, 0.49596878, 0.52507415, 0.31162625],\n",
       "       [0.10552759, 0.32348684, 0.49602422, 0.525413  , 0.31127748],\n",
       "       [0.10547437, 0.32332683, 0.49592212, 0.52533947, 0.31144421],\n",
       "       [0.41590152, 0.31962696, 0.1650302 , 0.70172178, 0.64549463],\n",
       "       [0.09931648, 0.33613121, 0.6606185 , 0.37317588, 0.35000733],\n",
       "       [0.10560678, 0.32308375, 0.49552554, 0.52541886, 0.31177709],\n",
       "       [0.27064584, 0.31202688, 0.76112196, 0.15410366, 0.56375048],\n",
       "       [0.27084316, 0.31217805, 0.7613121 , 0.15392739, 0.56389588],\n",
       "       [0.2707369 , 0.31237246, 0.76140011, 0.15411347, 0.56365011],\n",
       "       [0.2041833 , 0.1375453 , 0.40034422, 0.47499766, 0.52138747],\n",
       "       [0.27063938, 0.31227376, 0.76128958, 0.15419248, 0.56359286],\n",
       "       [0.27053257, 0.31261261, 0.76147674, 0.15442827, 0.56325837],\n",
       "       [0.27048877, 0.31239322, 0.76130641, 0.15440492, 0.56333922],\n",
       "       [0.10547287, 0.32396145, 0.49657115, 0.52543825, 0.31070312],\n",
       "       [0.10564871, 0.32366534, 0.49606818, 0.52555042, 0.31111448],\n",
       "       [0.10572555, 0.32401417, 0.49633707, 0.52567444, 0.31073588],\n",
       "       [0.41860091, 0.69347222, 0.81614211, 0.74415985, 0.08267382],\n",
       "       [0.09904062, 0.3355125 , 0.66032634, 0.37273443, 0.35057786],\n",
       "       [0.09919613, 0.33587839, 0.66049204, 0.37300456, 0.35023301],\n",
       "       [0.41892333, 0.69378784, 0.81632389, 0.74449384, 0.08286435],\n",
       "       [0.41894085, 0.69380689, 0.81635406, 0.74449723, 0.08289421],\n",
       "       [0.10551949, 0.32338787, 0.49593281, 0.52538986, 0.3113899 ],\n",
       "       [0.28988052, 0.55758024, 0.67521819, 0.6626011 , 0.07034809],\n",
       "       [0.28936883, 0.55701526, 0.67463733, 0.66229311, 0.07094712],\n",
       "       [0.28950997, 0.55717172, 0.67480037, 0.66237656, 0.07078068],\n",
       "       [0.09909693, 0.33571195, 0.66038912, 0.37291746, 0.35036085],\n",
       "       [0.41910745, 0.69398005, 0.81655575, 0.74459139, 0.08309637],\n",
       "       [0.4192869 , 0.69416008, 0.81670351, 0.74474343, 0.08324745],\n",
       "       [0.41893449, 0.69379911, 0.81633392, 0.74450268, 0.08287455],\n",
       "       [0.2900242 , 0.55777654, 0.67555911, 0.66259287, 0.07010889],\n",
       "       [0.09939537, 0.33633522, 0.6607024 , 0.37333786, 0.34980607],\n",
       "       [0.09927889, 0.33605828, 0.66057927, 0.37313002, 0.35006953],\n",
       "       [0.09998798, 0.33709077, 0.66130508, 0.3735593 , 0.34936902],\n",
       "       [0.09978035, 0.33685779, 0.66109504, 0.37352227, 0.34947814],\n",
       "       [0.09988043, 0.33685732, 0.66119307, 0.37339417, 0.34958243],\n",
       "       [0.57367657, 0.50173866, 0.98514415, 0.15449964, 0.86613762],\n",
       "       [0.57366452, 0.50171537, 0.98512069, 0.15449119, 0.86613368],\n",
       "       [0.57356051, 0.50168275, 0.98508965, 0.15437211, 0.8659992 ],\n",
       "       [0.57343352, 0.50167917, 0.9850886 , 0.154217  , 0.86581341],\n",
       "       [0.57344348, 0.50175653, 0.98516712, 0.15420836, 0.86578202],\n",
       "       [0.57336037, 0.50210345, 0.98552144, 0.15401473, 0.86545189],\n",
       "       [0.35394491, 0.15915815, 0.63772591, 0.26061442, 0.7088409 ],\n",
       "       [0.35398416, 0.1590705 , 0.63761275, 0.26076777, 0.70889176],\n",
       "       [0.57321386, 0.50179113, 0.98520677, 0.15391775, 0.86542149],\n",
       "       [0.57323576, 0.50168868, 0.98510219, 0.15397181, 0.86551506],\n",
       "       [0.57333343, 0.50145274, 0.98486018, 0.15415551, 0.86580026],\n",
       "       [0.57333166, 0.50151634, 0.98492496, 0.15413599, 0.86575974],\n",
       "       [0.28991175, 0.55764079, 0.67537649, 0.66255451, 0.07026224],\n",
       "       [0.57353884, 0.50195648, 0.98536864, 0.15427173, 0.86580389],\n",
       "       [0.10524304, 0.32325355, 0.49611057, 0.52511968, 0.31144348],\n",
       "       [0.27061756, 0.31234344, 0.76132816, 0.15424064, 0.56352429],\n",
       "       [0.41867367, 0.69353801, 0.81612503, 0.7442775 , 0.0826608 ],\n",
       "       [0.2707591 , 0.31217403, 0.7612728 , 0.15402235, 0.5637973 ],\n",
       "       [0.10552183, 0.32372108, 0.49626948, 0.52544493, 0.31100202],\n",
       "       [0.27057461, 0.31217585, 0.76119383, 0.15423429, 0.56357448],\n",
       "       [0.53122827, 0.56763451, 0.2236066 , 0.91268563, 0.58838541],\n",
       "       [0.09078787, 0.22330152, 0.47355077, 0.45960445, 0.40678281],\n",
       "       [0.09098156, 0.22320709, 0.47336663, 0.45969646, 0.40690951],\n",
       "       [0.09072032, 0.22358401, 0.47353777, 0.45981382, 0.40651992],\n",
       "       [0.53134757, 0.56792019, 0.22398905, 0.91289608, 0.58825678],\n",
       "       [0.29010373, 0.55779128, 0.67530515, 0.66282399, 0.07015412],\n",
       "       [0.53123303, 0.56811239, 0.22458391, 0.91293844, 0.587803  ],\n",
       "       [0.53117522, 0.56819993, 0.22486463, 0.91295478, 0.58758559],\n",
       "       [0.53157217, 0.56797614, 0.2237154 , 0.91303959, 0.58861078],\n",
       "       [0.44574571, 0.40326841, 0.11931895, 0.77442659, 0.61932063],\n",
       "       [0.44593714, 0.403358  , 0.11910683, 0.77455448, 0.61953593],\n",
       "       [0.33151828, 0.20550487, 0.27960563, 0.58728785, 0.61101443],\n",
       "       [0.53156511, 0.56816766, 0.22412274, 0.91313641, 0.58836051],\n",
       "       [0.53140857, 0.56829858, 0.22466397, 0.91312529, 0.58790335],\n",
       "       [0.44517096, 0.40348064, 0.12017927, 0.7743858 , 0.6182272 ],\n",
       "       [0.26662509, 0.15635639, 0.63319436, 0.23384211, 0.61727684],\n",
       "       [0.09605779, 0.30302292, 0.48811275, 0.51245772, 0.33107346],\n",
       "       [0.26627166, 0.15704218, 0.63372596, 0.23327346, 0.61679765],\n",
       "       [0.50429384, 0.7630183 , 0.78508698, 0.87539953, 0.16166171],\n",
       "       [0.50429114, 0.76298428, 0.78494359, 0.87545569, 0.161728  ],\n",
       "       [0.53104157, 0.56818513, 0.22506561, 0.91287889, 0.58735196],\n",
       "       [0.33121632, 0.20557486, 0.27960541, 0.58727248, 0.61061289],\n",
       "       [0.4457073 , 0.4034604 , 0.11945779, 0.77455096, 0.61908235],\n",
       "       [0.09611395, 0.30258725, 0.487723  , 0.51237033, 0.33156696],\n",
       "       [0.53145522, 0.56755173, 0.22304273, 0.91275739, 0.58891521],\n",
       "       [0.28912391, 0.55675945, 0.67442826, 0.66210909, 0.071206  ],\n",
       "       [0.63652333, 0.53327408, 0.08364024, 0.92085017, 0.81714636],\n",
       "       [0.63273059, 0.51553397, 0.09847519, 0.9038216 , 0.82739731],\n",
       "       [0.2826605 , 0.02406325, 0.45984352, 0.41244748, 0.62856975],\n",
       "       [0.63620848, 0.53310607, 0.08324213, 0.92066857, 0.81674743],\n",
       "       [0.2822982 , 0.02385363, 0.45998913, 0.41222733, 0.628239  ],\n",
       "       [0.63630562, 0.53318303, 0.08334095, 0.92074782, 0.81684611],\n",
       "       [0.63611834, 0.53307111, 0.08311566, 0.92062869, 0.81662046],\n",
       "       [0.63576734, 0.53287064, 0.08268471, 0.92041393, 0.8161886 ],\n",
       "       [0.63598424, 0.5330686 , 0.08288062, 0.92061501, 0.81638357],\n",
       "       [0.63616794, 0.53320876, 0.08307267, 0.92075993, 0.81657538],\n",
       "       [0.28174601, 0.02373275, 0.46001565, 0.41207933, 0.62769384],\n",
       "       [0.28219279, 0.0238842 , 0.45993772, 0.41225289, 0.6281231 ],\n",
       "       [0.2825873 , 0.02412525, 0.45976424, 0.41250668, 0.62848014],\n",
       "       [0.28240993, 0.02408651, 0.45976945, 0.41246197, 0.62830434],\n",
       "       [0.2823673 , 0.02410436, 0.45974277, 0.41247789, 0.62825623],\n",
       "       [0.63601478, 0.53313768, 0.08286918, 0.92068133, 0.81637101],\n",
       "       [0.63237311, 0.51525889, 0.09813047, 0.90354313, 0.82702513],\n",
       "       [0.63618002, 0.53307577, 0.08322057, 0.9206382 , 0.81672603],\n",
       "       [0.63624372, 0.53308949, 0.08332046, 0.92065623, 0.8168264 ],\n",
       "       [0.63613905, 0.53311447, 0.08311107, 0.92067047, 0.81661534],\n",
       "       [0.63612774, 0.53309467, 0.08310987, 0.92065124, 0.81661436],\n",
       "       [0.63571736, 0.53288399, 0.08258361, 0.92042198, 0.81608646],\n",
       "       [0.28286851, 0.02413007, 0.45981776, 0.41251893, 0.62877175],\n",
       "       [0.63269292, 0.51552101, 0.09841461, 0.90380783, 0.82734295],\n",
       "       [0.20838514, 0.46633402, 0.59268295, 0.6085994 , 0.16597689],\n",
       "       [0.04831433, 0.22919101, 0.53170269, 0.40952564, 0.40101849],\n",
       "       [0.04829049, 0.22919084, 0.5318159 , 0.40940977, 0.40104421],\n",
       "       [0.20441039, 0.13712264, 0.40045726, 0.47477215, 0.52176733],\n",
       "       [0.20921854, 0.46727734, 0.5934095 , 0.60920211, 0.1650176 ],\n",
       "       [0.20414882, 0.13741637, 0.40047262, 0.47485342, 0.5214277 ],\n",
       "       [0.20389353, 0.13765034, 0.40052799, 0.47488384, 0.52112295],\n",
       "       [0.20398756, 0.13767669, 0.40042281, 0.47497667, 0.52117807],\n",
       "       [0.20401807, 0.13767663, 0.40039517, 0.47499882, 0.52120034],\n",
       "       [0.20444983, 0.13715131, 0.4003999 , 0.47482734, 0.52178163],\n",
       "       [0.14720511, 0.33437245, 0.70076583, 0.31367881, 0.40291914],\n",
       "       [0.50490955, 0.76362976, 0.78553476, 0.87598118, 0.16223189],\n",
       "       [0.14752121, 0.33456937, 0.70107363, 0.31349678, 0.40305463],\n",
       "       [0.14778462, 0.33500616, 0.70142567, 0.31360858, 0.4028736 ],\n",
       "       [0.41617618, 0.3197565 , 0.16486278, 0.70188911, 0.64578895],\n",
       "       [0.04804706, 0.22945267, 0.53186135, 0.40957169, 0.40077357],\n",
       "       [0.20985444, 0.46810569, 0.59429285, 0.60953554, 0.16408691],\n",
       "       [0.35359835, 0.15921145, 0.63788561, 0.26021423, 0.70846627],\n",
       "       [0.35374632, 0.15910308, 0.63771809, 0.26049788, 0.70863512],\n",
       "       [0.2063126 , 0.46657042, 0.7483851 , 0.45532227, 0.26425631],\n",
       "       [0.13532951, 0.21801331, 0.62121474, 0.2907548 , 0.47531369],\n",
       "       [0.61398774, 0.42539574, 0.23778735, 0.80488922, 0.87498935],\n",
       "       [0.54659322, 0.29746091, 0.38756538, 0.64363035, 0.86301691],\n",
       "       [0.31444133, 0.14780365, 0.63123113, 0.24738887, 0.66826331],\n",
       "       [0.07137515, 0.25647874, 0.49054267, 0.47011744, 0.37248604],\n",
       "       [0.31431333, 0.1475217 , 0.63094911, 0.24765275, 0.66816217],\n",
       "       [0.31394627, 0.14771369, 0.63114964, 0.24728121, 0.66775383],\n",
       "       [0.31407337, 0.14750428, 0.6309362 , 0.24757078, 0.66791216],\n",
       "       [0.61458742, 0.49816911, 0.08721382, 0.88636731, 0.81180082],\n",
       "       [0.31360395, 0.14766455, 0.63110564, 0.24719384, 0.66740007],\n",
       "       [0.61414293, 0.49788331, 0.08672991, 0.88607359, 0.81129059],\n",
       "       [0.61393562, 0.49775789, 0.08649098, 0.88594411, 0.81104534],\n",
       "       [0.61438131, 0.49807981, 0.08691543, 0.8862727 , 0.81152392],\n",
       "       [0.23229243, 0.06589113, 0.44275793, 0.42409724, 0.57287703],\n",
       "       [0.31323751, 0.14766166, 0.6311078 , 0.24704607, 0.66701553],\n",
       "       [0.61359432, 0.49763647, 0.08595223, 0.88581256, 0.81056237],\n",
       "       [0.61388848, 0.49783454, 0.08625667, 0.88601571, 0.81089155],\n",
       "       [0.23254945, 0.06608277, 0.44227063, 0.424581  , 0.57299838],\n",
       "       [0.23298041, 0.06584967, 0.44210995, 0.42472983, 0.57340332],\n",
       "       [0.61396806, 0.49788254, 0.08634865, 0.88606529, 0.81098584],\n",
       "       [0.23176704, 0.06644334, 0.44264342, 0.42423079, 0.57228797],\n",
       "       [0.2318355 , 0.06637208, 0.44265738, 0.42421426, 0.57236448],\n",
       "       [0.23237342, 0.0663075 , 0.44218483, 0.42467338, 0.57278634],\n",
       "       [0.61307301, 0.49744334, 0.08514309, 0.8856038 , 0.809832  ],\n",
       "       [0.04901906, 0.22844158, 0.53153833, 0.40909858, 0.40178526],\n",
       "       [0.23156386, 0.06662549, 0.44263692, 0.42424467, 0.57207166],\n",
       "       [0.61318888, 0.49748042, 0.08533288, 0.88564463, 0.80999977],\n",
       "       [0.07901826, 0.20005535, 0.5411454 , 0.37748685, 0.43582068],\n",
       "       [0.41668319, 0.31969901, 0.16480223, 0.70195272, 0.64655956],\n",
       "       [0.41717218, 0.32002622, 0.16442782, 0.70232967, 0.64701044],\n",
       "       [0.17206437, 0.2119226 , 0.39265903, 0.51491642, 0.4534647 ],\n",
       "       [0.63267689, 0.51541626, 0.09853903, 0.90370553, 0.82741359],\n",
       "       [0.07766934, 0.19933342, 0.53112721, 0.38781299, 0.43312177],\n",
       "       [0.07865358, 0.20035554, 0.54104067, 0.37781622, 0.43544423],\n",
       "       [0.17196331, 0.21209404, 0.3927176 , 0.51497561, 0.45327291],\n",
       "       [0.17205609, 0.21231076, 0.39257617, 0.51520121, 0.45317806],\n",
       "       [0.54677657, 0.2976512 , 0.3875748 , 0.64380314, 0.86318272],\n",
       "       [0.54609299, 0.29704512, 0.38720866, 0.64338547, 0.86248105],\n",
       "       [0.09953181, 0.33651549, 0.66084153, 0.3733966 , 0.34969679],\n",
       "       [0.03612715, 0.24264946, 0.53477948, 0.41739868, 0.38725705],\n",
       "       [0.35349903, 0.1589577 , 0.63761883, 0.26045474, 0.70838684],\n",
       "       [0.13545212, 0.21782138, 0.62113341, 0.29069525, 0.47549732],\n",
       "       [0.28277975, 0.02433578, 0.45958488, 0.41272105, 0.62863439],\n",
       "       [0.02768918, 0.30429314, 0.57337145, 0.43644003, 0.32987936],\n",
       "       [0.02763364, 0.30422373, 0.57321819, 0.43652472, 0.32990528],\n",
       "       [0.02705319, 0.30364575, 0.5729532 , 0.43619055, 0.33047359],\n",
       "       [0.63304855, 0.51567689, 0.09893595, 0.9039703 , 0.82782457],\n",
       "       [0.49968313, 0.26499737, 0.69523776, 0.33481533, 0.85579386],\n",
       "       [0.26999953, 0.46096932, 0.83046134, 0.32801312, 0.41597356]])"
      ]
     },
     "execution_count": 29,
     "metadata": {},
     "output_type": "execute_result"
    }
   ],
   "source": [
    "df_pred_pca2_t"
   ]
  },
  {
   "cell_type": "code",
   "execution_count": 30,
   "id": "c73aa4c1",
   "metadata": {},
   "outputs": [
    {
     "data": {
      "text/plain": [
       "array([4, 4, 3, 0, 3, 0, 0, 0, 2, 0, 0, 3, 3, 3, 1, 3, 3, 3, 0, 0, 0, 4,\n",
       "       0, 0, 4, 4, 0, 4, 4, 4, 0, 4, 4, 4, 4, 0, 0, 0, 0, 0, 3, 3, 3, 3,\n",
       "       3, 3, 1, 1, 3, 3, 3, 3, 4, 3, 0, 3, 4, 3, 0, 3, 2, 0, 0, 0, 2, 4,\n",
       "       2, 2, 2, 2, 2, 1, 2, 2, 2, 1, 0, 1, 4, 4, 2, 1, 2, 0, 2, 4, 2, 2,\n",
       "       1, 2, 1, 2, 2, 2, 2, 2, 1, 1, 1, 1, 1, 2, 2, 2, 2, 2, 2, 2, 1, 2,\n",
       "       4, 0, 0, 1, 4, 1, 1, 1, 1, 1, 0, 4, 0, 0, 2, 0, 4, 1, 1, 0, 0, 2,\n",
       "       1, 1, 0, 1, 1, 1, 2, 1, 2, 2, 2, 1, 1, 2, 2, 1, 1, 2, 1, 1, 1, 2,\n",
       "       0, 1, 2, 0, 2, 2, 0, 2, 0, 0, 0, 0, 1, 1, 0, 0, 1, 0, 1, 0, 0, 0,\n",
       "       2, 1, 0])"
      ]
     },
     "execution_count": 30,
     "metadata": {},
     "output_type": "execute_result"
    }
   ],
   "source": [
    "df_pred_pca2"
   ]
  },
  {
   "cell_type": "code",
   "execution_count": 31,
   "id": "068e3260",
   "metadata": {},
   "outputs": [
    {
     "data": {
      "text/plain": [
       "array([3, 3, 0, 0, 0, 0, 0, 0, 1, 0, 0, 0, 0, 0, 0, 0, 0, 0, 0, 0, 0, 3,\n",
       "       0, 0, 3, 3, 0, 3, 3, 3, 0, 3, 3, 3, 3, 0, 0, 0, 0, 0, 2, 2, 2, 2,\n",
       "       2, 2, 2, 2, 2, 2, 2, 2, 3, 2, 0, 0, 3, 0, 0, 0, 4, 0, 0, 0, 4, 3,\n",
       "       4, 4, 4, 4, 4, 4, 4, 4, 4, 2, 4, 2, 3, 3, 4, 4, 4, 4, 4, 3, 1, 1,\n",
       "       0, 1, 0, 1, 1, 1, 1, 1, 0, 0, 0, 0, 0, 1, 1, 1, 1, 1, 1, 1, 0, 1,\n",
       "       3, 0, 0, 0, 3, 0, 0, 0, 0, 0, 2, 3, 2, 2, 1, 0, 3, 2, 2, 2, 2, 1,\n",
       "       1, 0, 0, 0, 0, 0, 1, 0, 1, 1, 1, 0, 0, 1, 1, 0, 0, 1, 0, 0, 0, 1,\n",
       "       0, 0, 1, 0, 1, 1, 0, 1, 0, 0, 0, 0, 1, 1, 0, 0, 2, 2, 0, 0, 0, 0,\n",
       "       1, 2, 0])"
      ]
     },
     "execution_count": 31,
     "metadata": {},
     "output_type": "execute_result"
    }
   ],
   "source": [
    "df_pred_pca3"
   ]
  },
  {
   "cell_type": "code",
   "execution_count": 32,
   "id": "c2332017",
   "metadata": {},
   "outputs": [
    {
     "data": {
      "text/plain": [
       "array([3, 3, 1, 1, 1, 1, 1, 1, 2, 1, 1, 1, 1, 1, 1, 1, 1, 1, 1, 1, 1, 3,\n",
       "       1, 1, 3, 3, 1, 3, 3, 3, 1, 3, 3, 3, 3, 1, 1, 1, 1, 1, 0, 0, 0, 0,\n",
       "       0, 0, 0, 0, 0, 0, 0, 0, 3, 0, 1, 1, 3, 1, 1, 1, 2, 1, 1, 1, 2, 3,\n",
       "       2, 2, 2, 2, 2, 2, 2, 2, 2, 0, 0, 0, 3, 3, 2, 2, 2, 0, 2, 3, 2, 2,\n",
       "       1, 2, 1, 2, 2, 2, 2, 2, 1, 1, 1, 1, 1, 2, 2, 2, 2, 2, 2, 2, 1, 2,\n",
       "       3, 1, 1, 1, 3, 1, 1, 1, 1, 1, 0, 3, 0, 0, 2, 1, 3, 0, 0, 0, 0, 4,\n",
       "       4, 4, 4, 4, 4, 4, 2, 4, 2, 2, 2, 4, 4, 2, 2, 4, 4, 2, 4, 4, 4, 2,\n",
       "       1, 1, 2, 1, 2, 2, 1, 2, 1, 1, 1, 1, 4, 4, 1, 1, 0, 0, 1, 3, 3, 3,\n",
       "       2, 4, 4])"
      ]
     },
     "execution_count": 32,
     "metadata": {},
     "output_type": "execute_result"
    }
   ],
   "source": [
    "df_pred_pca4"
   ]
  },
  {
   "cell_type": "code",
   "execution_count": 33,
   "id": "da1ecb7e",
   "metadata": {},
   "outputs": [
    {
     "data": {
      "text/plain": [
       "array([1, 1, 2, 2, 2, 0, 0, 0, 3, 2, 0, 2, 2, 2, 2, 2, 2, 2, 0, 0, 0, 1,\n",
       "       2, 2, 1, 1, 0, 0, 0, 0, 2, 1, 1, 1, 0, 2, 2, 2, 2, 2, 4, 4, 4, 4,\n",
       "       4, 4, 4, 4, 4, 4, 4, 4, 0, 4, 0, 2, 1, 2, 0, 2, 3, 0, 0, 0, 3, 0,\n",
       "       3, 3, 3, 3, 3, 3, 3, 3, 3, 0, 0, 4, 1, 1, 3, 3, 3, 0, 3, 0, 3, 3,\n",
       "       0, 3, 0, 3, 3, 3, 3, 3, 0, 0, 0, 0, 0, 3, 3, 3, 3, 3, 3, 3, 0, 3,\n",
       "       1, 2, 2, 2, 1, 2, 2, 2, 2, 2, 4, 1, 4, 4, 3, 2, 1, 4, 4, 4, 4, 3,\n",
       "       3, 2, 2, 2, 2, 2, 3, 2, 3, 3, 3, 2, 2, 3, 3, 2, 2, 3, 2, 2, 2, 3,\n",
       "       2, 2, 3, 2, 3, 3, 0, 3, 2, 2, 0, 0, 3, 3, 2, 2, 4, 4, 0, 0, 0, 0,\n",
       "       3, 0, 1])"
      ]
     },
     "execution_count": 33,
     "metadata": {},
     "output_type": "execute_result"
    }
   ],
   "source": [
    "df_pred_pca5"
   ]
  },
  {
   "cell_type": "code",
   "execution_count": null,
   "id": "67beb888",
   "metadata": {},
   "outputs": [],
   "source": []
  },
  {
   "cell_type": "code",
   "execution_count": 34,
   "id": "10e15360",
   "metadata": {},
   "outputs": [
    {
     "name": "stdout",
     "output_type": "stream",
     "text": [
      "<class 'pandas.core.frame.DataFrame'>\n",
      "RangeIndex: 179 entries, 0 to 178\n",
      "Data columns (total 14 columns):\n",
      " #   Column               Non-Null Count  Dtype   \n",
      "---  ------               --------------  -----   \n",
      " 0   ESTACION             179 non-null    int64   \n",
      " 1   DEMANDA_RATIO        179 non-null    float64 \n",
      " 2   Gis_X                179 non-null    float64 \n",
      " 3   Gis_Y                179 non-null    float64 \n",
      " 4   Distrito             179 non-null    category\n",
      " 5   Barrio               179 non-null    category\n",
      " 6   Plazas               179 non-null    category\n",
      " 7   Longitud             179 non-null    float64 \n",
      " 8   Latitud              179 non-null    float64 \n",
      " 9   Tasa_Paro            179 non-null    float64 \n",
      " 10  Renta_Media_Persona  179 non-null    float64 \n",
      " 11  Renta_Media_Hogar    179 non-null    float64 \n",
      " 12  Poblacion            179 non-null    float64 \n",
      " 13  CLUSTER              179 non-null    int32   \n",
      "dtypes: category(3), float64(9), int32(1), int64(1)\n",
      "memory usage: 17.4 KB\n"
     ]
    }
   ],
   "source": [
    "df_final_Clusterizado = pd.concat([df_FinalCluster_Original, pd.DataFrame(df_pred_pca3)], axis=1)\n",
    "#df_final_Clusterizado.columns['0'] = 'CLUSTER'\n",
    "df_final_Clusterizado.rename(columns={0: 'CLUSTER'}, inplace=True)\n",
    "df_final_Clusterizado.info()"
   ]
  },
  {
   "cell_type": "code",
   "execution_count": 35,
   "id": "092affef",
   "metadata": {},
   "outputs": [],
   "source": [
    "df_final_Clusterizado.to_csv('../../data/Clusterizada_DataFull.csv', index=False)"
   ]
  },
  {
   "cell_type": "code",
   "execution_count": 36,
   "id": "c63329bc",
   "metadata": {},
   "outputs": [
    {
     "data": {
      "text/html": [
       "<div>\n",
       "<style scoped>\n",
       "    .dataframe tbody tr th:only-of-type {\n",
       "        vertical-align: middle;\n",
       "    }\n",
       "\n",
       "    .dataframe tbody tr th {\n",
       "        vertical-align: top;\n",
       "    }\n",
       "\n",
       "    .dataframe thead th {\n",
       "        text-align: right;\n",
       "    }\n",
       "</style>\n",
       "<table border=\"1\" class=\"dataframe\">\n",
       "  <thead>\n",
       "    <tr style=\"text-align: right;\">\n",
       "      <th></th>\n",
       "      <th>ESTACION</th>\n",
       "      <th>DEMANDA_RATIO</th>\n",
       "      <th>Gis_X</th>\n",
       "      <th>Gis_Y</th>\n",
       "      <th>Distrito</th>\n",
       "      <th>Barrio</th>\n",
       "      <th>Plazas</th>\n",
       "      <th>Longitud</th>\n",
       "      <th>Latitud</th>\n",
       "      <th>Tasa_Paro</th>\n",
       "      <th>Renta_Media_Persona</th>\n",
       "      <th>Renta_Media_Hogar</th>\n",
       "      <th>Poblacion</th>\n",
       "      <th>CLUSTER</th>\n",
       "    </tr>\n",
       "  </thead>\n",
       "  <tbody>\n",
       "    <tr>\n",
       "      <th>0</th>\n",
       "      <td>1</td>\n",
       "      <td>2450.230769</td>\n",
       "      <td>440443.61</td>\n",
       "      <td>4474290.65</td>\n",
       "      <td>1</td>\n",
       "      <td>01-06</td>\n",
       "      <td>30</td>\n",
       "      <td>-3.701998</td>\n",
       "      <td>40.417111</td>\n",
       "      <td>4.309681</td>\n",
       "      <td>17550.00279</td>\n",
       "      <td>35056.88536</td>\n",
       "      <td>7665.0</td>\n",
       "      <td>3</td>\n",
       "    </tr>\n",
       "    <tr>\n",
       "      <th>1</th>\n",
       "      <td>2</td>\n",
       "      <td>1273.636364</td>\n",
       "      <td>440480.56</td>\n",
       "      <td>4474301.74</td>\n",
       "      <td>1</td>\n",
       "      <td>01-06</td>\n",
       "      <td>30</td>\n",
       "      <td>-3.701564</td>\n",
       "      <td>40.417213</td>\n",
       "      <td>4.309681</td>\n",
       "      <td>17550.00279</td>\n",
       "      <td>35056.88536</td>\n",
       "      <td>7665.0</td>\n",
       "      <td>3</td>\n",
       "    </tr>\n",
       "    <tr>\n",
       "      <th>...</th>\n",
       "      <td>...</td>\n",
       "      <td>...</td>\n",
       "      <td>...</td>\n",
       "      <td>...</td>\n",
       "      <td>...</td>\n",
       "      <td>...</td>\n",
       "      <td>...</td>\n",
       "      <td>...</td>\n",
       "      <td>...</td>\n",
       "      <td>...</td>\n",
       "      <td>...</td>\n",
       "      <td>...</td>\n",
       "      <td>...</td>\n",
       "      <td>...</td>\n",
       "    </tr>\n",
       "    <tr>\n",
       "      <th>177</th>\n",
       "      <td>199</td>\n",
       "      <td>868.285714</td>\n",
       "      <td>442830.66</td>\n",
       "      <td>4476215.36</td>\n",
       "      <td>4</td>\n",
       "      <td>04-04</td>\n",
       "      <td>18</td>\n",
       "      <td>-3.674037</td>\n",
       "      <td>40.434617</td>\n",
       "      <td>3.819713</td>\n",
       "      <td>21251.03416</td>\n",
       "      <td>50063.95065</td>\n",
       "      <td>42445.0</td>\n",
       "      <td>2</td>\n",
       "    </tr>\n",
       "    <tr>\n",
       "      <th>178</th>\n",
       "      <td>215</td>\n",
       "      <td>693.857143</td>\n",
       "      <td>440874.02</td>\n",
       "      <td>4479384.51</td>\n",
       "      <td>6</td>\n",
       "      <td>06-05</td>\n",
       "      <td>18</td>\n",
       "      <td>-3.697399</td>\n",
       "      <td>40.463029</td>\n",
       "      <td>5.899887</td>\n",
       "      <td>12254.49279</td>\n",
       "      <td>30163.55029</td>\n",
       "      <td>26607.0</td>\n",
       "      <td>0</td>\n",
       "    </tr>\n",
       "  </tbody>\n",
       "</table>\n",
       "<p>179 rows × 14 columns</p>\n",
       "</div>"
      ],
      "text/plain": [
       "     ESTACION  DEMANDA_RATIO      Gis_X       Gis_Y Distrito Barrio Plazas  \\\n",
       "0           1    2450.230769  440443.61  4474290.65        1  01-06     30   \n",
       "1           2    1273.636364  440480.56  4474301.74        1  01-06     30   \n",
       "..        ...            ...        ...         ...      ...    ...    ...   \n",
       "177       199     868.285714  442830.66  4476215.36        4  04-04     18   \n",
       "178       215     693.857143  440874.02  4479384.51        6  06-05     18   \n",
       "\n",
       "     Longitud    Latitud  Tasa_Paro  Renta_Media_Persona  Renta_Media_Hogar  \\\n",
       "0   -3.701998  40.417111   4.309681          17550.00279        35056.88536   \n",
       "1   -3.701564  40.417213   4.309681          17550.00279        35056.88536   \n",
       "..        ...        ...        ...                  ...                ...   \n",
       "177 -3.674037  40.434617   3.819713          21251.03416        50063.95065   \n",
       "178 -3.697399  40.463029   5.899887          12254.49279        30163.55029   \n",
       "\n",
       "     Poblacion  CLUSTER  \n",
       "0       7665.0        3  \n",
       "1       7665.0        3  \n",
       "..         ...      ...  \n",
       "177    42445.0        2  \n",
       "178    26607.0        0  \n",
       "\n",
       "[179 rows x 14 columns]"
      ]
     },
     "execution_count": 36,
     "metadata": {},
     "output_type": "execute_result"
    }
   ],
   "source": [
    "df_final_Clusterizado"
   ]
  },
  {
   "cell_type": "code",
   "execution_count": null,
   "id": "dc782aec",
   "metadata": {},
   "outputs": [],
   "source": []
  }
 ],
 "metadata": {
  "kernelspec": {
   "display_name": "Python 3 (ipykernel)",
   "language": "python",
   "name": "python3"
  },
  "language_info": {
   "codemirror_mode": {
    "name": "ipython",
    "version": 3
   },
   "file_extension": ".py",
   "mimetype": "text/x-python",
   "name": "python",
   "nbconvert_exporter": "python",
   "pygments_lexer": "ipython3",
   "version": "3.9.12"
  }
 },
 "nbformat": 4,
 "nbformat_minor": 5
}
