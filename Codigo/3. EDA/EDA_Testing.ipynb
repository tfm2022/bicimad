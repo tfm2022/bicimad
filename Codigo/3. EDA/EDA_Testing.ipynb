{
 "cells": [
  {
   "cell_type": "code",
   "execution_count": 1,
   "id": "6567b9ab",
   "metadata": {},
   "outputs": [],
   "source": [
    "from ipynb.fs.full.MongoDB_Connections import _connect_mongo\n",
    "\n",
    "from ipynb.fs.full.MongoDB_Funciones_Consultas import _resumen_mensual_por_anio\n",
    "from ipynb.fs.full.MongoDB_Funciones_Consultas import _data_anio\n",
    "from ipynb.fs.full.MongoDB_Funciones_Consultas import _data_anio_mes\n",
    "from ipynb.fs.full.MongoDB_Funciones_Consultas import _data_anio_por_estacion\n",
    "from ipynb.fs.full.MongoDB_Funciones_Consultas import _data_anio_mes_por_estacion\n",
    "\n",
    "from ipynb.fs.full.MongoDB_Funciones_Consultas import _consulta_meteo_full\n",
    "from ipynb.fs.full.MongoDB_Funciones_Consultas import _consulta_meteo_por_anio\n",
    "from ipynb.fs.full.MongoDB_Funciones_Consultas import _consulta_meteo_por_anio_mes\n",
    "\n",
    "from ipynb.fs.full.MongoDB_Funciones_Consultas import _consulta_stations\n",
    "from ipynb.fs.full.MongoDB_Funciones_Consultas import _consulta_stations_EstacionesMeteo\n",
    "\n",
    "import time\n",
    "import pandas as pd\n",
    "pd.options.display.float_format = '{:,}'.format"
   ]
  },
  {
   "cell_type": "markdown",
   "id": "e7691608",
   "metadata": {},
   "source": [
    "## Conexión a Mongo"
   ]
  },
  {
   "cell_type": "code",
   "execution_count": 2,
   "id": "753491f3",
   "metadata": {},
   "outputs": [
    {
     "name": "stdout",
     "output_type": "stream",
     "text": [
      "Conexion OK\n",
      "Collection(Database(MongoClient(host=['ac-x1d17w2-shard-00-01.15npsxw.mongodb.net:27017', 'ac-x1d17w2-shard-00-02.15npsxw.mongodb.net:27017', 'ac-x1d17w2-shard-00-00.15npsxw.mongodb.net:27017'], document_class=dict, tz_aware=False, connect=True, authsource='admin', replicaset='atlas-xyv6ql-shard-0', tls=True, serverselectiontimeoutms=4000), 'BiciMAD'), 'Tracks')\n",
      "Conexion OK\n",
      "Collection(Database(MongoClient(host=['ac-x1d17w2-shard-00-01.15npsxw.mongodb.net:27017', 'ac-x1d17w2-shard-00-02.15npsxw.mongodb.net:27017', 'ac-x1d17w2-shard-00-00.15npsxw.mongodb.net:27017'], document_class=dict, tz_aware=False, connect=True, authsource='admin', replicaset='atlas-xyv6ql-shard-0', tls=True, serverselectiontimeoutms=4000), 'BiciMAD'), 'Meteo_NivelHora')\n",
      "Conexion OK\n",
      "Collection(Database(MongoClient(host=['ac-x1d17w2-shard-00-01.15npsxw.mongodb.net:27017', 'ac-x1d17w2-shard-00-02.15npsxw.mongodb.net:27017', 'ac-x1d17w2-shard-00-00.15npsxw.mongodb.net:27017'], document_class=dict, tz_aware=False, connect=True, authsource='admin', replicaset='atlas-xyv6ql-shard-0', tls=True, serverselectiontimeoutms=4000), 'BiciMAD'), 'Station_Master')\n",
      "Conexion OK\n",
      "Collection(Database(MongoClient(host=['ac-x1d17w2-shard-00-01.15npsxw.mongodb.net:27017', 'ac-x1d17w2-shard-00-02.15npsxw.mongodb.net:27017', 'ac-x1d17w2-shard-00-00.15npsxw.mongodb.net:27017'], document_class=dict, tz_aware=False, connect=True, authsource='admin', replicaset='atlas-xyv6ql-shard-0', tls=True, serverselectiontimeoutms=4000), 'BiciMAD'), 'Station_EstacionMeteo')\n"
     ]
    }
   ],
   "source": [
    "db_Tracks = _connect_mongo('cloud', 'cluster0.15npsxw.mongodb.net', None, 'ucmtfm2022', 'UCM_2022', 'BiciMAD', 'Tracks')\n",
    "db_Meteo = _connect_mongo('cloud', 'cluster0.15npsxw.mongodb.net', None, 'ucmtfm2022', 'UCM_2022', 'BiciMAD', 'Meteo_NivelHora')\n",
    "db_Stations = _connect_mongo('cloud', 'cluster0.15npsxw.mongodb.net', None, 'ucmtfm2022', 'UCM_2022', 'BiciMAD', 'Station_Master')\n",
    "db_Stations_Meteo = _connect_mongo('cloud', 'cluster0.15npsxw.mongodb.net', None, 'ucmtfm2022', 'UCM_2022', 'BiciMAD', 'Station_EstacionMeteo')"
   ]
  },
  {
   "cell_type": "markdown",
   "id": "93a52490",
   "metadata": {},
   "source": [
    "## Descarga datos 2019"
   ]
  },
  {
   "cell_type": "code",
   "execution_count": 59,
   "id": "46aed97a",
   "metadata": {},
   "outputs": [
    {
     "name": "stdout",
     "output_type": "stream",
     "text": [
      "0.2542961041132609\n"
     ]
    }
   ],
   "source": [
    "# # Tracks\n",
    "# t_ini = time.time()\n",
    "# data_Tracks_2017 = _data_anio(db_Tracks, 2017)\n",
    "# data_Tracks_2018 = _data_anio(db_Tracks, 2018)\n",
    "# data_Tracks_2019 = _data_anio(db_Tracks, 2019)\n",
    "# data_Tracks_2020 = _data_anio(db_Tracks, 2020)\n",
    "# data_Tracks_2021 = _data_anio(db_Tracks, 2021)\n",
    "# t_end = time.time()\n",
    "\n",
    "# print ((t_end - t_ini)/60)\n",
    "\n",
    "# data_Tracks = pd.concat([\n",
    "#     data_Tracks_2017,\n",
    "#     data_Tracks_2018,\n",
    "#     data_Tracks_2019,\n",
    "#     data_Tracks_2020,\n",
    "#     data_Tracks_2021\n",
    "# ])\n",
    "\n",
    "# data_Tracks.shape"
   ]
  },
  {
   "cell_type": "code",
   "execution_count": null,
   "id": "b3523d90",
   "metadata": {},
   "outputs": [],
   "source": [
    "# data_Tracks.to_csv('C:\\Master BigData\\TFM\\Data\\DataFullTracks_MongoDB.csv')"
   ]
  },
  {
   "cell_type": "code",
   "execution_count": 82,
   "id": "caff5e91",
   "metadata": {},
   "outputs": [
    {
     "name": "stdout",
     "output_type": "stream",
     "text": [
      "0.30170076290766396\n"
     ]
    }
   ],
   "source": [
    "t_ini = time.time()\n",
    "data_Tracks = pd.read_csv('C:\\Master BigData\\TFM\\Data\\DataFullTracks_MongoDB.csv')\n",
    "t_end = time.time()\n",
    "print ((t_end - t_ini)/60)"
   ]
  },
  {
   "cell_type": "code",
   "execution_count": null,
   "id": "7f2a939d",
   "metadata": {},
   "outputs": [],
   "source": [
    "# t_ini = time.time()\n",
    "# data_Tracks_2017 = _data_anio_por_estacion(db_Tracks, 2017, 175)\n",
    "# data_Tracks_2018 = _data_anio_por_estacion(db_Tracks, 2018, 175)\n",
    "# data_Tracks_2019 = _data_anio_por_estacion(db_Tracks, 2019, 175)\n",
    "# data_Tracks_2020 = _data_anio_por_estacion(db_Tracks, 2020, 175)\n",
    "# data_Tracks_2021 = _data_anio_por_estacion(db_Tracks, 2021, 175)\n",
    "# t_end = time.time()\n",
    "\n",
    "# data_Tracks = pd.concat([\n",
    "#     data_Tracks_2017,\n",
    "#     data_Tracks_2018,\n",
    "#     data_Tracks_2019,\n",
    "#     data_Tracks_2020,\n",
    "#     data_Tracks_2021\n",
    "# ])\n",
    "\n",
    "# print ((t_end - t_ini)/60)"
   ]
  },
  {
   "cell_type": "code",
   "execution_count": 27,
   "id": "5a109b8a",
   "metadata": {},
   "outputs": [],
   "source": [
    "data_Tracks = _data_anio(db_Tracks, 2019)"
   ]
  },
  {
   "cell_type": "code",
   "execution_count": 85,
   "id": "319aefa7",
   "metadata": {},
   "outputs": [
    {
     "name": "stdout",
     "output_type": "stream",
     "text": [
      "<class 'pandas.core.frame.DataFrame'>\n",
      "RangeIndex: 13908334 entries, 0 to 13908333\n",
      "Data columns (total 15 columns):\n",
      " #   Column            Dtype \n",
      "---  ------            ----- \n",
      " 0   Unnamed: 0        int64 \n",
      " 1   ANIO              int64 \n",
      " 2   MES               int64 \n",
      " 3   DIA               int64 \n",
      " 4   HORA              int64 \n",
      " 5   DIA_SEMANA        int64 \n",
      " 6   AM_PM             object\n",
      " 7   TEMPORADA         object\n",
      " 8   UNPLUG_TIME_date  object\n",
      " 9   travel_time       int64 \n",
      " 10  idunplug_station  int64 \n",
      " 11  idplug_station    int64 \n",
      " 12  user_type         int64 \n",
      " 13  ageRange          int64 \n",
      " 14  zip_code          object\n",
      "dtypes: int64(11), object(4)\n",
      "memory usage: 1.6+ GB\n"
     ]
    }
   ],
   "source": [
    "data_Tracks.info()"
   ]
  },
  {
   "cell_type": "code",
   "execution_count": 84,
   "id": "a20f144a",
   "metadata": {},
   "outputs": [
    {
     "name": "stdout",
     "output_type": "stream",
     "text": [
      "11.806480169296265\n"
     ]
    },
    {
     "data": {
      "text/html": [
       "<div>\n",
       "<style scoped>\n",
       "    .dataframe tbody tr th:only-of-type {\n",
       "        vertical-align: middle;\n",
       "    }\n",
       "\n",
       "    .dataframe tbody tr th {\n",
       "        vertical-align: top;\n",
       "    }\n",
       "\n",
       "    .dataframe thead th {\n",
       "        text-align: right;\n",
       "    }\n",
       "</style>\n",
       "<table border=\"1\" class=\"dataframe\">\n",
       "  <thead>\n",
       "    <tr style=\"text-align: right;\">\n",
       "      <th></th>\n",
       "      <th>ANIO</th>\n",
       "      <th>MES</th>\n",
       "      <th>DIA</th>\n",
       "      <th>HORA</th>\n",
       "      <th>Id_EstacionMeteo</th>\n",
       "      <th>PROVINCIA</th>\n",
       "      <th>MUNICIPIO</th>\n",
       "      <th>TEMPERATURA</th>\n",
       "      <th>VIENTO</th>\n",
       "      <th>PRESION</th>\n",
       "      <th>RADIACION</th>\n",
       "      <th>PRECIPITACION</th>\n",
       "    </tr>\n",
       "  </thead>\n",
       "  <tbody>\n",
       "    <tr>\n",
       "      <th>0</th>\n",
       "      <td>2019</td>\n",
       "      <td>12</td>\n",
       "      <td>1</td>\n",
       "      <td>1</td>\n",
       "      <td>28079102</td>\n",
       "      <td>28</td>\n",
       "      <td>79</td>\n",
       "      <td>4.3</td>\n",
       "      <td>175</td>\n",
       "      <td>938</td>\n",
       "      <td>2</td>\n",
       "      <td>0.0</td>\n",
       "    </tr>\n",
       "    <tr>\n",
       "      <th>1</th>\n",
       "      <td>2019</td>\n",
       "      <td>12</td>\n",
       "      <td>2</td>\n",
       "      <td>1</td>\n",
       "      <td>28079102</td>\n",
       "      <td>28</td>\n",
       "      <td>79</td>\n",
       "      <td>4.5</td>\n",
       "      <td>59</td>\n",
       "      <td>937</td>\n",
       "      <td>1</td>\n",
       "      <td>0.2</td>\n",
       "    </tr>\n",
       "    <tr>\n",
       "      <th>2</th>\n",
       "      <td>2019</td>\n",
       "      <td>12</td>\n",
       "      <td>3</td>\n",
       "      <td>1</td>\n",
       "      <td>28079102</td>\n",
       "      <td>28</td>\n",
       "      <td>79</td>\n",
       "      <td>2.1</td>\n",
       "      <td>65</td>\n",
       "      <td>940</td>\n",
       "      <td>0</td>\n",
       "      <td>0.0</td>\n",
       "    </tr>\n",
       "    <tr>\n",
       "      <th>3</th>\n",
       "      <td>2019</td>\n",
       "      <td>12</td>\n",
       "      <td>4</td>\n",
       "      <td>1</td>\n",
       "      <td>28079102</td>\n",
       "      <td>28</td>\n",
       "      <td>79</td>\n",
       "      <td>2.7</td>\n",
       "      <td>54</td>\n",
       "      <td>938</td>\n",
       "      <td>1</td>\n",
       "      <td>0.0</td>\n",
       "    </tr>\n",
       "    <tr>\n",
       "      <th>4</th>\n",
       "      <td>2019</td>\n",
       "      <td>12</td>\n",
       "      <td>5</td>\n",
       "      <td>1</td>\n",
       "      <td>28079102</td>\n",
       "      <td>28</td>\n",
       "      <td>79</td>\n",
       "      <td>6.0</td>\n",
       "      <td>54</td>\n",
       "      <td>936</td>\n",
       "      <td>0</td>\n",
       "      <td>0.0</td>\n",
       "    </tr>\n",
       "    <tr>\n",
       "      <th>...</th>\n",
       "      <td>...</td>\n",
       "      <td>...</td>\n",
       "      <td>...</td>\n",
       "      <td>...</td>\n",
       "      <td>...</td>\n",
       "      <td>...</td>\n",
       "      <td>...</td>\n",
       "      <td>...</td>\n",
       "      <td>...</td>\n",
       "      <td>...</td>\n",
       "      <td>...</td>\n",
       "      <td>...</td>\n",
       "    </tr>\n",
       "    <tr>\n",
       "      <th>575971</th>\n",
       "      <td>2017</td>\n",
       "      <td>1</td>\n",
       "      <td>29</td>\n",
       "      <td>24</td>\n",
       "      <td>28079059</td>\n",
       "      <td>28</td>\n",
       "      <td>79</td>\n",
       "      <td>10.4</td>\n",
       "      <td>221</td>\n",
       "      <td>939</td>\n",
       "      <td>1</td>\n",
       "      <td>0.0</td>\n",
       "    </tr>\n",
       "    <tr>\n",
       "      <th>575972</th>\n",
       "      <td>2017</td>\n",
       "      <td>1</td>\n",
       "      <td>30</td>\n",
       "      <td>24</td>\n",
       "      <td>28079059</td>\n",
       "      <td>28</td>\n",
       "      <td>79</td>\n",
       "      <td>9.6</td>\n",
       "      <td>239</td>\n",
       "      <td>946</td>\n",
       "      <td>1</td>\n",
       "      <td>0.0</td>\n",
       "    </tr>\n",
       "    <tr>\n",
       "      <th>575973</th>\n",
       "      <td>2017</td>\n",
       "      <td>1</td>\n",
       "      <td>31</td>\n",
       "      <td>24</td>\n",
       "      <td>28079059</td>\n",
       "      <td>28</td>\n",
       "      <td>79</td>\n",
       "      <td>11.4</td>\n",
       "      <td>226</td>\n",
       "      <td>946</td>\n",
       "      <td>1</td>\n",
       "      <td>0.0</td>\n",
       "    </tr>\n",
       "    <tr>\n",
       "      <th>575974</th>\n",
       "      <td>2017</td>\n",
       "      <td>3</td>\n",
       "      <td>5</td>\n",
       "      <td>24</td>\n",
       "      <td>28079102</td>\n",
       "      <td>28</td>\n",
       "      <td>79</td>\n",
       "      <td>6.3</td>\n",
       "      <td>262</td>\n",
       "      <td>939</td>\n",
       "      <td>0</td>\n",
       "      <td>0.0</td>\n",
       "    </tr>\n",
       "    <tr>\n",
       "      <th>575975</th>\n",
       "      <td>2017</td>\n",
       "      <td>3</td>\n",
       "      <td>6</td>\n",
       "      <td>24</td>\n",
       "      <td>28079102</td>\n",
       "      <td>28</td>\n",
       "      <td>79</td>\n",
       "      <td>5.1</td>\n",
       "      <td>84</td>\n",
       "      <td>944</td>\n",
       "      <td>0</td>\n",
       "      <td>0.0</td>\n",
       "    </tr>\n",
       "  </tbody>\n",
       "</table>\n",
       "<p>575976 rows × 12 columns</p>\n",
       "</div>"
      ],
      "text/plain": [
       "        ANIO  MES  DIA  HORA  Id_EstacionMeteo  PROVINCIA  MUNICIPIO  \\\n",
       "0       2019   12    1     1          28079102         28         79   \n",
       "1       2019   12    2     1          28079102         28         79   \n",
       "2       2019   12    3     1          28079102         28         79   \n",
       "3       2019   12    4     1          28079102         28         79   \n",
       "4       2019   12    5     1          28079102         28         79   \n",
       "...      ...  ...  ...   ...               ...        ...        ...   \n",
       "575971  2017    1   29    24          28079059         28         79   \n",
       "575972  2017    1   30    24          28079059         28         79   \n",
       "575973  2017    1   31    24          28079059         28         79   \n",
       "575974  2017    3    5    24          28079102         28         79   \n",
       "575975  2017    3    6    24          28079102         28         79   \n",
       "\n",
       "        TEMPERATURA  VIENTO  PRESION  RADIACION  PRECIPITACION  \n",
       "0               4.3     175      938          2            0.0  \n",
       "1               4.5      59      937          1            0.2  \n",
       "2               2.1      65      940          0            0.0  \n",
       "3               2.7      54      938          1            0.0  \n",
       "4               6.0      54      936          0            0.0  \n",
       "...             ...     ...      ...        ...            ...  \n",
       "575971         10.4     221      939          1            0.0  \n",
       "575972          9.6     239      946          1            0.0  \n",
       "575973         11.4     226      946          1            0.0  \n",
       "575974          6.3     262      939          0            0.0  \n",
       "575975          5.1      84      944          0            0.0  \n",
       "\n",
       "[575976 rows x 12 columns]"
      ]
     },
     "execution_count": 84,
     "metadata": {},
     "output_type": "execute_result"
    }
   ],
   "source": [
    "# Meteorologia\n",
    "t_ini = time.time()\n",
    "#data_Meteo = _consulta_meteo_por_anio(db_Meteo, 2019)\n",
    "data_Meteo = _consulta_meteo_full(db_Meteo)\n",
    "t_end = time.time()\n",
    "\n",
    "print (t_end - t_ini)\n",
    "data_Meteo\n"
   ]
  },
  {
   "cell_type": "code",
   "execution_count": 86,
   "id": "9b91f3fe",
   "metadata": {},
   "outputs": [
    {
     "name": "stdout",
     "output_type": "stream",
     "text": [
      "0.30998659133911133\n"
     ]
    },
    {
     "data": {
      "text/html": [
       "<div>\n",
       "<style scoped>\n",
       "    .dataframe tbody tr th:only-of-type {\n",
       "        vertical-align: middle;\n",
       "    }\n",
       "\n",
       "    .dataframe tbody tr th {\n",
       "        vertical-align: top;\n",
       "    }\n",
       "\n",
       "    .dataframe thead th {\n",
       "        text-align: right;\n",
       "    }\n",
       "</style>\n",
       "<table border=\"1\" class=\"dataframe\">\n",
       "  <thead>\n",
       "    <tr style=\"text-align: right;\">\n",
       "      <th></th>\n",
       "      <th>Id_Station</th>\n",
       "      <th>Nro_Station</th>\n",
       "      <th>Gis_X</th>\n",
       "      <th>Gis_Y</th>\n",
       "      <th>Fecha_Alta</th>\n",
       "      <th>Distrito</th>\n",
       "      <th>Barrio</th>\n",
       "      <th>Calle</th>\n",
       "      <th>Finca</th>\n",
       "      <th>Tipo_Reserva</th>\n",
       "      <th>Plazas</th>\n",
       "      <th>Longitud</th>\n",
       "      <th>Latitud</th>\n",
       "      <th>Direccion</th>\n",
       "    </tr>\n",
       "  </thead>\n",
       "  <tbody>\n",
       "    <tr>\n",
       "      <th>0</th>\n",
       "      <td>1</td>\n",
       "      <td>001 a</td>\n",
       "      <td>440443,61</td>\n",
       "      <td>4474290,65</td>\n",
       "      <td>43803</td>\n",
       "      <td>01 �CENTRO</td>\n",
       "      <td>01-06 SOL</td>\n",
       "      <td>ALCALA, CALLE, DE</td>\n",
       "      <td>2</td>\n",
       "      <td>BiciMAD</td>\n",
       "      <td>30</td>\n",
       "      <td>-3.701998</td>\n",
       "      <td>40.4171107</td>\n",
       "      <td>ALCALA, CALLE, DE, 2</td>\n",
       "    </tr>\n",
       "    <tr>\n",
       "      <th>1</th>\n",
       "      <td>2</td>\n",
       "      <td>001 b</td>\n",
       "      <td>440480,56</td>\n",
       "      <td>4474301,74</td>\n",
       "      <td>43867</td>\n",
       "      <td>01 �CENTRO</td>\n",
       "      <td>01-06 SOL</td>\n",
       "      <td>ALCALA, CALLE, DE</td>\n",
       "      <td>6</td>\n",
       "      <td>BiciMAD</td>\n",
       "      <td>30</td>\n",
       "      <td>-3.7015636</td>\n",
       "      <td>40.4172132</td>\n",
       "      <td>ALCALA, CALLE, DE, 6</td>\n",
       "    </tr>\n",
       "    <tr>\n",
       "      <th>2</th>\n",
       "      <td>3</td>\n",
       "      <td>2</td>\n",
       "      <td>440134,83</td>\n",
       "      <td>4474678,23</td>\n",
       "      <td>41813</td>\n",
       "      <td>01 �CENTRO</td>\n",
       "      <td>01-05 UNIVERSIDAD</td>\n",
       "      <td>MIGUEL MOYA, CALLE, DE</td>\n",
       "      <td>1</td>\n",
       "      <td>BiciMAD</td>\n",
       "      <td>24</td>\n",
       "      <td>-3.7056739</td>\n",
       "      <td>40.42058</td>\n",
       "      <td>MIGUEL MOYA, CALLE, DE, 1</td>\n",
       "    </tr>\n",
       "    <tr>\n",
       "      <th>3</th>\n",
       "      <td>4</td>\n",
       "      <td>3</td>\n",
       "      <td>440012,98</td>\n",
       "      <td>4475760,68</td>\n",
       "      <td>41813</td>\n",
       "      <td>07 �CHAMBERi</td>\n",
       "      <td>07-02 ARAPILES</td>\n",
       "      <td>CONDE DEL VALLE DE SUCHIL, PLAZA, DEL</td>\n",
       "      <td>2</td>\n",
       "      <td>BiciMAD</td>\n",
       "      <td>18</td>\n",
       "      <td>-3.7072122</td>\n",
       "      <td>40.4303224</td>\n",
       "      <td>CONDE DEL VALLE DE SUCHIL, PLAZA, DEL, 2</td>\n",
       "    </tr>\n",
       "    <tr>\n",
       "      <th>4</th>\n",
       "      <td>5</td>\n",
       "      <td>4</td>\n",
       "      <td>440396,4</td>\n",
       "      <td>4475565,36</td>\n",
       "      <td>41813</td>\n",
       "      <td>01 �CENTRO</td>\n",
       "      <td>01-05 UNIVERSIDAD</td>\n",
       "      <td>MANUELA MALASA�A, CALLE, DE</td>\n",
       "      <td>3</td>\n",
       "      <td>BiciMAD</td>\n",
       "      <td>24</td>\n",
       "      <td>-3.7026739</td>\n",
       "      <td>40.4285905</td>\n",
       "      <td>MANUELA MALASA�A, CALLE, DE, 3</td>\n",
       "    </tr>\n",
       "    <tr>\n",
       "      <th>...</th>\n",
       "      <td>...</td>\n",
       "      <td>...</td>\n",
       "      <td>...</td>\n",
       "      <td>...</td>\n",
       "      <td>...</td>\n",
       "      <td>...</td>\n",
       "      <td>...</td>\n",
       "      <td>...</td>\n",
       "      <td>...</td>\n",
       "      <td>...</td>\n",
       "      <td>...</td>\n",
       "      <td>...</td>\n",
       "      <td>...</td>\n",
       "      <td>...</td>\n",
       "    </tr>\n",
       "    <tr>\n",
       "      <th>259</th>\n",
       "      <td>265</td>\n",
       "      <td>257</td>\n",
       "      <td>438063,25</td>\n",
       "      <td>4476718,06</td>\n",
       "      <td>44194</td>\n",
       "      <td>09 �MONCLOA-ARAVACA</td>\n",
       "      <td>09-03 CIUDAD UNIVERSITARIA</td>\n",
       "      <td>JUAN DE HERRERA, AVENIDA, DE</td>\n",
       "      <td>1</td>\n",
       "      <td>BiciMAD</td>\n",
       "      <td>24</td>\n",
       "      <td>-3.73029</td>\n",
       "      <td>40.438804</td>\n",
       "      <td>JUAN DE HERRERA, AVENIDA, DE, 1</td>\n",
       "    </tr>\n",
       "    <tr>\n",
       "      <th>260</th>\n",
       "      <td>266</td>\n",
       "      <td>258</td>\n",
       "      <td>438326,14</td>\n",
       "      <td>4477849,84</td>\n",
       "      <td>44194</td>\n",
       "      <td>09 �MONCLOA-ARAVACA</td>\n",
       "      <td>09-03 CIUDAD UNIVERSITARIA</td>\n",
       "      <td>COMPLUTENSE, AVENIDA</td>\n",
       "      <td>frente al 14</td>\n",
       "      <td>BiciMAD</td>\n",
       "      <td>24</td>\n",
       "      <td>-3.7273004</td>\n",
       "      <td>40.449019</td>\n",
       "      <td>COMPLUTENSE, AVENIDA, frente al 14</td>\n",
       "    </tr>\n",
       "    <tr>\n",
       "      <th>261</th>\n",
       "      <td>267</td>\n",
       "      <td>259</td>\n",
       "      <td>438344,78</td>\n",
       "      <td>4477338,89</td>\n",
       "      <td>44194</td>\n",
       "      <td>09 �MONCLOA-ARAVACA</td>\n",
       "      <td>09-03 CIUDAD UNIVERSITARIA</td>\n",
       "      <td>RAMON Y CAJAL, PLAZA, DE</td>\n",
       "      <td>S/N</td>\n",
       "      <td>BiciMAD</td>\n",
       "      <td>24</td>\n",
       "      <td>-3.727031</td>\n",
       "      <td>40.4444176</td>\n",
       "      <td>RAMON Y CAJAL, PLAZA, DE, S/N</td>\n",
       "    </tr>\n",
       "    <tr>\n",
       "      <th>262</th>\n",
       "      <td>268</td>\n",
       "      <td>260</td>\n",
       "      <td>438328,53</td>\n",
       "      <td>4477762,41</td>\n",
       "      <td>44194</td>\n",
       "      <td>09 �MONCLOA-ARAVACA</td>\n",
       "      <td>09-03 CIUDAD UNIVERSITARIA</td>\n",
       "      <td>JOSE ANTONIO NOVAIS, CALLE, DE</td>\n",
       "      <td>S/N</td>\n",
       "      <td>BiciMAD</td>\n",
       "      <td>24</td>\n",
       "      <td>-3.7272637</td>\n",
       "      <td>40.4482316</td>\n",
       "      <td>JOSE ANTONIO NOVAIS, CALLE, DE, S/N</td>\n",
       "    </tr>\n",
       "    <tr>\n",
       "      <th>263</th>\n",
       "      <td>269</td>\n",
       "      <td>261</td>\n",
       "      <td>438161,53</td>\n",
       "      <td>4478015,95</td>\n",
       "      <td>44194</td>\n",
       "      <td>09 �MONCLOA-ARAVACA</td>\n",
       "      <td>09-03 CIUDAD UNIVERSITARIA</td>\n",
       "      <td>COMPLUTENSE, AVENIDA</td>\n",
       "      <td>frente al 7</td>\n",
       "      <td>BiciMAD</td>\n",
       "      <td>24</td>\n",
       "      <td>-3.7292576</td>\n",
       "      <td>40.4505032</td>\n",
       "      <td>COMPLUTENSE, AVENIDA, frente al 7</td>\n",
       "    </tr>\n",
       "  </tbody>\n",
       "</table>\n",
       "<p>264 rows × 14 columns</p>\n",
       "</div>"
      ],
      "text/plain": [
       "     Id_Station Nro_Station      Gis_X       Gis_Y  Fecha_Alta  \\\n",
       "0             1       001 a  440443,61  4474290,65       43803   \n",
       "1             2       001 b  440480,56  4474301,74       43867   \n",
       "2             3           2  440134,83  4474678,23       41813   \n",
       "3             4           3  440012,98  4475760,68       41813   \n",
       "4             5           4   440396,4  4475565,36       41813   \n",
       "..          ...         ...        ...         ...         ...   \n",
       "259         265         257  438063,25  4476718,06       44194   \n",
       "260         266         258  438326,14  4477849,84       44194   \n",
       "261         267         259  438344,78  4477338,89       44194   \n",
       "262         268         260  438328,53  4477762,41       44194   \n",
       "263         269         261  438161,53  4478015,95       44194   \n",
       "\n",
       "                Distrito                      Barrio  \\\n",
       "0             01 �CENTRO                   01-06 SOL   \n",
       "1             01 �CENTRO                   01-06 SOL   \n",
       "2             01 �CENTRO           01-05 UNIVERSIDAD   \n",
       "3           07 �CHAMBERi              07-02 ARAPILES   \n",
       "4             01 �CENTRO           01-05 UNIVERSIDAD   \n",
       "..                   ...                         ...   \n",
       "259  09 �MONCLOA-ARAVACA  09-03 CIUDAD UNIVERSITARIA   \n",
       "260  09 �MONCLOA-ARAVACA  09-03 CIUDAD UNIVERSITARIA   \n",
       "261  09 �MONCLOA-ARAVACA  09-03 CIUDAD UNIVERSITARIA   \n",
       "262  09 �MONCLOA-ARAVACA  09-03 CIUDAD UNIVERSITARIA   \n",
       "263  09 �MONCLOA-ARAVACA  09-03 CIUDAD UNIVERSITARIA   \n",
       "\n",
       "                                     Calle         Finca Tipo_Reserva  Plazas  \\\n",
       "0                        ALCALA, CALLE, DE             2      BiciMAD      30   \n",
       "1                        ALCALA, CALLE, DE             6      BiciMAD      30   \n",
       "2                   MIGUEL MOYA, CALLE, DE             1      BiciMAD      24   \n",
       "3    CONDE DEL VALLE DE SUCHIL, PLAZA, DEL             2      BiciMAD      18   \n",
       "4              MANUELA MALASA�A, CALLE, DE             3      BiciMAD      24   \n",
       "..                                     ...           ...          ...     ...   \n",
       "259           JUAN DE HERRERA, AVENIDA, DE             1      BiciMAD      24   \n",
       "260                   COMPLUTENSE, AVENIDA  frente al 14      BiciMAD      24   \n",
       "261               RAMON Y CAJAL, PLAZA, DE           S/N      BiciMAD      24   \n",
       "262         JOSE ANTONIO NOVAIS, CALLE, DE           S/N      BiciMAD      24   \n",
       "263                   COMPLUTENSE, AVENIDA   frente al 7      BiciMAD      24   \n",
       "\n",
       "      Longitud    Latitud                                 Direccion  \n",
       "0    -3.701998 40.4171107                      ALCALA, CALLE, DE, 2  \n",
       "1   -3.7015636 40.4172132                      ALCALA, CALLE, DE, 6  \n",
       "2   -3.7056739   40.42058                 MIGUEL MOYA, CALLE, DE, 1  \n",
       "3   -3.7072122 40.4303224  CONDE DEL VALLE DE SUCHIL, PLAZA, DEL, 2  \n",
       "4   -3.7026739 40.4285905            MANUELA MALASA�A, CALLE, DE, 3  \n",
       "..         ...        ...                                       ...  \n",
       "259   -3.73029  40.438804           JUAN DE HERRERA, AVENIDA, DE, 1  \n",
       "260 -3.7273004  40.449019        COMPLUTENSE, AVENIDA, frente al 14  \n",
       "261  -3.727031 40.4444176             RAMON Y CAJAL, PLAZA, DE, S/N  \n",
       "262 -3.7272637 40.4482316       JOSE ANTONIO NOVAIS, CALLE, DE, S/N  \n",
       "263 -3.7292576 40.4505032         COMPLUTENSE, AVENIDA, frente al 7  \n",
       "\n",
       "[264 rows x 14 columns]"
      ]
     },
     "execution_count": 86,
     "metadata": {},
     "output_type": "execute_result"
    }
   ],
   "source": [
    "# Stations\n",
    "t_ini = time.time()\n",
    "data_Stations = _consulta_stations(db_Stations)\n",
    "t_end = time.time()\n",
    "\n",
    "print (t_end - t_ini)\n",
    "data_Stations\n"
   ]
  },
  {
   "cell_type": "code",
   "execution_count": 87,
   "id": "c2ddd361",
   "metadata": {},
   "outputs": [
    {
     "name": "stdout",
     "output_type": "stream",
     "text": [
      "0.2322700023651123\n"
     ]
    },
    {
     "data": {
      "text/html": [
       "<div>\n",
       "<style scoped>\n",
       "    .dataframe tbody tr th:only-of-type {\n",
       "        vertical-align: middle;\n",
       "    }\n",
       "\n",
       "    .dataframe tbody tr th {\n",
       "        vertical-align: top;\n",
       "    }\n",
       "\n",
       "    .dataframe thead th {\n",
       "        text-align: right;\n",
       "    }\n",
       "</style>\n",
       "<table border=\"1\" class=\"dataframe\">\n",
       "  <thead>\n",
       "    <tr style=\"text-align: right;\">\n",
       "      <th></th>\n",
       "      <th>Id_Station</th>\n",
       "      <th>Id_EstacionMeteo</th>\n",
       "      <th>Nro_Station</th>\n",
       "      <th>Nom_EstacionMeteo</th>\n",
       "    </tr>\n",
       "  </thead>\n",
       "  <tbody>\n",
       "    <tr>\n",
       "      <th>0</th>\n",
       "      <td>1</td>\n",
       "      <td>28079035</td>\n",
       "      <td>001 a</td>\n",
       "      <td>Plaza del Carmen</td>\n",
       "    </tr>\n",
       "    <tr>\n",
       "      <th>1</th>\n",
       "      <td>2</td>\n",
       "      <td>28079035</td>\n",
       "      <td>001 b</td>\n",
       "      <td>Plaza del Carmen</td>\n",
       "    </tr>\n",
       "    <tr>\n",
       "      <th>2</th>\n",
       "      <td>3</td>\n",
       "      <td>28079035</td>\n",
       "      <td>2</td>\n",
       "      <td>Plaza del Carmen</td>\n",
       "    </tr>\n",
       "    <tr>\n",
       "      <th>3</th>\n",
       "      <td>4</td>\n",
       "      <td>28079004</td>\n",
       "      <td>3</td>\n",
       "      <td>Plaza Espa�a</td>\n",
       "    </tr>\n",
       "    <tr>\n",
       "      <th>4</th>\n",
       "      <td>5</td>\n",
       "      <td>28079109</td>\n",
       "      <td>4</td>\n",
       "      <td>J.M.D.Chamberi</td>\n",
       "    </tr>\n",
       "    <tr>\n",
       "      <th>...</th>\n",
       "      <td>...</td>\n",
       "      <td>...</td>\n",
       "      <td>...</td>\n",
       "      <td>...</td>\n",
       "    </tr>\n",
       "    <tr>\n",
       "      <th>259</th>\n",
       "      <td>265</td>\n",
       "      <td>28079106</td>\n",
       "      <td>257</td>\n",
       "      <td>Centro Mpal. De Acustica</td>\n",
       "    </tr>\n",
       "    <tr>\n",
       "      <th>260</th>\n",
       "      <td>266</td>\n",
       "      <td>28079106</td>\n",
       "      <td>258</td>\n",
       "      <td>Centro Mpal. De Acustica</td>\n",
       "    </tr>\n",
       "    <tr>\n",
       "      <th>261</th>\n",
       "      <td>267</td>\n",
       "      <td>28079106</td>\n",
       "      <td>259</td>\n",
       "      <td>Centro Mpal. De Acustica</td>\n",
       "    </tr>\n",
       "    <tr>\n",
       "      <th>262</th>\n",
       "      <td>268</td>\n",
       "      <td>28079106</td>\n",
       "      <td>260</td>\n",
       "      <td>Centro Mpal. De Acustica</td>\n",
       "    </tr>\n",
       "    <tr>\n",
       "      <th>263</th>\n",
       "      <td>269</td>\n",
       "      <td>28079106</td>\n",
       "      <td>261</td>\n",
       "      <td>Centro Mpal. De Acustica</td>\n",
       "    </tr>\n",
       "  </tbody>\n",
       "</table>\n",
       "<p>264 rows × 4 columns</p>\n",
       "</div>"
      ],
      "text/plain": [
       "     Id_Station  Id_EstacionMeteo Nro_Station         Nom_EstacionMeteo\n",
       "0             1          28079035       001 a          Plaza del Carmen\n",
       "1             2          28079035       001 b          Plaza del Carmen\n",
       "2             3          28079035           2          Plaza del Carmen\n",
       "3             4          28079004           3              Plaza Espa�a\n",
       "4             5          28079109           4            J.M.D.Chamberi\n",
       "..          ...               ...         ...                       ...\n",
       "259         265          28079106         257  Centro Mpal. De Acustica\n",
       "260         266          28079106         258  Centro Mpal. De Acustica\n",
       "261         267          28079106         259  Centro Mpal. De Acustica\n",
       "262         268          28079106         260  Centro Mpal. De Acustica\n",
       "263         269          28079106         261  Centro Mpal. De Acustica\n",
       "\n",
       "[264 rows x 4 columns]"
      ]
     },
     "execution_count": 87,
     "metadata": {},
     "output_type": "execute_result"
    }
   ],
   "source": [
    "# Stations\n",
    "t_ini = time.time()\n",
    "data_StationsMeteo = _consulta_stations_EstacionesMeteo(db_Stations_Meteo)\n",
    "t_end = time.time()\n",
    "\n",
    "print (t_end - t_ini)\n",
    "data_StationsMeteo\n"
   ]
  },
  {
   "cell_type": "code",
   "execution_count": 79,
   "id": "9b7a2f0b",
   "metadata": {},
   "outputs": [
    {
     "name": "stdout",
     "output_type": "stream",
     "text": [
      "<class 'pandas.core.frame.DataFrame'>\n",
      "RangeIndex: 13908334 entries, 0 to 13908333\n",
      "Data columns (total 17 columns):\n",
      " #   Column                Dtype  \n",
      "---  ------                -----  \n",
      " 0   Unnamed: 0            int64  \n",
      " 1   ANIO                  int64  \n",
      " 2   MES                   int64  \n",
      " 3   DIA                   int64  \n",
      " 4   HORA                  int64  \n",
      " 5   DIA_SEMANA            int64  \n",
      " 6   AM_PM                 object \n",
      " 7   TEMPORADA             object \n",
      " 8   UNPLUG_TIME_date      object \n",
      " 9   travel_time           int64  \n",
      " 10  idunplug_station      int64  \n",
      " 11  idplug_station        int64  \n",
      " 12  user_type             int64  \n",
      " 13  ageRange              int64  \n",
      " 14  zip_code              object \n",
      " 15  travel_time_mins      float64\n",
      " 16  travel_time_mins_log  float64\n",
      "dtypes: float64(2), int64(11), object(4)\n",
      "memory usage: 1.8+ GB\n"
     ]
    }
   ],
   "source": [
    "data_Tracks.info()"
   ]
  },
  {
   "cell_type": "code",
   "execution_count": 88,
   "id": "490e9e18",
   "metadata": {},
   "outputs": [
    {
     "name": "stdout",
     "output_type": "stream",
     "text": [
      "<class 'pandas.core.frame.DataFrame'>\n",
      "RangeIndex: 575976 entries, 0 to 575975\n",
      "Data columns (total 12 columns):\n",
      " #   Column            Non-Null Count   Dtype  \n",
      "---  ------            --------------   -----  \n",
      " 0   ANIO              575976 non-null  int64  \n",
      " 1   MES               575976 non-null  int64  \n",
      " 2   DIA               575976 non-null  int64  \n",
      " 3   HORA              575976 non-null  int64  \n",
      " 4   Id_EstacionMeteo  575976 non-null  int64  \n",
      " 5   PROVINCIA         575976 non-null  int64  \n",
      " 6   MUNICIPIO         575976 non-null  int64  \n",
      " 7   TEMPERATURA       575976 non-null  float64\n",
      " 8   VIENTO            575976 non-null  int64  \n",
      " 9   PRESION           575976 non-null  int64  \n",
      " 10  RADIACION         575976 non-null  int64  \n",
      " 11  PRECIPITACION     575976 non-null  float64\n",
      "dtypes: float64(2), int64(10)\n",
      "memory usage: 52.7 MB\n"
     ]
    }
   ],
   "source": [
    "data_Meteo.info()"
   ]
  },
  {
   "cell_type": "code",
   "execution_count": 89,
   "id": "d7f68b9b",
   "metadata": {},
   "outputs": [
    {
     "name": "stdout",
     "output_type": "stream",
     "text": [
      "<class 'pandas.core.frame.DataFrame'>\n",
      "RangeIndex: 264 entries, 0 to 263\n",
      "Data columns (total 14 columns):\n",
      " #   Column        Non-Null Count  Dtype  \n",
      "---  ------        --------------  -----  \n",
      " 0   Id_Station    264 non-null    int64  \n",
      " 1   Nro_Station   264 non-null    object \n",
      " 2   Gis_X         264 non-null    object \n",
      " 3   Gis_Y         264 non-null    object \n",
      " 4   Fecha_Alta    264 non-null    int64  \n",
      " 5   Distrito      264 non-null    object \n",
      " 6   Barrio        264 non-null    object \n",
      " 7   Calle         264 non-null    object \n",
      " 8   Finca         264 non-null    object \n",
      " 9   Tipo_Reserva  264 non-null    object \n",
      " 10  Plazas        264 non-null    int64  \n",
      " 11  Longitud      264 non-null    float64\n",
      " 12  Latitud       264 non-null    float64\n",
      " 13  Direccion     264 non-null    object \n",
      "dtypes: float64(2), int64(3), object(9)\n",
      "memory usage: 29.0+ KB\n"
     ]
    }
   ],
   "source": [
    "data_Stations.info()"
   ]
  },
  {
   "cell_type": "code",
   "execution_count": 90,
   "id": "a21a88a2",
   "metadata": {},
   "outputs": [
    {
     "name": "stdout",
     "output_type": "stream",
     "text": [
      "<class 'pandas.core.frame.DataFrame'>\n",
      "RangeIndex: 264 entries, 0 to 263\n",
      "Data columns (total 4 columns):\n",
      " #   Column             Non-Null Count  Dtype \n",
      "---  ------             --------------  ----- \n",
      " 0   Id_Station         264 non-null    int64 \n",
      " 1   Id_EstacionMeteo   264 non-null    int64 \n",
      " 2   Nro_Station        264 non-null    object\n",
      " 3   Nom_EstacionMeteo  264 non-null    object\n",
      "dtypes: int64(2), object(2)\n",
      "memory usage: 8.4+ KB\n"
     ]
    }
   ],
   "source": [
    "data_StationsMeteo.info()"
   ]
  },
  {
   "cell_type": "code",
   "execution_count": null,
   "id": "41131f3e",
   "metadata": {},
   "outputs": [],
   "source": []
  },
  {
   "cell_type": "code",
   "execution_count": null,
   "id": "80033e7f",
   "metadata": {},
   "outputs": [],
   "source": []
  },
  {
   "cell_type": "code",
   "execution_count": 91,
   "id": "9b64efda",
   "metadata": {},
   "outputs": [],
   "source": [
    "data = pd.merge(data_Tracks, data_Stations, how='left', left_on='idunplug_station', right_on='Id_Station')"
   ]
  },
  {
   "cell_type": "code",
   "execution_count": 93,
   "id": "424e0de2",
   "metadata": {},
   "outputs": [],
   "source": [
    "data1 = pd.merge(data, data_StationsMeteo, how='left', left_on='Id_Station', right_on='Id_Station')"
   ]
  },
  {
   "cell_type": "code",
   "execution_count": 96,
   "id": "19e4ebf6",
   "metadata": {},
   "outputs": [],
   "source": [
    "data_final = pd.merge(data1, data_Meteo, how='left', left_on=['Id_EstacionMeteo','ANIO','MES','DIA','HORA'], right_on=['Id_EstacionMeteo','ANIO','MES','DIA','HORA'])"
   ]
  },
  {
   "cell_type": "code",
   "execution_count": 97,
   "id": "895ddac5",
   "metadata": {},
   "outputs": [
    {
     "name": "stdout",
     "output_type": "stream",
     "text": [
      "<class 'pandas.core.frame.DataFrame'>\n",
      "Int64Index: 13908334 entries, 0 to 13908333\n",
      "Data columns (total 39 columns):\n",
      " #   Column             Dtype  \n",
      "---  ------             -----  \n",
      " 0   Unnamed: 0         int64  \n",
      " 1   ANIO               int64  \n",
      " 2   MES                int64  \n",
      " 3   DIA                int64  \n",
      " 4   HORA               int64  \n",
      " 5   DIA_SEMANA         int64  \n",
      " 6   AM_PM              object \n",
      " 7   TEMPORADA          object \n",
      " 8   UNPLUG_TIME_date   object \n",
      " 9   travel_time        int64  \n",
      " 10  idunplug_station   int64  \n",
      " 11  idplug_station     int64  \n",
      " 12  user_type          int64  \n",
      " 13  ageRange           int64  \n",
      " 14  zip_code           object \n",
      " 15  Id_Station         int64  \n",
      " 16  Nro_Station_x      object \n",
      " 17  Gis_X              object \n",
      " 18  Gis_Y              object \n",
      " 19  Fecha_Alta         int64  \n",
      " 20  Distrito           object \n",
      " 21  Barrio             object \n",
      " 22  Calle              object \n",
      " 23  Finca              object \n",
      " 24  Tipo_Reserva       object \n",
      " 25  Plazas             int64  \n",
      " 26  Longitud           float64\n",
      " 27  Latitud            float64\n",
      " 28  Direccion          object \n",
      " 29  Id_EstacionMeteo   int64  \n",
      " 30  Nro_Station_y      object \n",
      " 31  Nom_EstacionMeteo  object \n",
      " 32  PROVINCIA          float64\n",
      " 33  MUNICIPIO          float64\n",
      " 34  TEMPERATURA        float64\n",
      " 35  VIENTO             float64\n",
      " 36  PRESION            float64\n",
      " 37  RADIACION          float64\n",
      " 38  PRECIPITACION      float64\n",
      "dtypes: float64(9), int64(15), object(15)\n",
      "memory usage: 4.1+ GB\n"
     ]
    }
   ],
   "source": [
    "data_final.info()"
   ]
  },
  {
   "cell_type": "code",
   "execution_count": null,
   "id": "687a3d90",
   "metadata": {},
   "outputs": [],
   "source": [
    "data.shape"
   ]
  },
  {
   "cell_type": "code",
   "execution_count": 60,
   "id": "1f4233ac",
   "metadata": {},
   "outputs": [
    {
     "data": {
      "text/plain": [
       "(13908334, 15)"
      ]
     },
     "execution_count": 60,
     "metadata": {},
     "output_type": "execute_result"
    }
   ],
   "source": [
    "data_Tracks.shape"
   ]
  },
  {
   "cell_type": "code",
   "execution_count": null,
   "id": "ed7f3d4e",
   "metadata": {},
   "outputs": [],
   "source": [
    "data_na=data[data['Id_Station'].isna()]"
   ]
  },
  {
   "cell_type": "code",
   "execution_count": null,
   "id": "270fee9d",
   "metadata": {},
   "outputs": [],
   "source": [
    "data_na"
   ]
  },
  {
   "cell_type": "code",
   "execution_count": null,
   "id": "0d352859",
   "metadata": {},
   "outputs": [],
   "source": [
    "data_na.groupby('idunplug_station').size()"
   ]
  },
  {
   "cell_type": "code",
   "execution_count": null,
   "id": "6ba9b686",
   "metadata": {},
   "outputs": [],
   "source": []
  },
  {
   "cell_type": "code",
   "execution_count": null,
   "id": "d5cdb26e",
   "metadata": {},
   "outputs": [],
   "source": [
    "pd.options.display.float_format = '{:,}'.format\n",
    "pd.set_eng_float_format(accuracy=3, use_eng_prefix=True)"
   ]
  },
  {
   "cell_type": "code",
   "execution_count": null,
   "id": "9e097c0a",
   "metadata": {},
   "outputs": [],
   "source": [
    "data.groupby(['Id_Station', 'ANIO', 'MES']).size()"
   ]
  },
  {
   "cell_type": "code",
   "execution_count": null,
   "id": "96ceecf2",
   "metadata": {},
   "outputs": [],
   "source": []
  },
  {
   "cell_type": "code",
   "execution_count": null,
   "id": "907fc5e8",
   "metadata": {},
   "outputs": [],
   "source": []
  },
  {
   "cell_type": "markdown",
   "id": "d9c2660b",
   "metadata": {},
   "source": [
    "### EDA: travel_time"
   ]
  },
  {
   "cell_type": "code",
   "execution_count": 98,
   "id": "694eb747",
   "metadata": {},
   "outputs": [],
   "source": [
    "data_Tracks['travel_time_mins'] = data_Tracks['travel_time']/60  # Convierte a minutos"
   ]
  },
  {
   "cell_type": "markdown",
   "id": "57b36153",
   "metadata": {},
   "source": [
    "Descripción general"
   ]
  },
  {
   "cell_type": "code",
   "execution_count": 99,
   "id": "22dfd2f4",
   "metadata": {},
   "outputs": [
    {
     "data": {
      "text/plain": [
       "count          13,908,334.0\n",
       "mean      21.33264462155732\n",
       "std       442.0358188084971\n",
       "min              -16,161.55\n",
       "25%       7.666666666666667\n",
       "50%                    11.7\n",
       "75%      17.883333333333333\n",
       "max     321,214.81666666665\n",
       "Name: travel_time_mins, dtype: float64"
      ]
     },
     "execution_count": 99,
     "metadata": {},
     "output_type": "execute_result"
    }
   ],
   "source": [
    "data_Tracks['travel_time_mins'].describe()"
   ]
  },
  {
   "cell_type": "code",
   "execution_count": 100,
   "id": "cb65c6b3",
   "metadata": {},
   "outputs": [],
   "source": [
    "import numpy as np\n",
    "\n",
    "# Convierte a logaritmo para graficar\n",
    "df_nonzero_travel_times = data_Tracks.loc[data_Tracks['travel_time_mins'] > 0]\n",
    "\n",
    "data_Tracks['travel_time_mins_log'] = np.log(df_nonzero_travel_times['travel_time_mins'])\n",
    "\n"
   ]
  },
  {
   "cell_type": "code",
   "execution_count": 101,
   "id": "fa9a0ab6",
   "metadata": {},
   "outputs": [
    {
     "data": {
      "text/plain": [
       "<AxesSubplot:>"
      ]
     },
     "execution_count": 101,
     "metadata": {},
     "output_type": "execute_result"
    },
    {
     "data": {
      "image/png": "[encoded data removed]",
      "text/plain": [
       "<Figure size 432x288 with 1 Axes>"
      ]
     },
     "metadata": {
      "needs_background": "light"
     },
     "output_type": "display_data"
    }
   ],
   "source": [
    "data_Tracks['travel_time_mins_log'].hist(bins=250)"
   ]
  },
  {
   "cell_type": "code",
   "execution_count": 102,
   "id": "e5c17f6c",
   "metadata": {},
   "outputs": [
    {
     "data": {
      "text/plain": [
       "<AxesSubplot:>"
      ]
     },
     "execution_count": 102,
     "metadata": {},
     "output_type": "execute_result"
    },
    {
     "data": {
      "image/png": "[encoded data removed]",
      "text/plain": [
       "<Figure size 432x288 with 1 Axes>"
      ]
     },
     "metadata": {
      "needs_background": "light"
     },
     "output_type": "display_data"
    }
   ],
   "source": [
    "df_non_extreme_travel_times = data_Tracks.loc[data_Tracks['travel_time_mins'] > 0]\n",
    "df_non_extreme_travel_times.boxplot(column='travel_time_mins')"
   ]
  },
  {
   "cell_type": "markdown",
   "id": "f4e72e61",
   "metadata": {},
   "source": [
    "Viajes sobre 360 minutos"
   ]
  },
  {
   "cell_type": "code",
   "execution_count": 103,
   "id": "2a5fe3c8",
   "metadata": {},
   "outputs": [
    {
     "name": "stdout",
     "output_type": "stream",
     "text": [
      "7971\n",
      "0.05731096190241046\n"
     ]
    }
   ],
   "source": [
    "df_non_extreme_travel_times = data_Tracks.loc[data_Tracks['travel_time_mins'] > 360]\n",
    "\n",
    "total = df_non_extreme_travel_times['travel_time_mins'].count()\n",
    "print(total)\n",
    "\n",
    "total_prc = df_non_extreme_travel_times['travel_time_mins'].count() / data_Tracks['travel_time_mins'].count() * 100\n",
    "print(total_prc)\n"
   ]
  },
  {
   "cell_type": "markdown",
   "id": "e8958694",
   "metadata": {},
   "source": [
    "Viajes sobre 30 minutos"
   ]
  },
  {
   "cell_type": "code",
   "execution_count": 104,
   "id": "130a3cdf",
   "metadata": {},
   "outputs": [
    {
     "name": "stdout",
     "output_type": "stream",
     "text": [
      "1388050\n",
      "9.979987538406828\n"
     ]
    }
   ],
   "source": [
    "df_non_extreme_travel_times = data_Tracks.loc[data_Tracks['travel_time_mins'] > 30]\n",
    "\n",
    "total = df_non_extreme_travel_times['travel_time_mins'].count()\n",
    "print(total)\n",
    "\n",
    "total_prc = df_non_extreme_travel_times['travel_time_mins'].count() / data_Tracks['travel_time_mins'].count() * 100\n",
    "print(total_prc)"
   ]
  },
  {
   "cell_type": "markdown",
   "id": "8c7d6ded",
   "metadata": {},
   "source": [
    "Viajes de menos de 180 segundos"
   ]
  },
  {
   "cell_type": "code",
   "execution_count": 105,
   "id": "4f05efbc",
   "metadata": {},
   "outputs": [
    {
     "name": "stdout",
     "output_type": "stream",
     "text": [
      "500305\n",
      "3.597159803611274\n"
     ]
    }
   ],
   "source": [
    "total = data_Tracks.loc[data_Tracks['travel_time'] < 180]['user_type'].count()\n",
    "print(total)\n",
    "\n",
    "total_proc = data_Tracks.loc[data_Tracks['travel_time'] < 180]['user_type'].count() / data_Tracks['travel_time'].count() *100\n",
    "print(total_proc)"
   ]
  },
  {
   "cell_type": "markdown",
   "id": "151f7059",
   "metadata": {},
   "source": [
    "Viajes con tiempo negativo"
   ]
  },
  {
   "cell_type": "code",
   "execution_count": 106,
   "id": "69facac5",
   "metadata": {},
   "outputs": [
    {
     "name": "stdout",
     "output_type": "stream",
     "text": [
      "161\n",
      "0.0011575793333694748\n"
     ]
    }
   ],
   "source": [
    "total = data_Tracks.loc[data_Tracks['travel_time'] < 0]['user_type'].count()\n",
    "print(total)\n",
    "\n",
    "total_proc = data_Tracks.loc[data_Tracks['travel_time'] < 0]['user_type'].count() / data_Tracks['travel_time'].count() *100\n",
    "print(total_proc)"
   ]
  },
  {
   "cell_type": "markdown",
   "id": "23c60862",
   "metadata": {},
   "source": [
    "### EDA: origen vs destino"
   ]
  },
  {
   "cell_type": "markdown",
   "id": "63e443fd",
   "metadata": {},
   "source": [
    "Estaciones en donde origen y destino son el mismo y el viaje es menor a 3 minutos"
   ]
  },
  {
   "cell_type": "code",
   "execution_count": 107,
   "id": "c883ca11",
   "metadata": {},
   "outputs": [
    {
     "name": "stdout",
     "output_type": "stream",
     "text": [
      "663039\n",
      "151647\n",
      "297477\n",
      "304227\n"
     ]
    }
   ],
   "source": [
    "df_same_station = data_Tracks.loc[(data_Tracks['idunplug_station'] == data_Tracks['idplug_station'])]\n",
    "print(df_same_station['ANIO'].count())\n",
    "print(df_same_station.loc[df_same_station['travel_time'] < 10]['ANIO'].count())\n",
    "print(df_same_station.loc[df_same_station['travel_time'] < 60]['ANIO'].count())\n",
    "print(df_same_station.loc[df_same_station['travel_time'] < 180]['ANIO'].count())\n",
    "\n"
   ]
  },
  {
   "cell_type": "markdown",
   "id": "d4a7d3e1",
   "metadata": {},
   "source": [
    "### EDA: user_type"
   ]
  },
  {
   "cell_type": "markdown",
   "id": "67597ff6",
   "metadata": {},
   "source": [
    "```\n",
    "user_type = 0: undetermined\n",
    "user_type = 1: annual pass holder\n",
    "user_type = 2: occasional user (incl. tourists, I guess)\n",
    "user_type = 3: BiciMad employee\n",
    "```"
   ]
  },
  {
   "cell_type": "code",
   "execution_count": 72,
   "id": "f5a71ee7",
   "metadata": {},
   "outputs": [
    {
     "data": {
      "text/html": [
       "<div>\n",
       "<style scoped>\n",
       "    .dataframe tbody tr th:only-of-type {\n",
       "        vertical-align: middle;\n",
       "    }\n",
       "\n",
       "    .dataframe tbody tr th {\n",
       "        vertical-align: top;\n",
       "    }\n",
       "\n",
       "    .dataframe thead th {\n",
       "        text-align: right;\n",
       "    }\n",
       "</style>\n",
       "<table border=\"1\" class=\"dataframe\">\n",
       "  <thead>\n",
       "    <tr style=\"text-align: right;\">\n",
       "      <th></th>\n",
       "      <th>count</th>\n",
       "      <th>mean</th>\n",
       "      <th>std</th>\n",
       "      <th>min</th>\n",
       "      <th>25%</th>\n",
       "      <th>50%</th>\n",
       "      <th>75%</th>\n",
       "      <th>max</th>\n",
       "    </tr>\n",
       "    <tr>\n",
       "      <th>user_type</th>\n",
       "      <th></th>\n",
       "      <th></th>\n",
       "      <th></th>\n",
       "      <th></th>\n",
       "      <th></th>\n",
       "      <th></th>\n",
       "      <th></th>\n",
       "      <th></th>\n",
       "    </tr>\n",
       "  </thead>\n",
       "  <tbody>\n",
       "    <tr>\n",
       "      <th>0</th>\n",
       "      <td>105,328.0</td>\n",
       "      <td>26.523530463567955</td>\n",
       "      <td>33.77493222309412</td>\n",
       "      <td>0.03333333333333333</td>\n",
       "      <td>9.3</td>\n",
       "      <td>15.116666666666667</td>\n",
       "      <td>28.05</td>\n",
       "      <td>359.0833333333333</td>\n",
       "    </tr>\n",
       "    <tr>\n",
       "      <th>1</th>\n",
       "      <td>12,622,309.0</td>\n",
       "      <td>15.50170240378853</td>\n",
       "      <td>20.865995178764166</td>\n",
       "      <td>-16,161.55</td>\n",
       "      <td>7.7</td>\n",
       "      <td>11.4</td>\n",
       "      <td>16.733333333333334</td>\n",
       "      <td>360.0</td>\n",
       "    </tr>\n",
       "    <tr>\n",
       "      <th>2</th>\n",
       "      <td>161,415.0</td>\n",
       "      <td>42.88953556567433</td>\n",
       "      <td>42.27656190986611</td>\n",
       "      <td>0.3</td>\n",
       "      <td>14.433333333333334</td>\n",
       "      <td>28.1</td>\n",
       "      <td>56.63333333333333</td>\n",
       "      <td>359.76666666666665</td>\n",
       "    </tr>\n",
       "    <tr>\n",
       "      <th>3</th>\n",
       "      <td>1,012,082.0</td>\n",
       "      <td>89.99299518223734</td>\n",
       "      <td>1,635.2763047553349</td>\n",
       "      <td>-43.78333333333333</td>\n",
       "      <td>0.26666666666666666</td>\n",
       "      <td>25.233333333333334</td>\n",
       "      <td>49.233333333333334</td>\n",
       "      <td>321,214.81666666665</td>\n",
       "    </tr>\n",
       "    <tr>\n",
       "      <th>6</th>\n",
       "      <td>7,187.0</td>\n",
       "      <td>32.982366309540375</td>\n",
       "      <td>36.895131577179065</td>\n",
       "      <td>0.65</td>\n",
       "      <td>11.816666666666666</td>\n",
       "      <td>20.3</td>\n",
       "      <td>39.30833333333334</td>\n",
       "      <td>348.4166666666667</td>\n",
       "    </tr>\n",
       "    <tr>\n",
       "      <th>7</th>\n",
       "      <td>13.0</td>\n",
       "      <td>19.162820512820513</td>\n",
       "      <td>12.792020722291852</td>\n",
       "      <td>4.916666666666667</td>\n",
       "      <td>12.55</td>\n",
       "      <td>14.866666666666667</td>\n",
       "      <td>21.65</td>\n",
       "      <td>50.21666666666667</td>\n",
       "    </tr>\n",
       "  </tbody>\n",
       "</table>\n",
       "</div>"
      ],
      "text/plain": [
       "                 count               mean                 std  \\\n",
       "user_type                                                       \n",
       "0            105,328.0 26.523530463567955   33.77493222309412   \n",
       "1         12,622,309.0  15.50170240378853  20.865995178764166   \n",
       "2            161,415.0  42.88953556567433   42.27656190986611   \n",
       "3          1,012,082.0  89.99299518223734 1,635.2763047553349   \n",
       "6              7,187.0 32.982366309540375  36.895131577179065   \n",
       "7                 13.0 19.162820512820513  12.792020722291852   \n",
       "\n",
       "                          min                 25%                50%  \\\n",
       "user_type                                                              \n",
       "0         0.03333333333333333                 9.3 15.116666666666667   \n",
       "1                  -16,161.55                 7.7               11.4   \n",
       "2                         0.3  14.433333333333334               28.1   \n",
       "3          -43.78333333333333 0.26666666666666666 25.233333333333334   \n",
       "6                        0.65  11.816666666666666               20.3   \n",
       "7           4.916666666666667               12.55 14.866666666666667   \n",
       "\n",
       "                         75%                 max  \n",
       "user_type                                         \n",
       "0                      28.05   359.0833333333333  \n",
       "1         16.733333333333334               360.0  \n",
       "2          56.63333333333333  359.76666666666665  \n",
       "3         49.233333333333334 321,214.81666666665  \n",
       "6          39.30833333333334   348.4166666666667  \n",
       "7                      21.65   50.21666666666667  "
      ]
     },
     "execution_count": 72,
     "metadata": {},
     "output_type": "execute_result"
    }
   ],
   "source": [
    "data_Tracks.groupby(['user_type'])['travel_time_mins'].describe()"
   ]
  },
  {
   "cell_type": "markdown",
   "id": "0e2487b5",
   "metadata": {},
   "source": [
    "### EDA: age_range"
   ]
  },
  {
   "cell_type": "markdown",
   "id": "3fcc552e",
   "metadata": {},
   "source": [
    "```\n",
    "ageRange = 0: undetermined\n",
    "ageRange = 1: from 0 to 16 years old\n",
    "ageRange = 2: from 17 to 18 years old\n",
    "ageRange = 3: from 19 to 26 years old\n",
    "ageRange = 4: from 27 to 40 years old\n",
    "ageRange = 5: from 41 to 65 years old\n",
    "ageRange = 6: older than 66\n",
    "```"
   ]
  },
  {
   "cell_type": "code",
   "execution_count": 73,
   "id": "d07cd4b2",
   "metadata": {},
   "outputs": [
    {
     "data": {
      "text/plain": [
       "<AxesSubplot:xlabel='ageRange'>"
      ]
     },
     "execution_count": 73,
     "metadata": {},
     "output_type": "execute_result"
    },
    {
     "data": {
      "image/png": "[encoded data removed]",
      "text/plain": [
       "<Figure size 432x288 with 1 Axes>"
      ]
     },
     "metadata": {
      "needs_background": "light"
     },
     "output_type": "display_data"
    }
   ],
   "source": [
    "data_Tracks.loc[data_Tracks['user_type']==1].groupby(['ageRange'])['ANIO'].count().plot(kind='bar')\n",
    "\n"
   ]
  },
  {
   "cell_type": "code",
   "execution_count": 74,
   "id": "48b59bf4",
   "metadata": {},
   "outputs": [
    {
     "data": {
      "text/plain": [
       "<AxesSubplot:xlabel='ageRange'>"
      ]
     },
     "execution_count": 74,
     "metadata": {},
     "output_type": "execute_result"
    },
    {
     "data": {
      "image/png": "[encoded data removed]",
      "text/plain": [
       "<Figure size 432x288 with 1 Axes>"
      ]
     },
     "metadata": {
      "needs_background": "light"
     },
     "output_type": "display_data"
    }
   ],
   "source": [
    "data_Tracks.loc[data_Tracks['user_type']==1].groupby(['ageRange'])['travel_time_mins'].mean().plot()"
   ]
  },
  {
   "cell_type": "markdown",
   "id": "b1c3a0fe",
   "metadata": {},
   "source": [
    "### EDA: Zip codes"
   ]
  },
  {
   "cell_type": "code",
   "execution_count": 75,
   "id": "31bcb9fc",
   "metadata": {},
   "outputs": [
    {
     "data": {
      "text/plain": [
       "zip_code\n",
       "                                230\n",
       " 2800                           278\n",
       " 28009                            1\n",
       " 2801                            11\n",
       " 2809                             4\n",
       "                               ... \n",
       "maxima87uk                      192\n",
       "nataliamoncastillo@gmail.com      3\n",
       "pin2001@icloud.com                4\n",
       "sperez@nova.es                   81\n",
       "ureaofs20                        16\n",
       "Name: ANIO, Length: 1131, dtype: int64"
      ]
     },
     "execution_count": 75,
     "metadata": {},
     "output_type": "execute_result"
    }
   ],
   "source": [
    "data_Tracks.groupby(['zip_code'])['ANIO'].count()"
   ]
  },
  {
   "cell_type": "markdown",
   "id": "e72623a4",
   "metadata": {},
   "source": [
    "### EDA: Stations"
   ]
  },
  {
   "cell_type": "markdown",
   "id": "6a88c90b",
   "metadata": {},
   "source": [
    "Stations de salida mas populares"
   ]
  },
  {
   "cell_type": "code",
   "execution_count": 76,
   "id": "42c3fa53",
   "metadata": {},
   "outputs": [
    {
     "data": {
      "text/plain": [
       "43     179394\n",
       "175    175870\n",
       "57     175086\n",
       "163    173879\n",
       "135    169005\n",
       "Name: idunplug_station, dtype: int64"
      ]
     },
     "execution_count": 76,
     "metadata": {},
     "output_type": "execute_result"
    }
   ],
   "source": [
    "data_Tracks['idunplug_station'].value_counts().sort_values(ascending=False)[:5]"
   ]
  },
  {
   "cell_type": "markdown",
   "id": "4103baaa",
   "metadata": {},
   "source": [
    "Stations de llegada mas populares"
   ]
  },
  {
   "cell_type": "code",
   "execution_count": 78,
   "id": "f9e13e62",
   "metadata": {},
   "outputs": [
    {
     "data": {
      "text/plain": [
       "43     182355\n",
       "175    177051\n",
       "163    175061\n",
       "57     174002\n",
       "135    173892\n",
       "Name: idplug_station, dtype: int64"
      ]
     },
     "execution_count": 78,
     "metadata": {},
     "output_type": "execute_result"
    }
   ],
   "source": [
    "data_Tracks['idplug_station'].value_counts().sort_values(ascending=False)[:5]"
   ]
  },
  {
   "cell_type": "code",
   "execution_count": null,
   "id": "4c8c75fc",
   "metadata": {},
   "outputs": [],
   "source": []
  }
 ],
 "metadata": {
  "kernelspec": {
   "display_name": "Python 3 (ipykernel)",
   "language": "python",
   "name": "python3"
  },
  "language_info": {
   "codemirror_mode": {
    "name": "ipython",
    "version": 3
   },
   "file_extension": ".py",
   "mimetype": "text/x-python",
   "name": "python",
   "nbconvert_exporter": "python",
   "pygments_lexer": "ipython3",
   "version": "3.9.12"
  }
 },
 "nbformat": 4,
 "nbformat_minor": 5
}
