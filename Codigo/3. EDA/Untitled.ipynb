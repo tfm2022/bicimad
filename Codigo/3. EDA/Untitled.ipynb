{
 "cells": [
  {
   "cell_type": "code",
   "execution_count": 2,
   "id": "83515602",
   "metadata": {},
   "outputs": [],
   "source": [
    "import time\n",
    "import pandas as pd\n",
    "\n",
    "%run \"../1. Librerias Mongo/MongoDB_Connections.ipynb\"\n",
    "%run \"../1. Librerias Mongo/MongoDB_Funciones_Consultas.ipynb\""
   ]
  },
  {
   "cell_type": "code",
   "execution_count": 3,
   "id": "be55c277",
   "metadata": {},
   "outputs": [
    {
     "name": "stdout",
     "output_type": "stream",
     "text": [
      "0.961550235748291\n"
     ]
    },
    {
     "data": {
      "text/plain": [
       "(2175990, 11)"
      ]
     },
     "execution_count": 3,
     "metadata": {},
     "output_type": "execute_result"
    }
   ],
   "source": [
    "t_ini = time.time()\n",
    "#data_Tracks = pd.read_csv('C:\\Master BigData\\TFM\\Data\\DataFullTracks_MongoDB.csv')\n",
    "data_Tracks = pd.read_csv('../DATA/Data_Final.csv')\n",
    "t_end = time.time()\n",
    "print (t_end - t_ini)\n",
    "\n",
    "data_Tracks.shape"
   ]
  },
  {
   "cell_type": "code",
   "execution_count": 4,
   "id": "6eb32a65",
   "metadata": {},
   "outputs": [
    {
     "data": {
      "text/html": [
       "<div>\n",
       "<style scoped>\n",
       "    .dataframe tbody tr th:only-of-type {\n",
       "        vertical-align: middle;\n",
       "    }\n",
       "\n",
       "    .dataframe tbody tr th {\n",
       "        vertical-align: top;\n",
       "    }\n",
       "\n",
       "    .dataframe thead th {\n",
       "        text-align: right;\n",
       "    }\n",
       "</style>\n",
       "<table border=\"1\" class=\"dataframe\">\n",
       "  <thead>\n",
       "    <tr style=\"text-align: right;\">\n",
       "      <th></th>\n",
       "      <th>Unnamed: 0</th>\n",
       "      <th>MES</th>\n",
       "      <th>DIA</th>\n",
       "      <th>HORA</th>\n",
       "      <th>ESTACION</th>\n",
       "      <th>DIA_SEMANA</th>\n",
       "      <th>DEMANDA</th>\n",
       "    </tr>\n",
       "    <tr>\n",
       "      <th>ANIO</th>\n",
       "      <th></th>\n",
       "      <th></th>\n",
       "      <th></th>\n",
       "      <th></th>\n",
       "      <th></th>\n",
       "      <th></th>\n",
       "      <th></th>\n",
       "    </tr>\n",
       "  </thead>\n",
       "  <tbody>\n",
       "    <tr>\n",
       "      <th>2018</th>\n",
       "      <td>472798869571</td>\n",
       "      <td>6503780</td>\n",
       "      <td>14884824</td>\n",
       "      <td>12559790</td>\n",
       "      <td>85617938</td>\n",
       "      <td>3905633</td>\n",
       "      <td>3367303</td>\n",
       "    </tr>\n",
       "    <tr>\n",
       "      <th>2019</th>\n",
       "      <td>1496151584334</td>\n",
       "      <td>6855723</td>\n",
       "      <td>15231023</td>\n",
       "      <td>13054460</td>\n",
       "      <td>98405903</td>\n",
       "      <td>4068983</td>\n",
       "      <td>3639704</td>\n",
       "    </tr>\n",
       "    <tr>\n",
       "      <th>2020</th>\n",
       "      <td>398514698150</td>\n",
       "      <td>290349</td>\n",
       "      <td>3032419</td>\n",
       "      <td>2529191</td>\n",
       "      <td>20859452</td>\n",
       "      <td>794878</td>\n",
       "      <td>566519</td>\n",
       "    </tr>\n",
       "  </tbody>\n",
       "</table>\n",
       "</div>"
      ],
      "text/plain": [
       "         Unnamed: 0      MES       DIA      HORA  ESTACION  DIA_SEMANA  \\\n",
       "ANIO                                                                     \n",
       "2018   472798869571  6503780  14884824  12559790  85617938     3905633   \n",
       "2019  1496151584334  6855723  15231023  13054460  98405903     4068983   \n",
       "2020   398514698150   290349   3032419   2529191  20859452      794878   \n",
       "\n",
       "      DEMANDA  \n",
       "ANIO           \n",
       "2018  3367303  \n",
       "2019  3639704  \n",
       "2020   566519  "
      ]
     },
     "execution_count": 4,
     "metadata": {},
     "output_type": "execute_result"
    }
   ],
   "source": [
    "data_Tracks.groupby('ANIO').sum('DEMANDA')"
   ]
  },
  {
   "cell_type": "code",
   "execution_count": null,
   "id": "848d64eb",
   "metadata": {},
   "outputs": [],
   "source": []
  }
 ],
 "metadata": {
  "kernelspec": {
   "display_name": "Python 3 (ipykernel)",
   "language": "python",
   "name": "python3"
  },
  "language_info": {
   "codemirror_mode": {
    "name": "ipython",
    "version": 3
   },
   "file_extension": ".py",
   "mimetype": "text/x-python",
   "name": "python",
   "nbconvert_exporter": "python",
   "pygments_lexer": "ipython3",
   "version": "3.9.12"
  }
 },
 "nbformat": 4,
 "nbformat_minor": 5
}
