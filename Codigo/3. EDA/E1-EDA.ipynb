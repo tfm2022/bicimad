{
 "cells": [
  {
   "cell_type": "code",
   "execution_count": 1,
   "id": "6567b9ab",
   "metadata": {},
   "outputs": [],
   "source": [
    "%run \"../1. Librerias Mongo/MongoDB_Connections.ipynb\"\n",
    "%run \"../1. Librerias Mongo/MongoDB_Funciones_Consultas.ipynb\"\n",
    "\n",
    "# from ipynb.fs.full.MongoDB_Connections import _connect_mongo\n",
    "\n",
    "# from ipynb.fs.full.MongoDB_Funciones_Consultas import _resumen_mensual_por_anio\n",
    "# from ipynb.fs.full.MongoDB_Funciones_Consultas import _data_anio\n",
    "# from ipynb.fs.full.MongoDB_Funciones_Consultas import _data_anio_mes\n",
    "# from ipynb.fs.full.MongoDB_Funciones_Consultas import _data_anio_por_estacion\n",
    "# from ipynb.fs.full.MongoDB_Funciones_Consultas import _data_anio_mes_por_estacion\n",
    "\n",
    "# from ipynb.fs.full.MongoDB_Funciones_Consultas import _consulta_meteo_full\n",
    "# from ipynb.fs.full.MongoDB_Funciones_Consultas import _consulta_meteo_por_anio\n",
    "# from ipynb.fs.full.MongoDB_Funciones_Consultas import _consulta_meteo_por_anio_mes\n",
    "\n",
    "# from ipynb.fs.full.MongoDB_Funciones_Consultas import _consulta_stations\n",
    "# from ipynb.fs.full.MongoDB_Funciones_Consultas import _consulta_stations_EstacionesMeteo\n",
    "\n",
    "import time\n",
    "import pandas as pd\n",
    "# pd.options.display.float_format = '{:,}'.format"
   ]
  },
  {
   "cell_type": "markdown",
   "id": "e7691608",
   "metadata": {},
   "source": [
    "## Conexión a Mongo"
   ]
  },
  {
   "cell_type": "code",
   "execution_count": 2,
   "id": "753491f3",
   "metadata": {},
   "outputs": [
    {
     "name": "stdout",
     "output_type": "stream",
     "text": [
      "Conexion OK\n",
      "Collection(Database(MongoClient(host=['ac-x1d17w2-shard-00-00.15npsxw.mongodb.net:27017', 'ac-x1d17w2-shard-00-01.15npsxw.mongodb.net:27017', 'ac-x1d17w2-shard-00-02.15npsxw.mongodb.net:27017'], document_class=dict, tz_aware=False, connect=True, authsource='admin', replicaset='atlas-xyv6ql-shard-0', tls=True, serverselectiontimeoutms=4000, tlscafile='C:\\\\ProgramData\\\\Anaconda3\\\\lib\\\\site-packages\\\\certifi\\\\cacert.pem'), 'BiciMAD'), 'Tracks_Demanda')\n",
      "Conexion OK\n",
      "Collection(Database(MongoClient(host=['ac-x1d17w2-shard-00-02.15npsxw.mongodb.net:27017', 'ac-x1d17w2-shard-00-00.15npsxw.mongodb.net:27017', 'ac-x1d17w2-shard-00-01.15npsxw.mongodb.net:27017'], document_class=dict, tz_aware=False, connect=True, authsource='admin', replicaset='atlas-xyv6ql-shard-0', tls=True, serverselectiontimeoutms=4000, tlscafile='C:\\\\ProgramData\\\\Anaconda3\\\\lib\\\\site-packages\\\\certifi\\\\cacert.pem'), 'BiciMAD'), 'Meteo_US_NivelHora')\n",
      "Conexion OK\n",
      "Collection(Database(MongoClient(host=['ac-x1d17w2-shard-00-00.15npsxw.mongodb.net:27017', 'ac-x1d17w2-shard-00-01.15npsxw.mongodb.net:27017', 'ac-x1d17w2-shard-00-02.15npsxw.mongodb.net:27017'], document_class=dict, tz_aware=False, connect=True, authsource='admin', replicaset='atlas-xyv6ql-shard-0', tls=True, serverselectiontimeoutms=4000, tlscafile='C:\\\\ProgramData\\\\Anaconda3\\\\lib\\\\site-packages\\\\certifi\\\\cacert.pem'), 'BiciMAD'), 'Station_Master')\n",
      "Conexion OK\n",
      "Collection(Database(MongoClient(host=['ac-x1d17w2-shard-00-00.15npsxw.mongodb.net:27017', 'ac-x1d17w2-shard-00-01.15npsxw.mongodb.net:27017', 'ac-x1d17w2-shard-00-02.15npsxw.mongodb.net:27017'], document_class=dict, tz_aware=False, connect=True, authsource='admin', replicaset='atlas-xyv6ql-shard-0', tls=True, serverselectiontimeoutms=4000, tlscafile='C:\\\\ProgramData\\\\Anaconda3\\\\lib\\\\site-packages\\\\certifi\\\\cacert.pem'), 'BiciMAD'), 'Station_EstacionMeteo')\n"
     ]
    }
   ],
   "source": [
    "db_Tracks = _connect_mongo('cloud', 'cluster0.15npsxw.mongodb.net', None, 'ucmtfm2022', 'UCM_2022', 'BiciMAD', 'Tracks_Demanda')\n",
    "db_Meteo = _connect_mongo('cloud', 'cluster0.15npsxw.mongodb.net', None, 'ucmtfm2022', 'UCM_2022', 'BiciMAD', 'Meteo_US_NivelHora')\n",
    "db_Stations = _connect_mongo('cloud', 'cluster0.15npsxw.mongodb.net', None, 'ucmtfm2022', 'UCM_2022', 'BiciMAD', 'Station_Master')\n",
    "db_Stations_Meteo = _connect_mongo('cloud', 'cluster0.15npsxw.mongodb.net', None, 'ucmtfm2022', 'UCM_2022', 'BiciMAD', 'Station_EstacionMeteo')"
   ]
  },
  {
   "cell_type": "code",
   "execution_count": 3,
   "id": "d0659d6b",
   "metadata": {},
   "outputs": [
    {
     "name": "stdout",
     "output_type": "stream",
     "text": [
      "[{'_id': ObjectId('6300ee722a649ee1b5331999'), 'dt_iso': '2017-01-01 00:00:00 +0000 UTC', 'lat': 40.416775, 'lon': -3.70379, 'temp': -3.42, 'pressure': 1030, 'humidity': 93, 'wind_speed': 1.54, 'weather_id': 800, 'weather_main': 'Clear', 'weather_description': 'sky is clear', 'rain_1h': 0, 'rain_3h': 0, 'snow_1h': 0, 'snow_3h': 0, 'ANIO': 2017, 'MES': 1, 'DIA': 1, 'HORA': 0}, {'_id': ObjectId('6300ee722a649ee1b533199a'), 'dt_iso': '2017-01-01 01:00:00 +0000 UTC', 'lat': 40.416775, 'lon': -3.70379, 'temp': -4.42, 'pressure': 1029, 'humidity': 93, 'wind_speed': 1.03, 'weather_id': 800, 'weather_main': 'Clear', 'weather_description': 'sky is clear', 'rain_1h': 0, 'rain_3h': 0, 'snow_1h': 0, 'snow_3h': 0, 'ANIO': 2017, 'MES': 1, 'DIA': 1, 'HORA': 1}, {'_id': ObjectId('6300ee722a649ee1b533199b'), 'dt_iso': '2017-01-01 02:00:00 +0000 UTC', 'lat': 40.416775, 'lon': -3.70379, 'temp': -4.42, 'pressure': 1028, 'humidity': 93, 'wind_speed': 0.51, 'weather_id': 802, 'weather_main': 'Clouds', 'weather_description': 'scattered clouds', 'rain_1h': 0, 'rain_3h': 0, 'snow_1h': 0, 'snow_3h': 0, 'ANIO': 2017, 'MES': 1, 'DIA': 1, 'HORA': 2}, {'_id': ObjectId('6300ee722a649ee1b533199c'), 'dt_iso': '2017-01-01 03:00:00 +0000 UTC', 'lat': 40.416775, 'lon': -3.70379, 'temp': -3.42, 'pressure': 1028, 'humidity': 86, 'wind_speed': 1.03, 'weather_id': 803, 'weather_main': 'Clouds', 'weather_description': 'broken clouds', 'rain_1h': 0, 'rain_3h': 0, 'snow_1h': 0, 'snow_3h': 0, 'ANIO': 2017, 'MES': 1, 'DIA': 1, 'HORA': 3}, {'_id': ObjectId('6300ee722a649ee1b533199d'), 'dt_iso': '2017-01-01 04:00:00 +0000 UTC', 'lat': 40.416775, 'lon': -3.70379, 'temp': -2.42, 'pressure': 1028, 'humidity': 86, 'wind_speed': 3.1, 'weather_id': 803, 'weather_main': 'Clouds', 'weather_description': 'broken clouds', 'rain_1h': 0, 'rain_3h': 0, 'snow_1h': 0, 'snow_3h': 0, 'ANIO': 2017, 'MES': 1, 'DIA': 1, 'HORA': 4}]\n"
     ]
    }
   ],
   "source": [
    "find_five = db_Meteo.find().limit(5)\n",
    "print(list(find_five))"
   ]
  },
  {
   "cell_type": "markdown",
   "id": "93a52490",
   "metadata": {},
   "source": [
    "## Descarga datos"
   ]
  },
  {
   "cell_type": "code",
   "execution_count": null,
   "id": "0230935c",
   "metadata": {},
   "outputs": [],
   "source": [
    "data_Tracks_2017 = _data_anio(db_Tracks, 2017)"
   ]
  },
  {
   "cell_type": "code",
   "execution_count": null,
   "id": "8ea5d93c",
   "metadata": {},
   "outputs": [],
   "source": [
    "df=data_Tracks_2017[data_Tracks_2017['Es_Festivo']==1]"
   ]
  },
  {
   "cell_type": "code",
   "execution_count": null,
   "id": "d26f594a",
   "metadata": {},
   "outputs": [],
   "source": [
    "df.groupby(['ANIO', 'MES', 'DIA']).count()"
   ]
  },
  {
   "cell_type": "code",
   "execution_count": null,
   "id": "46aed97a",
   "metadata": {},
   "outputs": [],
   "source": [
    "# Tracks\n",
    "t_ini = time.time()\n",
    "data_Tracks_2017 = _data_anio(db_Tracks, 2017)\n",
    "data_Tracks_2018 = _data_anio(db_Tracks, 2018)\n",
    "data_Tracks_2019 = _data_anio(db_Tracks, 2019)\n",
    "data_Tracks_2020 = _data_anio(db_Tracks, 2020)\n",
    "data_Tracks_2021 = _data_anio(db_Tracks, 2021)\n",
    "t_end = time.time()\n",
    "\n",
    "print ((t_end - t_ini)/60)\n",
    "\n",
    "data_Tracks = pd.concat([\n",
    "    data_Tracks_2017,\n",
    "    data_Tracks_2018,\n",
    "    data_Tracks_2019,\n",
    "    data_Tracks_2020,\n",
    "    data_Tracks_2021\n",
    "])\n",
    "\n",
    "data_Tracks.shape"
   ]
  },
  {
   "cell_type": "code",
   "execution_count": null,
   "id": "b3523d90",
   "metadata": {},
   "outputs": [],
   "source": [
    "data_Tracks.to_csv('C:\\Master BigData\\TFM\\Data\\DataFullTracks_MongoDB.csv', index=False)"
   ]
  },
  {
   "cell_type": "code",
   "execution_count": null,
   "id": "6c2417e4",
   "metadata": {},
   "outputs": [],
   "source": [
    "data_Tracks.info()"
   ]
  },
  {
   "cell_type": "code",
   "execution_count": null,
   "id": "caff5e91",
   "metadata": {},
   "outputs": [],
   "source": [
    "t_ini = time.time()\n",
    "data_Tracks = pd.read_csv('C:\\Master BigData\\TFM\\Data\\DataFullTracks_MongoDB.csv')\n",
    "t_end = time.time()\n",
    "print (t_end - t_ini)"
   ]
  },
  {
   "cell_type": "code",
   "execution_count": null,
   "id": "7f2a939d",
   "metadata": {},
   "outputs": [],
   "source": [
    "# t_ini = time.time()\n",
    "# data_Tracks_2017 = _data_anio_por_estacion(db_Tracks, 2017, 175)\n",
    "# data_Tracks_2018 = _data_anio_por_estacion(db_Tracks, 2018, 175)\n",
    "# data_Tracks_2019 = _data_anio_por_estacion(db_Tracks, 2019, 175)\n",
    "# data_Tracks_2020 = _data_anio_por_estacion(db_Tracks, 2020, 175)\n",
    "# data_Tracks_2021 = _data_anio_por_estacion(db_Tracks, 2021, 175)\n",
    "# t_end = time.time()\n",
    "\n",
    "# data_Tracks = pd.concat([\n",
    "#     data_Tracks_2017,\n",
    "#     data_Tracks_2018,\n",
    "#     data_Tracks_2019,\n",
    "#     data_Tracks_2020,\n",
    "#     data_Tracks_2021\n",
    "# ])\n",
    "\n",
    "# print ((t_end - t_ini)/60)"
   ]
  },
  {
   "cell_type": "code",
   "execution_count": null,
   "id": "5a109b8a",
   "metadata": {},
   "outputs": [],
   "source": [
    "data_Tracks = _data_anio(db_Tracks, 2019)"
   ]
  },
  {
   "cell_type": "code",
   "execution_count": null,
   "id": "319aefa7",
   "metadata": {},
   "outputs": [],
   "source": [
    "data_Tracks.info()"
   ]
  },
  {
   "cell_type": "code",
   "execution_count": 5,
   "id": "a20f144a",
   "metadata": {},
   "outputs": [
    {
     "name": "stdout",
     "output_type": "stream",
     "text": [
      "0.3975372314453125\n"
     ]
    },
    {
     "data": {
      "text/html": [
       "<div>\n",
       "<style scoped>\n",
       "    .dataframe tbody tr th:only-of-type {\n",
       "        vertical-align: middle;\n",
       "    }\n",
       "\n",
       "    .dataframe tbody tr th {\n",
       "        vertical-align: top;\n",
       "    }\n",
       "\n",
       "    .dataframe thead th {\n",
       "        text-align: right;\n",
       "    }\n",
       "</style>\n",
       "<table border=\"1\" class=\"dataframe\">\n",
       "  <thead>\n",
       "    <tr style=\"text-align: right;\">\n",
       "      <th></th>\n",
       "      <th>ANIO</th>\n",
       "      <th>MES</th>\n",
       "      <th>DIA</th>\n",
       "      <th>HORA</th>\n",
       "      <th>TEMPERATURA</th>\n",
       "      <th>VIENTO</th>\n",
       "      <th>PRESION</th>\n",
       "      <th>HUMEDAD</th>\n",
       "      <th>PRECIPITACION_1h</th>\n",
       "      <th>PRECIPITACION_3h</th>\n",
       "      <th>NIEVE_1h</th>\n",
       "      <th>NIEVE_3h</th>\n",
       "      <th>ID_TIPO_TIEMPO</th>\n",
       "      <th>DESC_TIEMPO</th>\n",
       "      <th>DESC_TIEMPO_detalle</th>\n",
       "    </tr>\n",
       "  </thead>\n",
       "  <tbody>\n",
       "    <tr>\n",
       "      <th>0</th>\n",
       "      <td>2020</td>\n",
       "      <td>1</td>\n",
       "      <td>1</td>\n",
       "      <td>0</td>\n",
       "      <td>3.64</td>\n",
       "      <td>1.34</td>\n",
       "      <td>1030</td>\n",
       "      <td>84</td>\n",
       "      <td>0.00</td>\n",
       "      <td>0.0</td>\n",
       "      <td>snow_1h</td>\n",
       "      <td>snow_3h</td>\n",
       "      <td>800</td>\n",
       "      <td>Clear</td>\n",
       "      <td>sky is clear</td>\n",
       "    </tr>\n",
       "    <tr>\n",
       "      <th>1</th>\n",
       "      <td>2020</td>\n",
       "      <td>1</td>\n",
       "      <td>1</td>\n",
       "      <td>1</td>\n",
       "      <td>3.30</td>\n",
       "      <td>1.79</td>\n",
       "      <td>1031</td>\n",
       "      <td>84</td>\n",
       "      <td>0.00</td>\n",
       "      <td>0.0</td>\n",
       "      <td>snow_1h</td>\n",
       "      <td>snow_3h</td>\n",
       "      <td>701</td>\n",
       "      <td>Mist</td>\n",
       "      <td>mist</td>\n",
       "    </tr>\n",
       "    <tr>\n",
       "      <th>2</th>\n",
       "      <td>2020</td>\n",
       "      <td>1</td>\n",
       "      <td>1</td>\n",
       "      <td>2</td>\n",
       "      <td>2.43</td>\n",
       "      <td>2.10</td>\n",
       "      <td>1032</td>\n",
       "      <td>85</td>\n",
       "      <td>0.00</td>\n",
       "      <td>0.0</td>\n",
       "      <td>snow_1h</td>\n",
       "      <td>snow_3h</td>\n",
       "      <td>701</td>\n",
       "      <td>Mist</td>\n",
       "      <td>mist</td>\n",
       "    </tr>\n",
       "    <tr>\n",
       "      <th>3</th>\n",
       "      <td>2020</td>\n",
       "      <td>1</td>\n",
       "      <td>1</td>\n",
       "      <td>3</td>\n",
       "      <td>2.36</td>\n",
       "      <td>1.34</td>\n",
       "      <td>1031</td>\n",
       "      <td>86</td>\n",
       "      <td>0.00</td>\n",
       "      <td>0.0</td>\n",
       "      <td>snow_1h</td>\n",
       "      <td>snow_3h</td>\n",
       "      <td>701</td>\n",
       "      <td>Mist</td>\n",
       "      <td>mist</td>\n",
       "    </tr>\n",
       "    <tr>\n",
       "      <th>4</th>\n",
       "      <td>2020</td>\n",
       "      <td>1</td>\n",
       "      <td>1</td>\n",
       "      <td>4</td>\n",
       "      <td>1.93</td>\n",
       "      <td>1.50</td>\n",
       "      <td>1021</td>\n",
       "      <td>87</td>\n",
       "      <td>0.00</td>\n",
       "      <td>0.0</td>\n",
       "      <td>snow_1h</td>\n",
       "      <td>snow_3h</td>\n",
       "      <td>701</td>\n",
       "      <td>Mist</td>\n",
       "      <td>mist</td>\n",
       "    </tr>\n",
       "    <tr>\n",
       "      <th>...</th>\n",
       "      <td>...</td>\n",
       "      <td>...</td>\n",
       "      <td>...</td>\n",
       "      <td>...</td>\n",
       "      <td>...</td>\n",
       "      <td>...</td>\n",
       "      <td>...</td>\n",
       "      <td>...</td>\n",
       "      <td>...</td>\n",
       "      <td>...</td>\n",
       "      <td>...</td>\n",
       "      <td>...</td>\n",
       "      <td>...</td>\n",
       "      <td>...</td>\n",
       "      <td>...</td>\n",
       "    </tr>\n",
       "    <tr>\n",
       "      <th>8959</th>\n",
       "      <td>2020</td>\n",
       "      <td>12</td>\n",
       "      <td>31</td>\n",
       "      <td>19</td>\n",
       "      <td>5.25</td>\n",
       "      <td>7.70</td>\n",
       "      <td>1011</td>\n",
       "      <td>90</td>\n",
       "      <td>0.00</td>\n",
       "      <td>0.0</td>\n",
       "      <td>snow_1h</td>\n",
       "      <td>snow_3h</td>\n",
       "      <td>804</td>\n",
       "      <td>Clouds</td>\n",
       "      <td>overcast clouds</td>\n",
       "    </tr>\n",
       "    <tr>\n",
       "      <th>8960</th>\n",
       "      <td>2020</td>\n",
       "      <td>12</td>\n",
       "      <td>31</td>\n",
       "      <td>20</td>\n",
       "      <td>5.23</td>\n",
       "      <td>6.20</td>\n",
       "      <td>1011</td>\n",
       "      <td>90</td>\n",
       "      <td>0.00</td>\n",
       "      <td>0.0</td>\n",
       "      <td>snow_1h</td>\n",
       "      <td>snow_3h</td>\n",
       "      <td>804</td>\n",
       "      <td>Clouds</td>\n",
       "      <td>overcast clouds</td>\n",
       "    </tr>\n",
       "    <tr>\n",
       "      <th>8961</th>\n",
       "      <td>2020</td>\n",
       "      <td>12</td>\n",
       "      <td>31</td>\n",
       "      <td>21</td>\n",
       "      <td>5.23</td>\n",
       "      <td>6.70</td>\n",
       "      <td>1010</td>\n",
       "      <td>89</td>\n",
       "      <td>0.00</td>\n",
       "      <td>0.0</td>\n",
       "      <td>snow_1h</td>\n",
       "      <td>snow_3h</td>\n",
       "      <td>804</td>\n",
       "      <td>Clouds</td>\n",
       "      <td>overcast clouds</td>\n",
       "    </tr>\n",
       "    <tr>\n",
       "      <th>8962</th>\n",
       "      <td>2020</td>\n",
       "      <td>12</td>\n",
       "      <td>31</td>\n",
       "      <td>22</td>\n",
       "      <td>4.61</td>\n",
       "      <td>5.81</td>\n",
       "      <td>1010</td>\n",
       "      <td>90</td>\n",
       "      <td>0.75</td>\n",
       "      <td>0.0</td>\n",
       "      <td>snow_1h</td>\n",
       "      <td>snow_3h</td>\n",
       "      <td>500</td>\n",
       "      <td>Rain</td>\n",
       "      <td>light rain</td>\n",
       "    </tr>\n",
       "    <tr>\n",
       "      <th>8963</th>\n",
       "      <td>2020</td>\n",
       "      <td>12</td>\n",
       "      <td>31</td>\n",
       "      <td>23</td>\n",
       "      <td>3.63</td>\n",
       "      <td>6.20</td>\n",
       "      <td>1010</td>\n",
       "      <td>87</td>\n",
       "      <td>0.10</td>\n",
       "      <td>0.0</td>\n",
       "      <td>snow_1h</td>\n",
       "      <td>snow_3h</td>\n",
       "      <td>800</td>\n",
       "      <td>Clear</td>\n",
       "      <td>sky is clear</td>\n",
       "    </tr>\n",
       "  </tbody>\n",
       "</table>\n",
       "<p>8964 rows × 15 columns</p>\n",
       "</div>"
      ],
      "text/plain": [
       "      ANIO  MES  DIA  HORA  TEMPERATURA  VIENTO  PRESION  HUMEDAD  \\\n",
       "0     2020    1    1     0         3.64    1.34     1030       84   \n",
       "1     2020    1    1     1         3.30    1.79     1031       84   \n",
       "2     2020    1    1     2         2.43    2.10     1032       85   \n",
       "3     2020    1    1     3         2.36    1.34     1031       86   \n",
       "4     2020    1    1     4         1.93    1.50     1021       87   \n",
       "...    ...  ...  ...   ...          ...     ...      ...      ...   \n",
       "8959  2020   12   31    19         5.25    7.70     1011       90   \n",
       "8960  2020   12   31    20         5.23    6.20     1011       90   \n",
       "8961  2020   12   31    21         5.23    6.70     1010       89   \n",
       "8962  2020   12   31    22         4.61    5.81     1010       90   \n",
       "8963  2020   12   31    23         3.63    6.20     1010       87   \n",
       "\n",
       "      PRECIPITACION_1h  PRECIPITACION_3h NIEVE_1h NIEVE_3h  ID_TIPO_TIEMPO  \\\n",
       "0                 0.00               0.0  snow_1h  snow_3h             800   \n",
       "1                 0.00               0.0  snow_1h  snow_3h             701   \n",
       "2                 0.00               0.0  snow_1h  snow_3h             701   \n",
       "3                 0.00               0.0  snow_1h  snow_3h             701   \n",
       "4                 0.00               0.0  snow_1h  snow_3h             701   \n",
       "...                ...               ...      ...      ...             ...   \n",
       "8959              0.00               0.0  snow_1h  snow_3h             804   \n",
       "8960              0.00               0.0  snow_1h  snow_3h             804   \n",
       "8961              0.00               0.0  snow_1h  snow_3h             804   \n",
       "8962              0.75               0.0  snow_1h  snow_3h             500   \n",
       "8963              0.10               0.0  snow_1h  snow_3h             800   \n",
       "\n",
       "     DESC_TIEMPO DESC_TIEMPO_detalle  \n",
       "0          Clear        sky is clear  \n",
       "1           Mist                mist  \n",
       "2           Mist                mist  \n",
       "3           Mist                mist  \n",
       "4           Mist                mist  \n",
       "...          ...                 ...  \n",
       "8959      Clouds     overcast clouds  \n",
       "8960      Clouds     overcast clouds  \n",
       "8961      Clouds     overcast clouds  \n",
       "8962        Rain          light rain  \n",
       "8963       Clear        sky is clear  \n",
       "\n",
       "[8964 rows x 15 columns]"
      ]
     },
     "execution_count": 5,
     "metadata": {},
     "output_type": "execute_result"
    }
   ],
   "source": [
    "# Meteorologia\n",
    "t_ini = time.time()\n",
    "#data_Meteo = _consulta_meteo_por_anio(db_Meteo, 2019)\n",
    "data_Meteo = _consulta_meteoUS_por_anio(db_Meteo, 2020)\n",
    "t_end = time.time()\n",
    "\n",
    "print (t_end - t_ini)\n",
    "data_Meteo\n"
   ]
  },
  {
   "cell_type": "code",
   "execution_count": null,
   "id": "9b91f3fe",
   "metadata": {},
   "outputs": [],
   "source": [
    "# Stations\n",
    "t_ini = time.time()\n",
    "data_Stations = _consulta_stations(db_Stations)\n",
    "t_end = time.time()\n",
    "\n",
    "print (t_end - t_ini)\n",
    "data_Stations\n"
   ]
  },
  {
   "cell_type": "code",
   "execution_count": null,
   "id": "c2ddd361",
   "metadata": {},
   "outputs": [],
   "source": [
    "# Stations\n",
    "t_ini = time.time()\n",
    "data_StationsMeteo = _consulta_stations_EstacionesMeteo(db_Stations_Meteo)\n",
    "t_end = time.time()\n",
    "\n",
    "print (t_end - t_ini)\n",
    "data_StationsMeteo\n"
   ]
  },
  {
   "cell_type": "code",
   "execution_count": null,
   "id": "9b7a2f0b",
   "metadata": {},
   "outputs": [],
   "source": [
    "data_Tracks.info()"
   ]
  },
  {
   "cell_type": "code",
   "execution_count": null,
   "id": "490e9e18",
   "metadata": {},
   "outputs": [],
   "source": [
    "data_Meteo.info()"
   ]
  },
  {
   "cell_type": "code",
   "execution_count": null,
   "id": "d7f68b9b",
   "metadata": {},
   "outputs": [],
   "source": [
    "data_Stations.info()"
   ]
  },
  {
   "cell_type": "code",
   "execution_count": null,
   "id": "a21a88a2",
   "metadata": {},
   "outputs": [],
   "source": [
    "data_StationsMeteo.info()"
   ]
  },
  {
   "cell_type": "code",
   "execution_count": null,
   "id": "41131f3e",
   "metadata": {},
   "outputs": [],
   "source": []
  },
  {
   "cell_type": "code",
   "execution_count": null,
   "id": "80033e7f",
   "metadata": {},
   "outputs": [],
   "source": [
    "del data"
   ]
  },
  {
   "cell_type": "code",
   "execution_count": null,
   "id": "9b64efda",
   "metadata": {
    "scrolled": true
   },
   "outputs": [],
   "source": [
    "data = pd.merge(data_Tracks, data_Stations, how='left', left_on='idunplug_station', right_on='Id_Station')"
   ]
  },
  {
   "cell_type": "code",
   "execution_count": null,
   "id": "21f53e19",
   "metadata": {},
   "outputs": [],
   "source": [
    "data.shape"
   ]
  },
  {
   "cell_type": "code",
   "execution_count": null,
   "id": "424e0de2",
   "metadata": {},
   "outputs": [],
   "source": [
    "data1 = pd.merge(data, data_StationsMeteo, how='left', left_on='Id_Station', right_on='Id_Station')"
   ]
  },
  {
   "cell_type": "code",
   "execution_count": null,
   "id": "19e4ebf6",
   "metadata": {},
   "outputs": [],
   "source": [
    "data_final = pd.merge(data1, data_Meteo, how='left', left_on=['Id_EstacionMeteo','ANIO','MES','DIA','HORA'], right_on=['Id_EstacionMeteo','ANIO','MES','DIA','HORA'])"
   ]
  },
  {
   "cell_type": "code",
   "execution_count": null,
   "id": "895ddac5",
   "metadata": {},
   "outputs": [],
   "source": [
    "data_final.info()"
   ]
  },
  {
   "cell_type": "code",
   "execution_count": null,
   "id": "687a3d90",
   "metadata": {},
   "outputs": [],
   "source": [
    "data.shape"
   ]
  },
  {
   "cell_type": "code",
   "execution_count": null,
   "id": "1f4233ac",
   "metadata": {},
   "outputs": [],
   "source": [
    "data_Tracks.shape"
   ]
  },
  {
   "cell_type": "code",
   "execution_count": null,
   "id": "ed7f3d4e",
   "metadata": {},
   "outputs": [],
   "source": [
    "data_na=data[data['Id_Station'].isna()]"
   ]
  },
  {
   "cell_type": "code",
   "execution_count": null,
   "id": "270fee9d",
   "metadata": {},
   "outputs": [],
   "source": [
    "data_na"
   ]
  },
  {
   "cell_type": "code",
   "execution_count": null,
   "id": "0d352859",
   "metadata": {},
   "outputs": [],
   "source": [
    "data_na.groupby('idunplug_station').size()"
   ]
  },
  {
   "cell_type": "code",
   "execution_count": null,
   "id": "6ba9b686",
   "metadata": {},
   "outputs": [],
   "source": []
  },
  {
   "cell_type": "code",
   "execution_count": null,
   "id": "d5cdb26e",
   "metadata": {},
   "outputs": [],
   "source": [
    "pd.options.display.float_format = '{:,}'.format\n",
    "pd.set_eng_float_format(accuracy=3, use_eng_prefix=True)"
   ]
  },
  {
   "cell_type": "code",
   "execution_count": null,
   "id": "9e097c0a",
   "metadata": {},
   "outputs": [],
   "source": [
    "data.groupby(['Id_Station', 'ANIO', 'MES']).size()"
   ]
  },
  {
   "cell_type": "code",
   "execution_count": null,
   "id": "96ceecf2",
   "metadata": {},
   "outputs": [],
   "source": []
  },
  {
   "cell_type": "code",
   "execution_count": null,
   "id": "f5524f39",
   "metadata": {},
   "outputs": [],
   "source": []
  },
  {
   "cell_type": "code",
   "execution_count": null,
   "id": "61cffc43",
   "metadata": {},
   "outputs": [],
   "source": [
    "data_Tracks.info()"
   ]
  },
  {
   "cell_type": "code",
   "execution_count": null,
   "id": "e8c845fd",
   "metadata": {},
   "outputs": [],
   "source": [
    "data = data_Tracks[data_Tracks['ANIO']<=2019]"
   ]
  },
  {
   "cell_type": "code",
   "execution_count": null,
   "id": "907fc5e8",
   "metadata": {},
   "outputs": [],
   "source": [
    "data"
   ]
  },
  {
   "cell_type": "markdown",
   "id": "d8d7ffbf",
   "metadata": {},
   "source": [
    "### EDA: idunplug_station"
   ]
  },
  {
   "cell_type": "code",
   "execution_count": null,
   "id": "17ee7315",
   "metadata": {},
   "outputs": [],
   "source": [
    "data_Tracks['idunplug_station'].isnull().sum()"
   ]
  },
  {
   "cell_type": "code",
   "execution_count": null,
   "id": "3518f88d",
   "metadata": {},
   "outputs": [],
   "source": [
    "data175 = data_Tracks['idunplug_station']==175\n",
    "data_Tracks[data175]"
   ]
  },
  {
   "cell_type": "markdown",
   "id": "d9c2660b",
   "metadata": {},
   "source": [
    "### EDA: travel_time"
   ]
  },
  {
   "cell_type": "code",
   "execution_count": null,
   "id": "694eb747",
   "metadata": {},
   "outputs": [],
   "source": [
    "data_Tracks['travel_time_mins'] = data_Tracks['travel_time']/60  # Convierte a minutos"
   ]
  },
  {
   "cell_type": "markdown",
   "id": "57b36153",
   "metadata": {},
   "source": [
    "Descripción general"
   ]
  },
  {
   "cell_type": "code",
   "execution_count": null,
   "id": "22dfd2f4",
   "metadata": {},
   "outputs": [],
   "source": [
    "data_Tracks['travel_time_mins'].describe()"
   ]
  },
  {
   "cell_type": "code",
   "execution_count": null,
   "id": "cb65c6b3",
   "metadata": {},
   "outputs": [],
   "source": [
    "import numpy as np\n",
    "\n",
    "# Convierte a logaritmo para graficar\n",
    "df_nonzero_travel_times = data_Tracks.loc[data_Tracks['travel_time_mins'] > 0]\n",
    "\n",
    "data_Tracks['travel_time_mins_log'] = np.log(df_nonzero_travel_times['travel_time_mins'])\n",
    "\n"
   ]
  },
  {
   "cell_type": "code",
   "execution_count": null,
   "id": "fa9a0ab6",
   "metadata": {},
   "outputs": [],
   "source": [
    "data_Tracks['travel_time_mins_log'].hist(bins=250)"
   ]
  },
  {
   "cell_type": "code",
   "execution_count": null,
   "id": "e5c17f6c",
   "metadata": {},
   "outputs": [],
   "source": [
    "df_non_extreme_travel_times = data_Tracks.loc[data_Tracks['travel_time_mins'] > 0]\n",
    "df_non_extreme_travel_times.boxplot(column='travel_time_mins')"
   ]
  },
  {
   "cell_type": "markdown",
   "id": "f4e72e61",
   "metadata": {},
   "source": [
    "Viajes sobre 360 minutos"
   ]
  },
  {
   "cell_type": "code",
   "execution_count": null,
   "id": "2a5fe3c8",
   "metadata": {},
   "outputs": [],
   "source": [
    "df_non_extreme_travel_times = data_Tracks.loc[data_Tracks['travel_time_mins'] > 360]\n",
    "\n",
    "total = df_non_extreme_travel_times['travel_time_mins'].count()\n",
    "print(total)\n",
    "\n",
    "total_prc = df_non_extreme_travel_times['travel_time_mins'].count() / data_Tracks['travel_time_mins'].count() * 100\n",
    "print(total_prc)\n"
   ]
  },
  {
   "cell_type": "markdown",
   "id": "e8958694",
   "metadata": {},
   "source": [
    "Viajes sobre 30 minutos"
   ]
  },
  {
   "cell_type": "code",
   "execution_count": null,
   "id": "130a3cdf",
   "metadata": {},
   "outputs": [],
   "source": [
    "df_non_extreme_travel_times = data_Tracks.loc[data_Tracks['travel_time_mins'] > 60]\n",
    "\n",
    "total = df_non_extreme_travel_times['travel_time_mins'].count()\n",
    "print(total)\n",
    "\n",
    "total_prc = df_non_extreme_travel_times['travel_time_mins'].count() / data_Tracks['travel_time_mins'].count() * 100\n",
    "print(total_prc)"
   ]
  },
  {
   "cell_type": "markdown",
   "id": "8c7d6ded",
   "metadata": {},
   "source": [
    "Viajes de menos de 180 segundos"
   ]
  },
  {
   "cell_type": "code",
   "execution_count": null,
   "id": "4f05efbc",
   "metadata": {},
   "outputs": [],
   "source": [
    "total = data_Tracks.loc[data_Tracks['travel_time'] < 180]['user_type'].count()\n",
    "print(total)\n",
    "\n",
    "total_proc = data_Tracks.loc[data_Tracks['travel_time'] < 180]['user_type'].count() / data_Tracks['travel_time'].count() *100\n",
    "print(total_proc)"
   ]
  },
  {
   "cell_type": "markdown",
   "id": "151f7059",
   "metadata": {},
   "source": [
    "Viajes con tiempo negativo"
   ]
  },
  {
   "cell_type": "code",
   "execution_count": null,
   "id": "69facac5",
   "metadata": {},
   "outputs": [],
   "source": [
    "total = data_Tracks.loc[data_Tracks['travel_time'] < 0]['user_type'].count()\n",
    "print(total)\n",
    "\n",
    "total_proc = data_Tracks.loc[data_Tracks['travel_time'] < 0]['user_type'].count() / data_Tracks['travel_time'].count() *100\n",
    "print(total_proc)"
   ]
  },
  {
   "cell_type": "markdown",
   "id": "23c60862",
   "metadata": {},
   "source": [
    "### EDA: origen vs destino"
   ]
  },
  {
   "cell_type": "markdown",
   "id": "63e443fd",
   "metadata": {},
   "source": [
    "Estaciones en donde origen y destino son el mismo y el viaje es menor a 3 minutos"
   ]
  },
  {
   "cell_type": "code",
   "execution_count": null,
   "id": "c883ca11",
   "metadata": {},
   "outputs": [],
   "source": [
    "df_same_station = data_Tracks.loc[(data_Tracks['idunplug_station'] == data_Tracks['idplug_station'])]\n",
    "print(df_same_station['ANIO'].count())\n",
    "print(df_same_station.loc[df_same_station['travel_time'] < 10]['ANIO'].count())\n",
    "print(df_same_station.loc[df_same_station['travel_time'] < 60]['ANIO'].count())\n",
    "print(df_same_station.loc[df_same_station['travel_time'] < 180]['ANIO'].count())\n",
    "\n"
   ]
  },
  {
   "cell_type": "markdown",
   "id": "d4a7d3e1",
   "metadata": {},
   "source": [
    "### EDA: user_type"
   ]
  },
  {
   "cell_type": "markdown",
   "id": "67597ff6",
   "metadata": {},
   "source": [
    "```\n",
    "user_type = 0: undetermined\n",
    "user_type = 1: annual pass holder\n",
    "user_type = 2: occasional user (incl. tourists, I guess)\n",
    "user_type = 3: BiciMad employee\n",
    "```"
   ]
  },
  {
   "cell_type": "code",
   "execution_count": null,
   "id": "f5a71ee7",
   "metadata": {},
   "outputs": [],
   "source": [
    "data_Tracks.groupby(['user_type'])['travel_time_mins'].describe()"
   ]
  },
  {
   "cell_type": "markdown",
   "id": "0e2487b5",
   "metadata": {},
   "source": [
    "### EDA: age_range"
   ]
  },
  {
   "cell_type": "markdown",
   "id": "3fcc552e",
   "metadata": {},
   "source": [
    "```\n",
    "ageRange = 0: undetermined\n",
    "ageRange = 1: from 0 to 16 years old\n",
    "ageRange = 2: from 17 to 18 years old\n",
    "ageRange = 3: from 19 to 26 years old\n",
    "ageRange = 4: from 27 to 40 years old\n",
    "ageRange = 5: from 41 to 65 years old\n",
    "ageRange = 6: older than 66\n",
    "```"
   ]
  },
  {
   "cell_type": "code",
   "execution_count": null,
   "id": "d07cd4b2",
   "metadata": {},
   "outputs": [],
   "source": [
    "data_Tracks.loc[data_Tracks['user_type']==1].groupby(['ageRange'])['ANIO'].count().plot(kind='bar')\n",
    "\n"
   ]
  },
  {
   "cell_type": "code",
   "execution_count": null,
   "id": "48b59bf4",
   "metadata": {},
   "outputs": [],
   "source": [
    "data_Tracks.loc[data_Tracks['user_type']==1].groupby(['ageRange'])['travel_time_mins'].mean().plot()"
   ]
  },
  {
   "cell_type": "markdown",
   "id": "b1c3a0fe",
   "metadata": {},
   "source": [
    "### EDA: Zip codes"
   ]
  },
  {
   "cell_type": "code",
   "execution_count": null,
   "id": "31bcb9fc",
   "metadata": {},
   "outputs": [],
   "source": [
    "data_Tracks.groupby(['zip_code'])['ANIO'].count()"
   ]
  },
  {
   "cell_type": "markdown",
   "id": "e72623a4",
   "metadata": {},
   "source": [
    "### EDA: Stations"
   ]
  },
  {
   "cell_type": "markdown",
   "id": "6a88c90b",
   "metadata": {},
   "source": [
    "Stations de salida mas populares"
   ]
  },
  {
   "cell_type": "code",
   "execution_count": null,
   "id": "42c3fa53",
   "metadata": {},
   "outputs": [],
   "source": [
    "data_Tracks['idunplug_station'].value_counts().sort_values(ascending=False)[:5]"
   ]
  },
  {
   "cell_type": "markdown",
   "id": "4103baaa",
   "metadata": {},
   "source": [
    "Stations de llegada mas populares"
   ]
  },
  {
   "cell_type": "code",
   "execution_count": null,
   "id": "f9e13e62",
   "metadata": {},
   "outputs": [],
   "source": [
    "data_Tracks['idplug_station'].value_counts().sort_values(ascending=False)[:5]"
   ]
  },
  {
   "cell_type": "code",
   "execution_count": null,
   "id": "4c8c75fc",
   "metadata": {},
   "outputs": [],
   "source": []
  }
 ],
 "metadata": {
  "kernelspec": {
   "display_name": "Python 3 (ipykernel)",
   "language": "python",
   "name": "python3"
  },
  "language_info": {
   "codemirror_mode": {
    "name": "ipython",
    "version": 3
   },
   "file_extension": ".py",
   "mimetype": "text/x-python",
   "name": "python",
   "nbconvert_exporter": "python",
   "pygments_lexer": "ipython3",
   "version": "3.9.12"
  }
 },
 "nbformat": 4,
 "nbformat_minor": 5
}
