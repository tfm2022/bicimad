{
 "cells": [
  {
   "cell_type": "code",
   "execution_count": 4,
   "id": "6567b9ab",
   "metadata": {},
   "outputs": [],
   "source": [
    "%run \"../1. Librerias Mongo/MongoDB_Connections.ipynb\"\n",
    "%run \"../1. Librerias Mongo/MongoDB_Funciones_Consultas.ipynb\"\n",
    "\n",
    "# from ipynb.fs.full.MongoDB_Connections import _connect_mongo\n",
    "\n",
    "# from ipynb.fs.full.MongoDB_Funciones_Consultas import _resumen_mensual_por_anio\n",
    "# from ipynb.fs.full.MongoDB_Funciones_Consultas import _data_anio\n",
    "# from ipynb.fs.full.MongoDB_Funciones_Consultas import _data_anio_mes\n",
    "# from ipynb.fs.full.MongoDB_Funciones_Consultas import _data_anio_por_estacion\n",
    "# from ipynb.fs.full.MongoDB_Funciones_Consultas import _data_anio_mes_por_estacion\n",
    "\n",
    "# from ipynb.fs.full.MongoDB_Funciones_Consultas import _consulta_meteo_full\n",
    "# from ipynb.fs.full.MongoDB_Funciones_Consultas import _consulta_meteo_por_anio\n",
    "# from ipynb.fs.full.MongoDB_Funciones_Consultas import _consulta_meteo_por_anio_mes\n",
    "\n",
    "# from ipynb.fs.full.MongoDB_Funciones_Consultas import _consulta_stations\n",
    "# from ipynb.fs.full.MongoDB_Funciones_Consultas import _consulta_stations_EstacionesMeteo\n",
    "\n",
    "import time\n",
    "import pandas as pd\n",
    "# pd.options.display.float_format = '{:,}'.format"
   ]
  },
  {
   "cell_type": "markdown",
   "id": "e7691608",
   "metadata": {},
   "source": [
    "## Conexión a Mongo"
   ]
  },
  {
   "cell_type": "code",
   "execution_count": 5,
   "id": "753491f3",
   "metadata": {},
   "outputs": [
    {
     "name": "stdout",
     "output_type": "stream",
     "text": [
      "Conexion OK\n",
      "Collection(Database(MongoClient(host=['ac-x1d17w2-shard-00-01.15npsxw.mongodb.net:27017', 'ac-x1d17w2-shard-00-00.15npsxw.mongodb.net:27017', 'ac-x1d17w2-shard-00-02.15npsxw.mongodb.net:27017'], document_class=dict, tz_aware=False, connect=True, authsource='admin', replicaset='atlas-xyv6ql-shard-0', tls=True, serverselectiontimeoutms=4000, tlscafile='C:\\\\ProgramData\\\\Anaconda3\\\\lib\\\\site-packages\\\\certifi\\\\cacert.pem'), 'BiciMAD'), 'Tracks_Demanda')\n",
      "Conexion OK\n",
      "Collection(Database(MongoClient(host=['ac-x1d17w2-shard-00-01.15npsxw.mongodb.net:27017', 'ac-x1d17w2-shard-00-00.15npsxw.mongodb.net:27017', 'ac-x1d17w2-shard-00-02.15npsxw.mongodb.net:27017'], document_class=dict, tz_aware=False, connect=True, authsource='admin', replicaset='atlas-xyv6ql-shard-0', tls=True, serverselectiontimeoutms=4000, tlscafile='C:\\\\ProgramData\\\\Anaconda3\\\\lib\\\\site-packages\\\\certifi\\\\cacert.pem'), 'BiciMAD'), 'Meteo_NivelHora')\n",
      "Conexion OK\n",
      "Collection(Database(MongoClient(host=['ac-x1d17w2-shard-00-01.15npsxw.mongodb.net:27017', 'ac-x1d17w2-shard-00-00.15npsxw.mongodb.net:27017', 'ac-x1d17w2-shard-00-02.15npsxw.mongodb.net:27017'], document_class=dict, tz_aware=False, connect=True, authsource='admin', replicaset='atlas-xyv6ql-shard-0', tls=True, serverselectiontimeoutms=4000, tlscafile='C:\\\\ProgramData\\\\Anaconda3\\\\lib\\\\site-packages\\\\certifi\\\\cacert.pem'), 'BiciMAD'), 'Station_Master')\n",
      "Conexion OK\n",
      "Collection(Database(MongoClient(host=['ac-x1d17w2-shard-00-01.15npsxw.mongodb.net:27017', 'ac-x1d17w2-shard-00-00.15npsxw.mongodb.net:27017', 'ac-x1d17w2-shard-00-02.15npsxw.mongodb.net:27017'], document_class=dict, tz_aware=False, connect=True, authsource='admin', replicaset='atlas-xyv6ql-shard-0', tls=True, serverselectiontimeoutms=4000, tlscafile='C:\\\\ProgramData\\\\Anaconda3\\\\lib\\\\site-packages\\\\certifi\\\\cacert.pem'), 'BiciMAD'), 'Station_EstacionMeteo')\n"
     ]
    }
   ],
   "source": [
    "db_Tracks = _connect_mongo('cloud', 'cluster0.15npsxw.mongodb.net', None, 'ucmtfm2022', 'UCM_2022', 'BiciMAD', 'Tracks_Demanda')\n",
    "db_Meteo = _connect_mongo('cloud', 'cluster0.15npsxw.mongodb.net', None, 'ucmtfm2022', 'UCM_2022', 'BiciMAD', 'Meteo_NivelHora')\n",
    "db_Stations = _connect_mongo('cloud', 'cluster0.15npsxw.mongodb.net', None, 'ucmtfm2022', 'UCM_2022', 'BiciMAD', 'Station_Master')\n",
    "db_Stations_Meteo = _connect_mongo('cloud', 'cluster0.15npsxw.mongodb.net', None, 'ucmtfm2022', 'UCM_2022', 'BiciMAD', 'Station_EstacionMeteo')"
   ]
  },
  {
   "cell_type": "code",
   "execution_count": 6,
   "id": "4bac3860",
   "metadata": {},
   "outputs": [
    {
     "name": "stdout",
     "output_type": "stream",
     "text": [
      "[{'_id': '2017-03-31T23:00:00.000Z100475461428231', 'ANIO': 2017, 'MES': 3, 'DIA': 31, 'HORA': 23, 'DIA_SEMANA': 6, 'AM_PM': 'PM', 'TEMPORADA': 'Invierno', 'UNPLUG_TIME_date': datetime.datetime(2017, 3, 31, 23, 0), 'travel_time': 546, 'idunplug_station': 100, 'idplug_station': 47, 'user_type': 1, 'ageRange': 4, 'zip_code': '28231', 'DEMANDA': 1}, {'_id': '2017-03-31T23:00:00.000Z10247041328015', 'ANIO': 2017, 'MES': 3, 'DIA': 31, 'HORA': 23, 'DIA_SEMANA': 6, 'AM_PM': 'PM', 'TEMPORADA': 'Invierno', 'UNPLUG_TIME_date': datetime.datetime(2017, 3, 31, 23, 0), 'travel_time': 704, 'idunplug_station': 102, 'idplug_station': 4, 'user_type': 1, 'ageRange': 3, 'zip_code': '28015', 'DEMANDA': 1}, {'_id': '2017-03-31T23:00:00.000Z102834971428007', 'ANIO': 2017, 'MES': 3, 'DIA': 31, 'HORA': 23, 'DIA_SEMANA': 6, 'AM_PM': 'PM', 'TEMPORADA': 'Invierno', 'UNPLUG_TIME_date': datetime.datetime(2017, 3, 31, 23, 0), 'travel_time': 497, 'idunplug_station': 102, 'idplug_station': 83, 'user_type': 1, 'ageRange': 4, 'zip_code': '28007', 'DEMANDA': 1}, {'_id': '2017-03-31T23:00:00.000Z10313911481528039', 'ANIO': 2017, 'MES': 3, 'DIA': 31, 'HORA': 23, 'DIA_SEMANA': 6, 'AM_PM': 'PM', 'TEMPORADA': 'Invierno', 'UNPLUG_TIME_date': datetime.datetime(2017, 3, 31, 23, 0), 'travel_time': 1148, 'idunplug_station': 103, 'idplug_station': 139, 'user_type': 1, 'ageRange': 5, 'zip_code': '28039', 'DEMANDA': 1}, {'_id': '2017-03-31T23:00:00.000Z1031729181428016', 'ANIO': 2017, 'MES': 3, 'DIA': 31, 'HORA': 23, 'DIA_SEMANA': 6, 'AM_PM': 'PM', 'TEMPORADA': 'Invierno', 'UNPLUG_TIME_date': datetime.datetime(2017, 3, 31, 23, 0), 'travel_time': 918, 'idunplug_station': 103, 'idplug_station': 172, 'user_type': 1, 'ageRange': 4, 'zip_code': '28016', 'DEMANDA': 1}]\n"
     ]
    }
   ],
   "source": [
    "# find_five = db_Tracks.find().limit(5)\n",
    "# print(list(find_five))"
   ]
  },
  {
   "cell_type": "markdown",
   "id": "93a52490",
   "metadata": {},
   "source": [
    "## Descarga datos"
   ]
  },
  {
   "cell_type": "code",
   "execution_count": null,
   "id": "46aed97a",
   "metadata": {},
   "outputs": [],
   "source": [
    "# # Tracks\n",
    "# t_ini = time.time()\n",
    "# data_Tracks_2017 = _data_anio(db_Tracks, 2017)\n",
    "# data_Tracks_2018 = _data_anio(db_Tracks, 2018)\n",
    "# data_Tracks_2019 = _data_anio(db_Tracks, 2019)\n",
    "# data_Tracks_2020 = _data_anio(db_Tracks, 2020)\n",
    "# data_Tracks_2021 = _data_anio(db_Tracks, 2021)\n",
    "# t_end = time.time()\n",
    "\n",
    "# print ((t_end - t_ini)/60)\n",
    "\n",
    "# data_Tracks = pd.concat([\n",
    "#     data_Tracks_2017,\n",
    "#     data_Tracks_2018,\n",
    "#     data_Tracks_2019,\n",
    "#     data_Tracks_2020,\n",
    "#     data_Tracks_2021\n",
    "# ])\n",
    "\n",
    "# data_Tracks.shape"
   ]
  },
  {
   "cell_type": "code",
   "execution_count": null,
   "id": "b3523d90",
   "metadata": {},
   "outputs": [],
   "source": [
    "# data_Tracks.to_csv('C:\\Master BigData\\TFM\\Data\\DataFullTracks_MongoDB.csv')"
   ]
  },
  {
   "cell_type": "code",
   "execution_count": null,
   "id": "caff5e91",
   "metadata": {},
   "outputs": [],
   "source": [
    "t_ini = time.time()\n",
    "data_Tracks = pd.read_csv('C:\\Master BigData\\TFM\\Data\\DataFullTracks_MongoDB.csv')\n",
    "t_end = time.time()\n",
    "print (t_end - t_ini)"
   ]
  },
  {
   "cell_type": "code",
   "execution_count": null,
   "id": "7f2a939d",
   "metadata": {},
   "outputs": [],
   "source": [
    "# t_ini = time.time()\n",
    "# data_Tracks_2017 = _data_anio_por_estacion(db_Tracks, 2017, 175)\n",
    "# data_Tracks_2018 = _data_anio_por_estacion(db_Tracks, 2018, 175)\n",
    "# data_Tracks_2019 = _data_anio_por_estacion(db_Tracks, 2019, 175)\n",
    "# data_Tracks_2020 = _data_anio_por_estacion(db_Tracks, 2020, 175)\n",
    "# data_Tracks_2021 = _data_anio_por_estacion(db_Tracks, 2021, 175)\n",
    "# t_end = time.time()\n",
    "\n",
    "# data_Tracks = pd.concat([\n",
    "#     data_Tracks_2017,\n",
    "#     data_Tracks_2018,\n",
    "#     data_Tracks_2019,\n",
    "#     data_Tracks_2020,\n",
    "#     data_Tracks_2021\n",
    "# ])\n",
    "\n",
    "# print ((t_end - t_ini)/60)"
   ]
  },
  {
   "cell_type": "code",
   "execution_count": null,
   "id": "5a109b8a",
   "metadata": {},
   "outputs": [],
   "source": [
    "data_Tracks = _data_anio(db_Tracks, 2019)"
   ]
  },
  {
   "cell_type": "code",
   "execution_count": null,
   "id": "319aefa7",
   "metadata": {},
   "outputs": [],
   "source": [
    "data_Tracks.info()"
   ]
  },
  {
   "cell_type": "code",
   "execution_count": null,
   "id": "a20f144a",
   "metadata": {},
   "outputs": [],
   "source": [
    "# Meteorologia\n",
    "t_ini = time.time()\n",
    "#data_Meteo = _consulta_meteo_por_anio(db_Meteo, 2019)\n",
    "data_Meteo = _consulta_meteo_full(db_Meteo)\n",
    "t_end = time.time()\n",
    "\n",
    "print (t_end - t_ini)\n",
    "data_Meteo\n"
   ]
  },
  {
   "cell_type": "code",
   "execution_count": null,
   "id": "9b91f3fe",
   "metadata": {},
   "outputs": [],
   "source": [
    "# Stations\n",
    "t_ini = time.time()\n",
    "data_Stations = _consulta_stations(db_Stations)\n",
    "t_end = time.time()\n",
    "\n",
    "print (t_end - t_ini)\n",
    "data_Stations\n"
   ]
  },
  {
   "cell_type": "code",
   "execution_count": null,
   "id": "c2ddd361",
   "metadata": {},
   "outputs": [],
   "source": [
    "# Stations\n",
    "t_ini = time.time()\n",
    "data_StationsMeteo = _consulta_stations_EstacionesMeteo(db_Stations_Meteo)\n",
    "t_end = time.time()\n",
    "\n",
    "print (t_end - t_ini)\n",
    "data_StationsMeteo\n"
   ]
  },
  {
   "cell_type": "code",
   "execution_count": null,
   "id": "9b7a2f0b",
   "metadata": {},
   "outputs": [],
   "source": [
    "data_Tracks.info()"
   ]
  },
  {
   "cell_type": "code",
   "execution_count": null,
   "id": "490e9e18",
   "metadata": {},
   "outputs": [],
   "source": [
    "data_Meteo.info()"
   ]
  },
  {
   "cell_type": "code",
   "execution_count": null,
   "id": "d7f68b9b",
   "metadata": {},
   "outputs": [],
   "source": [
    "data_Stations.info()"
   ]
  },
  {
   "cell_type": "code",
   "execution_count": null,
   "id": "a21a88a2",
   "metadata": {},
   "outputs": [],
   "source": [
    "data_StationsMeteo.info()"
   ]
  },
  {
   "cell_type": "code",
   "execution_count": null,
   "id": "41131f3e",
   "metadata": {},
   "outputs": [],
   "source": []
  },
  {
   "cell_type": "code",
   "execution_count": null,
   "id": "80033e7f",
   "metadata": {},
   "outputs": [],
   "source": [
    "del data"
   ]
  },
  {
   "cell_type": "code",
   "execution_count": null,
   "id": "9b64efda",
   "metadata": {
    "scrolled": true
   },
   "outputs": [],
   "source": [
    "data = pd.merge(data_Tracks, data_Stations, how='left', left_on='idunplug_station', right_on='Id_Station')"
   ]
  },
  {
   "cell_type": "code",
   "execution_count": null,
   "id": "21f53e19",
   "metadata": {},
   "outputs": [],
   "source": [
    "data.shape"
   ]
  },
  {
   "cell_type": "code",
   "execution_count": null,
   "id": "424e0de2",
   "metadata": {},
   "outputs": [],
   "source": [
    "data1 = pd.merge(data, data_StationsMeteo, how='left', left_on='Id_Station', right_on='Id_Station')"
   ]
  },
  {
   "cell_type": "code",
   "execution_count": null,
   "id": "19e4ebf6",
   "metadata": {},
   "outputs": [],
   "source": [
    "data_final = pd.merge(data1, data_Meteo, how='left', left_on=['Id_EstacionMeteo','ANIO','MES','DIA','HORA'], right_on=['Id_EstacionMeteo','ANIO','MES','DIA','HORA'])"
   ]
  },
  {
   "cell_type": "code",
   "execution_count": null,
   "id": "895ddac5",
   "metadata": {},
   "outputs": [],
   "source": [
    "data_final.info()"
   ]
  },
  {
   "cell_type": "code",
   "execution_count": null,
   "id": "687a3d90",
   "metadata": {},
   "outputs": [],
   "source": [
    "data.shape"
   ]
  },
  {
   "cell_type": "code",
   "execution_count": null,
   "id": "1f4233ac",
   "metadata": {},
   "outputs": [],
   "source": [
    "data_Tracks.shape"
   ]
  },
  {
   "cell_type": "code",
   "execution_count": null,
   "id": "ed7f3d4e",
   "metadata": {},
   "outputs": [],
   "source": [
    "data_na=data[data['Id_Station'].isna()]"
   ]
  },
  {
   "cell_type": "code",
   "execution_count": null,
   "id": "270fee9d",
   "metadata": {},
   "outputs": [],
   "source": [
    "data_na"
   ]
  },
  {
   "cell_type": "code",
   "execution_count": null,
   "id": "0d352859",
   "metadata": {},
   "outputs": [],
   "source": [
    "data_na.groupby('idunplug_station').size()"
   ]
  },
  {
   "cell_type": "code",
   "execution_count": null,
   "id": "6ba9b686",
   "metadata": {},
   "outputs": [],
   "source": []
  },
  {
   "cell_type": "code",
   "execution_count": null,
   "id": "d5cdb26e",
   "metadata": {},
   "outputs": [],
   "source": [
    "pd.options.display.float_format = '{:,}'.format\n",
    "pd.set_eng_float_format(accuracy=3, use_eng_prefix=True)"
   ]
  },
  {
   "cell_type": "code",
   "execution_count": null,
   "id": "9e097c0a",
   "metadata": {},
   "outputs": [],
   "source": [
    "data.groupby(['Id_Station', 'ANIO', 'MES']).size()"
   ]
  },
  {
   "cell_type": "code",
   "execution_count": null,
   "id": "96ceecf2",
   "metadata": {},
   "outputs": [],
   "source": []
  },
  {
   "cell_type": "code",
   "execution_count": null,
   "id": "907fc5e8",
   "metadata": {},
   "outputs": [],
   "source": []
  },
  {
   "cell_type": "markdown",
   "id": "d8d7ffbf",
   "metadata": {},
   "source": [
    "### EDA: idunplug_station"
   ]
  },
  {
   "cell_type": "code",
   "execution_count": null,
   "id": "17ee7315",
   "metadata": {},
   "outputs": [],
   "source": [
    "data_Tracks['idunplug_station'].isnull().sum()"
   ]
  },
  {
   "cell_type": "code",
   "execution_count": null,
   "id": "3518f88d",
   "metadata": {},
   "outputs": [],
   "source": [
    "data175 = data_Tracks['idunplug_station']==175\n",
    "data_Tracks[data175]"
   ]
  },
  {
   "cell_type": "markdown",
   "id": "d9c2660b",
   "metadata": {},
   "source": [
    "### EDA: travel_time"
   ]
  },
  {
   "cell_type": "code",
   "execution_count": null,
   "id": "694eb747",
   "metadata": {},
   "outputs": [],
   "source": [
    "data_Tracks['travel_time_mins'] = data_Tracks['travel_time']/60  # Convierte a minutos"
   ]
  },
  {
   "cell_type": "markdown",
   "id": "57b36153",
   "metadata": {},
   "source": [
    "Descripción general"
   ]
  },
  {
   "cell_type": "code",
   "execution_count": null,
   "id": "22dfd2f4",
   "metadata": {},
   "outputs": [],
   "source": [
    "data_Tracks['travel_time_mins'].describe()"
   ]
  },
  {
   "cell_type": "code",
   "execution_count": null,
   "id": "cb65c6b3",
   "metadata": {},
   "outputs": [],
   "source": [
    "import numpy as np\n",
    "\n",
    "# Convierte a logaritmo para graficar\n",
    "df_nonzero_travel_times = data_Tracks.loc[data_Tracks['travel_time_mins'] > 0]\n",
    "\n",
    "data_Tracks['travel_time_mins_log'] = np.log(df_nonzero_travel_times['travel_time_mins'])\n",
    "\n"
   ]
  },
  {
   "cell_type": "code",
   "execution_count": null,
   "id": "fa9a0ab6",
   "metadata": {},
   "outputs": [],
   "source": [
    "data_Tracks['travel_time_mins_log'].hist(bins=250)"
   ]
  },
  {
   "cell_type": "code",
   "execution_count": null,
   "id": "e5c17f6c",
   "metadata": {},
   "outputs": [],
   "source": [
    "df_non_extreme_travel_times = data_Tracks.loc[data_Tracks['travel_time_mins'] > 0]\n",
    "df_non_extreme_travel_times.boxplot(column='travel_time_mins')"
   ]
  },
  {
   "cell_type": "markdown",
   "id": "f4e72e61",
   "metadata": {},
   "source": [
    "Viajes sobre 360 minutos"
   ]
  },
  {
   "cell_type": "code",
   "execution_count": null,
   "id": "2a5fe3c8",
   "metadata": {},
   "outputs": [],
   "source": [
    "df_non_extreme_travel_times = data_Tracks.loc[data_Tracks['travel_time_mins'] > 360]\n",
    "\n",
    "total = df_non_extreme_travel_times['travel_time_mins'].count()\n",
    "print(total)\n",
    "\n",
    "total_prc = df_non_extreme_travel_times['travel_time_mins'].count() / data_Tracks['travel_time_mins'].count() * 100\n",
    "print(total_prc)\n"
   ]
  },
  {
   "cell_type": "markdown",
   "id": "e8958694",
   "metadata": {},
   "source": [
    "Viajes sobre 30 minutos"
   ]
  },
  {
   "cell_type": "code",
   "execution_count": null,
   "id": "130a3cdf",
   "metadata": {},
   "outputs": [],
   "source": [
    "df_non_extreme_travel_times = data_Tracks.loc[data_Tracks['travel_time_mins'] > 30]\n",
    "\n",
    "total = df_non_extreme_travel_times['travel_time_mins'].count()\n",
    "print(total)\n",
    "\n",
    "total_prc = df_non_extreme_travel_times['travel_time_mins'].count() / data_Tracks['travel_time_mins'].count() * 100\n",
    "print(total_prc)"
   ]
  },
  {
   "cell_type": "markdown",
   "id": "8c7d6ded",
   "metadata": {},
   "source": [
    "Viajes de menos de 180 segundos"
   ]
  },
  {
   "cell_type": "code",
   "execution_count": null,
   "id": "4f05efbc",
   "metadata": {},
   "outputs": [],
   "source": [
    "total = data_Tracks.loc[data_Tracks['travel_time'] < 180]['user_type'].count()\n",
    "print(total)\n",
    "\n",
    "total_proc = data_Tracks.loc[data_Tracks['travel_time'] < 180]['user_type'].count() / data_Tracks['travel_time'].count() *100\n",
    "print(total_proc)"
   ]
  },
  {
   "cell_type": "markdown",
   "id": "151f7059",
   "metadata": {},
   "source": [
    "Viajes con tiempo negativo"
   ]
  },
  {
   "cell_type": "code",
   "execution_count": null,
   "id": "69facac5",
   "metadata": {},
   "outputs": [],
   "source": [
    "total = data_Tracks.loc[data_Tracks['travel_time'] < 0]['user_type'].count()\n",
    "print(total)\n",
    "\n",
    "total_proc = data_Tracks.loc[data_Tracks['travel_time'] < 0]['user_type'].count() / data_Tracks['travel_time'].count() *100\n",
    "print(total_proc)"
   ]
  },
  {
   "cell_type": "markdown",
   "id": "23c60862",
   "metadata": {},
   "source": [
    "### EDA: origen vs destino"
   ]
  },
  {
   "cell_type": "markdown",
   "id": "63e443fd",
   "metadata": {},
   "source": [
    "Estaciones en donde origen y destino son el mismo y el viaje es menor a 3 minutos"
   ]
  },
  {
   "cell_type": "code",
   "execution_count": null,
   "id": "c883ca11",
   "metadata": {},
   "outputs": [],
   "source": [
    "df_same_station = data_Tracks.loc[(data_Tracks['idunplug_station'] == data_Tracks['idplug_station'])]\n",
    "print(df_same_station['ANIO'].count())\n",
    "print(df_same_station.loc[df_same_station['travel_time'] < 10]['ANIO'].count())\n",
    "print(df_same_station.loc[df_same_station['travel_time'] < 60]['ANIO'].count())\n",
    "print(df_same_station.loc[df_same_station['travel_time'] < 180]['ANIO'].count())\n",
    "\n"
   ]
  },
  {
   "cell_type": "markdown",
   "id": "d4a7d3e1",
   "metadata": {},
   "source": [
    "### EDA: user_type"
   ]
  },
  {
   "cell_type": "markdown",
   "id": "67597ff6",
   "metadata": {},
   "source": [
    "```\n",
    "user_type = 0: undetermined\n",
    "user_type = 1: annual pass holder\n",
    "user_type = 2: occasional user (incl. tourists, I guess)\n",
    "user_type = 3: BiciMad employee\n",
    "```"
   ]
  },
  {
   "cell_type": "code",
   "execution_count": null,
   "id": "f5a71ee7",
   "metadata": {},
   "outputs": [],
   "source": [
    "data_Tracks.groupby(['user_type'])['travel_time_mins'].describe()"
   ]
  },
  {
   "cell_type": "markdown",
   "id": "0e2487b5",
   "metadata": {},
   "source": [
    "### EDA: age_range"
   ]
  },
  {
   "cell_type": "markdown",
   "id": "3fcc552e",
   "metadata": {},
   "source": [
    "```\n",
    "ageRange = 0: undetermined\n",
    "ageRange = 1: from 0 to 16 years old\n",
    "ageRange = 2: from 17 to 18 years old\n",
    "ageRange = 3: from 19 to 26 years old\n",
    "ageRange = 4: from 27 to 40 years old\n",
    "ageRange = 5: from 41 to 65 years old\n",
    "ageRange = 6: older than 66\n",
    "```"
   ]
  },
  {
   "cell_type": "code",
   "execution_count": null,
   "id": "d07cd4b2",
   "metadata": {},
   "outputs": [],
   "source": [
    "data_Tracks.loc[data_Tracks['user_type']==1].groupby(['ageRange'])['ANIO'].count().plot(kind='bar')\n",
    "\n"
   ]
  },
  {
   "cell_type": "code",
   "execution_count": null,
   "id": "48b59bf4",
   "metadata": {},
   "outputs": [],
   "source": [
    "data_Tracks.loc[data_Tracks['user_type']==1].groupby(['ageRange'])['travel_time_mins'].mean().plot()"
   ]
  },
  {
   "cell_type": "markdown",
   "id": "b1c3a0fe",
   "metadata": {},
   "source": [
    "### EDA: Zip codes"
   ]
  },
  {
   "cell_type": "code",
   "execution_count": null,
   "id": "31bcb9fc",
   "metadata": {},
   "outputs": [],
   "source": [
    "data_Tracks.groupby(['zip_code'])['ANIO'].count()"
   ]
  },
  {
   "cell_type": "markdown",
   "id": "e72623a4",
   "metadata": {},
   "source": [
    "### EDA: Stations"
   ]
  },
  {
   "cell_type": "markdown",
   "id": "6a88c90b",
   "metadata": {},
   "source": [
    "Stations de salida mas populares"
   ]
  },
  {
   "cell_type": "code",
   "execution_count": null,
   "id": "42c3fa53",
   "metadata": {},
   "outputs": [],
   "source": [
    "data_Tracks['idunplug_station'].value_counts().sort_values(ascending=False)[:5]"
   ]
  },
  {
   "cell_type": "markdown",
   "id": "4103baaa",
   "metadata": {},
   "source": [
    "Stations de llegada mas populares"
   ]
  },
  {
   "cell_type": "code",
   "execution_count": null,
   "id": "f9e13e62",
   "metadata": {},
   "outputs": [],
   "source": [
    "data_Tracks['idplug_station'].value_counts().sort_values(ascending=False)[:5]"
   ]
  },
  {
   "cell_type": "code",
   "execution_count": null,
   "id": "4c8c75fc",
   "metadata": {},
   "outputs": [],
   "source": []
  }
 ],
 "metadata": {
  "kernelspec": {
   "display_name": "Python 3 (ipykernel)",
   "language": "python",
   "name": "python3"
  },
  "language_info": {
   "codemirror_mode": {
    "name": "ipython",
    "version": 3
   },
   "file_extension": ".py",
   "mimetype": "text/x-python",
   "name": "python",
   "nbconvert_exporter": "python",
   "pygments_lexer": "ipython3",
   "version": "3.9.12"
  }
 },
 "nbformat": 4,
 "nbformat_minor": 5
}
