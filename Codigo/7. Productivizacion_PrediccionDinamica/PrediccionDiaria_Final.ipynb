{
 "cells": [
  {
   "cell_type": "markdown",
   "id": "ceeecf83",
   "metadata": {},
   "source": [
    "## PrediccionDiaria_Final.ipynb\n",
    "\n",
    "### Objetivo\n",
    "\n",
    "Proceso de ejecución final de prediccion mediante la llamada de las funciones desarrolladas en el módulo Funciones_Prepara_Prediccion.py\n",
    "\n",
    "### Descripción General de notebook\n",
    "\n",
    "    1. Carga de funciones base\n",
    "    2. Definición y ejecución de procedimiento main()"
   ]
  },
  {
   "cell_type": "code",
   "execution_count": null,
   "id": "2dda28a3",
   "metadata": {
    "scrolled": true
   },
   "outputs": [],
   "source": [
    "import sys\n",
    "sys.path.insert(0, '../1. Librerias Mongo')\n",
    "\n",
    "from MongoDB_Connections import _connect_mongo\n",
    "from Funciones_Prepara_Prediccion import _lecturaDatosOrigen\n",
    "from Funciones_Prepara_Prediccion import _EjecutaPrediccion\n",
    "from Funciones_Prepara_Prediccion import _PredicionesRanking\n",
    "\n",
    "import time\n",
    "import datetime\n",
    "from datetime import date\n",
    "\n",
    "import warnings\n",
    "warnings.filterwarnings(\"ignore\", category=FutureWarning)\n"
   ]
  },
  {
   "cell_type": "code",
   "execution_count": null,
   "id": "434c5abb",
   "metadata": {},
   "outputs": [],
   "source": [
    "def main(argv):\n",
    "        \n",
    "    fechaIni = datetime.datetime.today() + datetime.timedelta(days=1)\n",
    "        \n",
    "    diasPrediccion = argv[1]\n",
    "    \n",
    "    print(fechaIni)\n",
    "    print(diasPrediccion)\n",
    "\n",
    "    t_ini = time.time()\n",
    "\n",
    "    datosOrg = _lecturaDatosOrigen(\"../../Data/DataFrame_Final_Cierre_Cluster_2017_2019.csv\")\n",
    "    predOut = _EjecutaPrediccion(fechaIni.strftime('%d/%m/%Y'), diasPrediccion, datosOrg)\n",
    "    preds = _PredicionesRanking(predOut, datosOrg)\n",
    "    \n",
    "    preds.to_csv('../../data/PrediccfionFinal.csv', index=False)\n",
    "    \n",
    "    t_end = time.time()\n",
    "    \n",
    "    print((t_end-t_ini)/60)\n",
    "\n"
   ]
  },
  {
   "cell_type": "code",
   "execution_count": null,
   "id": "fa517136",
   "metadata": {},
   "outputs": [],
   "source": [
    "if __name__ == '__main__':\n",
    "    main(sys.argv)"
   ]
  }
 ],
 "metadata": {
  "kernelspec": {
   "display_name": "Python 3 (ipykernel)",
   "language": "python",
   "name": "python3"
  },
  "language_info": {
   "codemirror_mode": {
    "name": "ipython",
    "version": 3
   },
   "file_extension": ".py",
   "mimetype": "text/x-python",
   "name": "python",
   "nbconvert_exporter": "python",
   "pygments_lexer": "ipython3",
   "version": "3.8.12"
  },
  "toc": {
   "base_numbering": 1,
   "nav_menu": {},
   "number_sections": true,
   "sideBar": true,
   "skip_h1_title": false,
   "title_cell": "Table of Contents",
   "title_sidebar": "Contents",
   "toc_cell": false,
   "toc_position": {},
   "toc_section_display": true,
   "toc_window_display": false
  }
 },
 "nbformat": 4,
 "nbformat_minor": 5
}
