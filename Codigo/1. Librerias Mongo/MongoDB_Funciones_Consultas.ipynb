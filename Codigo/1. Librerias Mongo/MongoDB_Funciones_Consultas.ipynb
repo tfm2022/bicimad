{
 "cells": [
  {
   "cell_type": "code",
   "execution_count": 8,
   "id": "c001f8c5",
   "metadata": {},
   "outputs": [],
   "source": [
    "from pymongo import MongoClient\n",
    "import pandas as pd"
   ]
  },
  {
   "cell_type": "markdown",
   "id": "e85f1685",
   "metadata": {},
   "source": [
    "### Funciones Tracks"
   ]
  },
  {
   "cell_type": "code",
   "execution_count": null,
   "id": "3e1bc1f8",
   "metadata": {},
   "outputs": [],
   "source": [
    "def _resumen_mensual_por_anio(db_conn, in_anio):\n",
    "    \n",
    "    fase0 = {'$match': {'ANIO': in_anio}}\n",
    "    fase1 = {'$group' : { \n",
    "        '_id': {\n",
    "            '$concat': [\n",
    "                {'$toString': \"$ANIO\"}, \n",
    "                {'$cond': {'if': {'$gte': ['$MES', 10] }, 'then': {'$toString': \"$MES\"}, 'else': {'$concat': ['0', {'$toString': \"$MES\"}]}}}\n",
    "                ]}, \n",
    "            'count' : { '$sum' : 1} } }\n",
    "    order1 = {'$sort': {'_id': 1}}\n",
    "    dataMongo = db_conn.aggregate([fase0, fase1, order1])\n",
    "    \n",
    "    return pd.DataFrame(list(dataMongo))"
   ]
  },
  {
   "cell_type": "code",
   "execution_count": 6,
   "id": "f48a1e8f",
   "metadata": {},
   "outputs": [],
   "source": [
    "def _data_anio_mes(db_conn, in_anio, in_mes):\n",
    "    \n",
    "    fase0 = {'$match': {'ANIO': in_anio, 'MES': in_mes}}\n",
    "    fase1 = {'$project': {'_id':0, 'ANIO': '$ANIO', 'MES': '$MES', \n",
    "        'DIA': '$DIA', 'HORA': '$HORA', 'DIA_SEMANA': '$DIA_SEMANA', 'AM_PM': '$AM_PM', 'TEMPORADA': '$TEMPORADA', \n",
    "        'UNPLUG_TIME_date': '$UNPLUG_TIME_date', 'travel_time': '$travel_time', 'idunplug_station': '$idunplug_station', \n",
    "        'idplug_station': '$idplug_station', 'user_type': '$user_type', 'ageRange': '$ageRange', 'zip_code': '$zip_code',\n",
    "        'Es_Festivo': '$Es_Festivo', 'Es_FinSemana': '$Es_FinSemana', 'DEMANDA': '$DEMANDA'}}    \n",
    "    \n",
    "    dataMongo = db_conn.aggregate([fase0, fase1])\n",
    "    \n",
    "    return pd.DataFrame(list(dataMongo))"
   ]
  },
  {
   "cell_type": "code",
   "execution_count": 7,
   "id": "63c75307",
   "metadata": {},
   "outputs": [],
   "source": [
    "def _data_anio(db_conn, in_anio):\n",
    "    \n",
    "    fase0 = {'$match': {'ANIO': in_anio}}\n",
    "    fase1 = {'$project': {'_id':0, 'ANIO': '$ANIO', 'MES': '$MES', \n",
    "        'DIA': '$DIA', 'HORA': '$HORA', 'DIA_SEMANA': '$DIA_SEMANA', 'AM_PM': '$AM_PM', 'TEMPORADA': '$TEMPORADA', \n",
    "        'UNPLUG_TIME_date': '$UNPLUG_TIME_date', 'travel_time': '$travel_time', 'idunplug_station': '$idunplug_station', \n",
    "        'idplug_station': '$idplug_station', 'user_type': '$user_type', 'ageRange': '$ageRange', 'zip_code': '$zip_code',\n",
    "        'Es_Festivo': '$Es_Festivo', 'Es_FinSemana': '$Es_FinSemana', 'DEMANDA': '$DEMANDA'}}    \n",
    "    \n",
    "    dataMongo = db_conn.aggregate([fase0, fase1])\n",
    "    \n",
    "    return pd.DataFrame(list(dataMongo))\n",
    "    "
   ]
  },
  {
   "cell_type": "code",
   "execution_count": 4,
   "id": "a8e198bb",
   "metadata": {},
   "outputs": [],
   "source": [
    "def _data_anio_mes_por_estacion(db_conn, in_anio, in_mes, in_estacion):\n",
    "    \n",
    "    fase0 = {'$match': {'ANIO': in_anio, 'MES': in_mes, 'idunplug_station': in_estacion}}\n",
    "    fase1 = {'$project': {'_id':0, 'ANIO': '$ANIO', 'MES': '$MES', \n",
    "        'DIA': '$DIA', 'HORA': '$HORA', 'DIA_SEMANA': '$DIA_SEMANA', 'AM_PM': '$AM_PM', 'TEMPORADA': '$TEMPORADA', \n",
    "        'UNPLUG_TIME_date': '$UNPLUG_TIME_date', 'travel_time': '$travel_time', 'idunplug_station': '$idunplug_station', \n",
    "        'idplug_station': '$idplug_station', 'user_type': '$user_type', 'ageRange': '$ageRange', 'zip_code': '$zip_code',\n",
    "        'Es_Festivo': '$Es_Festivo', 'Es_FinSemana': '$Es_FinSemana', 'DEMANDA': '$DEMANDA'}}    \n",
    "    \n",
    "    dataMongo = db_conn.aggregate([fase0, fase1])\n",
    "    \n",
    "    return pd.DataFrame(list(dataMongo))\n"
   ]
  },
  {
   "cell_type": "code",
   "execution_count": 7,
   "id": "eae61269",
   "metadata": {},
   "outputs": [],
   "source": [
    "def _data_anio_por_estacion(db_conn, in_anio, in_estacion):\n",
    "    \n",
    "    fase0 = {'$match': {'ANIO': in_anio, 'idunplug_station': in_estacion}}\n",
    "    fase1 = {'$project': {'_id':0, 'ANIO': '$ANIO', 'MES': '$MES', \n",
    "        'DIA': '$DIA', 'HORA': '$HORA', 'DIA_SEMANA': '$DIA_SEMANA', 'AM_PM': '$AM_PM', 'TEMPORADA': '$TEMPORADA', \n",
    "        'UNPLUG_TIME_date': '$UNPLUG_TIME_date', 'travel_time': '$travel_time', 'idunplug_station': '$idunplug_station', \n",
    "        'idplug_station': '$idplug_station', 'user_type': '$user_type', 'ageRange': '$ageRange', 'zip_code': '$zip_code',\n",
    "        'Es_Festivo': '$Es_Festivo', 'Es_FinSemana': '$Es_FinSemana', 'DEMANDA': '$DEMANDA'}}    \n",
    "    \n",
    "    dataMongo = db_conn.aggregate([fase0, fase1])\n",
    "    \n",
    "    return pd.DataFrame(list(dataMongo))"
   ]
  },
  {
   "cell_type": "markdown",
   "id": "6f93040e",
   "metadata": {},
   "source": [
    "### Funciones de Datos Meteorológicos"
   ]
  },
  {
   "cell_type": "code",
   "execution_count": null,
   "id": "79e3bd1d",
   "metadata": {},
   "outputs": [],
   "source": [
    "def _consulta_meteo_por_anio(db_conn, in_anio):\n",
    "    \n",
    "    fase0 = {'$match': {'ANIO': in_anio}}\n",
    "    fase1 = {'$project': {'_id':0, 'ANIO': '$ANIO', 'MES': '$MES', \n",
    "        'DIA': '$DIA', 'HORA': '$HORA', 'Id_EstacionMeteo': '$Id_EstacionMeteo', 'PROVINCIA': '$PROVINCIA', \n",
    "        'MUNICIPIO': '$MUNICIPIO', 'TEMPERATURA': '$TEMPERATURA', 'VIENTO': '$VIENTO', 'PRESION': '$PRESION', \n",
    "        'RADIACION': '$RADIACION', 'PRECIPITACION': '$PRECIPITACION'}}\n",
    "    \n",
    "    dataMongo = db_conn.aggregate([fase0, fase1])\n",
    "    \n",
    "    return pd.DataFrame(list(dataMongo))\n"
   ]
  },
  {
   "cell_type": "code",
   "execution_count": null,
   "id": "33afad3e",
   "metadata": {},
   "outputs": [],
   "source": [
    "def _consulta_meteo_por_anio_mes(db_conn, in_anio, in_mes):\n",
    "    \n",
    "    fase0 = {'$match': {'ANIO': in_anio, 'MES': in_mes}}\n",
    "    fase1 = {'$project': {'_id':0, 'ANIO': '$ANIO', 'MES': '$MES', \n",
    "        'DIA': '$DIA', 'HORA': '$HORA', 'Id_EstacionMeteo': '$Id_EstacionMeteo', 'PROVINCIA': '$PROVINCIA', \n",
    "        'MUNICIPIO': '$MUNICIPIO', 'TEMPERATURA': '$TEMPERATURA', 'VIENTO': '$VIENTO', 'PRESION': '$PRESION', \n",
    "        'RADIACION': '$RADIACION', 'PRECIPITACION': '$PRECIPITACION'}}\n",
    "    \n",
    "    dataMongo = db_conn.aggregate([fase0, fase1])\n",
    "    \n",
    "    return pd.DataFrame(list(dataMongo))\n"
   ]
  },
  {
   "cell_type": "code",
   "execution_count": 1,
   "id": "726529d4",
   "metadata": {},
   "outputs": [],
   "source": [
    "def _consulta_meteo_full(db_conn):\n",
    "    \n",
    "    fase1 = {'$project': {'_id':0, 'ANIO': '$ANIO', 'MES': '$MES', \n",
    "        'DIA': '$DIA', 'HORA': '$HORA', 'Id_EstacionMeteo': '$Id_EstacionMeteo', 'PROVINCIA': '$PROVINCIA', \n",
    "        'MUNICIPIO': '$MUNICIPIO', 'TEMPERATURA': '$TEMPERATURA', 'VIENTO': '$VIENTO', 'PRESION': '$PRESION', \n",
    "        'RADIACION': '$RADIACION', 'PRECIPITACION': '$PRECIPITACION'}}\n",
    "    \n",
    "    dataMongo = db_conn.aggregate([fase1])\n",
    "    \n",
    "    return pd.DataFrame(list(dataMongo))\n"
   ]
  },
  {
   "cell_type": "markdown",
   "id": "6ea1815f",
   "metadata": {},
   "source": [
    "### Funciones Stations BiciMAD"
   ]
  },
  {
   "cell_type": "code",
   "execution_count": 2,
   "id": "b67c9018",
   "metadata": {},
   "outputs": [],
   "source": [
    "def _consulta_stations(db_conn):\n",
    "    \n",
    "    dataMongo = db_conn.find({}, {'_id':0})\n",
    "    return pd.DataFrame(list(dataMongo))\n"
   ]
  },
  {
   "cell_type": "markdown",
   "id": "a49d938f",
   "metadata": {},
   "source": [
    "### Funciones Stations vs Estaciones Meteorológicas"
   ]
  },
  {
   "cell_type": "code",
   "execution_count": 3,
   "id": "d3c65331",
   "metadata": {},
   "outputs": [],
   "source": [
    "def _consulta_stations_EstacionesMeteo(db_conn):\n",
    "    \n",
    "    dataMongo = db_conn.find({}, {'_id':0})\n",
    "    return pd.DataFrame(list(dataMongo))\n"
   ]
  }
 ],
 "metadata": {
  "kernelspec": {
   "display_name": "Python 3 (ipykernel)",
   "language": "python",
   "name": "python3"
  },
  "language_info": {
   "codemirror_mode": {
    "name": "ipython",
    "version": 3
   },
   "file_extension": ".py",
   "mimetype": "text/x-python",
   "name": "python",
   "nbconvert_exporter": "python",
   "pygments_lexer": "ipython3",
   "version": "3.9.12"
  }
 },
 "nbformat": 4,
 "nbformat_minor": 5
}
