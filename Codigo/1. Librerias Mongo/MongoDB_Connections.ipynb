{
 "cells": [
  {
   "cell_type": "markdown",
   "id": "12b9a034",
   "metadata": {},
   "source": [
    "## MongoDB_Connections\n",
    "\n",
    "### Objetivo\n",
    "\n",
    "Definición de función utilizadas para efectuar la conexión a la base de datos Cloud MongoDB Atlas\n",
    "\n",
    "### Descripción General de notebook\n",
    "\n",
    "Funciones:\n",
    "    _connect_mongo"
   ]
  },
  {
   "cell_type": "code",
   "execution_count": 4,
   "id": "74f18abf",
   "metadata": {},
   "outputs": [],
   "source": [
    "from pymongo import MongoClient\n",
    "import sys\n",
    "import certifi\n"
   ]
  },
  {
   "cell_type": "code",
   "execution_count": 7,
   "id": "c3052575",
   "metadata": {},
   "outputs": [
    {
     "name": "stdout",
     "output_type": "stream",
     "text": [
      "Defaulting to user installation because normal site-packages is not writeable\n",
      "Requirement already satisfied: certifi in c:\\programdata\\anaconda3\\lib\\site-packages (2021.10.8)\n",
      "Note: you may need to restart the kernel to use updated packages.\n"
     ]
    }
   ],
   "source": [
    "#pip install certifi"
   ]
  },
  {
   "cell_type": "code",
   "execution_count": 13,
   "id": "06f245df",
   "metadata": {},
   "outputs": [],
   "source": [
    "def _connect_mongo(tipo_host, host, port, username, password, db, collection):\n",
    "    ca = certifi.where()\n",
    "    try:\n",
    "        if tipo_host == 'localhost':\n",
    "            conn_str = str(host) + \":\" + str(port)\n",
    "            conn = MongoClient(host = [conn_str], serverSelectionTimeoutMS = 4000)\n",
    "\n",
    "        elif tipo_host == 'cloud':\n",
    "            mongo_uri = 'mongodb+srv://%s:%s@%s' % (username, password, host)\n",
    "            conn = MongoClient(mongo_uri, serverSelectionTimeoutMS = 4000, tlsCAFile=ca)\n",
    "\n",
    "        else:\n",
    "            print ('Debe definir un valor correcto para tipo_host (localhost o cloud)')\n",
    "            return False\n",
    "        \n",
    "        conn_db = conn[db][collection]\n",
    "        \n",
    "        print ('Conexion OK')\n",
    "        print (conn_db)\n",
    "    except:\n",
    "        print ('Error al conectar a servidor MongoDB')\n",
    "        print (sys.exc_info()[0])\n",
    "        \n",
    "    return conn_db"
   ]
  },
  {
   "cell_type": "code",
   "execution_count": null,
   "id": "dfcdbd73",
   "metadata": {},
   "outputs": [],
   "source": []
  }
 ],
 "metadata": {
  "kernelspec": {
   "display_name": "Python 3 (ipykernel)",
   "language": "python",
   "name": "python3"
  },
  "language_info": {
   "codemirror_mode": {
    "name": "ipython",
    "version": 3
   },
   "file_extension": ".py",
   "mimetype": "text/x-python",
   "name": "python",
   "nbconvert_exporter": "python",
   "pygments_lexer": "ipython3",
   "version": "3.8.12"
  },
  "toc": {
   "base_numbering": 1,
   "nav_menu": {},
   "number_sections": true,
   "sideBar": true,
   "skip_h1_title": false,
   "title_cell": "Table of Contents",
   "title_sidebar": "Contents",
   "toc_cell": false,
   "toc_position": {},
   "toc_section_display": true,
   "toc_window_display": false
  }
 },
 "nbformat": 4,
 "nbformat_minor": 5
}
