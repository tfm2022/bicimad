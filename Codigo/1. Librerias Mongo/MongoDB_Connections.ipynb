{
 "cells": [
  {
   "cell_type": "code",
   "execution_count": 1,
   "id": "74f18abf",
   "metadata": {},
   "outputs": [],
   "source": [
    "from pymongo import MongoClient"
   ]
  },
  {
   "cell_type": "code",
   "execution_count": 15,
   "id": "06f245df",
   "metadata": {},
   "outputs": [],
   "source": [
    "def _connect_mongo(tipo_host, host, port, username, password, db, collection):\n",
    "\n",
    "    try:\n",
    "        if tipo_host == 'localhost':\n",
    "            conn_str = str(host) + \":\" + str(port)\n",
    "            conn = MongoClient(host = [conn_str], serverSelectionTimeoutMS = 4000)\n",
    "\n",
    "        elif tipo_host == 'cloud':\n",
    "            mongo_uri = 'mongodb+srv://%s:%s@%s' % (username, password, host)\n",
    "            conn = MongoClient(mongo_uri, serverSelectionTimeoutMS = 4000)\n",
    "\n",
    "        else:\n",
    "            print ('Debe definir un valor correcto para tipo_host (localhost o cloud)')\n",
    "            return False\n",
    "        \n",
    "        conn_db = conn[db][collection]\n",
    "        \n",
    "        print ('Conexion OK')\n",
    "        print (conn_db)\n",
    "    except:\n",
    "        print ('Error al conectar a servidor MongoDB')\n",
    "        print (sys.exc_info()[0])\n",
    "        \n",
    "    return conn_db"
   ]
  },
  {
   "cell_type": "code",
   "execution_count": null,
   "id": "e41885fc",
   "metadata": {},
   "outputs": [],
   "source": []
  }
 ],
 "metadata": {
  "kernelspec": {
   "display_name": "Python 3 (ipykernel)",
   "language": "python",
   "name": "python3"
  },
  "language_info": {
   "codemirror_mode": {
    "name": "ipython",
    "version": 3
   },
   "file_extension": ".py",
   "mimetype": "text/x-python",
   "name": "python",
   "nbconvert_exporter": "python",
   "pygments_lexer": "ipython3",
   "version": "3.9.12"
  }
 },
 "nbformat": 4,
 "nbformat_minor": 5
}
