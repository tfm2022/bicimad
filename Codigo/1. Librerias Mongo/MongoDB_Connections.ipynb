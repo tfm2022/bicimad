{
 "cells": [
  {
   "cell_type": "code",
   "execution_count": 4,
   "id": "74f18abf",
   "metadata": {},
   "outputs": [],
   "source": [
    "from pymongo import MongoClient\n",
    "import sys\n",
    "import certifi\n"
   ]
  },
  {
   "cell_type": "code",
   "execution_count": 7,
   "id": "c3052575",
   "metadata": {},
   "outputs": [
    {
     "name": "stdout",
     "output_type": "stream",
     "text": [
      "Defaulting to user installation because normal site-packages is not writeable\n",
      "Requirement already satisfied: certifi in c:\\programdata\\anaconda3\\lib\\site-packages (2021.10.8)\n",
      "Note: you may need to restart the kernel to use updated packages.\n"
     ]
    }
   ],
   "source": [
    "#pip install certifi"
   ]
  },
  {
   "cell_type": "code",
   "execution_count": 13,
   "id": "06f245df",
   "metadata": {},
   "outputs": [],
   "source": [
    "def _connect_mongo(tipo_host, host, port, username, password, db, collection):\n",
    "    ca = certifi.where()\n",
    "    try:\n",
    "        if tipo_host == 'localhost':\n",
    "            conn_str = str(host) + \":\" + str(port)\n",
    "            conn = MongoClient(host = [conn_str], serverSelectionTimeoutMS = 4000)\n",
    "\n",
    "        elif tipo_host == 'cloud':\n",
    "            mongo_uri = 'mongodb+srv://%s:%s@%s' % (username, password, host)\n",
    "            conn = MongoClient(mongo_uri, serverSelectionTimeoutMS = 4000, tlsCAFile=ca)\n",
    "\n",
    "        else:\n",
    "            print ('Debe definir un valor correcto para tipo_host (localhost o cloud)')\n",
    "            return False\n",
    "        \n",
    "        conn_db = conn[db][collection]\n",
    "        \n",
    "        print ('Conexion OK')\n",
    "        print (conn_db)\n",
    "    except:\n",
    "        print ('Error al conectar a servidor MongoDB')\n",
    "        print (sys.exc_info()[0])\n",
    "        \n",
    "    return conn_db"
   ]
  },
  {
   "cell_type": "code",
   "execution_count": 11,
   "id": "e41885fc",
   "metadata": {},
   "outputs": [
    {
     "name": "stdout",
     "output_type": "stream",
     "text": [
      "Conexion OK\n",
      "Collection(Database(MongoClient(host=['ac-x1d17w2-shard-00-01.15npsxw.mongodb.net:27017', 'ac-x1d17w2-shard-00-00.15npsxw.mongodb.net:27017', 'ac-x1d17w2-shard-00-02.15npsxw.mongodb.net:27017'], document_class=dict, tz_aware=False, connect=True, authsource='admin', replicaset='atlas-xyv6ql-shard-0', tls=True, serverselectiontimeoutms=4000, tlscafile='C:\\\\ProgramData\\\\Anaconda3\\\\lib\\\\site-packages\\\\certifi\\\\cacert.pem'), 'BiciMAD'), 'Tracks_Demanda')\n"
     ]
    }
   ],
   "source": [
    "#db_Tracks = _connect_mongo('cloud', 'cluster0.15npsxw.mongodb.net', None, 'ucmtfm2022', 'UCM_2022', 'BiciMAD', 'Tracks_Demanda')"
   ]
  },
  {
   "cell_type": "code",
   "execution_count": 12,
   "id": "69a41dea",
   "metadata": {},
   "outputs": [
    {
     "name": "stdout",
     "output_type": "stream",
     "text": [
      "[{'_id': '2017-03-31T23:00:00.000Z100475461428231', 'ANIO': 2017, 'MES': 3, 'DIA': 31, 'HORA': 23, 'DIA_SEMANA': 6, 'AM_PM': 'PM', 'TEMPORADA': 'Invierno', 'UNPLUG_TIME_date': datetime.datetime(2017, 3, 31, 23, 0), 'travel_time': 546, 'idunplug_station': 100, 'idplug_station': 47, 'user_type': 1, 'ageRange': 4, 'zip_code': '28231', 'DEMANDA': 1}, {'_id': '2017-03-31T23:00:00.000Z10247041328015', 'ANIO': 2017, 'MES': 3, 'DIA': 31, 'HORA': 23, 'DIA_SEMANA': 6, 'AM_PM': 'PM', 'TEMPORADA': 'Invierno', 'UNPLUG_TIME_date': datetime.datetime(2017, 3, 31, 23, 0), 'travel_time': 704, 'idunplug_station': 102, 'idplug_station': 4, 'user_type': 1, 'ageRange': 3, 'zip_code': '28015', 'DEMANDA': 1}, {'_id': '2017-03-31T23:00:00.000Z102834971428007', 'ANIO': 2017, 'MES': 3, 'DIA': 31, 'HORA': 23, 'DIA_SEMANA': 6, 'AM_PM': 'PM', 'TEMPORADA': 'Invierno', 'UNPLUG_TIME_date': datetime.datetime(2017, 3, 31, 23, 0), 'travel_time': 497, 'idunplug_station': 102, 'idplug_station': 83, 'user_type': 1, 'ageRange': 4, 'zip_code': '28007', 'DEMANDA': 1}, {'_id': '2017-03-31T23:00:00.000Z10313911481528039', 'ANIO': 2017, 'MES': 3, 'DIA': 31, 'HORA': 23, 'DIA_SEMANA': 6, 'AM_PM': 'PM', 'TEMPORADA': 'Invierno', 'UNPLUG_TIME_date': datetime.datetime(2017, 3, 31, 23, 0), 'travel_time': 1148, 'idunplug_station': 103, 'idplug_station': 139, 'user_type': 1, 'ageRange': 5, 'zip_code': '28039', 'DEMANDA': 1}, {'_id': '2017-03-31T23:00:00.000Z1031729181428016', 'ANIO': 2017, 'MES': 3, 'DIA': 31, 'HORA': 23, 'DIA_SEMANA': 6, 'AM_PM': 'PM', 'TEMPORADA': 'Invierno', 'UNPLUG_TIME_date': datetime.datetime(2017, 3, 31, 23, 0), 'travel_time': 918, 'idunplug_station': 103, 'idplug_station': 172, 'user_type': 1, 'ageRange': 4, 'zip_code': '28016', 'DEMANDA': 1}]\n"
     ]
    }
   ],
   "source": [
    "#find_five = db_Tracks.find().limit(5)\n",
    "#print(list(find_five))"
   ]
  },
  {
   "cell_type": "code",
   "execution_count": null,
   "id": "dfcdbd73",
   "metadata": {},
   "outputs": [],
   "source": []
  }
 ],
 "metadata": {
  "kernelspec": {
   "display_name": "Python 3 (ipykernel)",
   "language": "python",
   "name": "python3"
  },
  "language_info": {
   "codemirror_mode": {
    "name": "ipython",
    "version": 3
   },
   "file_extension": ".py",
   "mimetype": "text/x-python",
   "name": "python",
   "nbconvert_exporter": "python",
   "pygments_lexer": "ipython3",
   "version": "3.9.12"
  }
 },
 "nbformat": 4,
 "nbformat_minor": 5
}
